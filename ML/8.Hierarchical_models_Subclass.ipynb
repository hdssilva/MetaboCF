{
 "cells": [
  {
   "cell_type": "code",
   "execution_count": null,
   "id": "103bb20e-06c5-4817-95e8-cc03f1bff0e7",
   "metadata": {
    "executionInfo": {
     "elapsed": 883,
     "status": "ok",
     "timestamp": 1638442432321,
     "user": {
      "displayName": "Henrique Silva",
      "photoUrl": "https://lh3.googleusercontent.com/a/default-user=s64",
      "userId": "06009345151973031735"
     },
     "user_tz": 0
    },
    "id": "8092ca2f"
   },
   "outputs": [],
   "source": [
    "# Importing Libraries\n",
    "from sklearnex import patch_sklearn #Improves sklearn alghoritms performance\n",
    "patch_sklearn()\n",
    "import sklearn\n",
    "print('scikit-learn version\\n', sklearn.__version__)\n",
    "from sklearn.model_selection import ParameterGrid, GridSearchCV\n",
    "from sklearn.ensemble import RandomForestClassifier\n",
    "from sklearn.neighbors import KNeighborsClassifier\n",
    "from sklearn.svm import LinearSVC\n",
    "from sklearn.linear_model import LogisticRegression\n",
    "from sklearn.naive_bayes import ComplementNB\n",
    "import pickle\n",
    "import pandas as pd\n",
    "import numpy as np\n",
    "import seaborn as sns\n",
    "import matplotlib.pyplot as plt\n",
    "from collections import OrderedDict\n",
    "from aux_functions.name_2lines import name_2lines"
   ]
  },
  {
   "cell_type": "code",
   "execution_count": null,
   "id": "00027506",
   "metadata": {
    "executionInfo": {
     "elapsed": 3,
     "status": "ok",
     "timestamp": 1638442442175,
     "user": {
      "displayName": "Henrique Silva",
      "photoUrl": "https://lh3.googleusercontent.com/a/default-user=s64",
      "userId": "06009345151973031735"
     },
     "user_tz": 0
    },
    "id": "00027506"
   },
   "outputs": [],
   "source": [
    "#Set seed\n",
    "seed=41"
   ]
  },
  {
   "cell_type": "code",
   "execution_count": null,
   "id": "f838150f",
   "metadata": {},
   "outputs": [],
   "source": [
    "classif_level = 3"
   ]
  },
  {
   "cell_type": "markdown",
   "id": "10e757e6",
   "metadata": {},
   "source": [
    "# Load Data"
   ]
  },
  {
   "cell_type": "code",
   "execution_count": null,
   "id": "0c499d91",
   "metadata": {},
   "outputs": [],
   "source": [
    "feature_names = pickle.load(open('Dataset/feature_names.pkl', 'rb'))\n",
    "X_train = pickle.load(open(f'Dataset/X_train.pkl', 'rb'))\n",
    "X_train_scal = pickle.load(open(f'Dataset/X_train_scal.pkl', 'rb'))\n",
    "y_train = pickle.load(open(f'Dataset/y_train.pkl', 'rb'))\n",
    "#all classes\n",
    "classes = pickle.load(open('Dataset/all_categories.pkl', 'rb'))['Class']\n",
    "#Classes with unique child\n",
    "c_u = pickle.load(open(f'Dataset/C_wunique_child.pkl', 'rb'))"
   ]
  },
  {
   "cell_type": "code",
   "execution_count": null,
   "id": "ca5c080d",
   "metadata": {},
   "outputs": [],
   "source": [
    "for i, class_ in enumerate(classes):\n",
    "    print(i, class_)"
   ]
  },
  {
   "cell_type": "markdown",
   "id": "be5e4a49",
   "metadata": {},
   "source": [
    "## Train and Tune classifiers"
   ]
  },
  {
   "cell_type": "markdown",
   "id": "92a5c6c8",
   "metadata": {},
   "source": [
    "### Random Forests"
   ]
  },
  {
   "cell_type": "code",
   "execution_count": null,
   "id": "3bccfa5e",
   "metadata": {},
   "outputs": [],
   "source": [
    "for i, class_ in enumerate(classes):\n",
    "    print(class_)\n",
    "    if class_ in c_u:\n",
    "        print('Only one subchild')\n",
    "        continue\n",
    "    for f_sel in ['all', 'sel']:\n",
    "        print(f_sel)\n",
    "        if f_sel == 'sel':\n",
    "            sel_f = pickle.load(open('Results/selected_features.pkl', 'rb'))['Subclass'][class_]['selected features']\n",
    "            f_index = [feature_names.index(feature) for feature in sel_f]\n",
    "            X_train_ = X_train[y_train[:, classif_level-1]==class_][:, f_index]\n",
    "            grid = {'class_weight': [None, 'balanced', 'balanced_subsample'],\n",
    "                'criterion' : ['gini', 'entropy'],\n",
    "                'max_features' : range(1, len(sel_f)+1)}\n",
    "        else:\n",
    "            X_train_ = X_train[y_train[:, classif_level-1]==class_]\n",
    "            grid = {'class_weight': [None, 'balanced', 'balanced_subsample'],\n",
    "                'criterion' : ['gini', 'entropy'],\n",
    "                'max_features' : [1, 2, 3, 5, 7, 10, 15, 20, 30, 40, 50, 60, 70, 80, 90, 100, 110, 120, 130, 133]}\n",
    "        y_train_ = y_train[y_train[:, classif_level-1]==class_][:, classif_level]\n",
    "        \n",
    "        estimator = RandomForestClassifier(random_state=seed, n_jobs=-1, n_estimators=200)\n",
    "        gs = GridSearchCV(estimator, param_grid=grid, scoring=['f1_macro', 'f1_micro'], refit='f1_macro', cv=3, verbose=3, \n",
    "                          error_score='raise', return_train_score=True, n_jobs=-1)\n",
    "        gs.fit(X_train_, y_train_)\n",
    "        pickle.dump(gs, open(f'Models/Subclass/{i}_RF_{f_sel}_feat.pkl', 'wb'))"
   ]
  },
  {
   "cell_type": "code",
   "execution_count": null,
   "id": "1ffb10c0",
   "metadata": {},
   "outputs": [],
   "source": [
    "for i, class_ in enumerate(classes):\n",
    "    print(class_)\n",
    "    if class_ in c_u:\n",
    "        continue\n",
    "    for f_sel in ['all', 'sel']:\n",
    "        print(f_sel)\n",
    "        gs = pickle.load(open(f'Models/Subclass/{i}_RF_{f_sel}_feat.pkl', 'rb'))\n",
    "        print('f1_macro_val ->', gs.cv_results_['mean_test_f1_macro'][gs.best_index_])\n",
    "        print('f1_macro_train ->', gs.cv_results_['mean_train_f1_macro'][gs.best_index_])\n",
    "        print('f1_micro_val ->', gs.cv_results_['mean_test_f1_micro'][gs.best_index_])\n",
    "        print('f1_micro_train ->', gs.cv_results_['mean_train_f1_micro'][gs.best_index_])"
   ]
  },
  {
   "cell_type": "markdown",
   "id": "5073d033",
   "metadata": {},
   "source": [
    "### KNN"
   ]
  },
  {
   "cell_type": "code",
   "execution_count": null,
   "id": "fd84b619",
   "metadata": {},
   "outputs": [],
   "source": [
    "grid = {'n_neighbors': range(1, 31), 'weights' : ['uniform', 'distance'],\n",
    "        'metric':['manhattan', 'euclidean', 'cosine']}"
   ]
  },
  {
   "cell_type": "code",
   "execution_count": null,
   "id": "9ef5a208",
   "metadata": {},
   "outputs": [],
   "source": [
    "for i, class_ in enumerate(classes):\n",
    "    print(class_)\n",
    "    if class_ in c_u:\n",
    "        print('Only one subchild')\n",
    "        continue\n",
    "    for f_sel in ['all', 'sel']:\n",
    "        print(f_sel)\n",
    "        grid['n_neighbors'] = range(1, 31)\n",
    "        if f_sel == 'sel':\n",
    "            sel_f = pickle.load(open('Results/selected_features.pkl', 'rb'))['Subclass'][class_]['selected features']\n",
    "            f_index = [feature_names.index(feature) for feature in sel_f]\n",
    "            X_train_ = X_train_scal[y_train[:, classif_level-1]==class_][:, f_index]\n",
    "        else:\n",
    "            X_train_ = X_train_scal[y_train[:, classif_level-1]==class_]\n",
    "            \n",
    "        y_train_ = y_train[y_train[:, classif_level-1]==class_][:, classif_level]\n",
    "        n_samples = int(len(y_train_)*2/3)\n",
    "        if n_samples<30:\n",
    "            grid['n_neighbors'] = range(1, n_samples + 1)\n",
    "        estimator = KNeighborsClassifier(algorithm = 'brute', n_jobs=-1)\n",
    "        gs = GridSearchCV(estimator, param_grid=grid, scoring=['f1_macro', 'f1_micro'], refit='f1_macro', cv=3, verbose=3, \n",
    "                          error_score='raise', return_train_score=True, n_jobs=10)\n",
    "        gs.fit(X_train_, y_train_)\n",
    "        pickle.dump(gs, open(f'Models/Subclass/{i}_KNN_{f_sel}_feat.pkl', 'wb'))"
   ]
  },
  {
   "cell_type": "code",
   "execution_count": null,
   "id": "21231ff9",
   "metadata": {
    "scrolled": true
   },
   "outputs": [],
   "source": [
    "for i, class_ in enumerate(classes):\n",
    "    print(class_)\n",
    "    if class_ in c_u:\n",
    "        continue\n",
    "    for f_sel in ['all', 'sel']:\n",
    "        print(f_sel)\n",
    "        gs = pickle.load(open(f'Models/Subclass/{i}_KNN_{f_sel}_feat.pkl', 'rb'))\n",
    "        print('f1_macro_test ->', gs.cv_results_['mean_test_f1_macro'][gs.best_index_])\n",
    "        print('f1_macro_train ->', gs.cv_results_['mean_train_f1_macro'][gs.best_index_])\n",
    "        print('f1_micro_test ->', gs.cv_results_['mean_test_f1_micro'][gs.best_index_])\n",
    "        print('f1_micro_train ->', gs.cv_results_['mean_train_f1_micro'][gs.best_index_])"
   ]
  },
  {
   "cell_type": "markdown",
   "id": "ea48adaf",
   "metadata": {},
   "source": [
    "### Logistic Regression"
   ]
  },
  {
   "cell_type": "code",
   "execution_count": null,
   "id": "c72bfad4",
   "metadata": {},
   "outputs": [],
   "source": [
    "grid = [{'penalty': ['l1'],\n",
    "         'C': [0.01, 0.1, 1, 10, 100],\n",
    "         'fit_intercept': [True, False],\n",
    "         'class_weight': [None, 'balanced'],\n",
    "         'multi_class':['ovr', 'multinomial'],\n",
    "         'solver': ['saga']},\n",
    "        {'penalty': ['elasticnet'],\n",
    "         'C': [0.01, 0.1, 1, 10, 100],\n",
    "         'fit_intercept': [True, False],\n",
    "         'class_weight': [None, 'balanced'],\n",
    "         'multi_class':['ovr', 'multinomial'],\n",
    "         'l1_ratio': [0.25, 0.5, 0.75],\n",
    "         'solver': ['saga']},\n",
    "        {'penalty': ['l2'],\n",
    "         'C': [0.01, 0.1, 1, 10, 100],\n",
    "         'fit_intercept': [True, False],\n",
    "         'class_weight': [None, 'balanced'],\n",
    "         'multi_class':['ovr', 'multinomial'],\n",
    "         'solver': ['sag', 'saga']},\n",
    "       {'penalty': ['none'],\n",
    "         'fit_intercept': [True, False],\n",
    "         'class_weight': [None, 'balanced'],\n",
    "         'multi_class':['ovr', 'multinomial'],\n",
    "         'solver': ['sag', 'saga']}]"
   ]
  },
  {
   "cell_type": "code",
   "execution_count": null,
   "id": "1c3ad7e2",
   "metadata": {},
   "outputs": [],
   "source": [
    "for i, class_ in enumerate(classes):\n",
    "    print(class_)\n",
    "    if class_ in c_u:\n",
    "        print('Only one subchild')\n",
    "        continue\n",
    "    if i in [42, 74, 103, 111, 112]:\n",
    "        max_iter = 100\n",
    "    else:\n",
    "        max_iter = 5000\n",
    "    for f_sel in ['all', 'sel']:\n",
    "        print(f_sel)\n",
    "        if f_sel == 'sel':\n",
    "            sel_f = pickle.load(open('Results/selected_features.pkl', 'rb'))['Subclass'][class_]['selected features']\n",
    "            f_index = [feature_names.index(feature) for feature in sel_f]\n",
    "            X_train_ = X_train_scal[y_train[:, classif_level-1]==class_][:, f_index]\n",
    "        else:\n",
    "            X_train_ = X_train_scal[y_train[:, classif_level-1]==class_]\n",
    "            \n",
    "        y_train_ = y_train[y_train[:, classif_level-1]==class_][:, classif_level]\n",
    "        \n",
    "        estimator = LogisticRegression(max_iter=max_iter, tol=1e-6, random_state=seed, n_jobs=-1)\n",
    "        gs = GridSearchCV(estimator, param_grid=grid, scoring=['f1_macro', 'f1_micro'], refit='f1_macro', cv=3, verbose=3, \n",
    "                          error_score='raise', return_train_score=True, n_jobs=-1)\n",
    "        gs.fit(X_train_, y_train_)\n",
    "        pickle.dump(gs, open(f'Models/Subclass/{i}_LR_{f_sel}_feat.pkl', 'wb'))"
   ]
  },
  {
   "cell_type": "code",
   "execution_count": null,
   "id": "8efafe9e",
   "metadata": {},
   "outputs": [],
   "source": [
    "for i, class_ in enumerate(classes):\n",
    "    print(class_)\n",
    "    if class_ in c_u:\n",
    "        continue\n",
    "    for f_sel in ['all', 'sel']:\n",
    "        print(f_sel)\n",
    "        gs = pickle.load(open(f'Models/Subclass/{i}_LR_{f_sel}_feat.pkl', 'rb'))\n",
    "        print('f1_macro_test ->', gs.cv_results_['mean_test_f1_macro'][gs.best_index_])\n",
    "        print('f1_macro_train ->', gs.cv_results_['mean_train_f1_macro'][gs.best_index_])\n",
    "        print('f1_micro_test ->', gs.cv_results_['mean_test_f1_micro'][gs.best_index_])\n",
    "        print('f1_micro_train ->', gs.cv_results_['mean_train_f1_micro'][gs.best_index_])"
   ]
  },
  {
   "cell_type": "markdown",
   "id": "180f5647",
   "metadata": {},
   "source": [
    "### SVM"
   ]
  },
  {
   "cell_type": "code",
   "execution_count": null,
   "id": "39a9974e",
   "metadata": {},
   "outputs": [],
   "source": [
    "grid = [{'penalty': ['l1', 'l2'],\n",
    "        'C': [0.01, 0.1, 1, 10, 100],\n",
    "        'class_weight': [None, 'balanced']}]"
   ]
  },
  {
   "cell_type": "code",
   "execution_count": null,
   "id": "9b86f9da",
   "metadata": {},
   "outputs": [],
   "source": [
    "for i, class_ in enumerate(classes):\n",
    "    if class_ in c_u:\n",
    "        print('Only one subchild')\n",
    "        continue\n",
    "    for f_sel in ['all', 'sel']:\n",
    "        print(f_sel)\n",
    "        if f_sel == 'sel':\n",
    "            sel_f = pickle.load(open('Results/selected_features.pkl', 'rb'))['Subclass'][class_]['selected features']\n",
    "            f_index = [feature_names.index(feature) for feature in sel_f]\n",
    "            X_train_ = X_train_scal[y_train[:, classif_level-1]==class_][:, f_index]\n",
    "        else:\n",
    "            X_train_ = X_train_scal[y_train[:, classif_level-1]==class_]\n",
    "            \n",
    "        y_train_ = y_train[y_train[:, classif_level-1]==class_][:, classif_level]\n",
    "        \n",
    "        estimator = LinearSVC(dual=False, loss='squared_hinge', multi_class='ovr', tol=1e-6, max_iter=5000, \n",
    "                              random_state=seed, verbose=3)\n",
    "        gs = GridSearchCV(estimator, param_grid=grid, scoring=['f1_macro', 'f1_micro'], refit='f1_macro', cv=3, verbose=3, \n",
    "                          error_score='raise', return_train_score=True, n_jobs=-1)\n",
    "        gs.fit(X_train_, y_train_)\n",
    "        pickle.dump(gs, open(f'Models/Subclass/{i}_SVM_{f_sel}_feat.pkl', 'wb'))"
   ]
  },
  {
   "cell_type": "code",
   "execution_count": null,
   "id": "78e7e15f",
   "metadata": {},
   "outputs": [],
   "source": [
    "for i, class_ in enumerate(classes):\n",
    "    print(class_)\n",
    "    if class_ in c_u:\n",
    "        continue\n",
    "    for f_sel in ['all', 'sel']:\n",
    "        print(f_sel)\n",
    "        gs = pickle.load(open(f'Models/Subclass/{i}_SVM_{f_sel}_feat.pkl', 'rb'))\n",
    "        print('f1_macro_test ->', gs.cv_results_['mean_test_f1_macro'][gs.best_index_])\n",
    "        print('f1_macro_train ->', gs.cv_results_['mean_train_f1_macro'][gs.best_index_])\n",
    "        print('f1_micro_test ->', gs.cv_results_['mean_test_f1_micro'][gs.best_index_])\n",
    "        print('f1_micro_train ->', gs.cv_results_['mean_train_f1_micro'][gs.best_index_])"
   ]
  },
  {
   "cell_type": "markdown",
   "id": "1cb2a348",
   "metadata": {},
   "source": [
    "### ComplementNB"
   ]
  },
  {
   "cell_type": "code",
   "execution_count": null,
   "id": "f1966dc7",
   "metadata": {},
   "outputs": [],
   "source": [
    "grid = {'alpha': [0.00001, 0.0001, 0.001, 0.01, 0.1, 1, 10, 100], \n",
    "        'norm': [True, False]}"
   ]
  },
  {
   "cell_type": "code",
   "execution_count": null,
   "id": "d5bc6c71",
   "metadata": {},
   "outputs": [],
   "source": [
    "for i, class_ in enumerate(classes):\n",
    "    print(class_)\n",
    "    if class_ in c_u:\n",
    "        print('Only one subchild')\n",
    "        continue\n",
    "    for f_sel in ['all', 'sel']:\n",
    "        print(f_sel)\n",
    "        if f_sel == 'sel':\n",
    "            sel_f = pickle.load(open('Results/selected_features.pkl', 'rb'))['Subclass'][class_]['selected features']\n",
    "            f_index = [feature_names.index(feature) for feature in sel_f]\n",
    "            X_train_ = X_train_scal[y_train[:, classif_level-1]==class_][:, f_index]\n",
    "        else:\n",
    "            X_train_ = X_train_scal[y_train[:, classif_level-1]==class_]\n",
    "            \n",
    "        y_train_ = y_train[y_train[:, classif_level-1]==class_][:, classif_level]\n",
    "        \n",
    "        estimator = ComplementNB()\n",
    "        gs = GridSearchCV(estimator, param_grid=grid, scoring=['f1_macro', 'f1_micro'], refit='f1_macro', cv=3, verbose=3, \n",
    "                          error_score='raise', return_train_score=True, n_jobs=-1)\n",
    "        gs.fit(X_train_, y_train_)\n",
    "        pickle.dump(gs, open(f'Models/Subclass/{i}_NB_{f_sel}_feat.pkl', 'wb'))"
   ]
  },
  {
   "cell_type": "code",
   "execution_count": null,
   "id": "424bcc40",
   "metadata": {},
   "outputs": [],
   "source": [
    "for i, class_ in enumerate(classes):\n",
    "    print(class_)\n",
    "    if class_ in c_u:\n",
    "        continue\n",
    "    for f_sel in ['all', 'sel']:\n",
    "        print(f_sel)\n",
    "        gs = pickle.load(open(f'Models/Subclass/{i}_NB_{f_sel}_feat.pkl', 'rb'))\n",
    "        print('f1_macro_test ->', gs.cv_results_['mean_test_f1_macro'][gs.best_index_])\n",
    "        print('f1_macro_train ->', gs.cv_results_['mean_train_f1_macro'][gs.best_index_])\n",
    "        print('f1_micro_test ->', gs.cv_results_['mean_test_f1_micro'][gs.best_index_])\n",
    "        print('f1_micro_train ->', gs.cv_results_['mean_train_f1_micro'][gs.best_index_])"
   ]
  },
  {
   "cell_type": "markdown",
   "id": "924fd951",
   "metadata": {},
   "source": [
    "### Load GS scores"
   ]
  },
  {
   "cell_type": "code",
   "execution_count": null,
   "id": "04505d1a",
   "metadata": {},
   "outputs": [],
   "source": [
    "scores_df = []\n",
    "params_df = []\n",
    "for i, class_ in enumerate(classes):\n",
    "    if class_ in c_u:\n",
    "        continue\n",
    "    #Select if result is better with or without f selection\n",
    "    scores_rows = [{'Classifier':class_, 'F1-score average': 'macro'}, {'Classifier':class_, 'F1-score average': 'micro'}]\n",
    "    params_row = {'Classifier':class_}\n",
    "    for alg in ['RF', 'KNN', 'LR', 'SVM', 'NB']:\n",
    "        f_sel_gs = {}\n",
    "        for f_sel in ['all', 'sel']:\n",
    "            f_sel_gs[f_sel] = pickle.load(open(f'Models/Subclass/{i}_{alg}_{f_sel}_feat.pkl', 'rb'))\n",
    "        score_all = f_sel_gs['all'].cv_results_[f'mean_test_f1_macro'][f_sel_gs['all'].best_index_]\n",
    "        score_sel = f_sel_gs['sel'].cv_results_[f'mean_test_f1_macro'][f_sel_gs['sel'].best_index_]\n",
    "        if score_all >= score_sel:\n",
    "            f_sel = 'all'\n",
    "            f = 'No'\n",
    "        else:\n",
    "            f_sel = 'sel'\n",
    "            f = 'Yes'\n",
    "        gs = f_sel_gs[f_sel]\n",
    "        #Save scores\n",
    "        scores_rows[0][f'{alg} (val)'] = gs.cv_results_[f'mean_test_f1_macro'][gs.best_index_]\n",
    "        scores_rows[0][f'{alg} (train)'] = gs.cv_results_[f'mean_train_f1_macro'][gs.best_index_]\n",
    "        scores_rows[1][f'{alg} (val)'] = gs.cv_results_[f'mean_test_f1_micro'][gs.best_index_]\n",
    "        scores_rows[1][f'{alg} (train)'] = gs.cv_results_[f'mean_train_f1_micro'][gs.best_index_]\n",
    "        #Save parameters\n",
    "        params = gs.cv_results_['params'][gs.best_index_]\n",
    "        params_row[f'{alg} (Feature Selection)'] = f\n",
    "        for param_name, param in params.items():\n",
    "            params_row[f'{alg} ({param_name})'] = param\n",
    "    scores_df.extend(scores_rows)\n",
    "    params_df.append(params_row)    \n",
    "scores_df = pd.DataFrame(scores_df).set_index(['Classifier', 'F1-score average'])\n",
    "params_df = pd.DataFrame(params_df)"
   ]
  },
  {
   "cell_type": "code",
   "execution_count": null,
   "id": "ff75bb51",
   "metadata": {},
   "outputs": [],
   "source": [
    "with pd.ExcelWriter('Results/GS_scores.xlsx', mode='a') as writer:  \n",
    "    scores_df.to_excel(writer, sheet_name='Subclass')\n",
    "scores_df"
   ]
  },
  {
   "cell_type": "code",
   "execution_count": null,
   "id": "4d2bb1ec",
   "metadata": {},
   "outputs": [],
   "source": [
    "params_df['Level'] = 'Subclass'\n",
    "pd.concat([pd.read_pickle('Results/GS_best_comb_params.pkl'), params_df]).to_pickle('Results/GS_best_comb_params.pkl')"
   ]
  },
  {
   "cell_type": "code",
   "execution_count": null,
   "id": "37cda838",
   "metadata": {},
   "outputs": [],
   "source": [
    "column_order = ['RF (Feature Selection)', 'RF (class_weight)', 'RF (criterion)', 'RF (max_features)', \n",
    "                'KNN (Feature Selection)', 'KNN (n_neighbors)', 'KNN (weights)', 'KNN (metric)',\n",
    "                'LR (Feature Selection)', 'LR (penalty)', 'LR (C)', 'LR (l1_ratio)', 'LR (fit_intercept)', \n",
    "                'LR (class_weight)', 'LR (solver)', 'LR (multi_class)',\n",
    "                'SVM (Feature Selection)', 'SVM (penalty)', 'SVM (C)', 'SVM (class_weight)', \n",
    "                'NB (Feature Selection)', 'NB (alpha)', 'NB (norm)']"
   ]
  },
  {
   "cell_type": "code",
   "execution_count": null,
   "id": "b046c755",
   "metadata": {},
   "outputs": [],
   "source": [
    "df = pd.read_pickle('Results/GS_best_comb_params.pkl').set_index(['Level', 'Classifier'])[column_order]"
   ]
  },
  {
   "cell_type": "code",
   "execution_count": null,
   "id": "4779fee4",
   "metadata": {},
   "outputs": [],
   "source": [
    "df.loc[:, ['RF (class_weight)', 'LR (class_weight)', 'SVM (class_weight)']] = df.loc[:, ['RF (class_weight)', 'LR (class_weight)', 'SVM (class_weight)']].replace({None: 'None'})"
   ]
  },
  {
   "cell_type": "code",
   "execution_count": null,
   "id": "a06468bf",
   "metadata": {},
   "outputs": [],
   "source": [
    "df.to_csv('Results/GS_best_comb_params.csv')"
   ]
  }
 ],
 "metadata": {
  "colab": {
   "name": "Learning Model - Random Forests.ipynb",
   "provenance": []
  },
  "kernelspec": {
   "display_name": "Python 3 (ipykernel)",
   "language": "python",
   "name": "python3"
  },
  "language_info": {
   "codemirror_mode": {
    "name": "ipython",
    "version": 3
   },
   "file_extension": ".py",
   "mimetype": "text/x-python",
   "name": "python",
   "nbconvert_exporter": "python",
   "pygments_lexer": "ipython3",
   "version": "3.9.12"
  },
  "toc-autonumbering": true,
  "toc-showmarkdowntxt": false
 },
 "nbformat": 4,
 "nbformat_minor": 5
}
