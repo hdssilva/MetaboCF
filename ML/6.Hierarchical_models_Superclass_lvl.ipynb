{
 "cells": [
  {
   "cell_type": "code",
   "execution_count": null,
   "id": "103bb20e-06c5-4817-95e8-cc03f1bff0e7",
   "metadata": {
    "executionInfo": {
     "elapsed": 883,
     "status": "ok",
     "timestamp": 1638442432321,
     "user": {
      "displayName": "Henrique Silva",
      "photoUrl": "https://lh3.googleusercontent.com/a/default-user=s64",
      "userId": "06009345151973031735"
     },
     "user_tz": 0
    },
    "id": "8092ca2f"
   },
   "outputs": [],
   "source": [
    "# Importing Libraries\n",
    "from sklearnex import patch_sklearn #Improves sklearn alghoritms performance\n",
    "patch_sklearn()\n",
    "import sklearn\n",
    "print('scikit-learn version\\n', sklearn.__version__)\n",
    "from sklearn.model_selection import ParameterGrid, GridSearchCV\n",
    "from sklearn.ensemble import RandomForestClassifier\n",
    "from sklearn.multiclass import OutputCodeClassifier\n",
    "from sklearn.neighbors import KNeighborsClassifier\n",
    "from sklearn.svm import LinearSVC\n",
    "from sklearn.linear_model import LogisticRegression\n",
    "from sklearn.naive_bayes import ComplementNB\n",
    "import pickle\n",
    "import pandas as pd\n",
    "import numpy as np\n",
    "import seaborn as sns\n",
    "import matplotlib.pyplot as plt"
   ]
  },
  {
   "cell_type": "code",
   "execution_count": null,
   "id": "00027506",
   "metadata": {
    "executionInfo": {
     "elapsed": 3,
     "status": "ok",
     "timestamp": 1638442442175,
     "user": {
      "displayName": "Henrique Silva",
      "photoUrl": "https://lh3.googleusercontent.com/a/default-user=s64",
      "userId": "06009345151973031735"
     },
     "user_tz": 0
    },
    "id": "00027506"
   },
   "outputs": [],
   "source": [
    "#Set seed\n",
    "seed=41"
   ]
  },
  {
   "cell_type": "code",
   "execution_count": null,
   "id": "f838150f",
   "metadata": {},
   "outputs": [],
   "source": [
    "classif_level = 1"
   ]
  },
  {
   "cell_type": "markdown",
   "id": "10e757e6",
   "metadata": {},
   "source": [
    "# Load Data"
   ]
  },
  {
   "cell_type": "code",
   "execution_count": null,
   "id": "0c499d91",
   "metadata": {},
   "outputs": [],
   "source": [
    "feature_names = pickle.load(open('Dataset/feature_names.pkl', 'rb'))\n",
    "X_train = pickle.load(open(f'Dataset/X_train.pkl', 'rb'))\n",
    "X_train_scal = pickle.load(open(f'Dataset/X_train_scal.pkl', 'rb'))\n",
    "y_train = pickle.load(open(f'Dataset/y_train.pkl', 'rb'))\n",
    "kings = pickle.load(open('Dataset/all_categories.pkl', 'rb'))['Kingdom']"
   ]
  },
  {
   "cell_type": "code",
   "execution_count": null,
   "id": "ca5c080d",
   "metadata": {},
   "outputs": [],
   "source": [
    "for i, king in enumerate(kings):\n",
    "    print(i, king)"
   ]
  },
  {
   "cell_type": "markdown",
   "id": "be5e4a49",
   "metadata": {},
   "source": [
    "## Train and Tune classifiers"
   ]
  },
  {
   "cell_type": "markdown",
   "id": "92a5c6c8",
   "metadata": {},
   "source": [
    "### Random Forests"
   ]
  },
  {
   "cell_type": "code",
   "execution_count": null,
   "id": "3bccfa5e",
   "metadata": {},
   "outputs": [],
   "source": [
    "for i, king in enumerate(kings):\n",
    "    print(king)\n",
    "    for f_sel in ['all', 'sel']:\n",
    "        if f_sel == 'sel':\n",
    "            sel_f = pickle.load(open('Results/selected_features.pkl', 'rb'))['Superclass'][king]['selected features']\n",
    "            f_index = [feature_names.index(feature) for feature in sel_f]\n",
    "            X_train_ = X_train[y_train[:, classif_level-1]==king][:, f_index]\n",
    "            grid = {'class_weight': [None, 'balanced', 'balanced_subsample'],\n",
    "                'criterion' : ['gini', 'entropy'],\n",
    "                'max_features' : range(1, len(sel_f)+1)}\n",
    "        else:\n",
    "            X_train_ = X_train[y_train[:, classif_level-1]==king]\n",
    "            grid = {'class_weight': [None, 'balanced', 'balanced_subsample'],\n",
    "                'criterion' : ['gini', 'entropy'],\n",
    "                'max_features' : [1, 2, 3, 5, 7, 10, 15, 20, 30, 40, 50, 60, 70, 80, 90, 100, 110, 120, 130, 133]}\n",
    "        y_train_ = y_train[y_train[:, classif_level-1]==king][:, classif_level]\n",
    "        \n",
    "        estimator = RandomForestClassifier(random_state=seed, n_jobs=-1)\n",
    "        gs = GridSearchCV(estimator, param_grid=grid, scoring=['f1_macro', 'f1_micro'], refit='f1_macro', cv=3, verbose=3, \n",
    "                          error_score='raise', return_train_score=True, n_jobs=-1)\n",
    "        gs.fit(X_train_, y_train_)\n",
    "        pickle.dump(gs, open(f'Models/Superclass/{i}_RF_{f_sel}_feat.pkl', 'wb'))"
   ]
  },
  {
   "cell_type": "code",
   "execution_count": null,
   "id": "1ffb10c0",
   "metadata": {},
   "outputs": [],
   "source": [
    "for i, king in enumerate(kings):\n",
    "    print(king)\n",
    "    for f_sel in ['all', 'sel']:\n",
    "        print(f_sel)\n",
    "        gs = pickle.load(open(f'Models/Superclass/{i}_RF_{f_sel}_feat.pkl', 'rb'))\n",
    "        print('f1_macro_val ->', gs.cv_results_['mean_test_f1_macro'][gs.best_index_])\n",
    "        print('f1_macro_train ->', gs.cv_results_['mean_train_f1_macro'][gs.best_index_])\n",
    "        print('f1_micro_val ->', gs.cv_results_['mean_test_f1_micro'][gs.best_index_])\n",
    "        print('f1_micro_train ->', gs.cv_results_['mean_train_f1_micro'][gs.best_index_])"
   ]
  },
  {
   "cell_type": "markdown",
   "id": "09d58ec8",
   "metadata": {},
   "source": [
    "Take 6 best estimators, and make pruning"
   ]
  },
  {
   "cell_type": "code",
   "execution_count": null,
   "id": "bb8d5939",
   "metadata": {},
   "outputs": [],
   "source": [
    "gs = pickle.load(open(f'Models/Superclass/1_RF_all_feat.pkl', 'rb'))\n",
    "a = gs.cv_results_['mean_test_f1_macro']"
   ]
  },
  {
   "cell_type": "code",
   "execution_count": null,
   "id": "69d9fe25",
   "metadata": {},
   "outputs": [],
   "source": [
    "gs = pickle.load(open(f'Models/Superclass/1_RF_sel_feat.pkl', 'rb'))\n",
    "b = gs.cv_results_['mean_test_f1_macro']"
   ]
  },
  {
   "cell_type": "code",
   "execution_count": null,
   "id": "a78e4676",
   "metadata": {},
   "outputs": [],
   "source": [
    "c = np.concatenate((a, b), axis=0)"
   ]
  },
  {
   "cell_type": "code",
   "execution_count": null,
   "id": "36071b4d",
   "metadata": {},
   "outputs": [],
   "source": [
    "ind = np.argpartition(c, -6)[-6:]\n",
    "ind"
   ]
  },
  {
   "cell_type": "code",
   "execution_count": null,
   "id": "a0239973",
   "metadata": {},
   "outputs": [],
   "source": [
    "c[ind]"
   ]
  },
  {
   "cell_type": "markdown",
   "id": "0c16f263",
   "metadata": {},
   "source": [
    "first gs has 120 comb, therefore none of its estimator are the best (120 index is the first one of the second gs)"
   ]
  },
  {
   "cell_type": "code",
   "execution_count": null,
   "id": "175b6fc5",
   "metadata": {},
   "outputs": [],
   "source": [
    "ind-120"
   ]
  },
  {
   "cell_type": "markdown",
   "id": "7359c19e",
   "metadata": {},
   "source": [
    "by order: [200, 0, 51, 50, 53, 56]"
   ]
  },
  {
   "cell_type": "code",
   "execution_count": null,
   "id": "514776b1",
   "metadata": {},
   "outputs": [],
   "source": [
    "gs = pickle.load(open(f'Models/Superclass/1_RF_sel_feat.pkl', 'rb'))\n",
    "best_params = [gs.cv_results_['params'][index] for index in [200, 0, 51, 50, 53, 56]]"
   ]
  },
  {
   "cell_type": "code",
   "execution_count": null,
   "id": "54e58862",
   "metadata": {},
   "outputs": [],
   "source": [
    "best_params"
   ]
  },
  {
   "cell_type": "code",
   "execution_count": null,
   "id": "79dba019",
   "metadata": {},
   "outputs": [],
   "source": [
    "grid = {'ccp_alpha': [0, 1e-8, 1e-7, 1e-6, 1e-5, 1e-4, 1e-3, 1e-2, 1e-1]}\n",
    "sel_f = pickle.load(open('Results/selected_features.pkl', 'rb'))['Superclass'][king]['selected features']\n",
    "f_index = [feature_names.index(feature) for feature in sel_f]\n",
    "X_train_ = X_train[y_train[:, classif_level-1]==king][:, f_index]\n",
    "y_train_ = y_train[y_train[:, classif_level-1]==king][:, classif_level]"
   ]
  },
  {
   "cell_type": "code",
   "execution_count": null,
   "id": "a2e06b0f",
   "metadata": {},
   "outputs": [],
   "source": [
    "for i, params in enumerate(best_params):\n",
    "    estimator = RandomForestClassifier(random_state=seed, n_jobs=-1)\n",
    "    estimator.set_params(**params)\n",
    "    gs = GridSearchCV(estimator, param_grid=grid, scoring=['f1_macro', 'f1_micro'], refit='f1_macro', cv=3, verbose=3, \n",
    "                          error_score='raise', return_train_score=True, n_jobs=-20)\n",
    "    gs.fit(X_train_, y_train_)\n",
    "    pickle.dump(gs, open(f'Models/Superclass/1_RF_post_pruning_{i}.pkl', 'wb'))"
   ]
  },
  {
   "cell_type": "code",
   "execution_count": null,
   "id": "45e14d20",
   "metadata": {},
   "outputs": [],
   "source": [
    "results = []\n",
    "for i in range(6):\n",
    "    gs = pickle.load(open(f'Models/Superclass/1_RF_post_pruning_{i}.pkl', 'rb'))\n",
    "    macro_test = gs.cv_results_['mean_test_f1_macro']\n",
    "    macro_train = gs.cv_results_['mean_train_f1_macro']\n",
    "    micro_test = gs.cv_results_['mean_test_f1_micro']\n",
    "    micro_train = gs.cv_results_['mean_train_f1_micro']\n",
    "    for z, x in enumerate([0, 1e-8, 1e-7, 1e-6, 1e-5, 1e-4, 1e-3, 1e-2, 1e-1]):\n",
    "        results.append({'Estimator': str(i+1), 'ccp_alpha': x, 'Subset': 'train f1-score macro',  'score': macro_train[z]})\n",
    "        results.append({'Estimator': str(i+1), 'ccp_alpha': x, 'Subset': 'val f1-score macro',  'score': macro_test[z]})\n",
    "        results.append({'Estimator': str(i+1), 'ccp_alpha': x, 'Subset': 'train f1-score micro',  'score': micro_train[z]})\n",
    "        results.append({'Estimator': str(i+1), 'ccp_alpha': x, 'Subset': 'val f1-score micro',  'score': micro_test[z]})\n",
    "results = pd.DataFrame(results)"
   ]
  },
  {
   "cell_type": "code",
   "execution_count": null,
   "id": "46ce8c78",
   "metadata": {},
   "outputs": [],
   "source": [
    "sns.set_theme(style='whitegrid', font_scale=1.1)\n",
    "\n",
    "ax = sns.relplot(data=results, x='ccp_alpha', y='score', hue='Subset', col='Estimator', kind='line', \n",
    "                facet_kws={'sharey':False}, col_wrap=3, aspect=1.15)\n",
    "\n",
    "ax.set(xscale='log')\n",
    "sns.move_legend(ax, \"lower center\", bbox_to_anchor=(0.425, -0.05), title=None, ncol=4, fontsize=17)\n",
    "\n",
    "plt.savefig('Plots/Pruning_effect', bbox_inches='tight', transparent=True, dpi=500)\n",
    "plt.show()"
   ]
  },
  {
   "cell_type": "code",
   "execution_count": null,
   "id": "bfa90994",
   "metadata": {},
   "outputs": [],
   "source": [
    "sns.set_theme(style='whitegrid', font_scale=1.1)\n",
    "\n",
    "ax = sns.relplot(data=results, x='ccp_alpha', y='score', hue='Subset', col='Estimator', kind='line', \n",
    "                facet_kws={'sharey':False}, col_wrap=3, aspect=1.15)\n",
    "\n",
    "ax.set(xscale='log', xlim=(1e-8, 1e-3), ylim=(0.4, 1))\n",
    "sns.move_legend(ax, \"lower center\", bbox_to_anchor=(0.425, -0.05), title=None, ncol=4, fontsize=17)\n",
    "\n",
    "plt.savefig('Plots/Pruning_effect_increased', bbox_inches='tight', transparent=True, dpi=500)\n",
    "plt.show()"
   ]
  },
  {
   "cell_type": "code",
   "execution_count": null,
   "id": "e143a686",
   "metadata": {},
   "outputs": [],
   "source": [
    "results[(results['Estimator']=='1') & (results['Subset']=='val f1-score macro') ]"
   ]
  },
  {
   "cell_type": "code",
   "execution_count": null,
   "id": "a9acddc9",
   "metadata": {},
   "outputs": [],
   "source": [
    "results[(results['Estimator']=='2') & (results['Subset']=='val f1-score micro') ]"
   ]
  },
  {
   "cell_type": "markdown",
   "id": "cd5d17c4",
   "metadata": {},
   "source": [
    "### Multiclass strategy (output code) - Organic compounds only"
   ]
  },
  {
   "cell_type": "code",
   "execution_count": null,
   "id": "ea351d11",
   "metadata": {},
   "outputs": [],
   "source": [
    "king = 'Organic compounds'\n",
    "i = 1\n",
    "for f_sel in ['all', 'sel']:\n",
    "    print(f_sel)\n",
    "    if f_sel == 'sel':\n",
    "        sel_f = pickle.load(open('Results/selected_features.pkl', 'rb'))['Superclass'][king]['selected features']\n",
    "        f_index = [feature_names.index(feature) for feature in sel_f]\n",
    "        X_train_ = X_train[y_train[:, classif_level-1]==king][:, f_index]\n",
    "        grid = {'estimator__class_weight': [None, 'balanced', 'balanced_subsample'],\n",
    "            'estimator__criterion' : ['gini', 'entropy'],\n",
    "            'estimator__max_features' : range(1, len(sel_f)+1)\n",
    "            'code_size': [0.25, 0.5, 0.75, 1, 1.25, 1.5, 1.75, 2, 2.5, 3, 3.5, 4, 4.5, 5]}\n",
    "    else:\n",
    "        X_train_ = X_train[y_train[:, classif_level-1]==king]\n",
    "        grid = {'estimator__class_weight': [None, 'balanced', 'balanced_subsample'],\n",
    "            'estimator__criterion' : ['gini', 'entropy'],\n",
    "            'estimator__max_features' : [1, 2, 3, 5, 7, 10, 15, 20, 30, 40, 50, 60, 70, 80, 90, 100, 110, 120, 130, 133],\n",
    "            'code_size': [0.25, 0.5, 0.75, 1, 1.25, 1.5, 1.75, 2, 2.5, 3, 3.5, 4, 4.5, 5]}\n",
    "    y_train_ = y_train[y_train[:, classif_level-1]==king][:, classif_level]\n",
    "    estimator = OutputCodeClassifier(RandomForestClassifier(random_state=seed, n_jobs=-1),\n",
    "                                     random_state=seed, n_jobs=-1)\n",
    "    gs = GridSearchCV(estimator, param_grid=grid, scoring=['f1_macro', 'f1_micro'], refit='f1_macro', cv=3, verbose=3, \n",
    "                      error_score='raise', return_train_score=True, n_jobs=-1)\n",
    "    gs.fit(X_train_, y_train_)\n",
    "    pickle.dump(gs, open(f'Models/Superclass/1_RF_OutputCode_{f_sel}_feat.pkl', 'wb'))"
   ]
  },
  {
   "cell_type": "code",
   "execution_count": null,
   "id": "f01b2fb2",
   "metadata": {},
   "outputs": [],
   "source": [
    "for f_sel in ['all', 'sel']:\n",
    "    print(f_sel)\n",
    "    gs = pickle.load(open(f'Models/Superclass/1_RF_OutputCode_{f_sel}_feat.pkl', 'rb'))\n",
    "    print(gs.best_estimator_)\n",
    "    print('f1_macro_val ->', gs.cv_results_['mean_test_f1_macro'][gs.best_index_])\n",
    "    print('f1_macro_train ->', gs.cv_results_['mean_train_f1_macro'][gs.best_index_])\n",
    "    print('f1_micro_val ->', gs.cv_results_['mean_test_f1_micro'][gs.best_index_])\n",
    "    print('f1_micro_train ->', gs.cv_results_['mean_train_f1_micro'][gs.best_index_])"
   ]
  },
  {
   "cell_type": "markdown",
   "id": "5073d033",
   "metadata": {},
   "source": [
    "### KNN"
   ]
  },
  {
   "cell_type": "code",
   "execution_count": null,
   "id": "fd84b619",
   "metadata": {},
   "outputs": [],
   "source": [
    "grid = {'n_neighbors': range(1, 31), 'weights' : ['uniform', 'distance'],\n",
    "        'metric':['manhattan', 'euclidean', 'cosine']}"
   ]
  },
  {
   "cell_type": "code",
   "execution_count": null,
   "id": "9ef5a208",
   "metadata": {},
   "outputs": [],
   "source": [
    "for i, king in enumerate(kings):\n",
    "    print(king)\n",
    "    for f_sel in ['all', 'sel']:\n",
    "        print(f_sel)\n",
    "        if f_sel == 'sel':\n",
    "            sel_f = pickle.load(open('Results/selected_features.pkl', 'rb'))['Superclass'][king]['selected features']\n",
    "            f_index = [feature_names.index(feature) for feature in sel_f]\n",
    "            X_train_ = X_train_scal[y_train[:, classif_level-1]==king][:, f_index]\n",
    "        else:\n",
    "            X_train_ = X_train_scal[y_train[:, classif_level-1]==king]\n",
    "            \n",
    "        y_train_ = y_train[y_train[:, classif_level-1]==king][:, classif_level]\n",
    "        \n",
    "        estimator = KNeighborsClassifier(algorithm = 'brute', n_jobs=-1)\n",
    "        gs = GridSearchCV(estimator, param_grid=grid, scoring=['f1_macro', 'f1_micro'], refit='f1_macro', cv=3, verbose=3, \n",
    "                          error_score='raise', return_train_score=True,  n_jobs=-1, pre_dispatch=10)\n",
    "        gs.fit(X_train_, y_train_)\n",
    "        pickle.dump(gs, open(f'Models/Superclass/{i}_KNN_{f_sel}_feat.pkl', 'wb'))"
   ]
  },
  {
   "cell_type": "code",
   "execution_count": null,
   "id": "21231ff9",
   "metadata": {
    "scrolled": true
   },
   "outputs": [],
   "source": [
    "for i, king in enumerate(kings):\n",
    "    print(king)\n",
    "    for f_sel in ['all', 'sel']:\n",
    "        print(f_sel)\n",
    "        gs = pickle.load(open(f'Models/Superclass/{i}_KNN_{f_sel}_feat.pkl', 'rb'))\n",
    "        print(f_sel)\n",
    "        print('f1_macro_test ->', gs.cv_results_['mean_test_f1_macro'][gs.best_index_])\n",
    "        print('f1_macro_train ->', gs.cv_results_['mean_train_f1_macro'][gs.best_index_])\n",
    "        print('f1_micro_test ->', gs.cv_results_['mean_test_f1_micro'][gs.best_index_])\n",
    "        print('f1_micro_train ->', gs.cv_results_['mean_train_f1_micro'][gs.best_index_])\n",
    "        print(gs)"
   ]
  },
  {
   "cell_type": "markdown",
   "id": "ea48adaf",
   "metadata": {},
   "source": [
    "### Logistic Regression"
   ]
  },
  {
   "cell_type": "code",
   "execution_count": null,
   "id": "c72bfad4",
   "metadata": {},
   "outputs": [],
   "source": [
    "grid = [{'penalty': ['l1'],\n",
    "         'C': [0.01, 0.1, 1, 10, 100],\n",
    "         'fit_intercept': [True, False],\n",
    "         'class_weight': [None, 'balanced'],\n",
    "         'multi_class':['ovr', 'multinomial'],\n",
    "         'solver': ['saga']},\n",
    "        {'penalty': ['elasticnet'],\n",
    "         'C': [0.01, 0.1, 1, 10, 100],\n",
    "         'fit_intercept': [True, False],\n",
    "         'class_weight': [None, 'balanced'],\n",
    "         'multi_class':['ovr', 'multinomial'],\n",
    "         'l1_ratio': [0.25, 0.5, 0.75],\n",
    "         'solver': ['saga']},\n",
    "        {'penalty': ['l2'],\n",
    "         'C': [0.01, 0.1, 1, 10, 100],\n",
    "         'fit_intercept': [True, False],\n",
    "         'class_weight': [None, 'balanced'],\n",
    "         'multi_class':['ovr', 'multinomial'],\n",
    "         'solver': ['sag', 'saga']},\n",
    "       {'penalty': ['none'],\n",
    "         'fit_intercept': [True, False],\n",
    "         'class_weight': [None, 'balanced'],\n",
    "         'multi_class':['ovr', 'multinomial'],\n",
    "         'solver': ['sag', 'saga']}]"
   ]
  },
  {
   "cell_type": "code",
   "execution_count": null,
   "id": "1c3ad7e2",
   "metadata": {},
   "outputs": [],
   "source": [
    "for i, king in enumerate(kings):\n",
    "    print(king)\n",
    "    if i == 0:\n",
    "        max_iter=5000\n",
    "    else:\n",
    "        max_iter=100\n",
    "    for f_sel in ['all', 'sel']:\n",
    "        print(f_sel)\n",
    "        if f_sel == 'sel':\n",
    "            sel_f = pickle.load(open('Results/selected_features.pkl', 'rb'))['Superclass'][king]['selected features']\n",
    "            f_index = [feature_names.index(feature) for feature in sel_f]\n",
    "            X_train_ = X_train_scal[y_train[:, classif_level-1]==king][:, f_index]\n",
    "        else:\n",
    "            X_train_ = X_train_scal[y_train[:, classif_level-1]==king]\n",
    "            \n",
    "        y_train_ = y_train[y_train[:, classif_level-1]==king][:, classif_level]\n",
    "        \n",
    "        estimator = LogisticRegression(max_iter=max_iter, tol=1e-6, random_state=seed, n_jobs=-1)\n",
    "        gs = GridSearchCV(estimator, param_grid=grid, scoring=['f1_macro', 'f1_micro'], refit='f1_macro', cv=3, verbose=3, \n",
    "                          error_score='raise', return_train_score=True, n_jobs=-1)\n",
    "        gs.fit(X_train_, y_train_)\n",
    "        pickle.dump(gs, open(f'Models/Superclass/{i}_LR_{f_sel}_feat.pkl', 'wb'))"
   ]
  },
  {
   "cell_type": "code",
   "execution_count": null,
   "id": "8efafe9e",
   "metadata": {},
   "outputs": [],
   "source": [
    "for i, king in enumerate(kings):\n",
    "    print(king)\n",
    "    for f_sel in ['all', 'sel']:\n",
    "        print(f_sel)\n",
    "        gs = pickle.load(open(f'Models/Superclass/{i}_LR_{f_sel}_feat.pkl', 'rb'))\n",
    "        print('f1_macro_test ->', gs.cv_results_['mean_test_f1_macro'][gs.best_index_])\n",
    "        print('f1_macro_train ->', gs.cv_results_['mean_train_f1_macro'][gs.best_index_])\n",
    "        print('f1_micro_test ->', gs.cv_results_['mean_test_f1_micro'][gs.best_index_])\n",
    "        print('f1_micro_train ->', gs.cv_results_['mean_train_f1_micro'][gs.best_index_])"
   ]
  },
  {
   "cell_type": "markdown",
   "id": "180f5647",
   "metadata": {},
   "source": [
    "### SVM"
   ]
  },
  {
   "cell_type": "code",
   "execution_count": null,
   "id": "39a9974e",
   "metadata": {},
   "outputs": [],
   "source": [
    "grid = [{'penalty': ['l1', 'l2'],\n",
    "        'C': [0.01, 0.1, 1, 10, 100],\n",
    "        'class_weight': [None, 'balanced']}]"
   ]
  },
  {
   "cell_type": "code",
   "execution_count": null,
   "id": "9b86f9da",
   "metadata": {},
   "outputs": [],
   "source": [
    "for i, king in enumerate(kings):\n",
    "    print(king)\n",
    "    for f_sel in ['all', 'sel']:\n",
    "        print(f_sel)\n",
    "        if f_sel == 'sel':\n",
    "            sel_f = pickle.load(open('Results/selected_features.pkl', 'rb'))['Superclass'][king]['selected features']\n",
    "            f_index = [feature_names.index(feature) for feature in sel_f]\n",
    "            X_train_ = X_train_scal[y_train[:, classif_level-1]==king][:, f_index]\n",
    "        else:\n",
    "            X_train_ = X_train_scal[y_train[:, classif_level-1]==king]\n",
    "            \n",
    "        y_train_ = y_train[y_train[:, classif_level-1]==king][:, classif_level]\n",
    "        \n",
    "        estimator = LinearSVC(dual=False, loss='squared_hinge', multi_class='ovr', tol=1e-6, max_iter=5000, \n",
    "                              random_state=seed, verbose=3)\n",
    "        gs = GridSearchCV(estimator, param_grid=grid, scoring=['f1_macro', 'f1_micro'], refit='f1_macro', cv=3, verbose=3, \n",
    "                          error_score='raise', return_train_score=True, n_jobs=-1)\n",
    "        gs.fit(X_train_, y_train_)\n",
    "        pickle.dump(gs, open(f'Models/Superclass/{i}_SVM_{f_sel}_feat.pkl', 'wb'))"
   ]
  },
  {
   "cell_type": "code",
   "execution_count": null,
   "id": "78e7e15f",
   "metadata": {},
   "outputs": [],
   "source": [
    "for i, king in enumerate(kings):\n",
    "    print(king)\n",
    "    for f_sel in ['all', 'sel']:\n",
    "        print(f_sel)\n",
    "        gs = pickle.load(open(f'Models/Superclass/{i}_SVM_{f_sel}_feat.pkl', 'rb'))\n",
    "        print('f1_macro_test ->', gs.cv_results_['mean_test_f1_macro'][gs.best_index_])\n",
    "        print('f1_macro_train ->', gs.cv_results_['mean_train_f1_macro'][gs.best_index_])\n",
    "        print('f1_micro_test ->', gs.cv_results_['mean_test_f1_micro'][gs.best_index_])\n",
    "        print('f1_micro_train ->', gs.cv_results_['mean_train_f1_micro'][gs.best_index_])"
   ]
  },
  {
   "cell_type": "markdown",
   "id": "1cb2a348",
   "metadata": {},
   "source": [
    "### ComplementNB"
   ]
  },
  {
   "cell_type": "code",
   "execution_count": null,
   "id": "f1966dc7",
   "metadata": {},
   "outputs": [],
   "source": [
    "grid = {'alpha': [0.00001, 0.0001, 0.001, 0.01, 0.1, 1, 10, 100], \n",
    "        'norm': [True, False]}"
   ]
  },
  {
   "cell_type": "code",
   "execution_count": null,
   "id": "d5bc6c71",
   "metadata": {},
   "outputs": [],
   "source": [
    "for i, king in enumerate(kings):\n",
    "    print(king)\n",
    "    for f_sel in ['all', 'sel']:\n",
    "        print(f_sel)\n",
    "        if f_sel == 'sel':\n",
    "            sel_f = pickle.load(open('Results/selected_features.pkl', 'rb'))['Superclass'][king]['selected features']\n",
    "            f_index = [feature_names.index(feature) for feature in sel_f]\n",
    "            X_train_ = X_train_scal[y_train[:, classif_level-1]==king][:, f_index]\n",
    "        else:\n",
    "            X_train_ = X_train_scal[y_train[:, classif_level-1]==king]\n",
    "            \n",
    "        y_train_ = y_train[y_train[:, classif_level-1]==king][:, classif_level]\n",
    "        \n",
    "        estimator = ComplementNB()\n",
    "        gs = GridSearchCV(estimator, param_grid=grid, scoring=['f1_macro', 'f1_micro'], refit='f1_macro', cv=3, verbose=3, \n",
    "                          error_score='raise', return_train_score=True, n_jobs=-1)\n",
    "        gs.fit(X_train_, y_train_)\n",
    "        pickle.dump(gs, open(f'Models/Superclass/{i}_NB_{f_sel}_feat.pkl', 'wb'))"
   ]
  },
  {
   "cell_type": "code",
   "execution_count": null,
   "id": "424bcc40",
   "metadata": {},
   "outputs": [],
   "source": [
    "for i, king in enumerate(kings):\n",
    "    print(king)\n",
    "    for f_sel in ['all', 'sel']:\n",
    "        print(f_sel)\n",
    "        gs = pickle.load(open(f'Models/Superclass/{i}_NB_{f_sel}_feat.pkl', 'rb'))\n",
    "        print('f1_macro_test ->', gs.cv_results_['mean_test_f1_macro'][gs.best_index_])\n",
    "        print('f1_macro_train ->', gs.cv_results_['mean_train_f1_macro'][gs.best_index_])\n",
    "        print('f1_micro_test ->', gs.cv_results_['mean_test_f1_micro'][gs.best_index_])\n",
    "        print('f1_micro_train ->', gs.cv_results_['mean_train_f1_micro'][gs.best_index_])"
   ]
  },
  {
   "cell_type": "markdown",
   "id": "f422982c",
   "metadata": {},
   "source": [
    "### Load GS scores"
   ]
  },
  {
   "cell_type": "code",
   "execution_count": null,
   "id": "4b722108",
   "metadata": {},
   "outputs": [],
   "source": [
    "scores_df = []\n",
    "params_df = []\n",
    "for i, king in enumerate(kings):\n",
    "    #Select if result is better with or without f selection\n",
    "    scores_rows = [{'Classifier':king, 'Feature selection': 'No', 'F1-score average': 'macro'}, \n",
    "                   {'Classifier':king, 'Feature selection': 'No', 'F1-score average': 'micro'},\n",
    "                   {'Classifier':king, 'Feature selection': 'Yes', 'F1-score average': 'macro'}, \n",
    "                   {'Classifier':king, 'Feature selection': 'Yes', 'F1-score average': 'micro'}]\n",
    "    params_row = {'Classifier':king}\n",
    "    for alg in ['RF', 'KNN', 'LR', 'SVM', 'NB']:\n",
    "        f_sel_gs = {}\n",
    "        for f_sel in ['all', 'sel']:\n",
    "            f_sel_gs[f_sel] = pickle.load(open(f'Models/Superclass/{i}_{alg}_{f_sel}_feat.pkl', 'rb'))\n",
    "        score_all = f_sel_gs['all'].cv_results_[f'mean_test_f1_macro'][f_sel_gs['all'].best_index_]\n",
    "        score_sel = f_sel_gs['sel'].cv_results_[f'mean_test_f1_macro'][f_sel_gs['sel'].best_index_]\n",
    "        if score_all >= score_sel:\n",
    "            f_sel = 'all'\n",
    "            f = 'No'\n",
    "        else:\n",
    "            f_sel = 'sel'\n",
    "            f = 'Yes'\n",
    "        gs = f_sel_gs[f_sel]\n",
    "        #Save scores\n",
    "        for z, f_sel in enumerate(['all', 'sel']):\n",
    "            z=z*2\n",
    "            scores_rows[0 + z][f'{alg} (val)'] = f_sel_gs[f_sel].cv_results_[f'mean_test_f1_macro'][f_sel_gs[f_sel].best_index_]\n",
    "            scores_rows[0 + z][f'{alg} (train)'] = f_sel_gs[f_sel].cv_results_[f'mean_train_f1_macro'][f_sel_gs[f_sel].best_index_]\n",
    "            scores_rows[1 + z][f'{alg} (val)'] = f_sel_gs[f_sel].cv_results_[f'mean_test_f1_micro'][f_sel_gs[f_sel].best_index_]\n",
    "            scores_rows[1 + z][f'{alg} (train)'] = f_sel_gs[f_sel].cv_results_[f'mean_train_f1_micro'][f_sel_gs[f_sel].best_index_]\n",
    "        #Save parameters\n",
    "        params = gs.cv_results_['params'][gs.best_index_]\n",
    "        params_row[f'{alg} (Feature Selection)'] = f\n",
    "        for param_name, param in params.items():\n",
    "            params_row[f'{alg} ({param_name})'] = param\n",
    "    scores_df.extend(scores_rows)\n",
    "    params_df.append(params_row)    \n",
    "scores_df = pd.DataFrame(scores_df).set_index(['Classifier', 'Feature selection', 'F1-score average'])\n",
    "params_df = pd.DataFrame(params_df).set_index(['Classifier'])"
   ]
  },
  {
   "cell_type": "code",
   "execution_count": null,
   "id": "87aa383e",
   "metadata": {},
   "outputs": [],
   "source": [
    "with pd.ExcelWriter('Results/GS_scores.xlsx', mode='a') as writer:  \n",
    "    scores_df.to_excel(writer, sheet_name='Superclass')\n",
    "scores_df"
   ]
  },
  {
   "cell_type": "code",
   "execution_count": null,
   "id": "22e5819e",
   "metadata": {},
   "outputs": [],
   "source": [
    "with pd.ExcelWriter('Results/GS_best_comb_params.xlsx', mode='a') as writer:  \n",
    "    params_df.to_excel(writer, sheet_name='Superclass')\n",
    "params_df"
   ]
  }
 ],
 "metadata": {
  "colab": {
   "name": "Learning Model - Random Forests.ipynb",
   "provenance": []
  },
  "kernelspec": {
   "display_name": "Python 3 (ipykernel)",
   "language": "python",
   "name": "python3"
  },
  "language_info": {
   "codemirror_mode": {
    "name": "ipython",
    "version": 3
   },
   "file_extension": ".py",
   "mimetype": "text/x-python",
   "name": "python",
   "nbconvert_exporter": "python",
   "pygments_lexer": "ipython3",
   "version": "3.9.12"
  },
  "toc-autonumbering": true,
  "toc-showmarkdowntxt": false
 },
 "nbformat": 4,
 "nbformat_minor": 5
}
