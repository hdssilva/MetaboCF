{
 "cells": [
  {
   "cell_type": "code",
   "execution_count": null,
   "id": "b8157265",
   "metadata": {},
   "outputs": [],
   "source": [
    "# Importing Libraries\n",
    "import numpy as np\n",
    "import pandas as pd\n",
    "import sklearn\n",
    "print('scikit-learn version\\n', sklearn.__version__)\n",
    "from sklearn.model_selection import train_test_split\n",
    "import pickle\n",
    "import dtale\n",
    "import matplotlib.pyplot as plt\n",
    "from sklearn.preprocessing import MinMaxScaler, KBinsDiscretizer"
   ]
  },
  {
   "cell_type": "code",
   "execution_count": null,
   "id": "2ac39a73",
   "metadata": {},
   "outputs": [],
   "source": [
    "seed=41"
   ]
  },
  {
   "cell_type": "markdown",
   "id": "d1082fae",
   "metadata": {},
   "source": [
    "# Load Dataset"
   ]
  },
  {
   "cell_type": "code",
   "execution_count": null,
   "id": "602b2b0d",
   "metadata": {},
   "outputs": [],
   "source": [
    "df = pd.read_pickle('../Dataset_Preprocessed.pkl').drop(columns=['InChIKey', 'Chemical Formula'])"
   ]
  },
  {
   "cell_type": "code",
   "execution_count": null,
   "id": "88bdcc77",
   "metadata": {},
   "outputs": [],
   "source": [
    "df.info()"
   ]
  },
  {
   "cell_type": "code",
   "execution_count": null,
   "id": "06ba2143",
   "metadata": {},
   "outputs": [],
   "source": [
    "dtale.show(df[['Kingdom', 'Superclass', 'Class', 'Subclass']].drop_duplicates(), host='localhost')"
   ]
  },
  {
   "cell_type": "code",
   "execution_count": null,
   "id": "4a50fe04",
   "metadata": {},
   "outputs": [],
   "source": [
    "uclass = df[['Superclass', 'Class']].drop_duplicates()['Superclass'].value_counts()\n",
    "pickle.dump(list(uclass[uclass==1].index), open('Dataset/SC_wunique_child.pkl', 'wb')) #Superclasses w unique child\n",
    "uclass = df[['Class', 'Subclass']].drop_duplicates()['Class'].value_counts()\n",
    "pickle.dump(list(uclass[uclass==1].index), open('Dataset/C_wunique_child.pkl', 'wb')) #Classes w unique child\n",
    "all_categ = {'Kingdom': np.unique(df.iloc[:, 0]), 'Superclass': np.unique(df.iloc[:, 1]), \n",
    "               'Class': np.unique(df.iloc[:, 2]), 'Subclass': np.unique(df.iloc[:, 3])}\n",
    "pickle.dump(all_categ, open('Dataset/all_categories.pkl', 'wb')) #all categories in the dataset"
   ]
  },
  {
   "cell_type": "code",
   "execution_count": null,
   "id": "72932353",
   "metadata": {},
   "outputs": [],
   "source": [
    "columns = list(df.columns)\n",
    "print(', '.join(list(df.columns)), end='\\n\\n')\n",
    "df.info()"
   ]
  },
  {
   "cell_type": "markdown",
   "id": "1bc4fe79",
   "metadata": {},
   "source": [
    "# Split data to Train and Test"
   ]
  },
  {
   "cell_type": "code",
   "execution_count": null,
   "id": "a54676cc",
   "metadata": {},
   "outputs": [],
   "source": [
    "feature_names = list(df.columns)[4:] #all features\n",
    "pickle.dump(feature_names, open('Dataset/feature_names.pkl', 'wb'))\n",
    "\n",
    "#Splitting the data into independent and dependent variables\n",
    "X = df.iloc[:, 4:].values\n",
    "y = df.iloc[:, 0:4].values\n",
    "\n",
    "#Creating the Training and Test set from data\n",
    "X_train, X_test, y_train, y_test = train_test_split(X, y, stratify = y, test_size=0.33, random_state = seed)\n",
    "\n",
    "pickle.dump(X_train, open(f'Dataset/X_train.pkl', 'wb'))\n",
    "pickle.dump(X_test, open(f'Dataset/X_test.pkl', 'wb'))\n",
    "pickle.dump(y_train, open(f'Dataset/y_train.pkl', 'wb'))\n",
    "pickle.dump(y_test, open(f'Dataset/y_test.pkl', 'wb'))"
   ]
  },
  {
   "cell_type": "markdown",
   "id": "d71d1adc",
   "metadata": {},
   "source": [
    "### Scaling (final preprocessing step)"
   ]
  },
  {
   "cell_type": "code",
   "execution_count": null,
   "id": "f5491005",
   "metadata": {},
   "outputs": [],
   "source": [
    "X_train = pickle.load(open(f'Dataset/X_train.pkl', 'rb'))\n",
    "X_test = pickle.load(open(f'Dataset/X_test.pkl', 'rb'))\n",
    "y_train = pickle.load(open(f'Dataset/y_train.pkl', 'rb'))\n",
    "y_test = pickle.load(open(f'Dataset/y_test.pkl', 'rb'))"
   ]
  },
  {
   "cell_type": "code",
   "execution_count": null,
   "id": "d0135af5",
   "metadata": {},
   "outputs": [],
   "source": [
    "X_train_df = pd.DataFrame(X_train, columns=feature_names)"
   ]
  },
  {
   "cell_type": "code",
   "execution_count": null,
   "id": "2f0078aa",
   "metadata": {},
   "outputs": [],
   "source": [
    "%matplotlib inline\n",
    "for i in range(len(feature_names)):\n",
    "    X_train_df.iloc[:, i].plot.hist(bins=300)\n",
    "    plt.show()"
   ]
  },
  {
   "cell_type": "code",
   "execution_count": null,
   "id": "edbdbfd3",
   "metadata": {},
   "outputs": [],
   "source": [
    "scaler = MinMaxScaler(feature_range=(0,1), )\n",
    "scaler.fit(X_train)\n",
    "pickle.dump(scaler, open('Dataset/fitted_scaler.pkl', 'wb'))"
   ]
  },
  {
   "cell_type": "code",
   "execution_count": null,
   "id": "d44a22a0",
   "metadata": {},
   "outputs": [],
   "source": [
    "X_train_scal = scaler.transform(X_train)\n",
    "X_test_scal = scaler.transform(X_test)\n",
    "pickle.dump(X_train_scal, open(f'Dataset/X_train_scal.pkl', 'wb'))\n",
    "pickle.dump(X_test_scal, open(f'Dataset/X_test_scal.pkl', 'wb'))"
   ]
  }
 ],
 "metadata": {
  "kernelspec": {
   "display_name": "Python 3 (ipykernel)",
   "language": "python",
   "name": "python3"
  },
  "language_info": {
   "codemirror_mode": {
    "name": "ipython",
    "version": 3
   },
   "file_extension": ".py",
   "mimetype": "text/x-python",
   "name": "python",
   "nbconvert_exporter": "python",
   "pygments_lexer": "ipython3",
   "version": "3.9.12"
  }
 },
 "nbformat": 4,
 "nbformat_minor": 5
}
