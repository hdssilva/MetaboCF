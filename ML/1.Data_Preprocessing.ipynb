{
 "cells": [
  {
   "cell_type": "code",
   "execution_count": 53,
   "id": "eaec2ac0-ec0d-4f2c-95d5-c3818c751195",
   "metadata": {
    "executionInfo": {
     "elapsed": 883,
     "status": "ok",
     "timestamp": 1638442432321,
     "user": {
      "displayName": "Henrique Silva",
      "photoUrl": "https://lh3.googleusercontent.com/a/default-user=s64",
      "userId": "06009345151973031735"
     },
     "user_tz": 0
    },
    "id": "8092ca2f"
   },
   "outputs": [],
   "source": [
    "# Importing Libraries\n",
    "import numpy as np\n",
    "import pandas as pd\n",
    "import dtale\n",
    "import dtale.app as dtale_app\n",
    "import matplotlib.pyplot as plt\n",
    "from matplotlib import rcParams\n",
    "from tqdm.notebook import tqdm\n",
    "from pathlib import Path\n",
    "import pickle\n",
    "from rdkit.Chem import Descriptors\n",
    "from rdkit import Chem\n",
    "import seaborn as sns\n",
    "from aux_functions.name_2lines import name_2lines"
   ]
  },
  {
   "cell_type": "code",
   "execution_count": 54,
   "id": "b63b8e3c-b349-483f-9ac0-830cf4f53628",
   "metadata": {
    "executionInfo": {
     "elapsed": 3,
     "status": "ok",
     "timestamp": 1638442442175,
     "user": {
      "displayName": "Henrique Silva",
      "photoUrl": "https://lh3.googleusercontent.com/a/default-user=s64",
      "userId": "06009345151973031735"
     },
     "user_tz": 0
    },
    "id": "00027506"
   },
   "outputs": [],
   "source": [
    "#Set seed\n",
    "seed=41"
   ]
  },
  {
   "cell_type": "markdown",
   "id": "2a2dc7ed-b1b9-40c0-bf64-ef792a12a646",
   "metadata": {
    "id": "WSbznVLxrEYx",
    "tags": []
   },
   "source": [
    "# Load Dataset"
   ]
  },
  {
   "cell_type": "code",
   "execution_count": 28,
   "id": "881fe5f8-5fd7-4f52-abcb-ce308e7c730e",
   "metadata": {
    "executionInfo": {
     "elapsed": 5089,
     "status": "ok",
     "timestamp": 1638442442174,
     "user": {
      "displayName": "Henrique Silva",
      "photoUrl": "https://lh3.googleusercontent.com/a/default-user=s64",
      "userId": "06009345151973031735"
     },
     "user_tz": 0
    },
    "id": "89406ede",
    "slideshow": {
     "slide_type": "slide"
    },
    "tags": []
   },
   "outputs": [
    {
     "name": "stdout",
     "output_type": "stream",
     "text": [
      "<class 'pandas.core.frame.DataFrame'>\n",
      "RangeIndex: 290042 entries, 0 to 290041\n",
      "Columns: 132 entries, InChIKey to Mass\n",
      "dtypes: float64(119), object(13)\n",
      "memory usage: 292.1+ MB\n"
     ]
    }
   ],
   "source": [
    "df = pd.read_pickle('~/Tese/Dataset.pkl')\n",
    "df.info()"
   ]
  },
  {
   "cell_type": "code",
   "execution_count": 13,
   "id": "24acdb5c",
   "metadata": {},
   "outputs": [
    {
     "name": "stderr",
     "output_type": "stream",
     "text": [
      "/home/hsilva/anaconda3/lib/python3.9/site-packages/dtale/views.py:725: FutureWarning:\n",
      "\n",
      "['Superclass', 'Class', 'Subclass', 'Level 5', 'Level 6', 'Level 7', 'Level 8', 'Level 9', 'Level 10', 'Level 11'] did not aggregate successfully. If any error is raised this will raise in a future version of pandas. Drop these columns/ops to avoid this warning.\n",
      "\n"
     ]
    },
    {
     "data": {
      "text/html": [
       "\n",
       "        <iframe\n",
       "            width=\"100%\"\n",
       "            height=\"475\"\n",
       "            src=\"http://localhost:40002/dtale/iframe/3\"\n",
       "            frameborder=\"0\"\n",
       "            allowfullscreen\n",
       "            \n",
       "        ></iframe>\n",
       "        "
      ],
      "text/plain": [
       "<IPython.lib.display.IFrame at 0x7f4d321c4d90>"
      ]
     },
     "metadata": {},
     "output_type": "display_data"
    },
    {
     "data": {
      "text/plain": []
     },
     "execution_count": 13,
     "metadata": {},
     "output_type": "execute_result"
    }
   ],
   "source": [
    "dtale.show(df, host='localhost')"
   ]
  },
  {
   "cell_type": "code",
   "execution_count": 29,
   "id": "fe2c565e-31a2-4a85-b454-1dfe2a16e10e",
   "metadata": {
    "colab": {
     "base_uri": "https://localhost:8080/"
    },
    "executionInfo": {
     "elapsed": 7,
     "status": "ok",
     "timestamp": 1638442442175,
     "user": {
      "displayName": "Henrique Silva",
      "photoUrl": "https://lh3.googleusercontent.com/a/default-user=s64",
      "userId": "06009345151973031735"
     },
     "user_tz": 0
    },
    "id": "333655fd",
    "outputId": "91588a79-1bef-498e-f38e-b4e06416ab34",
    "tags": []
   },
   "outputs": [
    {
     "name": "stdout",
     "output_type": "stream",
     "text": [
      "['InChIKey', 'Chemical Formula', 'Kingdom', 'Superclass', 'Class', 'Subclass', 'Level 5', 'Level 6', 'Level 7', 'Level 8', 'Level 9', 'Level 10', 'Level 11', 'C', 'H', 'O', 'P', 'N', 'S', 'Th', 'Cm', 'K', 'Na', 'Rb', 'Li', 'Cs', 'Fr', 'Ca', 'Mg', 'Be', 'Sr', 'Ba', 'Ce', 'La', 'Nd', 'Gd', 'Sm', 'Eu', 'Lu', 'Pr', 'Tb', 'Dy', 'Ho', 'Er', 'Tm', 'Te', 'Si', 'As', 'B', 'Ge', 'Sb', 'Al', 'Bi', 'Cr', 'Co', 'Cu', 'Fe', 'Mo', 'Mn', 'Zr', 'Ti', 'W', 'Ni', 'V', 'Ag', 'Hg', 'Cd', 'Au', 'Ta', 'Y', 'Ru', 'Pd', 'Pt', 'Re', 'Zn', 'Hf', 'Nb', 'Sc', 'Os', 'Ir', 'Cl', 'I', 'F', 'Br', 'He', 'Ar', 'Se', 'Ga', 'Sn', 'Tl', 'Pb', 'Xe', 'Rn', 'Ra', 'Pu', 'Kr', 'U', 'Tc', 'At', 'In', 'Po', 'Ne', 'Ac', 'Rf', 'Db', 'Sg', 'Bh', 'Hs', 'Rh', 'Mt', 'Ds', 'Rg', 'Pm', 'Yb', 'Pa', 'Np', 'Am', 'Bk', 'Cf', 'Es', 'Fm', 'Md', 'No', 'Lr', 'Cn', 'Fl', 'Lv', 'Mc', 'Nh', 'Ts', 'Charge', 'Mass']\n"
     ]
    }
   ],
   "source": [
    "columns = list(df.columns)\n",
    "print(columns)"
   ]
  },
  {
   "cell_type": "code",
   "execution_count": 30,
   "id": "9134aedf",
   "metadata": {},
   "outputs": [],
   "source": [
    "## Drop additional levels\n",
    "df = df.drop(columns=['Level 5', 'Level 6', 'Level 7', 'Level 8', 'Level 9', 'Level 10', 'Level 11'])"
   ]
  },
  {
   "cell_type": "code",
   "execution_count": 32,
   "id": "81ac01cf",
   "metadata": {},
   "outputs": [],
   "source": [
    "df.insert(5, 'InChIKey', df.pop('InChIKey')) #Change column positions\n",
    "df.insert(5, 'Chemical Formula', df.pop('Chemical Formula'))"
   ]
  },
  {
   "cell_type": "markdown",
   "id": "1f5a82e7-08ba-4a58-b760-427648d6309c",
   "metadata": {
    "id": "nKLT4v4brRbN",
    "tags": []
   },
   "source": [
    "# Prepare Dataset"
   ]
  },
  {
   "cell_type": "code",
   "execution_count": 18,
   "id": "066ded3f-a385-4af6-a26f-f91a71be7fbb",
   "metadata": {},
   "outputs": [
    {
     "name": "stdout",
     "output_type": "stream",
     "text": [
      "Total of compounds ->  290042\n",
      "Kingdom         2\n",
      "Superclass     28\n",
      "Class         486\n",
      "Subclass      876\n",
      "dtype: int64\n"
     ]
    }
   ],
   "source": [
    "print('Total of compounds -> ', len(df))\n",
    "\n",
    "print(df[['Kingdom', 'Superclass', 'Class', 'Subclass']].nunique())"
   ]
  },
  {
   "cell_type": "code",
   "execution_count": null,
   "id": "b715736c",
   "metadata": {},
   "outputs": [],
   "source": [
    "plt.style.use('seaborn-whitegrid')\n",
    "rcParams['xtick.labelsize'] = 12\n",
    "rcParams['ytick.labelsize'] = 12\n",
    "\n",
    "fig, ((ax1, ax2), (ax3, ax4)) = plt.subplots(nrows=2, ncols=2, figsize=(16,10), dpi=500)\n",
    "fig.suptitle(\"Categories' size distribution\", fontsize=20, y=0.91)\n",
    "\n",
    "df['Kingdom'].value_counts().plot.bar(ax=ax1)\n",
    "ax1.set_xlabel('Kingdoms', size= 15)\n",
    "ax1.set_ylabel('No. compounds (log scale)', size= 15)\n",
    "ax1.set_yscale('log')\n",
    "ax1.set_xticklabels(ax1.get_xticklabels(), rotation=0, ha='center', va='top')\n",
    "\n",
    "ax2.set_xlabel('No. compounds (log scale)', size= 15)\n",
    "ax2.set_ylabel('No. Superclasses', size= 15)\n",
    "ax2.set_xscale('log')\n",
    "ax2.hist(df['Superclass'].value_counts().values, bins=np.logspace(start=np.log10(1), stop=np.log10(200000), num=10))\n",
    "\n",
    "ax3.set_xlabel('No. compounds (log scale)', size= 15)\n",
    "ax3.set_ylabel('No. Classes', size= 15)\n",
    "ax3.set_xscale('log')\n",
    "ax3.hist(df['Class'].value_counts().values, bins=np.logspace(start=np.log10(1), stop=np.log10(125000), num=25))\n",
    "\n",
    "ax4.set_xlabel('No. compounds (log scale)', size= 15)\n",
    "ax4.set_ylabel('No. Subclasses', size= 15)\n",
    "ax4.set_xscale('log')\n",
    "ax4.hist(df['Subclass'].value_counts().values, bins=np.logspace(start=np.log10(1), stop=np.log10(83000), num=25))\n",
    "plt.savefig('Plots/Categories_size_distribution.png')\n",
    "plt.show()"
   ]
  },
  {
   "cell_type": "markdown",
   "id": "dcc0a6b4",
   "metadata": {},
   "source": [
    "Transform \"no classification\" (np.nan) to \"lowest level with classification\" + \"- Unspecified\" to standardize the hierarchy<br>"
   ]
  },
  {
   "cell_type": "code",
   "execution_count": 19,
   "id": "ad75c5ab",
   "metadata": {},
   "outputs": [
    {
     "name": "stderr",
     "output_type": "stream",
     "text": [
      "/home/hsilva/anaconda3/lib/python3.9/site-packages/dtale/views.py:725: FutureWarning:\n",
      "\n",
      "['Superclass', 'Class'] did not aggregate successfully. If any error is raised this will raise in a future version of pandas. Drop these columns/ops to avoid this warning.\n",
      "\n"
     ]
    },
    {
     "data": {
      "text/html": [
       "\n",
       "        <iframe\n",
       "            width=\"100%\"\n",
       "            height=\"475\"\n",
       "            src=\"http://localhost:40002/dtale/iframe/4\"\n",
       "            frameborder=\"0\"\n",
       "            allowfullscreen\n",
       "            \n",
       "        ></iframe>\n",
       "        "
      ],
      "text/plain": [
       "<IPython.lib.display.IFrame at 0x7f4d32e17eb0>"
      ]
     },
     "metadata": {},
     "output_type": "display_data"
    },
    {
     "data": {
      "text/plain": []
     },
     "execution_count": 19,
     "metadata": {},
     "output_type": "execute_result"
    }
   ],
   "source": [
    "#Example\n",
    "dtale.show(df.loc[[129654, 21266, 1144]].loc[:,['Kingdom', 'Superclass', 'Class', 'Subclass']])"
   ]
  },
  {
   "cell_type": "code",
   "execution_count": 35,
   "id": "130e2888",
   "metadata": {},
   "outputs": [
    {
     "data": {
      "application/vnd.jupyter.widget-view+json": {
       "model_id": "286cf5ff9ba1492887af9a59eb43426b",
       "version_major": 2,
       "version_minor": 0
      },
      "text/plain": [
       "  0%|          | 0/17991 [00:00<?, ?it/s]"
      ]
     },
     "metadata": {},
     "output_type": "display_data"
    }
   ],
   "source": [
    "new_df = df.copy()\n",
    "\n",
    "lvls = ['Kingdom', 'Superclass', 'Class', 'Subclass']\n",
    "for i, row in tqdm(new_df[~new_df[lvls].notnull().all(axis=1)][lvls].iterrows(), total=new_df[~new_df[lvls].notnull().all(axis=1)][lvls].shape[0]):\n",
    "    for i_lvl in range(1, 4):\n",
    "        if type(row[lvls[i_lvl]]) is float: #nan is a float\n",
    "            class_ = row[lvls][i_lvl-1]\n",
    "            for i_class in range(i_lvl, 4):\n",
    "                new_df.iloc[i, i_class] = class_ + ' - Unspecified'\n",
    "            break\n",
    "    if not new_df.iloc[i][lvls].notnull().all():\n",
    "        print(new_df.iloc[i][lvls])"
   ]
  },
  {
   "cell_type": "code",
   "execution_count": 36,
   "id": "fb2c1a83",
   "metadata": {},
   "outputs": [
    {
     "data": {
      "text/html": [
       "\n",
       "        <iframe\n",
       "            width=\"100%\"\n",
       "            height=\"475\"\n",
       "            src=\"http://wall-e:40000/dtale/iframe/1\"\n",
       "            frameborder=\"0\"\n",
       "            allowfullscreen\n",
       "            \n",
       "        ></iframe>\n",
       "        "
      ],
      "text/plain": [
       "<IPython.lib.display.IFrame at 0x7f6d08e7b1f0>"
      ]
     },
     "metadata": {},
     "output_type": "display_data"
    },
    {
     "data": {
      "text/plain": []
     },
     "execution_count": 36,
     "metadata": {},
     "output_type": "execute_result"
    }
   ],
   "source": [
    "dtale.show(new_df.loc[[129654, 21266, 1144]].loc[:,['Kingdom', 'Superclass', 'Class', 'Subclass']])"
   ]
  },
  {
   "cell_type": "code",
   "execution_count": 37,
   "id": "ca813b23",
   "metadata": {},
   "outputs": [
    {
     "name": "stdout",
     "output_type": "stream",
     "text": [
      "<class 'pandas.core.frame.DataFrame'>\n",
      "RangeIndex: 290042 entries, 0 to 290041\n",
      "Data columns (total 4 columns):\n",
      " #   Column      Non-Null Count   Dtype \n",
      "---  ------      --------------   ----- \n",
      " 0   Kingdom     290042 non-null  object\n",
      " 1   Superclass  290042 non-null  object\n",
      " 2   Class       290042 non-null  object\n",
      " 3   Subclass    290042 non-null  object\n",
      "dtypes: object(4)\n",
      "memory usage: 8.9+ MB\n"
     ]
    }
   ],
   "source": [
    "new_df[['Kingdom', 'Superclass', 'Class', 'Subclass']].info()"
   ]
  },
  {
   "cell_type": "markdown",
   "id": "5a21f15b",
   "metadata": {},
   "source": [
    "Filter smaller categories and leave them as 'Unspecified' as well, joining them into a bigger one if there is more than one small category with the same parent <br>\n",
    "\n",
    "Filtering small subclasses into \"Unspecified\" (blanks) is not enough to make all subclasses bigger than 10. They would be otherwise discarded, therefore, in order to get the most out of the data, the categories at the level above the Unspecified will be joined as Unspecified as well, going from the bottom (subclasses) up (kingdom), joining categories that are smaller than 10."
   ]
  },
  {
   "cell_type": "code",
   "execution_count": 38,
   "id": "0ef9b53e",
   "metadata": {},
   "outputs": [
    {
     "name": "stdout",
     "output_type": "stream",
     "text": [
      "Subclass                                      \n",
      "Dithianes - Unspecified                           9\n",
      "Hydroxypyridines                                  9\n",
      "Transition metal iodides                          9\n",
      "Pyrimidodiazepines - Unspecified                  9\n",
      "Rhoeadine alkaloids - Unspecified                 9\n",
      "                                                 ..\n",
      "Alkali metal hypochlorites                        1\n",
      "Organotransition metal compounds - Unspecified    1\n",
      "Tetrathianes - Unspecified                        1\n",
      "Iodohydrins                                       1\n",
      "Gamma sultones                                    1\n",
      "Length: 589, dtype: int64\n"
     ]
    }
   ],
   "source": [
    "print(new_df[['Subclass']].value_counts()[new_df[['Subclass']].value_counts()<10])"
   ]
  },
  {
   "cell_type": "code",
   "execution_count": 39,
   "id": "242b485c",
   "metadata": {},
   "outputs": [
    {
     "data": {
      "application/vnd.jupyter.widget-view+json": {
       "model_id": "d9cc8bafb39249d0b960094590b7e1d8",
       "version_major": 2,
       "version_minor": 0
      },
      "text/plain": [
       "  0%|          | 0/401 [00:00<?, ?it/s]"
      ]
     },
     "metadata": {},
     "output_type": "display_data"
    }
   ],
   "source": [
    "counts = new_df['Subclass'].value_counts()\n",
    "#only iterate small subclasses that are not already \"Unspecified\" due to imputation\n",
    "small_subclasses = list(counts[np.logical_and(counts.values<10, np.invert(counts.index.str.endswith(' - Unspecified')))].index)\n",
    "\n",
    "#change small subclasses name to (class) + \" - Unspecified\"\n",
    "for small_subclass in tqdm(small_subclasses):\n",
    "    new_df.loc[(new_df['Subclass']==small_subclass) , 'Subclass'] = new_df['Class'].str.replace(' - Unspecified', '') + ' - Unspecified'"
   ]
  },
  {
   "cell_type": "code",
   "execution_count": 40,
   "id": "767cb4c9",
   "metadata": {},
   "outputs": [
    {
     "name": "stdout",
     "output_type": "stream",
     "text": [
      "Class                        Subclass                                 \n",
      "Organobromides               Organobromides - Unspecified                 9\n",
      "Tetrazines                   Tetrazines - Unspecified                     9\n",
      "Dithianes                    Dithianes - Unspecified                      9\n",
      "Brevetoxins and derivatives  Brevetoxins and derivatives - Unspecified    9\n",
      "Transition metal salts       Transition metal salts - Unspecified         9\n",
      "                                                                         ..\n",
      "Isothiochromenes             Isothiochromenes - Unspecified               1\n",
      "Isoxazolopyridines           Isoxazolopyridines - Unspecified             1\n",
      "Actinide salts               Actinide salts - Unspecified                 1\n",
      "Trialkylphosphites           Trialkylphosphites - Unspecified             1\n",
      "Metal alkyl halides          Metal alkyl halides - Unspecified            1\n",
      "Length: 239, dtype: int64\n"
     ]
    }
   ],
   "source": [
    "#To count small classes both levels have to be considered because there are compounds that can have the same class \n",
    "#but different subclass, and from this set of small Subclasses, we want the classes that are not yet \"Unspecified\" \n",
    "#due to imputation\n",
    "counts_CSc = new_df[['Class', 'Subclass']].value_counts()\n",
    "print(counts_CSc[counts_CSc<10])\n",
    "small_counts = counts_CSc[np.logical_and(counts_CSc<10, counts_CSc.index.get_level_values(0).str[-14:] != ' - Unspecified')]\n",
    "small_classes = small_counts.index.get_level_values(0)"
   ]
  },
  {
   "cell_type": "code",
   "execution_count": 41,
   "id": "dac31211",
   "metadata": {},
   "outputs": [
    {
     "data": {
      "application/vnd.jupyter.widget-view+json": {
       "model_id": "daf0cbf4df26484bbf4ab4ed97ef1a45",
       "version_major": 2,
       "version_minor": 0
      },
      "text/plain": [
       "  0%|          | 0/234 [00:00<?, ?it/s]"
      ]
     },
     "metadata": {},
     "output_type": "display_data"
    }
   ],
   "source": [
    "#Filter is now made on the Class level. classes on the Class level with less than 10 compounds get the \n",
    "#superclass unspecified designation\n",
    "for small_class in tqdm(small_classes):\n",
    "    new_df.loc[(new_df['Class']==small_class) & (new_df['Subclass']==new_df['Class'] + ' - Unspecified' ) , 'Class'] = new_df['Superclass'].str.replace(' - Unspecified', '') + ' - Unspecified'\n",
    "\n",
    "#To propagate the changes into the Subclass level\n",
    "new_df.loc[new_df['Class'].str[-14:]==' - Unspecified', 'Subclass'] = new_df.loc[new_df['Class'].str[-14:]==' - Unspecified', 'Class']"
   ]
  },
  {
   "cell_type": "code",
   "execution_count": 42,
   "id": "fb915192",
   "metadata": {},
   "outputs": [
    {
     "name": "stdout",
     "output_type": "stream",
     "text": [
      "Superclass                       Class                                      \n",
      "Organic salts                    Organic salts - Unspecified                    9\n",
      "Organic 1,3-dipolar compounds    Organic 1,3-dipolar compounds - Unspecified    9\n",
      "Hydrocarbons                     Hydrocarbons - Unspecified                     4\n",
      "Inorganic salts                  Inorganic salts - Unspecified                  3\n",
      "Allenes                          Allenes - Unspecified                          3\n",
      "Organic compounds - Unspecified  Organic compounds - Unspecified                2\n",
      "Organic cations                  Organic cations - Unspecified                  1\n",
      "Organic anions                   Organic anions - Unspecified                   1\n",
      "dtype: int64\n"
     ]
    }
   ],
   "source": [
    "counts_ScC = new_df[['Superclass', 'Class']].value_counts()\n",
    "print(counts_ScC[counts_ScC<10])\n",
    "small_counts = counts_ScC[np.logical_and(counts_ScC<10, counts_ScC.index.get_level_values(0).str[-14:] != ' - Unspecified')]\n",
    "small_superclasses = small_counts.index.get_level_values(0)"
   ]
  },
  {
   "cell_type": "code",
   "execution_count": 43,
   "id": "6a865746",
   "metadata": {},
   "outputs": [
    {
     "data": {
      "text/html": [
       "\n",
       "        <iframe\n",
       "            width=\"100%\"\n",
       "            height=\"475\"\n",
       "            src=\"http://wall-e:40000/dtale/iframe/2\"\n",
       "            frameborder=\"0\"\n",
       "            allowfullscreen\n",
       "            \n",
       "        ></iframe>\n",
       "        "
      ],
      "text/plain": [
       "<IPython.lib.display.IFrame at 0x7f6d38a51b80>"
      ]
     },
     "metadata": {},
     "output_type": "display_data"
    },
    {
     "data": {
      "text/plain": []
     },
     "execution_count": 43,
     "metadata": {},
     "output_type": "execute_result"
    }
   ],
   "source": [
    "dtale.show(new_df[np.logical_and(new_df['Superclass'].isin(small_superclasses), new_df['Class'].str[-14:]==' - Unspecified')].iloc[:,:4])"
   ]
  },
  {
   "cell_type": "code",
   "execution_count": 44,
   "id": "03981227",
   "metadata": {},
   "outputs": [
    {
     "data": {
      "application/vnd.jupyter.widget-view+json": {
       "model_id": "46e29894a08449b184cfbdb9ba0b90bc",
       "version_major": 2,
       "version_minor": 0
      },
      "text/plain": [
       "  0%|          | 0/7 [00:00<?, ?it/s]"
      ]
     },
     "metadata": {},
     "output_type": "display_data"
    }
   ],
   "source": [
    "for small_class in tqdm(small_superclasses):\n",
    "    new_df.loc[(new_df['Superclass']==small_class) & (new_df['Class']==new_df['Superclass'] + ' - Unspecified' ) , 'Superclass'] = new_df['Kingdom'].str.replace(' - Unspecified', '') + ' - Unspecified'\n",
    "\n",
    "#To propagate the changes into the Class and Subclass levels\n",
    "new_df.loc[new_df['Superclass'].str[-14:]==' - Unspecified', 'Class'] = new_df.loc[new_df['Superclass'].str[-14:]==' - Unspecified', 'Superclass']\n",
    "new_df.loc[new_df['Superclass'].str[-14:]==' - Unspecified', 'Subclass'] = new_df.loc[new_df['Superclass'].str[-14:]==' - Unspecified', 'Superclass']"
   ]
  },
  {
   "cell_type": "code",
   "execution_count": 45,
   "id": "4b2e1fd4",
   "metadata": {},
   "outputs": [
    {
     "data": {
      "text/plain": [
       "Kingdom              Superclass                         Class                              Subclass                         \n",
       "Inorganic compounds  Inorganic compounds - Unspecified  Inorganic compounds - Unspecified  Inorganic compounds - Unspecified    3\n",
       "dtype: int64"
      ]
     },
     "execution_count": 45,
     "metadata": {},
     "output_type": "execute_result"
    }
   ],
   "source": [
    "new_df[['Kingdom', 'Superclass', 'Class', 'Subclass']].value_counts()[new_df[['Kingdom', 'Superclass', 'Class', 'Subclass']].value_counts()<10]"
   ]
  },
  {
   "cell_type": "markdown",
   "id": "e6fa0f20",
   "metadata": {},
   "source": [
    "There are still 3 Inorganic compounds with no Superclass, so they were removed"
   ]
  },
  {
   "cell_type": "code",
   "execution_count": 46,
   "id": "ca788932",
   "metadata": {},
   "outputs": [],
   "source": [
    "new_df = new_df[new_df['Superclass']!='Inorganic compounds - Unspecified'].reset_index(drop=True)"
   ]
  },
  {
   "cell_type": "code",
   "execution_count": 47,
   "id": "a0b3fdaf",
   "metadata": {},
   "outputs": [
    {
     "data": {
      "text/plain": [
       "Kingdom            Superclass                                 Class                             Subclass                                 \n",
       "Organic compounds  Lipids and lipid-like molecules            Glycerophospholipids              Glycerophosphoglycerophosphoglycerols        82829\n",
       "                                                              Glycerolipids                     Triradylcglycerols                           31288\n",
       "                   Organic acids and derivatives              Carboxylic acids and derivatives  Amino acids, peptides, and analogues         14068\n",
       "                   Lipids and lipid-like molecules            Fatty Acyls                       Eicosanoids                                   9318\n",
       "                   Organic oxygen compounds                   Organooxygen compounds            Carbohydrates and carbohydrate conjugates     7877\n",
       "                                                                                                                                             ...  \n",
       "                   Organohalogen compounds                    Aryl halides                      Aryl halides - Unspecified                      10\n",
       "                   Lignans, neolignans and related compounds  Lignan lactones                   Podophyllotoxins                                10\n",
       "                   Organoheterocyclic compounds               Oxolanes                          Oxolanes - Unspecified                          10\n",
       "                                                              Pyridines and derivatives         2-pyridylmethylamines                           10\n",
       "                   Alkaloids and derivatives                  Tropane alkaloids                 Phenyltropanes                                  10\n",
       "Length: 724, dtype: int64"
      ]
     },
     "execution_count": 47,
     "metadata": {},
     "output_type": "execute_result"
    }
   ],
   "source": [
    "new_df[['Kingdom', 'Superclass', 'Class', 'Subclass']].value_counts()"
   ]
  },
  {
   "cell_type": "code",
   "execution_count": 48,
   "id": "3492cb68",
   "metadata": {},
   "outputs": [
    {
     "data": {
      "text/plain": [
       "Kingdom         2\n",
       "Superclass     26\n",
       "Class         311\n",
       "Subclass      724\n",
       "dtype: int64"
      ]
     },
     "execution_count": 48,
     "metadata": {},
     "output_type": "execute_result"
    }
   ],
   "source": [
    "new_df[['Kingdom', 'Superclass', 'Class', 'Subclass']].nunique()"
   ]
  },
  {
   "cell_type": "markdown",
   "id": "437ab7f3",
   "metadata": {},
   "source": [
    "### Feature Engineering (Create new features from the data)"
   ]
  },
  {
   "cell_type": "code",
   "execution_count": 50,
   "id": "980de139",
   "metadata": {},
   "outputs": [],
   "source": [
    "df = new_df\n",
    "\n",
    "metals = ['Li', 'Na', 'K', 'Rb', 'Cs', 'Fr', 'Be', 'Mg', 'Ca', 'Sr', 'Ba', 'Ra', 'Sc', 'Ti', 'V', 'Cr', 'Mn', 'Fe', \n",
    "          'Co', 'Ni', 'Cu', 'Zn', 'Y', 'Zr', 'Nb', 'Mo', 'Tc', 'Ru', 'Rh', 'Pd', 'Ag', 'Cd', 'Hf', 'Ta', 'W', 'Re', \n",
    "          'Os', 'Ir', 'Pt', 'Au', 'Hg', 'Rf', 'Db', 'Sg', 'Bh', 'Hs', 'Al', 'Ga', 'In', 'Sn', 'Tl', 'Pb', 'Bi', 'Po', \n",
    "          'La', 'Ce', 'Pr', 'Nd', 'Pm', 'Sm', 'Eu', 'Gd', 'Tb', 'Dy', 'Ho', 'Er', 'Tm', 'Yb', 'Lu', 'Ac', 'Th', 'Pa', \n",
    "          'U', 'Np', 'Pu', 'Am', 'Cm', 'Bk', 'Cf', 'Es', 'Fm', 'Md', 'No', 'Lr']\n",
    "\n",
    "synthetic = ['Mt', 'Ds', 'Rg', 'Cn', 'Nh', 'Fl', 'Mc', 'Lv', 'Ts']\n",
    "\n",
    "df['Halogens'] = df[['F', 'Cl', 'Br', 'I']].sum(axis=1)\n",
    "df['All Metals'] = df[metals].sum(axis=1)\n",
    "df['Alkaline Metals'] = df[metals[:6]].sum(axis=1)\n",
    "df['Alkaline Earth Metals'] = df[metals[6:12]].sum(axis=1)\n",
    "df['Transition Metals'] = df[metals[12:46]].sum(axis=1)\n",
    "df['Post Transition Metals'] = df[metals[46:54]].sum(axis=1)\n",
    "df['Lanthanoids'] = df[metals[54:69]].sum(axis=1)\n",
    "df['Actinoids'] = df[metals[69:84]].sum(axis=1)\n",
    "df['Synthetics'] = df[synthetic].sum(axis=1)\n",
    "df['O/C'] = df['O']/df['C']\n",
    "df['H/C'] = df['H']/df['C']\n",
    "df['N/C'] = df['N']/df['C']\n",
    "df['P/C'] = df['P']/df['C']\n",
    "df['N/P'] = df['N']/df['P']\n",
    "\n",
    "\n",
    "#Data imputation -> 0 when the chemical element or one of them (ratios) are not in the formula\n",
    "#Reset Index\n",
    "df = df.replace([np.inf, -np.inf, np.nan], 0).reset_index(drop=True)\n",
    "\n",
    "df.insert(0, 'InChIKey', df.pop('InChIKey')) #Change back columns position\n",
    "df.insert(1, 'Chemical Formula', df.pop('Chemical Formula'))\n",
    "df.to_pickle('~/Tese/Dataset_Preprocessed.pkl')"
   ]
  }
 ],
 "metadata": {
  "kernelspec": {
   "display_name": "Python 3 (ipykernel)",
   "language": "python",
   "name": "python3"
  },
  "language_info": {
   "codemirror_mode": {
    "name": "ipython",
    "version": 3
   },
   "file_extension": ".py",
   "mimetype": "text/x-python",
   "name": "python",
   "nbconvert_exporter": "python",
   "pygments_lexer": "ipython3",
   "version": "3.9.12"
  }
 },
 "nbformat": 4,
 "nbformat_minor": 5
}
