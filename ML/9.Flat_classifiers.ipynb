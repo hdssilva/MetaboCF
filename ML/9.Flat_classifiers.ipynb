{
 "cells": [
  {
   "cell_type": "code",
   "execution_count": 4,
   "id": "5f9e73c8",
   "metadata": {},
   "outputs": [
    {
     "name": "stdout",
     "output_type": "stream",
     "text": [
      "scikit-learn version\n",
      " 1.0.2\n"
     ]
    },
    {
     "name": "stderr",
     "output_type": "stream",
     "text": [
      "Intel(R) Extension for Scikit-learn* enabled (https://github.com/intel/scikit-learn-intelex)\n"
     ]
    }
   ],
   "source": [
    "# Importing Libraries\n",
    "from sklearnex import patch_sklearn #Improves sklearn alghoritms performance\n",
    "patch_sklearn()\n",
    "import sklearn\n",
    "print('scikit-learn version\\n', sklearn.__version__)\n",
    "from sklearn.model_selection import GridSearchCV\n",
    "from sklearn.ensemble import RandomForestClassifier\n",
    "import pickle"
   ]
  },
  {
   "cell_type": "code",
   "execution_count": 5,
   "id": "e875fa89",
   "metadata": {},
   "outputs": [],
   "source": [
    "#Set seed\n",
    "seed=41"
   ]
  },
  {
   "cell_type": "code",
   "execution_count": 6,
   "id": "f1bea1be",
   "metadata": {},
   "outputs": [],
   "source": [
    "X_train = pickle.load(open(f'Dataset/X_train.pkl', 'rb'))\n",
    "y_train = pickle.load(open(f'Dataset/y_train.pkl', 'rb'))"
   ]
  },
  {
   "cell_type": "code",
   "execution_count": 7,
   "id": "b007c521",
   "metadata": {},
   "outputs": [],
   "source": [
    "grid = {'class_weight': [None, 'balanced', 'balanced_subsample'],\n",
    "        'criterion' : ['gini', 'entropy'],\n",
    "        'max_features' : [1, 2, 3, 5, 7, 10, 15, 20, 30, 40, 50, 60, 70, 80, 90, 100, 110, 120, 130, 133]}"
   ]
  },
  {
   "cell_type": "code",
   "execution_count": null,
   "id": "10d877b7",
   "metadata": {},
   "outputs": [],
   "source": [
    "estimator = RandomForestClassifier(random_state=seed, n_jobs=1, n_estimators=100)\n",
    "gs = GridSearchCV(estimator, param_grid=grid, scoring=['f1_macro', 'f1_micro'], refit='f1_macro', cv=3, verbose=3, \n",
    "                          error_score='raise', return_train_score=True, n_jobs=1, pre_dispatch=1)\n",
    "gs.fit(X_train, y_train[:, 1])\n",
    "pickle.dump(gs, open(f'Models/Superclass_flat_RF.pkl', 'wb'))"
   ]
  },
  {
   "cell_type": "code",
   "execution_count": null,
   "id": "3d162c9b",
   "metadata": {},
   "outputs": [],
   "source": [
    "estimator = RandomForestClassifier(random_state=seed, n_jobs=1, n_estimators=100)\n",
    "gs = GridSearchCV(estimator, param_grid=grid, scoring=['f1_macro', 'f1_micro'], refit='f1_macro', cv=3, verbose=3, \n",
    "                          error_score='raise', return_train_score=True, n_jobs=1, pre_dispatch=1)\n",
    "gs.fit(X_train, y_train[:, 2])\n",
    "pickle.dump(gs, open(f'Models/Class_flat_RF.pkl', 'wb'))"
   ]
  },
  {
   "cell_type": "code",
   "execution_count": null,
   "id": "874919c5",
   "metadata": {},
   "outputs": [],
   "source": [
    "estimator = RandomForestClassifier(random_state=seed, n_jobs=1, n_estimators=100)\n",
    "gs = GridSearchCV(estimator, param_grid=grid, scoring=['f1_macro', 'f1_micro'], refit='f1_macro', cv=3, verbose=3, \n",
    "                          error_score='raise', return_train_score=True, n_jobs=1, pre_dispatch=1)\n",
    "gs.fit(X_train, y_train[:, 3])\n",
    "pickle.dump(gs, open(f'Models/Subclass_flat_RF.pkl', 'wb'))"
   ]
  },
  {
   "cell_type": "code",
   "execution_count": 9,
   "id": "0f11a2e5",
   "metadata": {},
   "outputs": [
    {
     "name": "stdout",
     "output_type": "stream",
     "text": [
      "Superclass\n",
      "f1_macro_test -> 0.547657786294206\n",
      "f1_macro_train -> 0.8279902886292936\n",
      "f1_micro_test -> 0.8617117635216166\n",
      "f1_micro_train -> 0.9368715464142096\n",
      "Class\n",
      "f1_macro_test -> 0.2923632043804724\n",
      "f1_macro_train -> 0.7103055741868691\n",
      "f1_micro_test -> 0.7624404492733886\n",
      "f1_micro_train -> 0.8771806128529366\n",
      "Subclass\n",
      "f1_macro_test -> 0.25438418300190174\n",
      "f1_macro_train -> 0.7098586155755684\n",
      "f1_micro_test -> 0.74408468210952\n",
      "f1_micro_train -> 0.8781995218881461\n"
     ]
    }
   ],
   "source": [
    "for level in ['Superclass', 'Class', 'Subclass']:\n",
    "    print(level)\n",
    "    gs = pickle.load(open(f'Models/{level}_flat_RF.pkl', 'rb'))\n",
    "    print('f1_macro_test ->', gs.cv_results_['mean_test_f1_macro'][gs.best_index_])\n",
    "    print('f1_macro_train ->', gs.cv_results_['mean_train_f1_macro'][gs.best_index_])\n",
    "    print('f1_micro_test ->', gs.cv_results_['mean_test_f1_micro'][gs.best_index_])\n",
    "    print('f1_micro_train ->', gs.cv_results_['mean_train_f1_micro'][gs.best_index_])"
   ]
  }
 ],
 "metadata": {
  "kernelspec": {
   "display_name": "Python 3 (ipykernel)",
   "language": "python",
   "name": "python3"
  },
  "language_info": {
   "codemirror_mode": {
    "name": "ipython",
    "version": 3
   },
   "file_extension": ".py",
   "mimetype": "text/x-python",
   "name": "python",
   "nbconvert_exporter": "python",
   "pygments_lexer": "ipython3",
   "version": "3.9.12"
  }
 },
 "nbformat": 4,
 "nbformat_minor": 5
}
