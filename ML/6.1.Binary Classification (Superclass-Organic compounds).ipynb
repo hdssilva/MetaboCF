{
 "cells": [
  {
   "cell_type": "code",
   "execution_count": 1,
   "id": "39e96254",
   "metadata": {},
   "outputs": [
    {
     "name": "stdout",
     "output_type": "stream",
     "text": [
      "scikit-learn version\n",
      " 1.0.2\n"
     ]
    },
    {
     "name": "stderr",
     "output_type": "stream",
     "text": [
      "Intel(R) Extension for Scikit-learn* enabled (https://github.com/intel/scikit-learn-intelex)\n"
     ]
    }
   ],
   "source": [
    "# Importing Libraries\n",
    "import numpy as np\n",
    "import pandas as pd\n",
    "from sklearnex import patch_sklearn #Improves sklearn alghoritms performance\n",
    "patch_sklearn()\n",
    "import sklearn\n",
    "print('scikit-learn version\\n', sklearn.__version__)\n",
    "from sklearn.ensemble import RandomForestClassifier\n",
    "from sklearn.metrics import accuracy_score, balanced_accuracy_score, f1_score, precision_score, recall_score, classification_report\n",
    "from sklearn.model_selection import GridSearchCV\n",
    "from aux_functions.binary_classifiers import binary_data_sampling\n",
    "import pickle\n",
    "from tqdm.notebook import tqdm\n",
    "import os"
   ]
  },
  {
   "cell_type": "code",
   "execution_count": 2,
   "id": "74af8cc7",
   "metadata": {},
   "outputs": [],
   "source": [
    "#Set seed\n",
    "seed=41"
   ]
  },
  {
   "cell_type": "code",
   "execution_count": 3,
   "id": "e8ca1eb9",
   "metadata": {},
   "outputs": [],
   "source": [
    "#Classification Level -> Superclass\n",
    "classif_level = 1"
   ]
  },
  {
   "cell_type": "markdown",
   "id": "5893d9f9",
   "metadata": {},
   "source": [
    "# Load Data"
   ]
  },
  {
   "cell_type": "code",
   "execution_count": 4,
   "id": "90a56b2b",
   "metadata": {},
   "outputs": [],
   "source": [
    "feature_names = pickle.load(open('Dataset/feature_names.pkl', 'rb'))\n",
    "X_train = pickle.load(open(f'Dataset/X_train.pkl', 'rb'))\n",
    "X_test = pickle.load(open(f'Dataset/X_test.pkl', 'rb'))\n",
    "y_train = pickle.load(open(f'Dataset/y_train.pkl', 'rb'))\n",
    "y_test = pickle.load(open(f'Dataset/y_test.pkl', 'rb'))"
   ]
  },
  {
   "cell_type": "code",
   "execution_count": 5,
   "id": "1c93bfb1",
   "metadata": {},
   "outputs": [
    {
     "data": {
      "text/plain": [
       "133"
      ]
     },
     "execution_count": 5,
     "metadata": {},
     "output_type": "execute_result"
    }
   ],
   "source": [
    "len(feature_names)"
   ]
  },
  {
   "cell_type": "code",
   "execution_count": 6,
   "id": "b4602860",
   "metadata": {},
   "outputs": [],
   "source": [
    "X_train_org = X_train[y_train[:,classif_level-1] == 'Organic compounds', :]\n",
    "X_test_org = X_test[y_test[:,classif_level-1] == 'Organic compounds', :]\n",
    "y_train_org = y_train[y_train[:,classif_level-1] == 'Organic compounds'][:, classif_level]\n",
    "y_test_org = y_test[y_test[:,classif_level-1] == 'Organic compounds'][:, classif_level]"
   ]
  },
  {
   "cell_type": "code",
   "execution_count": 7,
   "id": "1323443b",
   "metadata": {},
   "outputs": [],
   "source": [
    "#all classes\n",
    "org_sclasses = np.unique(y_train_org)"
   ]
  },
  {
   "cell_type": "code",
   "execution_count": 8,
   "id": "65d2f9f9",
   "metadata": {},
   "outputs": [
    {
     "name": "stdout",
     "output_type": "stream",
     "text": [
      "0 Acetylides\n",
      "1 Alkaloids and derivatives\n",
      "2 Allenes\n",
      "3 Benzenoids\n",
      "4 Hydrocarbon derivatives\n",
      "5 Hydrocarbons\n",
      "6 Lignans, neolignans and related compounds\n",
      "7 Lipids and lipid-like molecules\n",
      "8 Nucleosides, nucleotides, and analogues\n",
      "9 Organic 1,3-dipolar compounds\n",
      "10 Organic Polymers\n",
      "11 Organic acids and derivatives\n",
      "12 Organic compounds - Unspecified\n",
      "13 Organic nitrogen compounds\n",
      "14 Organic oxygen compounds\n",
      "15 Organic salts\n",
      "16 Organohalogen compounds\n",
      "17 Organoheterocyclic compounds\n",
      "18 Organometallic compounds\n",
      "19 Organophosphorus compounds\n",
      "20 Organosulfur compounds\n",
      "21 Phenylpropanoids and polyketides\n"
     ]
    }
   ],
   "source": [
    "for i, sclass_ in enumerate(org_sclasses):\n",
    "    print(i, sclass_)"
   ]
  },
  {
   "cell_type": "code",
   "execution_count": 24,
   "id": "79541362",
   "metadata": {},
   "outputs": [
    {
     "name": "stdout",
     "output_type": "stream",
     "text": [
      "False\n",
      "None\n",
      "None\n",
      "Acetylides\n",
      "0.8577563483030307\n",
      "Pos size= 14\n",
      "Neg size= 193246\n",
      "Balanced accuracy (cv-train) -> 0.9995083987185103\n",
      "Balanced accuracy (cv-val) -> 0.8577563483030307\n",
      "Balanced accuracy (test) -> 0.7136553297511482\n",
      "False\n",
      "None\n",
      "None\n",
      "Alkaloids and derivatives\n",
      "0.9175170558179175\n",
      "Pos size= 1092\n",
      "Neg size= 192168\n",
      "Balanced accuracy (cv-train) -> 0.9822030723117271\n",
      "Balanced accuracy (cv-val) -> 0.9175170558179175\n",
      "Balanced accuracy (test) -> 0.9302226668673472\n",
      "False\n",
      "None\n",
      "None\n",
      "Allenes\n",
      "0.9432465316666683\n",
      "Pos size= 7\n",
      "Neg size= 193253\n",
      "Balanced accuracy (cv-train) -> 0.9988266677095506\n",
      "Balanced accuracy (cv-val) -> 0.9432465316666683\n",
      "Balanced accuracy (test) -> 0.9979986132123047\n",
      "False\n",
      "None\n",
      "None\n",
      "Benzenoids\n",
      "0.9031070596816865\n",
      "Pos size= 10146\n",
      "Neg size= 183114\n",
      "Balanced accuracy (cv-train) -> 0.9437549590132627\n",
      "Balanced accuracy (cv-val) -> 0.9031070596816865\n",
      "Balanced accuracy (test) -> 0.9012798588902899\n",
      "False\n",
      "None\n",
      "None\n",
      "Hydrocarbon derivatives\n",
      "0.8824329872015291\n",
      "Pos size= 35\n",
      "Neg size= 193225\n",
      "Balanced accuracy (cv-train) -> 0.9963733969621632\n",
      "Balanced accuracy (cv-val) -> 0.8824329872015291\n",
      "Balanced accuracy (test) -> 0.7598269431564789\n",
      "False\n",
      "None\n",
      "None\n",
      "Hydrocarbons\n",
      "0.9969437299441184\n",
      "Pos size= 612\n",
      "Neg size= 192648\n",
      "Balanced accuracy (cv-train) -> 0.9985803122793904\n",
      "Balanced accuracy (cv-val) -> 0.9969437299441184\n",
      "Balanced accuracy (test) -> 0.9935582103170479\n",
      "False\n",
      "None\n",
      "None\n",
      "Lignans, neolignans and related compounds\n",
      "0.9376380072351941\n",
      "Pos size= 286\n",
      "Neg size= 192974\n",
      "Balanced accuracy (cv-train) -> 0.9855926244042834\n",
      "Balanced accuracy (cv-val) -> 0.9376380072351941\n",
      "Balanced accuracy (test) -> 0.9329888946540181\n",
      "False\n",
      "None\n",
      "None\n",
      "Lipids and lipid-like molecules\n",
      "0.9698765068723395\n",
      "Pos size= 133382\n",
      "Neg size= 59878\n",
      "Balanced accuracy (cv-train) -> 0.9814733301532205\n",
      "Balanced accuracy (cv-val) -> 0.9698765068723395\n",
      "Balanced accuracy (test) -> 0.9706897580521074\n",
      "False\n",
      "None\n",
      "None\n",
      "Nucleosides, nucleotides, and analogues\n",
      "0.9664077267393304\n",
      "Pos size= 935\n",
      "Neg size= 192325\n",
      "Balanced accuracy (cv-train) -> 0.979038084030616\n",
      "Balanced accuracy (cv-val) -> 0.9664077267393304\n",
      "Balanced accuracy (test) -> 0.9719323212099272\n",
      "False\n",
      "None\n",
      "None\n",
      "Organic 1,3-dipolar compounds\n",
      "0.8922813808446902\n",
      "Pos size= 66\n",
      "Neg size= 193194\n",
      "Balanced accuracy (cv-train) -> 0.9837262026771018\n",
      "Balanced accuracy (cv-val) -> 0.8922813808446902\n",
      "Balanced accuracy (test) -> 0.91138670900951\n",
      "False\n",
      "None\n",
      "None\n",
      "Organic Polymers\n",
      "0.9960745914049923\n",
      "Pos size= 1635\n",
      "Neg size= 191625\n",
      "Balanced accuracy (cv-train) -> 0.9983861709067189\n",
      "Balanced accuracy (cv-val) -> 0.9960745914049923\n",
      "Balanced accuracy (test) -> 0.983921032756125\n",
      "False\n",
      "None\n",
      "None\n",
      "Organic acids and derivatives\n",
      "0.9245677002003673\n",
      "Pos size= 12177\n",
      "Neg size= 181083\n",
      "Balanced accuracy (cv-train) -> 0.9668901205411616\n",
      "Balanced accuracy (cv-val) -> 0.9245677002003673\n",
      "Balanced accuracy (test) -> 0.9206112817124839\n",
      "False\n",
      "None\n",
      "None\n",
      "Organic compounds - Unspecified\n",
      "0.8602046087958733\n",
      "Pos size= 19\n",
      "Neg size= 193241\n",
      "Balanced accuracy (cv-train) -> 0.9953878905699423\n",
      "Balanced accuracy (cv-val) -> 0.8602046087958733\n",
      "Balanced accuracy (test) -> 0.6975887031530728\n",
      "False\n",
      "None\n",
      "None\n",
      "Organic nitrogen compounds\n",
      "0.9215742476309486\n",
      "Pos size= 1200\n",
      "Neg size= 192060\n",
      "Balanced accuracy (cv-train) -> 0.9757692908466105\n",
      "Balanced accuracy (cv-val) -> 0.9215742476309486\n",
      "Balanced accuracy (test) -> 0.918342706190771\n",
      "False\n",
      "None\n",
      "None\n",
      "Organic oxygen compounds\n",
      "0.8847479288253819\n",
      "Pos size= 8094\n",
      "Neg size= 185166\n",
      "Balanced accuracy (cv-train) -> 0.9562505028745588\n",
      "Balanced accuracy (cv-val) -> 0.8847479288253819\n",
      "Balanced accuracy (test) -> 0.8907888666131286\n",
      "False\n",
      "None\n",
      "None\n",
      "Organic salts\n",
      "0.9872619782157718\n",
      "Pos size= 43\n",
      "Neg size= 193217\n",
      "Balanced accuracy (cv-train) -> 0.9993051856427805\n",
      "Balanced accuracy (cv-val) -> 0.9872619782157718\n",
      "Balanced accuracy (test) -> 0.9983344892083308\n",
      "False\n",
      "None\n",
      "None\n",
      "Organohalogen compounds\n",
      "0.9858765515260745\n",
      "Pos size= 218\n",
      "Neg size= 193042\n",
      "Balanced accuracy (cv-train) -> 0.9977712112923323\n",
      "Balanced accuracy (cv-val) -> 0.9858765515260745\n",
      "Balanced accuracy (test) -> 0.9838498843521088\n",
      "False\n",
      "None\n",
      "None\n",
      "Organoheterocyclic compounds\n",
      "0.9035259123823352\n",
      "Pos size= 14296\n",
      "Neg size= 178964\n",
      "Balanced accuracy (cv-train) -> 0.9352975731474399\n",
      "Balanced accuracy (cv-val) -> 0.9035259123823352\n",
      "Balanced accuracy (test) -> 0.9061792241817612\n",
      "False\n",
      "None\n",
      "None\n",
      "Organometallic compounds\n",
      "0.9979967182581962\n",
      "Pos size= 77\n",
      "Neg size= 193183\n",
      "Balanced accuracy (cv-train) -> 0.99843671493014\n",
      "Balanced accuracy (cv-val) -> 0.9979967182581962\n",
      "Balanced accuracy (test) -> 0.9981607987388335\n",
      "False\n",
      "None\n",
      "None\n",
      "Organophosphorus compounds\n",
      "0.9809225707364223\n",
      "Pos size= 27\n",
      "Neg size= 193233\n",
      "Balanced accuracy (cv-train) -> 0.9995213032970559\n",
      "Balanced accuracy (cv-val) -> 0.9809225707364223\n",
      "Balanced accuracy (test) -> 0.9995797171496417\n",
      "False\n",
      "None\n",
      "None\n",
      "Organosulfur compounds\n",
      "0.9465784894995689\n",
      "Pos size= 481\n",
      "Neg size= 192779\n",
      "Balanced accuracy (cv-train) -> 0.970305376991052\n",
      "Balanced accuracy (cv-val) -> 0.9465784894995689\n",
      "Balanced accuracy (test) -> 0.9489473516742166\n",
      "False\n",
      "None\n",
      "None\n",
      "Phenylpropanoids and polyketides\n",
      "0.9374537250950925\n",
      "Pos size= 8418\n",
      "Neg size= 184842\n",
      "Balanced accuracy (cv-train) -> 0.9780149630672611\n",
      "Balanced accuracy (cv-val) -> 0.9374537250950925\n",
      "Balanced accuracy (test) -> 0.9389645790383623\n",
      "False\n",
      "stratf\n",
      "1.3\n",
      "Acetylides\n",
      "0.9617604617604618\n",
      "Pos size= 14\n",
      "Neg size= 65\n",
      "Balanced accuracy (cv-train) -> 0.9807963354474983\n",
      "Balanced accuracy (cv-val) -> 0.9617604617604618\n",
      "Balanced accuracy (test) -> 0.984375\n",
      "False\n",
      "stratf\n",
      "1.3\n",
      "Alkaloids and derivatives\n",
      "0.9372497657381379\n",
      "Pos size= 1092\n",
      "Neg size= 1419\n",
      "Balanced accuracy (cv-train) -> 0.9952431289640592\n",
      "Balanced accuracy (cv-val) -> 0.9372497657381379\n",
      "Balanced accuracy (test) -> 0.9397149708588434\n",
      "False\n",
      "stratf\n",
      "1.3\n",
      "Allenes\n",
      "0.9924242424242425\n",
      "Pos size= 7\n",
      "Neg size= 65\n",
      "Balanced accuracy (cv-train) -> 1.0\n",
      "Balanced accuracy (cv-val) -> 0.9924242424242425\n",
      "Balanced accuracy (test) -> 1.0\n",
      "False\n",
      "stratf\n",
      "1.3\n",
      "Benzenoids\n",
      "0.9053170368806072\n",
      "Pos size= 10146\n",
      "Neg size= 13189\n",
      "Balanced accuracy (cv-train) -> 0.9763421499397239\n",
      "Balanced accuracy (cv-val) -> 0.9053170368806072\n",
      "Balanced accuracy (test) -> 0.90218107097088\n",
      "False\n",
      "stratf\n",
      "1.3\n",
      "Hydrocarbon derivatives\n",
      "0.9312770562770561\n",
      "Pos size= 35\n",
      "Neg size= 65\n",
      "Balanced accuracy (cv-train) -> 1.0\n",
      "Balanced accuracy (cv-val) -> 0.9312770562770561\n",
      "Balanced accuracy (test) -> 0.8741776315789473\n",
      "False\n",
      "stratf\n",
      "1.3\n",
      "Hydrocarbons\n",
      "0.9993710691823899\n",
      "Pos size= 612\n",
      "Neg size= 795\n",
      "Balanced accuracy (cv-train) -> 0.9996855345911949\n",
      "Balanced accuracy (cv-val) -> 0.9993710691823899\n",
      "Balanced accuracy (test) -> 0.9937900591066664\n",
      "False\n",
      "stratf\n",
      "1.3\n",
      "Lignans, neolignans and related compounds\n",
      "0.950531883077744\n",
      "Pos size= 286\n",
      "Neg size= 371\n",
      "Balanced accuracy (cv-train) -> 0.9959595794697661\n",
      "Balanced accuracy (cv-val) -> 0.950531883077744\n",
      "Balanced accuracy (test) -> 0.9395955395955395\n",
      "False\n",
      "stratf\n",
      "1.3\n",
      "Lipids and lipid-like molecules\n",
      "0.9698765068723395\n",
      "Pos size= 133382\n",
      "Neg size= 59878\n",
      "Balanced accuracy (cv-train) -> 0.9814733301532205\n",
      "Balanced accuracy (cv-val) -> 0.9698765068723395\n",
      "Balanced accuracy (test) -> 0.9706897580521074\n",
      "False\n",
      "stratf\n",
      "1.3\n",
      "Nucleosides, nucleotides, and analogues\n",
      "0.975021197029057\n",
      "Pos size= 935\n",
      "Neg size= 1215\n",
      "Balanced accuracy (cv-train) -> 0.9997942386831276\n",
      "Balanced accuracy (cv-val) -> 0.975021197029057\n",
      "Balanced accuracy (test) -> 0.9783745674553787\n",
      "False\n",
      "stratf\n",
      "1.3\n",
      "Organic 1,3-dipolar compounds\n",
      "0.9495447081653978\n",
      "Pos size= 66\n",
      "Neg size= 85\n",
      "Balanced accuracy (cv-train) -> 1.0\n",
      "Balanced accuracy (cv-val) -> 0.9495447081653978\n",
      "Balanced accuracy (test) -> 0.9372294372294372\n",
      "False\n",
      "stratf\n",
      "1.3\n",
      "Organic Polymers\n",
      "0.9971060638371316\n",
      "Pos size= 1635\n",
      "Neg size= 2125\n",
      "Balanced accuracy (cv-train) -> 0.9996471418489769\n",
      "Balanced accuracy (cv-val) -> 0.9971060638371316\n",
      "Balanced accuracy (test) -> 0.9962335216572504\n",
      "False\n",
      "stratf\n",
      "1.3\n",
      "Organic acids and derivatives\n",
      "0.9246841956531425\n",
      "Pos size= 12177\n",
      "Neg size= 15830\n",
      "Balanced accuracy (cv-train) -> 0.9878410979815694\n",
      "Balanced accuracy (cv-val) -> 0.9246841956531425\n",
      "Balanced accuracy (test) -> 0.9264499242914943\n",
      "False\n",
      "stratf\n",
      "1.3\n",
      "Organic compounds - Unspecified\n",
      "0.9538239538239539\n",
      "Pos size= 19\n",
      "Neg size= 65\n",
      "Balanced accuracy (cv-train) -> 0.9885482734319945\n",
      "Balanced accuracy (cv-val) -> 0.9538239538239539\n",
      "Balanced accuracy (test) -> 0.90625\n",
      "False\n",
      "stratf\n",
      "1.3\n",
      "Organic nitrogen compounds\n"
     ]
    },
    {
     "name": "stdout",
     "output_type": "stream",
     "text": [
      "0.9338461538461539\n",
      "Pos size= 1200\n",
      "Neg size= 1560\n",
      "Balanced accuracy (cv-train) -> 0.9974999999999999\n",
      "Balanced accuracy (cv-val) -> 0.9338461538461539\n",
      "Balanced accuracy (test) -> 0.9373578501318804\n",
      "False\n",
      "stratf\n",
      "1.3\n",
      "Organic oxygen compounds\n",
      "0.8891617356354952\n",
      "Pos size= 8094\n",
      "Neg size= 10522\n",
      "Balanced accuracy (cv-train) -> 0.9834609272561323\n",
      "Balanced accuracy (cv-val) -> 0.8891617356354952\n",
      "Balanced accuracy (test) -> 0.8966937646140889\n",
      "False\n",
      "stratf\n",
      "1.3\n",
      "Organic salts\n",
      "1.0\n",
      "Pos size= 43\n",
      "Neg size= 65\n",
      "Balanced accuracy (cv-train) -> 1.0\n",
      "Balanced accuracy (cv-val) -> 1.0\n",
      "Balanced accuracy (test) -> 1.0\n",
      "False\n",
      "stratf\n",
      "1.3\n",
      "Organohalogen compounds\n",
      "0.9923977460409987\n",
      "Pos size= 218\n",
      "Neg size= 283\n",
      "Balanced accuracy (cv-train) -> 1.0\n",
      "Balanced accuracy (cv-val) -> 0.9923977460409987\n",
      "Balanced accuracy (test) -> 0.9883623468729852\n",
      "False\n",
      "stratf\n",
      "1.3\n",
      "Organoheterocyclic compounds\n",
      "0.8979891786234125\n",
      "Pos size= 14296\n",
      "Neg size= 18584\n",
      "Balanced accuracy (cv-train) -> 0.9687690201074594\n",
      "Balanced accuracy (cv-val) -> 0.8979891786234125\n",
      "Balanced accuracy (test) -> 0.9053094242006042\n",
      "False\n",
      "stratf\n",
      "1.3\n",
      "Organometallic compounds\n",
      "0.98989898989899\n",
      "Pos size= 77\n",
      "Neg size= 100\n",
      "Balanced accuracy (cv-train) -> 1.0\n",
      "Balanced accuracy (cv-val) -> 0.98989898989899\n",
      "Balanced accuracy (test) -> 1.0\n",
      "False\n",
      "stratf\n",
      "1.3\n",
      "Organophosphorus compounds\n",
      "1.0\n",
      "Pos size= 27\n",
      "Neg size= 65\n",
      "Balanced accuracy (cv-train) -> 1.0\n",
      "Balanced accuracy (cv-val) -> 1.0\n",
      "Balanced accuracy (test) -> 0.984375\n",
      "False\n",
      "stratf\n",
      "1.3\n",
      "Organosulfur compounds\n",
      "0.9755903707276704\n",
      "Pos size= 481\n",
      "Neg size= 625\n",
      "Balanced accuracy (cv-train) -> 0.9972022382094324\n",
      "Balanced accuracy (cv-val) -> 0.9755903707276704\n",
      "Balanced accuracy (test) -> 0.9802441352973268\n",
      "False\n",
      "stratf\n",
      "1.3\n",
      "Phenylpropanoids and polyketides\n",
      "0.9353753133382817\n",
      "Pos size= 8418\n",
      "Neg size= 10943\n",
      "Balanced accuracy (cv-train) -> 0.9885657862896994\n",
      "Balanced accuracy (cv-val) -> 0.9353753133382817\n",
      "Balanced accuracy (test) -> 0.9388321732896243\n",
      "False\n",
      "stratf\n",
      "1.5\n",
      "Acetylides\n",
      "0.98\n",
      "Pos size= 14\n",
      "Neg size= 75\n",
      "Balanced accuracy (cv-train) -> 0.9866666666666667\n",
      "Balanced accuracy (cv-val) -> 0.98\n",
      "Balanced accuracy (test) -> 0.9864864864864865\n",
      "False\n",
      "stratf\n",
      "1.5\n",
      "Alkaloids and derivatives\n",
      "0.9387973137973139\n",
      "Pos size= 1092\n",
      "Neg size= 1638\n",
      "Balanced accuracy (cv-train) -> 0.9931318681318682\n",
      "Balanced accuracy (cv-val) -> 0.9387973137973139\n",
      "Balanced accuracy (test) -> 0.9405665718514881\n",
      "False\n",
      "stratf\n",
      "1.5\n",
      "Allenes\n",
      "1.0\n",
      "Pos size= 7\n",
      "Neg size= 75\n",
      "Balanced accuracy (cv-train) -> 1.0\n",
      "Balanced accuracy (cv-val) -> 1.0\n",
      "Balanced accuracy (test) -> 1.0\n",
      "False\n",
      "stratf\n",
      "1.5\n",
      "Benzenoids\n",
      "0.9041494184900453\n",
      "Pos size= 10146\n",
      "Neg size= 15219\n",
      "Balanced accuracy (cv-train) -> 0.9754336684407648\n",
      "Balanced accuracy (cv-val) -> 0.9041494184900453\n",
      "Balanced accuracy (test) -> 0.9009230152744412\n",
      "False\n",
      "stratf\n",
      "1.5\n",
      "Hydrocarbon derivatives\n",
      "0.9376262626262625\n",
      "Pos size= 35\n",
      "Neg size= 75\n",
      "Balanced accuracy (cv-train) -> 1.0\n",
      "Balanced accuracy (cv-val) -> 0.9376262626262625\n",
      "Balanced accuracy (test) -> 0.8940256045519204\n",
      "False\n",
      "stratf\n",
      "1.5\n",
      "Hydrocarbons\n",
      "0.9978213507625272\n",
      "Pos size= 612\n",
      "Neg size= 918\n",
      "Balanced accuracy (cv-train) -> 0.9989106753812637\n",
      "Balanced accuracy (cv-val) -> 0.9978213507625272\n",
      "Balanced accuracy (test) -> 0.9939601803317586\n",
      "False\n",
      "stratf\n",
      "1.5\n",
      "Lignans, neolignans and related compounds\n",
      "0.9533246176338283\n",
      "Pos size= 286\n",
      "Neg size= 429\n",
      "Balanced accuracy (cv-train) -> 0.9982517482517483\n",
      "Balanced accuracy (cv-val) -> 0.9533246176338283\n",
      "Balanced accuracy (test) -> 0.9439905888504019\n",
      "False\n",
      "stratf\n",
      "1.5\n",
      "Lipids and lipid-like molecules\n",
      "0.9698765068723395\n",
      "Pos size= 133382\n",
      "Neg size= 59878\n",
      "Balanced accuracy (cv-train) -> 0.9814733301532205\n",
      "Balanced accuracy (cv-val) -> 0.9698765068723395\n",
      "Balanced accuracy (test) -> 0.9706897580521074\n",
      "False\n",
      "stratf\n",
      "1.5\n",
      "Nucleosides, nucleotides, and analogues\n",
      "0.9768112205029967\n",
      "Pos size= 935\n",
      "Neg size= 1402\n",
      "Balanced accuracy (cv-train) -> 0.9996433029119766\n",
      "Balanced accuracy (cv-val) -> 0.9768112205029967\n",
      "Balanced accuracy (test) -> 0.9754436893022445\n",
      "False\n",
      "stratf\n",
      "1.5\n",
      "Organic 1,3-dipolar compounds\n",
      "0.9419191919191919\n",
      "Pos size= 66\n",
      "Neg size= 99\n",
      "Balanced accuracy (cv-train) -> 1.0\n",
      "Balanced accuracy (cv-val) -> 0.9419191919191919\n",
      "Balanced accuracy (test) -> 0.9338280766852196\n",
      "False\n",
      "stratf\n",
      "1.5\n",
      "Organic Polymers\n",
      "0.9970429589785507\n",
      "Pos size= 1635\n",
      "Neg size= 2452\n",
      "Balanced accuracy (cv-train) -> 0.9998980632008155\n",
      "Balanced accuracy (cv-val) -> 0.9970429589785507\n",
      "Balanced accuracy (test) -> 0.9967373572593801\n",
      "False\n",
      "stratf\n",
      "1.5\n",
      "Organic acids and derivatives\n",
      "0.9261711137787804\n",
      "Pos size= 12177\n",
      "Neg size= 18265\n",
      "Balanced accuracy (cv-train) -> 0.986559012073018\n",
      "Balanced accuracy (cv-val) -> 0.9261711137787804\n",
      "Balanced accuracy (test) -> 0.9288894815845985\n",
      "False\n",
      "stratf\n",
      "1.5\n",
      "Organic compounds - Unspecified\n",
      "0.9333333333333332\n",
      "Pos size= 19\n",
      "Neg size= 75\n",
      "Balanced accuracy (cv-train) -> 0.9733333333333333\n",
      "Balanced accuracy (cv-val) -> 0.9333333333333332\n",
      "Balanced accuracy (test) -> 0.9324324324324325\n",
      "False\n",
      "stratf\n",
      "1.5\n",
      "Organic nitrogen compounds\n",
      "0.9318055555555556\n",
      "Pos size= 1200\n",
      "Neg size= 1800\n",
      "Balanced accuracy (cv-train) -> 0.9977083333333333\n",
      "Balanced accuracy (cv-val) -> 0.9318055555555556\n",
      "Balanced accuracy (test) -> 0.933743676222597\n",
      "False\n",
      "stratf\n",
      "1.5\n",
      "Organic oxygen compounds\n",
      "0.8944691541059221\n",
      "Pos size= 8094\n",
      "Neg size= 12141\n",
      "Balanced accuracy (cv-train) -> 0.9827650111193477\n",
      "Balanced accuracy (cv-val) -> 0.8944691541059221\n",
      "Balanced accuracy (test) -> 0.8964358367961671\n",
      "False\n",
      "stratf\n",
      "1.5\n",
      "Organic salts\n",
      "1.0\n",
      "Pos size= 43\n",
      "Neg size= 75\n",
      "Balanced accuracy (cv-train) -> 1.0\n",
      "Balanced accuracy (cv-val) -> 1.0\n",
      "Balanced accuracy (test) -> 1.0\n",
      "False\n",
      "stratf\n",
      "1.5\n",
      "Organohalogen compounds\n",
      "0.9961878429894013\n",
      "Pos size= 218\n",
      "Neg size= 327\n",
      "Balanced accuracy (cv-train) -> 1.0\n",
      "Balanced accuracy (cv-val) -> 0.9961878429894013\n",
      "Balanced accuracy (test) -> 0.9923870607919688\n",
      "False\n",
      "stratf\n",
      "1.5\n",
      "Organoheterocyclic compounds\n",
      "0.8981301472809536\n",
      "Pos size= 14296\n",
      "Neg size= 21444\n",
      "Balanced accuracy (cv-train) -> 0.9633872006567804\n",
      "Balanced accuracy (cv-val) -> 0.8981301472809536\n",
      "Balanced accuracy (test) -> 0.9059804916228218\n",
      "False\n",
      "stratf\n",
      "1.5\n",
      "Organometallic compounds\n",
      "0.9957264957264957\n",
      "Pos size= 77\n",
      "Neg size= 115\n",
      "Balanced accuracy (cv-train) -> 1.0\n",
      "Balanced accuracy (cv-val) -> 0.9957264957264957\n",
      "Balanced accuracy (test) -> 0.9689426268373638\n",
      "False\n",
      "stratf\n",
      "1.5\n",
      "Organophosphorus compounds\n",
      "1.0\n",
      "Pos size= 27\n",
      "Neg size= 75\n",
      "Balanced accuracy (cv-train) -> 1.0\n",
      "Balanced accuracy (cv-val) -> 1.0\n",
      "Balanced accuracy (test) -> 0.9864864864864865\n",
      "False\n",
      "stratf\n",
      "1.5\n",
      "Organosulfur compounds\n",
      "0.9753688067174672\n",
      "Pos size= 481\n",
      "Neg size= 721\n",
      "Balanced accuracy (cv-train) -> 0.9989597770847771\n",
      "Balanced accuracy (cv-val) -> 0.9753688067174672\n",
      "Balanced accuracy (test) -> 0.978339243498818\n",
      "False\n",
      "stratf\n",
      "1.5\n",
      "Phenylpropanoids and polyketides\n",
      "0.9367624930704047\n",
      "Pos size= 8418\n",
      "Neg size= 12627\n",
      "Balanced accuracy (cv-train) -> 0.9880118001108734\n",
      "Balanced accuracy (cv-val) -> 0.9367624930704047\n",
      "Balanced accuracy (test) -> 0.941456572166455\n",
      "False\n",
      "stratf\n",
      "2\n",
      "Acetylides\n",
      "0.9747474747474748\n",
      "Pos size= 14\n",
      "Neg size= 100\n",
      "Balanced accuracy (cv-train) -> 0.987449118046133\n",
      "Balanced accuracy (cv-val) -> 0.9747474747474748\n",
      "Balanced accuracy (test) -> 0.98\n",
      "False\n",
      "stratf\n",
      "2\n",
      "Alkaloids and derivatives\n",
      "0.9413919413919413\n",
      "Pos size= 1092\n",
      "Neg size= 2184\n",
      "Balanced accuracy (cv-train) -> 0.9872939560439561\n",
      "Balanced accuracy (cv-val) -> 0.9413919413919413\n",
      "Balanced accuracy (test) -> 0.9356518714060613\n",
      "False\n",
      "stratf\n",
      "2\n",
      "Allenes\n",
      "1.0\n",
      "Pos size= 7\n",
      "Neg size= 100\n",
      "Balanced accuracy (cv-train) -> 1.0\n",
      "Balanced accuracy (cv-val) -> 1.0\n",
      "Balanced accuracy (test) -> 1.0\n",
      "False\n",
      "stratf\n",
      "2\n",
      "Benzenoids\n",
      "0.9046668637886851\n",
      "Pos size= 10146\n",
      "Neg size= 20292\n",
      "Balanced accuracy (cv-train) -> 0.967943031736645\n",
      "Balanced accuracy (cv-val) -> 0.9046668637886851\n",
      "Balanced accuracy (test) -> 0.903727737199056\n",
      "False\n",
      "stratf\n",
      "2\n",
      "Hydrocarbon derivatives\n",
      "0.9321152703505643\n",
      "Pos size= 35\n",
      "Neg size= 100\n",
      "Balanced accuracy (cv-train) -> 1.0\n",
      "Balanced accuracy (cv-val) -> 0.9321152703505643\n",
      "Balanced accuracy (test) -> 0.9110526315789473\n",
      "False\n",
      "stratf\n",
      "2\n",
      "Hydrocarbons\n",
      "0.9987745098039215\n",
      "Pos size= 612\n",
      "Neg size= 1224\n",
      "Balanced accuracy (cv-train) -> 0.9991830065359477\n",
      "Balanced accuracy (cv-val) -> 0.9987745098039215\n",
      "Balanced accuracy (test) -> 0.9917653530058888\n",
      "False\n",
      "stratf\n",
      "2\n",
      "Lignans, neolignans and related compounds\n",
      "0.9518691061204495\n",
      "Pos size= 286\n",
      "Neg size= 572\n",
      "Balanced accuracy (cv-train) -> 0.9899456285241831\n",
      "Balanced accuracy (cv-val) -> 0.9518691061204495\n",
      "Balanced accuracy (test) -> 0.9493006993006994\n",
      "False\n",
      "stratf\n",
      "2\n",
      "Lipids and lipid-like molecules\n"
     ]
    },
    {
     "name": "stdout",
     "output_type": "stream",
     "text": [
      "0.9698765068723395\n",
      "Pos size= 133382\n",
      "Neg size= 59878\n",
      "Balanced accuracy (cv-train) -> 0.9814733301532205\n",
      "Balanced accuracy (cv-val) -> 0.9698765068723395\n",
      "Balanced accuracy (test) -> 0.9706897580521074\n",
      "False\n",
      "stratf\n",
      "2\n",
      "Nucleosides, nucleotides, and analogues\n",
      "0.9740549633507743\n",
      "Pos size= 935\n",
      "Neg size= 1870\n",
      "Balanced accuracy (cv-train) -> 0.9990643140111978\n",
      "Balanced accuracy (cv-val) -> 0.9740549633507743\n",
      "Balanced accuracy (test) -> 0.9760934544520468\n",
      "False\n",
      "stratf\n",
      "2\n",
      "Organic 1,3-dipolar compounds\n",
      "0.9469696969696969\n",
      "Pos size= 66\n",
      "Neg size= 132\n",
      "Balanced accuracy (cv-train) -> 1.0\n",
      "Balanced accuracy (cv-val) -> 0.9469696969696969\n",
      "Balanced accuracy (test) -> 0.9318181818181819\n",
      "False\n",
      "stratf\n",
      "2\n",
      "Organic Polymers\n",
      "0.9974006116207952\n",
      "Pos size= 1635\n",
      "Neg size= 3270\n",
      "Balanced accuracy (cv-train) -> 1.0\n",
      "Balanced accuracy (cv-val) -> 0.9974006116207952\n",
      "Balanced accuracy (test) -> 0.995080853840842\n",
      "False\n",
      "stratf\n",
      "2\n",
      "Organic acids and derivatives\n",
      "0.926993512359366\n",
      "Pos size= 12177\n",
      "Neg size= 24354\n",
      "Balanced accuracy (cv-train) -> 0.9842531001067586\n",
      "Balanced accuracy (cv-val) -> 0.926993512359366\n",
      "Balanced accuracy (test) -> 0.9278924445702298\n",
      "False\n",
      "stratf\n",
      "2\n",
      "Organic compounds - Unspecified\n",
      "0.9227569815805111\n",
      "Pos size= 19\n",
      "Neg size= 100\n",
      "Balanced accuracy (cv-train) -> 0.9724860545756068\n",
      "Balanced accuracy (cv-val) -> 0.9227569815805111\n",
      "Balanced accuracy (test) -> 0.95\n",
      "False\n",
      "stratf\n",
      "2\n",
      "Organic nitrogen compounds\n",
      "0.9264583333333333\n",
      "Pos size= 1200\n",
      "Neg size= 2400\n",
      "Balanced accuracy (cv-train) -> 0.9895833333333334\n",
      "Balanced accuracy (cv-val) -> 0.9264583333333333\n",
      "Balanced accuracy (test) -> 0.9376904159640247\n",
      "False\n",
      "stratf\n",
      "2\n",
      "Organic oxygen compounds\n",
      "0.8912466024215467\n",
      "Pos size= 8094\n",
      "Neg size= 16188\n",
      "Balanced accuracy (cv-train) -> 0.9809272300469484\n",
      "Balanced accuracy (cv-val) -> 0.8912466024215467\n",
      "Balanced accuracy (test) -> 0.8976813274431849\n",
      "False\n",
      "stratf\n",
      "2\n",
      "Organic salts\n",
      "1.0\n",
      "Pos size= 43\n",
      "Neg size= 100\n",
      "Balanced accuracy (cv-train) -> 1.0\n",
      "Balanced accuracy (cv-val) -> 1.0\n",
      "Balanced accuracy (test) -> 1.0\n",
      "False\n",
      "stratf\n",
      "2\n",
      "Organohalogen compounds\n",
      "0.991961677076226\n",
      "Pos size= 218\n",
      "Neg size= 436\n",
      "Balanced accuracy (cv-train) -> 1.0\n",
      "Balanced accuracy (cv-val) -> 0.991961677076226\n",
      "Balanced accuracy (test) -> 0.9726438698915763\n",
      "False\n",
      "stratf\n",
      "2\n",
      "Organoheterocyclic compounds\n",
      "0.9006367485319299\n",
      "Pos size= 14296\n",
      "Neg size= 28592\n",
      "Balanced accuracy (cv-train) -> 0.9600937300338571\n",
      "Balanced accuracy (cv-val) -> 0.9006367485319299\n",
      "Balanced accuracy (test) -> 0.9058696842348477\n",
      "False\n",
      "stratf\n",
      "2\n",
      "Organometallic compounds\n",
      "1.0\n",
      "Pos size= 77\n",
      "Neg size= 154\n",
      "Balanced accuracy (cv-train) -> 1.0\n",
      "Balanced accuracy (cv-val) -> 1.0\n",
      "Balanced accuracy (test) -> 0.9734994734994735\n",
      "False\n",
      "stratf\n",
      "2\n",
      "Organophosphorus compounds\n",
      "0.9949494949494949\n",
      "Pos size= 27\n",
      "Neg size= 100\n",
      "Balanced accuracy (cv-train) -> 1.0\n",
      "Balanced accuracy (cv-val) -> 0.9949494949494949\n",
      "Balanced accuracy (test) -> 0.99\n",
      "False\n",
      "stratf\n",
      "2\n",
      "Organosulfur compounds\n",
      "0.9739956516095535\n",
      "Pos size= 481\n",
      "Neg size= 962\n",
      "Balanced accuracy (cv-train) -> 0.9890848281906356\n",
      "Balanced accuracy (cv-val) -> 0.9739956516095535\n",
      "Balanced accuracy (test) -> 0.9780731631795462\n",
      "False\n",
      "stratf\n",
      "2\n",
      "Phenylpropanoids and polyketides\n",
      "0.9379009265858874\n",
      "Pos size= 8418\n",
      "Neg size= 16836\n",
      "Balanced accuracy (cv-train) -> 0.9854478498455691\n",
      "Balanced accuracy (cv-val) -> 0.9379009265858874\n",
      "Balanced accuracy (test) -> 0.9401144573735765\n",
      "False\n",
      "stratf\n",
      "3\n",
      "Acetylides\n",
      "0.9766666666666666\n",
      "Pos size= 14\n",
      "Neg size= 150\n",
      "Balanced accuracy (cv-train) -> 0.9866666666666667\n",
      "Balanced accuracy (cv-val) -> 0.9766666666666666\n",
      "Balanced accuracy (test) -> 0.98\n",
      "False\n",
      "stratf\n",
      "3\n",
      "Alkaloids and derivatives\n",
      "0.9432234432234431\n",
      "Pos size= 1092\n",
      "Neg size= 3276\n",
      "Balanced accuracy (cv-train) -> 0.9815323565323566\n",
      "Balanced accuracy (cv-val) -> 0.9432234432234431\n",
      "Balanced accuracy (test) -> 0.9405205285093553\n",
      "False\n",
      "stratf\n",
      "3\n",
      "Allenes\n",
      "1.0\n",
      "Pos size= 7\n",
      "Neg size= 150\n",
      "Balanced accuracy (cv-train) -> 1.0\n",
      "Balanced accuracy (cv-val) -> 1.0\n",
      "Balanced accuracy (test) -> 1.0\n",
      "False\n",
      "stratf\n",
      "3\n",
      "Benzenoids\n",
      "0.9063834680333794\n",
      "Pos size= 10146\n",
      "Neg size= 30438\n",
      "Balanced accuracy (cv-train) -> 0.960091004665221\n",
      "Balanced accuracy (cv-val) -> 0.9063834680333794\n",
      "Balanced accuracy (test) -> 0.9054951462402674\n",
      "False\n",
      "stratf\n",
      "3\n",
      "Hydrocarbon derivatives\n",
      "0.9427777777777777\n",
      "Pos size= 35\n",
      "Neg size= 150\n",
      "Balanced accuracy (cv-train) -> 0.98\n",
      "Balanced accuracy (cv-val) -> 0.9427777777777777\n",
      "Balanced accuracy (test) -> 0.880701754385965\n",
      "False\n",
      "stratf\n",
      "3\n",
      "Hydrocarbons\n",
      "0.9972766884531591\n",
      "Pos size= 612\n",
      "Neg size= 1836\n",
      "Balanced accuracy (cv-train) -> 0.9991830065359477\n",
      "Balanced accuracy (cv-val) -> 0.9972766884531591\n",
      "Balanced accuracy (test) -> 0.9928546776246252\n",
      "False\n",
      "stratf\n",
      "3\n",
      "Lignans, neolignans and related compounds\n",
      "0.9568151147098516\n",
      "Pos size= 286\n",
      "Neg size= 858\n",
      "Balanced accuracy (cv-train) -> 0.9877622377622378\n",
      "Balanced accuracy (cv-val) -> 0.9568151147098516\n",
      "Balanced accuracy (test) -> 0.9463869463869463\n",
      "False\n",
      "stratf\n",
      "3\n",
      "Lipids and lipid-like molecules\n",
      "0.9698765068723395\n",
      "Pos size= 133382\n",
      "Neg size= 59878\n",
      "Balanced accuracy (cv-train) -> 0.9814733301532205\n",
      "Balanced accuracy (cv-val) -> 0.9698765068723395\n",
      "Balanced accuracy (test) -> 0.9706897580521074\n",
      "False\n",
      "stratf\n",
      "3\n",
      "Nucleosides, nucleotides, and analogues\n",
      "0.977356111198555\n",
      "Pos size= 935\n",
      "Neg size= 2805\n",
      "Balanced accuracy (cv-train) -> 0.9953654188948308\n",
      "Balanced accuracy (cv-val) -> 0.977356111198555\n",
      "Balanced accuracy (test) -> 0.9780273346248964\n",
      "False\n",
      "stratf\n",
      "3\n",
      "Organic 1,3-dipolar compounds\n",
      "0.9444444444444445\n",
      "Pos size= 66\n",
      "Neg size= 198\n",
      "Balanced accuracy (cv-train) -> 1.0\n",
      "Balanced accuracy (cv-val) -> 0.9444444444444445\n",
      "Balanced accuracy (test) -> 0.9393939393939394\n",
      "False\n",
      "stratf\n",
      "3\n",
      "Organic Polymers\n",
      "0.9976554536187564\n",
      "Pos size= 1635\n",
      "Neg size= 4905\n",
      "Balanced accuracy (cv-train) -> 0.9987257900101937\n",
      "Balanced accuracy (cv-val) -> 0.9976554536187564\n",
      "Balanced accuracy (test) -> 0.9957177814029363\n",
      "False\n",
      "stratf\n",
      "3\n",
      "Organic acids and derivatives\n",
      "0.9259943609537106\n",
      "Pos size= 12177\n",
      "Neg size= 36531\n",
      "Balanced accuracy (cv-train) -> 0.9801333114341245\n",
      "Balanced accuracy (cv-val) -> 0.9259943609537106\n",
      "Balanced accuracy (test) -> 0.929776580682404\n",
      "False\n",
      "stratf\n",
      "3\n",
      "Organic compounds - Unspecified\n",
      "0.9255555555555555\n",
      "Pos size= 19\n",
      "Neg size= 150\n",
      "Balanced accuracy (cv-train) -> 0.9816666666666666\n",
      "Balanced accuracy (cv-val) -> 0.9255555555555555\n",
      "Balanced accuracy (test) -> 0.9466666666666667\n",
      "False\n",
      "stratf\n",
      "3\n",
      "Organic nitrogen compounds\n",
      "0.9294444444444444\n",
      "Pos size= 1200\n",
      "Neg size= 3600\n",
      "Balanced accuracy (cv-train) -> 0.9831249999999999\n",
      "Balanced accuracy (cv-val) -> 0.9294444444444444\n",
      "Balanced accuracy (test) -> 0.9358356754731123\n",
      "False\n",
      "stratf\n",
      "3\n",
      "Organic oxygen compounds\n",
      "0.8932336710320401\n",
      "Pos size= 8094\n",
      "Neg size= 24282\n",
      "Balanced accuracy (cv-train) -> 0.9778024874392554\n",
      "Balanced accuracy (cv-val) -> 0.8932336710320401\n",
      "Balanced accuracy (test) -> 0.9003378226891063\n",
      "False\n",
      "stratf\n",
      "3\n",
      "Organic salts\n",
      "1.0\n",
      "Pos size= 43\n",
      "Neg size= 150\n",
      "Balanced accuracy (cv-train) -> 1.0\n",
      "Balanced accuracy (cv-val) -> 1.0\n",
      "Balanced accuracy (test) -> 0.9933333333333334\n",
      "False\n",
      "stratf\n",
      "3\n",
      "Organohalogen compounds\n",
      "0.9900186884131839\n",
      "Pos size= 218\n",
      "Neg size= 654\n",
      "Balanced accuracy (cv-train) -> 1.0\n",
      "Balanced accuracy (cv-val) -> 0.9900186884131839\n",
      "Balanced accuracy (test) -> 0.9757019738671115\n",
      "False\n",
      "stratf\n",
      "3\n",
      "Organoheterocyclic compounds\n",
      "0.901744089523712\n",
      "Pos size= 14296\n",
      "Neg size= 42888\n",
      "Balanced accuracy (cv-train) -> 0.9513092276866107\n",
      "Balanced accuracy (cv-val) -> 0.901744089523712\n",
      "Balanced accuracy (test) -> 0.9062067313049111\n",
      "False\n",
      "stratf\n",
      "3\n",
      "Organometallic compounds\n",
      "0.9956709956709956\n",
      "Pos size= 77\n",
      "Neg size= 231\n",
      "Balanced accuracy (cv-train) -> 1.0\n",
      "Balanced accuracy (cv-val) -> 0.9956709956709956\n",
      "Balanced accuracy (test) -> 0.9777908343125734\n",
      "False\n",
      "stratf\n",
      "3\n",
      "Organophosphorus compounds\n",
      "0.9933333333333333\n",
      "Pos size= 27\n",
      "Neg size= 150\n",
      "Balanced accuracy (cv-train) -> 0.9933333333333333\n",
      "Balanced accuracy (cv-val) -> 0.9933333333333333\n",
      "Balanced accuracy (test) -> 0.9866666666666667\n",
      "False\n",
      "stratf\n",
      "3\n",
      "Organosulfur compounds\n",
      "0.9750476168954428\n",
      "Pos size= 481\n",
      "Neg size= 1443\n",
      "Balanced accuracy (cv-train) -> 0.9890852390852393\n",
      "Balanced accuracy (cv-val) -> 0.9750476168954428\n",
      "Balanced accuracy (test) -> 0.9791011302269307\n",
      "False\n",
      "stratf\n",
      "3\n",
      "Phenylpropanoids and polyketides\n",
      "0.9379306248515086\n",
      "Pos size= 8418\n",
      "Neg size= 25254\n",
      "Balanced accuracy (cv-train) -> 0.9827156094084106\n",
      "Balanced accuracy (cv-val) -> 0.9379306248515086\n",
      "Balanced accuracy (test) -> 0.9396500584452698\n",
      "False\n",
      "stratf\n",
      "4\n",
      "Acetylides\n"
     ]
    },
    {
     "name": "stdout",
     "output_type": "stream",
     "text": [
      "0.9799110508065733\n",
      "Pos size= 14\n",
      "Neg size= 200\n",
      "Balanced accuracy (cv-train) -> 0.9887498597239368\n",
      "Balanced accuracy (cv-val) -> 0.9799110508065733\n",
      "Balanced accuracy (test) -> 0.985\n",
      "False\n",
      "stratf\n",
      "4\n",
      "Alkaloids and derivatives\n",
      "0.9423076923076922\n",
      "Pos size= 1092\n",
      "Neg size= 4368\n",
      "Balanced accuracy (cv-train) -> 0.9791666666666666\n",
      "Balanced accuracy (cv-val) -> 0.9423076923076922\n",
      "Balanced accuracy (test) -> 0.9418178423066691\n",
      "False\n",
      "stratf\n",
      "4\n",
      "Allenes\n",
      "1.0\n",
      "Pos size= 7\n",
      "Neg size= 200\n",
      "Balanced accuracy (cv-train) -> 1.0\n",
      "Balanced accuracy (cv-val) -> 1.0\n",
      "Balanced accuracy (test) -> 1.0\n",
      "False\n",
      "stratf\n",
      "4\n",
      "Benzenoids\n",
      "0.9062191996846048\n",
      "Pos size= 10146\n",
      "Neg size= 40584\n",
      "Balanced accuracy (cv-train) -> 0.956405233589592\n",
      "Balanced accuracy (cv-val) -> 0.9062191996846048\n",
      "Balanced accuracy (test) -> 0.9036615266952346\n",
      "False\n",
      "stratf\n",
      "4\n",
      "Hydrocarbon derivatives\n",
      "0.9235828433589628\n",
      "Pos size= 35\n",
      "Neg size= 200\n",
      "Balanced accuracy (cv-train) -> 0.9725058915946582\n",
      "Balanced accuracy (cv-val) -> 0.9235828433589628\n",
      "Balanced accuracy (test) -> 0.8973684210526316\n",
      "False\n",
      "stratf\n",
      "4\n",
      "Hydrocarbons\n",
      "0.9985702614379086\n",
      "Pos size= 612\n",
      "Neg size= 2448\n",
      "Balanced accuracy (cv-train) -> 0.9993872549019608\n",
      "Balanced accuracy (cv-val) -> 0.9985702614379086\n",
      "Balanced accuracy (test) -> 0.9929908432019672\n",
      "False\n",
      "stratf\n",
      "4\n",
      "Lignans, neolignans and related compounds\n",
      "0.9579982338250707\n",
      "Pos size= 286\n",
      "Neg size= 1144\n",
      "Balanced accuracy (cv-train) -> 0.9866679509098061\n",
      "Balanced accuracy (cv-val) -> 0.9579982338250707\n",
      "Balanced accuracy (test) -> 0.94493006993007\n",
      "False\n",
      "stratf\n",
      "4\n",
      "Lipids and lipid-like molecules\n",
      "0.9698765068723395\n",
      "Pos size= 133382\n",
      "Neg size= 59878\n",
      "Balanced accuracy (cv-train) -> 0.9814733301532205\n",
      "Balanced accuracy (cv-val) -> 0.9698765068723395\n",
      "Balanced accuracy (test) -> 0.9706897580521074\n",
      "False\n",
      "stratf\n",
      "4\n",
      "Nucleosides, nucleotides, and analogues\n",
      "0.9752576567514794\n",
      "Pos size= 935\n",
      "Neg size= 3740\n",
      "Balanced accuracy (cv-train) -> 0.9943850533431592\n",
      "Balanced accuracy (cv-val) -> 0.9752576567514794\n",
      "Balanced accuracy (test) -> 0.9800364290217873\n",
      "False\n",
      "stratf\n",
      "4\n",
      "Organic 1,3-dipolar compounds\n",
      "0.9337121212121212\n",
      "Pos size= 66\n",
      "Neg size= 264\n",
      "Balanced accuracy (cv-train) -> 1.0\n",
      "Balanced accuracy (cv-val) -> 0.9337121212121212\n",
      "Balanced accuracy (test) -> 0.9166666666666666\n",
      "False\n",
      "stratf\n",
      "4\n",
      "Organic Polymers\n",
      "0.9976299694189604\n",
      "Pos size= 1635\n",
      "Neg size= 6540\n",
      "Balanced accuracy (cv-train) -> 0.9988149847094802\n",
      "Balanced accuracy (cv-val) -> 0.9976299694189604\n",
      "Balanced accuracy (test) -> 0.9963302752293578\n",
      "False\n",
      "stratf\n",
      "4\n",
      "Organic acids and derivatives\n",
      "0.9262646793134598\n",
      "Pos size= 12177\n",
      "Neg size= 48708\n",
      "Balanced accuracy (cv-train) -> 0.9788638416687198\n",
      "Balanced accuracy (cv-val) -> 0.9262646793134598\n",
      "Balanced accuracy (test) -> 0.9298702282866522\n",
      "False\n",
      "stratf\n",
      "4\n",
      "Organic compounds - Unspecified\n",
      "0.9523971053821801\n",
      "Pos size= 19\n",
      "Neg size= 200\n",
      "Balanced accuracy (cv-train) -> 0.9737590244267386\n",
      "Balanced accuracy (cv-val) -> 0.9523971053821801\n",
      "Balanced accuracy (test) -> 0.9550000000000001\n",
      "False\n",
      "stratf\n",
      "4\n",
      "Organic nitrogen compounds\n",
      "0.9325000000000001\n",
      "Pos size= 1200\n",
      "Neg size= 4800\n",
      "Balanced accuracy (cv-train) -> 0.9825520833333333\n",
      "Balanced accuracy (cv-val) -> 0.9325000000000001\n",
      "Balanced accuracy (test) -> 0.9370260680157392\n",
      "False\n",
      "stratf\n",
      "4\n",
      "Organic oxygen compounds\n",
      "0.8921886582653817\n",
      "Pos size= 8094\n",
      "Neg size= 32376\n",
      "Balanced accuracy (cv-train) -> 0.9754756609834446\n",
      "Balanced accuracy (cv-val) -> 0.8921886582653817\n",
      "Balanced accuracy (test) -> 0.9001888528555158\n",
      "False\n",
      "stratf\n",
      "4\n",
      "Organic salts\n",
      "0.9975124378109452\n",
      "Pos size= 43\n",
      "Neg size= 200\n",
      "Balanced accuracy (cv-train) -> 1.0\n",
      "Balanced accuracy (cv-val) -> 0.9975124378109452\n",
      "Balanced accuracy (test) -> 0.9473809523809524\n",
      "False\n",
      "stratf\n",
      "4\n",
      "Organohalogen compounds\n",
      "0.9913970849626733\n",
      "Pos size= 218\n",
      "Neg size= 872\n",
      "Balanced accuracy (cv-train) -> 0.9951263078824871\n",
      "Balanced accuracy (cv-val) -> 0.9913970849626733\n",
      "Balanced accuracy (test) -> 0.9931192660550459\n",
      "False\n",
      "stratf\n",
      "4\n",
      "Organoheterocyclic compounds\n",
      "0.9018082062906639\n",
      "Pos size= 14296\n",
      "Neg size= 57184\n",
      "Balanced accuracy (cv-train) -> 0.9512800523714325\n",
      "Balanced accuracy (cv-val) -> 0.9018082062906639\n",
      "Balanced accuracy (test) -> 0.9063919799836975\n",
      "False\n",
      "stratf\n",
      "4\n",
      "Organometallic compounds\n",
      "0.991715210355987\n",
      "Pos size= 77\n",
      "Neg size= 308\n",
      "Balanced accuracy (cv-train) -> 1.0\n",
      "Balanced accuracy (cv-val) -> 0.991715210355987\n",
      "Balanced accuracy (test) -> 0.9799929799929801\n",
      "False\n",
      "stratf\n",
      "4\n",
      "Organophosphorus compounds\n",
      "0.992499623096638\n",
      "Pos size= 27\n",
      "Neg size= 200\n",
      "Balanced accuracy (cv-train) -> 0.9950061721467849\n",
      "Balanced accuracy (cv-val) -> 0.992499623096638\n",
      "Balanced accuracy (test) -> 0.985\n",
      "False\n",
      "stratf\n",
      "4\n",
      "Organosulfur compounds\n",
      "0.9768723940096514\n",
      "Pos size= 481\n",
      "Neg size= 1924\n",
      "Balanced accuracy (cv-train) -> 0.9880454999961495\n",
      "Balanced accuracy (cv-val) -> 0.9768723940096514\n",
      "Balanced accuracy (test) -> 0.9759455036050781\n",
      "False\n",
      "stratf\n",
      "4\n",
      "Phenylpropanoids and polyketides\n",
      "0.9386582323592302\n",
      "Pos size= 8418\n",
      "Neg size= 33672\n",
      "Balanced accuracy (cv-train) -> 0.9821364932287954\n",
      "Balanced accuracy (cv-val) -> 0.9386582323592302\n",
      "Balanced accuracy (test) -> 0.9398030338819818\n",
      "False\n",
      "stratf\n",
      "5\n",
      "Acetylides\n",
      "0.9760231401797667\n",
      "Pos size= 14\n",
      "Neg size= 250\n",
      "Balanced accuracy (cv-train) -> 0.9839958636942981\n",
      "Balanced accuracy (cv-val) -> 0.9760231401797667\n",
      "Balanced accuracy (test) -> 0.988\n",
      "False\n",
      "stratf\n",
      "5\n",
      "Alkaloids and derivatives\n",
      "0.9465201465201464\n",
      "Pos size= 1092\n",
      "Neg size= 5460\n",
      "Balanced accuracy (cv-train) -> 0.9727564102564102\n",
      "Balanced accuracy (cv-val) -> 0.9465201465201464\n",
      "Balanced accuracy (test) -> 0.9461374751877545\n",
      "False\n",
      "stratf\n",
      "5\n",
      "Allenes\n",
      "0.9979919678714859\n",
      "Pos size= 7\n",
      "Neg size= 250\n",
      "Balanced accuracy (cv-train) -> 1.0\n",
      "Balanced accuracy (cv-val) -> 0.9979919678714859\n",
      "Balanced accuracy (test) -> 1.0\n",
      "False\n",
      "stratf\n",
      "5\n",
      "Benzenoids\n",
      "0.9076680465207964\n",
      "Pos size= 10146\n",
      "Neg size= 50730\n",
      "Balanced accuracy (cv-train) -> 0.9492065838754189\n",
      "Balanced accuracy (cv-val) -> 0.9076680465207964\n",
      "Balanced accuracy (test) -> 0.9062000498428647\n",
      "False\n",
      "stratf\n",
      "5\n",
      "Hydrocarbon derivatives\n",
      "0.9391896590691772\n",
      "Pos size= 35\n",
      "Neg size= 250\n",
      "Balanced accuracy (cv-train) -> 1.0\n",
      "Balanced accuracy (cv-val) -> 0.9391896590691772\n",
      "Balanced accuracy (test) -> 0.856421052631579\n",
      "False\n",
      "stratf\n",
      "5\n",
      "Hydrocarbons\n",
      "0.9977124183006536\n",
      "Pos size= 612\n",
      "Neg size= 3060\n",
      "Balanced accuracy (cv-train) -> 0.9995098039215686\n",
      "Balanced accuracy (cv-val) -> 0.9977124183006536\n",
      "Balanced accuracy (test) -> 0.9930725425483724\n",
      "False\n",
      "stratf\n",
      "5\n",
      "Lignans, neolignans and related compounds\n",
      "0.9492367705937058\n",
      "Pos size= 286\n",
      "Neg size= 1430\n",
      "Balanced accuracy (cv-train) -> 0.9839165077290956\n",
      "Balanced accuracy (cv-val) -> 0.9492367705937058\n",
      "Balanced accuracy (test) -> 0.9426573426573426\n",
      "False\n",
      "stratf\n",
      "5\n",
      "Lipids and lipid-like molecules\n",
      "0.9698765068723395\n",
      "Pos size= 133382\n",
      "Neg size= 59878\n",
      "Balanced accuracy (cv-train) -> 0.9814733301532205\n",
      "Balanced accuracy (cv-val) -> 0.9698765068723395\n",
      "Balanced accuracy (test) -> 0.9706897580521074\n",
      "False\n",
      "stratf\n",
      "5\n",
      "Nucleosides, nucleotides, and analogues\n",
      "0.9746444839649285\n",
      "Pos size= 935\n",
      "Neg size= 4675\n",
      "Balanced accuracy (cv-train) -> 0.9933155193083768\n",
      "Balanced accuracy (cv-val) -> 0.9746444839649285\n",
      "Balanced accuracy (test) -> 0.9758180999415142\n",
      "False\n",
      "stratf\n",
      "5\n",
      "Organic 1,3-dipolar compounds\n",
      "0.9515151515151515\n",
      "Pos size= 66\n",
      "Neg size= 330\n",
      "Balanced accuracy (cv-train) -> 0.9787878787878789\n",
      "Balanced accuracy (cv-val) -> 0.9515151515151515\n",
      "Balanced accuracy (test) -> 0.9333333333333333\n",
      "False\n",
      "stratf\n",
      "5\n",
      "Organic Polymers\n",
      "0.9971865443425078\n",
      "Pos size= 1635\n",
      "Neg size= 8175\n",
      "Balanced accuracy (cv-train) -> 0.9985321100917431\n",
      "Balanced accuracy (cv-val) -> 0.9971865443425078\n",
      "Balanced accuracy (test) -> 0.9968191827746513\n",
      "False\n",
      "stratf\n",
      "5\n",
      "Organic acids and derivatives\n",
      "0.9263365360926338\n",
      "Pos size= 12177\n",
      "Neg size= 60885\n",
      "Balanced accuracy (cv-train) -> 0.9698365771536505\n",
      "Balanced accuracy (cv-val) -> 0.9263365360926338\n",
      "Balanced accuracy (test) -> 0.9308085084776532\n",
      "False\n",
      "stratf\n",
      "5\n",
      "Organic compounds - Unspecified\n",
      "0.9479345955249571\n",
      "Pos size= 19\n",
      "Neg size= 250\n",
      "Balanced accuracy (cv-train) -> 0.9789938195897362\n",
      "Balanced accuracy (cv-val) -> 0.9479345955249571\n",
      "Balanced accuracy (test) -> 0.952\n",
      "False\n",
      "stratf\n",
      "5\n",
      "Organic nitrogen compounds\n",
      "0.9315000000000001\n",
      "Pos size= 1200\n",
      "Neg size= 6000\n",
      "Balanced accuracy (cv-train) -> 0.9785833333333334\n",
      "Balanced accuracy (cv-val) -> 0.9315000000000001\n",
      "Balanced accuracy (test) -> 0.9361070826306914\n",
      "False\n",
      "stratf\n",
      "5\n",
      "Organic oxygen compounds\n"
     ]
    },
    {
     "name": "stdout",
     "output_type": "stream",
     "text": [
      "0.8926612305411415\n",
      "Pos size= 8094\n",
      "Neg size= 40470\n",
      "Balanced accuracy (cv-train) -> 0.973023227081789\n",
      "Balanced accuracy (cv-val) -> 0.8926612305411415\n",
      "Balanced accuracy (test) -> 0.9009047976293603\n",
      "False\n",
      "stratf\n",
      "5\n",
      "Organic salts\n",
      "0.9979919678714859\n",
      "Pos size= 43\n",
      "Neg size= 250\n",
      "Balanced accuracy (cv-train) -> 1.0\n",
      "Balanced accuracy (cv-val) -> 0.9979919678714859\n",
      "Balanced accuracy (test) -> 0.9721904761904762\n",
      "False\n",
      "stratf\n",
      "5\n",
      "Organohalogen compounds\n",
      "0.991272371487191\n",
      "Pos size= 218\n",
      "Neg size= 1090\n",
      "Balanced accuracy (cv-train) -> 1.0\n",
      "Balanced accuracy (cv-val) -> 0.991272371487191\n",
      "Balanced accuracy (test) -> 0.9781484570475396\n",
      "False\n",
      "stratf\n",
      "5\n",
      "Organoheterocyclic compounds\n",
      "0.9024484252883495\n",
      "Pos size= 14296\n",
      "Neg size= 71480\n",
      "Balanced accuracy (cv-train) -> 0.9472089826129784\n",
      "Balanced accuracy (cv-val) -> 0.9024484252883495\n",
      "Balanced accuracy (test) -> 0.907870548738062\n",
      "False\n",
      "stratf\n",
      "5\n",
      "Organometallic compounds\n",
      "0.9858874975154045\n",
      "Pos size= 77\n",
      "Neg size= 385\n",
      "Balanced accuracy (cv-train) -> 1.0\n",
      "Balanced accuracy (cv-val) -> 0.9858874975154045\n",
      "Balanced accuracy (test) -> 0.9812781531531531\n",
      "False\n",
      "stratf\n",
      "5\n",
      "Organophosphorus compounds\n",
      "0.9920156817747179\n",
      "Pos size= 27\n",
      "Neg size= 250\n",
      "Balanced accuracy (cv-train) -> 0.992995935839165\n",
      "Balanced accuracy (cv-val) -> 0.9920156817747179\n",
      "Balanced accuracy (test) -> 0.992\n",
      "False\n",
      "stratf\n",
      "5\n",
      "Organosulfur compounds\n",
      "0.9767061616661633\n",
      "Pos size= 481\n",
      "Neg size= 2405\n",
      "Balanced accuracy (cv-train) -> 0.9869023505905646\n",
      "Balanced accuracy (cv-val) -> 0.9767061616661633\n",
      "Balanced accuracy (test) -> 0.9757779587212801\n",
      "False\n",
      "stratf\n",
      "5\n",
      "Phenylpropanoids and polyketides\n",
      "0.9384176764076978\n",
      "Pos size= 8418\n",
      "Neg size= 42090\n",
      "Balanced accuracy (cv-train) -> 0.9799893086243764\n",
      "Balanced accuracy (cv-val) -> 0.9384176764076978\n",
      "Balanced accuracy (test) -> 0.9390334405049616\n",
      "False\n",
      "stratf\n",
      "6\n",
      "Acetylides\n",
      "0.9866666666666667\n",
      "Pos size= 14\n",
      "Neg size= 300\n",
      "Balanced accuracy (cv-train) -> 0.9883333333333333\n",
      "Balanced accuracy (cv-val) -> 0.9866666666666667\n",
      "Balanced accuracy (test) -> 0.9866666666666667\n",
      "False\n",
      "stratf\n",
      "6\n",
      "Alkaloids and derivatives\n",
      "0.9446733821733821\n",
      "Pos size= 1092\n",
      "Neg size= 6552\n",
      "Balanced accuracy (cv-train) -> 0.9755799755799756\n",
      "Balanced accuracy (cv-val) -> 0.9446733821733821\n",
      "Balanced accuracy (test) -> 0.9439089774285305\n",
      "False\n",
      "stratf\n",
      "6\n",
      "Allenes\n",
      "1.0\n",
      "Pos size= 7\n",
      "Neg size= 300\n",
      "Balanced accuracy (cv-train) -> 1.0\n",
      "Balanced accuracy (cv-val) -> 1.0\n",
      "Balanced accuracy (test) -> 0.9966666666666666\n",
      "False\n",
      "stratf\n",
      "6\n",
      "Benzenoids\n",
      "0.9042233392469939\n",
      "Pos size= 10146\n",
      "Neg size= 60876\n",
      "Balanced accuracy (cv-train) -> 0.9530274656679151\n",
      "Balanced accuracy (cv-val) -> 0.9042233392469939\n",
      "Balanced accuracy (test) -> 0.9022909367084411\n",
      "False\n",
      "stratf\n",
      "6\n",
      "Hydrocarbon derivatives\n",
      "0.9344444444444445\n",
      "Pos size= 35\n",
      "Neg size= 300\n",
      "Balanced accuracy (cv-train) -> 0.9724999999999998\n",
      "Balanced accuracy (cv-val) -> 0.9344444444444445\n",
      "Balanced accuracy (test) -> 0.890701754385965\n",
      "False\n",
      "stratf\n",
      "6\n",
      "Hydrocarbons\n",
      "0.9983660130718954\n",
      "Pos size= 612\n",
      "Neg size= 3672\n",
      "Balanced accuracy (cv-train) -> 0.9995915032679737\n",
      "Balanced accuracy (cv-val) -> 0.9983660130718954\n",
      "Balanced accuracy (test) -> 0.9928546776246252\n",
      "False\n",
      "stratf\n",
      "6\n",
      "Lignans, neolignans and related compounds\n",
      "0.9539257708665604\n",
      "Pos size= 286\n",
      "Neg size= 1716\n",
      "Balanced accuracy (cv-train) -> 0.9817890442890443\n",
      "Balanced accuracy (cv-val) -> 0.9539257708665604\n",
      "Balanced accuracy (test) -> 0.9417249417249418\n",
      "False\n",
      "stratf\n",
      "6\n",
      "Lipids and lipid-like molecules\n",
      "0.9698765068723395\n",
      "Pos size= 133382\n",
      "Neg size= 59878\n",
      "Balanced accuracy (cv-train) -> 0.9814733301532205\n",
      "Balanced accuracy (cv-val) -> 0.9698765068723395\n",
      "Balanced accuracy (test) -> 0.9706897580521074\n",
      "False\n",
      "stratf\n",
      "6\n",
      "Nucleosides, nucleotides, and analogues\n",
      "0.9757506868013772\n",
      "Pos size= 935\n",
      "Neg size= 5610\n",
      "Balanced accuracy (cv-train) -> 0.9931818181818182\n",
      "Balanced accuracy (cv-val) -> 0.9757506868013772\n",
      "Balanced accuracy (test) -> 0.9751792261168064\n",
      "False\n",
      "stratf\n",
      "6\n",
      "Organic 1,3-dipolar compounds\n",
      "0.9393939393939394\n",
      "Pos size= 66\n",
      "Neg size= 396\n",
      "Balanced accuracy (cv-train) -> 0.9772727272727274\n",
      "Balanced accuracy (cv-val) -> 0.9393939393939394\n",
      "Balanced accuracy (test) -> 0.9393939393939394\n",
      "False\n",
      "stratf\n",
      "6\n",
      "Organic Polymers\n",
      "0.9972477064220184\n",
      "Pos size= 1635\n",
      "Neg size= 9810\n",
      "Balanced accuracy (cv-train) -> 0.9984709480122325\n",
      "Balanced accuracy (cv-val) -> 0.9972477064220184\n",
      "Balanced accuracy (test) -> 0.9970438328236493\n",
      "False\n",
      "stratf\n",
      "6\n",
      "Organic acids and derivatives\n",
      "0.9260354219703814\n",
      "Pos size= 12177\n",
      "Neg size= 73062\n",
      "Balanced accuracy (cv-train) -> 0.9736011880320823\n",
      "Balanced accuracy (cv-val) -> 0.9260354219703814\n",
      "Balanced accuracy (test) -> 0.9298595726925996\n",
      "False\n",
      "stratf\n",
      "6\n",
      "Organic compounds - Unspecified\n",
      "0.9566666666666667\n",
      "Pos size= 19\n",
      "Neg size= 300\n",
      "Balanced accuracy (cv-train) -> 0.9741666666666667\n",
      "Balanced accuracy (cv-val) -> 0.9566666666666667\n",
      "Balanced accuracy (test) -> 0.94\n",
      "False\n",
      "stratf\n",
      "6\n",
      "Organic nitrogen compounds\n",
      "0.9346527777777777\n",
      "Pos size= 1200\n",
      "Neg size= 7200\n",
      "Balanced accuracy (cv-train) -> 0.9787500000000001\n",
      "Balanced accuracy (cv-val) -> 0.9346527777777777\n",
      "Balanced accuracy (test) -> 0.9334253794266442\n",
      "False\n",
      "stratf\n",
      "6\n",
      "Organic oxygen compounds\n",
      "0.8918128654970761\n",
      "Pos size= 8094\n",
      "Neg size= 48564\n",
      "Balanced accuracy (cv-train) -> 0.9734268182192571\n",
      "Balanced accuracy (cv-val) -> 0.8918128654970761\n",
      "Balanced accuracy (test) -> 0.8995368560573984\n",
      "False\n",
      "stratf\n",
      "6\n",
      "Organic salts\n",
      "0.9983333333333334\n",
      "Pos size= 43\n",
      "Neg size= 300\n",
      "Balanced accuracy (cv-train) -> 1.0\n",
      "Balanced accuracy (cv-val) -> 0.9983333333333334\n",
      "Balanced accuracy (test) -> 0.949047619047619\n",
      "False\n",
      "stratf\n",
      "6\n",
      "Organohalogen compounds\n",
      "0.9919724770642201\n",
      "Pos size= 218\n",
      "Neg size= 1308\n",
      "Balanced accuracy (cv-train) -> 0.9956039755351682\n",
      "Balanced accuracy (cv-val) -> 0.9919724770642201\n",
      "Balanced accuracy (test) -> 0.9931192660550459\n",
      "False\n",
      "stratf\n",
      "6\n",
      "Organoheterocyclic compounds\n",
      "0.902857591556162\n",
      "Pos size= 14296\n",
      "Neg size= 85776\n",
      "Balanced accuracy (cv-train) -> 0.9456141443431468\n",
      "Balanced accuracy (cv-val) -> 0.902857591556162\n",
      "Balanced accuracy (test) -> 0.9085602854562256\n",
      "False\n",
      "stratf\n",
      "6\n",
      "Organometallic compounds\n",
      "0.9850149850149851\n",
      "Pos size= 77\n",
      "Neg size= 462\n",
      "Balanced accuracy (cv-train) -> 1.0\n",
      "Balanced accuracy (cv-val) -> 0.9850149850149851\n",
      "Balanced accuracy (test) -> 0.9708084708084708\n",
      "False\n",
      "stratf\n",
      "6\n",
      "Organophosphorus compounds\n",
      "0.9916666666666666\n",
      "Pos size= 27\n",
      "Neg size= 300\n",
      "Balanced accuracy (cv-train) -> 0.9958333333333332\n",
      "Balanced accuracy (cv-val) -> 0.9916666666666666\n",
      "Balanced accuracy (test) -> 0.9933333333333334\n",
      "False\n",
      "stratf\n",
      "6\n",
      "Organosulfur compounds\n",
      "0.9773020347748608\n",
      "Pos size= 481\n",
      "Neg size= 2886\n",
      "Balanced accuracy (cv-train) -> 0.9858801108801108\n",
      "Balanced accuracy (cv-val) -> 0.9773020347748608\n",
      "Balanced accuracy (test) -> 0.9773801624865455\n",
      "False\n",
      "stratf\n",
      "6\n",
      "Phenylpropanoids and polyketides\n",
      "0.9381385127108577\n",
      "Pos size= 8418\n",
      "Neg size= 50508\n",
      "Balanced accuracy (cv-train) -> 0.9809089649164489\n",
      "Balanced accuracy (cv-val) -> 0.9381385127108577\n",
      "Balanced accuracy (test) -> 0.9398984178918741\n",
      "False\n",
      "ObyO\n",
      "1.3\n",
      "Acetylides\n"
     ]
    },
    {
     "name": "stderr",
     "output_type": "stream",
     "text": [
      "/home/hsilva/Tese/ML/aux_functions/sampling.py:9: FutureWarning: The default dtype for empty Series will be 'object' instead of 'float64' in a future version. Specify a dtype explicitly to silence this warning.\n",
      "  class_sampled = pd.Series()\n",
      "/home/hsilva/Tese/ML/aux_functions/sampling.py:9: FutureWarning: The default dtype for empty Series will be 'object' instead of 'float64' in a future version. Specify a dtype explicitly to silence this warning.\n",
      "  class_sampled = pd.Series()\n"
     ]
    },
    {
     "name": "stdout",
     "output_type": "stream",
     "text": [
      "0.9083694083694084\n",
      "Pos size= 14\n",
      "Neg size= 65\n",
      "Balanced accuracy (cv-train) -> 0.9501409443269907\n",
      "Balanced accuracy (cv-val) -> 0.9083694083694084\n",
      "Balanced accuracy (test) -> 0.8348214285714286\n",
      "False\n",
      "ObyO\n",
      "1.3\n",
      "Alkaloids and derivatives\n"
     ]
    },
    {
     "name": "stderr",
     "output_type": "stream",
     "text": [
      "/home/hsilva/Tese/ML/aux_functions/sampling.py:9: FutureWarning: The default dtype for empty Series will be 'object' instead of 'float64' in a future version. Specify a dtype explicitly to silence this warning.\n",
      "  class_sampled = pd.Series()\n",
      "/home/hsilva/Tese/ML/aux_functions/sampling.py:9: FutureWarning: The default dtype for empty Series will be 'object' instead of 'float64' in a future version. Specify a dtype explicitly to silence this warning.\n",
      "  class_sampled = pd.Series()\n"
     ]
    },
    {
     "name": "stdout",
     "output_type": "stream",
     "text": [
      "0.9260836063161646\n",
      "Pos size= 1092\n",
      "Neg size= 1419\n",
      "Balanced accuracy (cv-train) -> 0.994556315777246\n",
      "Balanced accuracy (cv-val) -> 0.9260836063161646\n",
      "Balanced accuracy (test) -> 0.9256813949551379\n",
      "False\n",
      "ObyO\n",
      "1.3\n",
      "Allenes\n"
     ]
    },
    {
     "name": "stderr",
     "output_type": "stream",
     "text": [
      "/home/hsilva/Tese/ML/aux_functions/sampling.py:9: FutureWarning: The default dtype for empty Series will be 'object' instead of 'float64' in a future version. Specify a dtype explicitly to silence this warning.\n",
      "  class_sampled = pd.Series()\n",
      "/home/hsilva/Tese/ML/aux_functions/sampling.py:9: FutureWarning: The default dtype for empty Series will be 'object' instead of 'float64' in a future version. Specify a dtype explicitly to silence this warning.\n",
      "  class_sampled = pd.Series()\n"
     ]
    },
    {
     "name": "stdout",
     "output_type": "stream",
     "text": [
      "0.8928571428571429\n",
      "Pos size= 7\n",
      "Neg size= 65\n",
      "Balanced accuracy (cv-train) -> 0.9922480620155039\n",
      "Balanced accuracy (cv-val) -> 0.8928571428571429\n",
      "Balanced accuracy (test) -> 0.8333333333333333\n",
      "False\n",
      "ObyO\n",
      "1.3\n",
      "Benzenoids\n"
     ]
    },
    {
     "name": "stderr",
     "output_type": "stream",
     "text": [
      "/home/hsilva/Tese/ML/aux_functions/sampling.py:9: FutureWarning: The default dtype for empty Series will be 'object' instead of 'float64' in a future version. Specify a dtype explicitly to silence this warning.\n",
      "  class_sampled = pd.Series()\n",
      "/home/hsilva/Tese/ML/aux_functions/sampling.py:9: FutureWarning: The default dtype for empty Series will be 'object' instead of 'float64' in a future version. Specify a dtype explicitly to silence this warning.\n",
      "  class_sampled = pd.Series()\n"
     ]
    },
    {
     "name": "stdout",
     "output_type": "stream",
     "text": [
      "0.7730167748605478\n",
      "Pos size= 10146\n",
      "Neg size= 13189\n",
      "Balanced accuracy (cv-train) -> 0.9603329846239089\n",
      "Balanced accuracy (cv-val) -> 0.7730167748605478\n",
      "Balanced accuracy (test) -> 0.8159508663261791\n",
      "False\n",
      "ObyO\n",
      "1.3\n",
      "Hydrocarbon derivatives\n"
     ]
    },
    {
     "name": "stderr",
     "output_type": "stream",
     "text": [
      "/home/hsilva/Tese/ML/aux_functions/sampling.py:9: FutureWarning: The default dtype for empty Series will be 'object' instead of 'float64' in a future version. Specify a dtype explicitly to silence this warning.\n",
      "  class_sampled = pd.Series()\n",
      "/home/hsilva/Tese/ML/aux_functions/sampling.py:9: FutureWarning: The default dtype for empty Series will be 'object' instead of 'float64' in a future version. Specify a dtype explicitly to silence this warning.\n",
      "  class_sampled = pd.Series()\n"
     ]
    },
    {
     "name": "stdout",
     "output_type": "stream",
     "text": [
      "0.8674242424242423\n",
      "Pos size= 35\n",
      "Neg size= 65\n",
      "Balanced accuracy (cv-train) -> 0.9927536231884058\n",
      "Balanced accuracy (cv-val) -> 0.8674242424242423\n",
      "Balanced accuracy (test) -> 0.805921052631579\n",
      "False\n",
      "ObyO\n",
      "1.3\n",
      "Hydrocarbons\n"
     ]
    },
    {
     "name": "stderr",
     "output_type": "stream",
     "text": [
      "/home/hsilva/Tese/ML/aux_functions/sampling.py:9: FutureWarning: The default dtype for empty Series will be 'object' instead of 'float64' in a future version. Specify a dtype explicitly to silence this warning.\n",
      "  class_sampled = pd.Series()\n",
      "/home/hsilva/Tese/ML/aux_functions/sampling.py:9: FutureWarning: The default dtype for empty Series will be 'object' instead of 'float64' in a future version. Specify a dtype explicitly to silence this warning.\n",
      "  class_sampled = pd.Series()\n"
     ]
    },
    {
     "name": "stdout",
     "output_type": "stream",
     "text": [
      "0.9756659267480576\n",
      "Pos size= 612\n",
      "Neg size= 795\n",
      "Balanced accuracy (cv-train) -> 0.9954094216302872\n",
      "Balanced accuracy (cv-val) -> 0.9756659267480576\n",
      "Balanced accuracy (test) -> 0.9717852917367209\n",
      "False\n",
      "ObyO\n",
      "1.3\n",
      "Lignans, neolignans and related compounds\n"
     ]
    },
    {
     "name": "stderr",
     "output_type": "stream",
     "text": [
      "/home/hsilva/Tese/ML/aux_functions/sampling.py:9: FutureWarning: The default dtype for empty Series will be 'object' instead of 'float64' in a future version. Specify a dtype explicitly to silence this warning.\n",
      "  class_sampled = pd.Series()\n",
      "/home/hsilva/Tese/ML/aux_functions/sampling.py:9: FutureWarning: The default dtype for empty Series will be 'object' instead of 'float64' in a future version. Specify a dtype explicitly to silence this warning.\n",
      "  class_sampled = pd.Series()\n"
     ]
    },
    {
     "name": "stdout",
     "output_type": "stream",
     "text": [
      "0.9510372812768875\n",
      "Pos size= 286\n",
      "Neg size= 371\n",
      "Balanced accuracy (cv-train) -> 0.9986531931565888\n",
      "Balanced accuracy (cv-val) -> 0.9510372812768875\n",
      "Balanced accuracy (test) -> 0.9378263246187775\n",
      "False\n",
      "ObyO\n",
      "1.3\n",
      "Lipids and lipid-like molecules\n",
      "0.9698765068723395\n",
      "Pos size= 133382\n",
      "Neg size= 59878\n",
      "Balanced accuracy (cv-train) -> 0.9814733301532205\n",
      "Balanced accuracy (cv-val) -> 0.9698765068723395\n",
      "Balanced accuracy (test) -> 0.9706897580521074\n",
      "False\n",
      "ObyO\n",
      "1.3\n",
      "Nucleosides, nucleotides, and analogues\n"
     ]
    },
    {
     "name": "stderr",
     "output_type": "stream",
     "text": [
      "/home/hsilva/Tese/ML/aux_functions/sampling.py:9: FutureWarning: The default dtype for empty Series will be 'object' instead of 'float64' in a future version. Specify a dtype explicitly to silence this warning.\n",
      "  class_sampled = pd.Series()\n",
      "/home/hsilva/Tese/ML/aux_functions/sampling.py:9: FutureWarning: The default dtype for empty Series will be 'object' instead of 'float64' in a future version. Specify a dtype explicitly to silence this warning.\n",
      "  class_sampled = pd.Series()\n"
     ]
    },
    {
     "name": "stdout",
     "output_type": "stream",
     "text": [
      "0.9415645239600224\n",
      "Pos size= 935\n",
      "Neg size= 1215\n",
      "Balanced accuracy (cv-train) -> 0.9988485280151945\n",
      "Balanced accuracy (cv-val) -> 0.9415645239600224\n",
      "Balanced accuracy (test) -> 0.9674663503872626\n",
      "False\n",
      "ObyO\n",
      "1.3\n",
      "Organic 1,3-dipolar compounds\n"
     ]
    },
    {
     "name": "stderr",
     "output_type": "stream",
     "text": [
      "/home/hsilva/Tese/ML/aux_functions/sampling.py:9: FutureWarning: The default dtype for empty Series will be 'object' instead of 'float64' in a future version. Specify a dtype explicitly to silence this warning.\n",
      "  class_sampled = pd.Series()\n",
      "/home/hsilva/Tese/ML/aux_functions/sampling.py:9: FutureWarning: The default dtype for empty Series will be 'object' instead of 'float64' in a future version. Specify a dtype explicitly to silence this warning.\n",
      "  class_sampled = pd.Series()\n"
     ]
    },
    {
     "name": "stdout",
     "output_type": "stream",
     "text": [
      "0.9145021645021645\n",
      "Pos size= 66\n",
      "Neg size= 85\n",
      "Balanced accuracy (cv-train) -> 1.0\n",
      "Balanced accuracy (cv-val) -> 0.9145021645021645\n",
      "Balanced accuracy (test) -> 0.961319073083779\n",
      "False\n",
      "ObyO\n",
      "1.3\n",
      "Organic Polymers\n"
     ]
    },
    {
     "name": "stderr",
     "output_type": "stream",
     "text": [
      "/home/hsilva/Tese/ML/aux_functions/sampling.py:9: FutureWarning: The default dtype for empty Series will be 'object' instead of 'float64' in a future version. Specify a dtype explicitly to silence this warning.\n",
      "  class_sampled = pd.Series()\n",
      "/home/hsilva/Tese/ML/aux_functions/sampling.py:9: FutureWarning: The default dtype for empty Series will be 'object' instead of 'float64' in a future version. Specify a dtype explicitly to silence this warning.\n",
      "  class_sampled = pd.Series()\n"
     ]
    },
    {
     "name": "stdout",
     "output_type": "stream",
     "text": [
      "0.991008396827865\n",
      "Pos size= 1635\n",
      "Neg size= 2125\n",
      "Balanced accuracy (cv-train) -> 0.999882297551789\n",
      "Balanced accuracy (cv-val) -> 0.991008396827865\n",
      "Balanced accuracy (test) -> 0.9938181287403298\n",
      "False\n",
      "ObyO\n",
      "1.3\n",
      "Organic acids and derivatives\n"
     ]
    },
    {
     "name": "stderr",
     "output_type": "stream",
     "text": [
      "/home/hsilva/Tese/ML/aux_functions/sampling.py:9: FutureWarning: The default dtype for empty Series will be 'object' instead of 'float64' in a future version. Specify a dtype explicitly to silence this warning.\n",
      "  class_sampled = pd.Series()\n",
      "/home/hsilva/Tese/ML/aux_functions/sampling.py:9: FutureWarning: The default dtype for empty Series will be 'object' instead of 'float64' in a future version. Specify a dtype explicitly to silence this warning.\n",
      "  class_sampled = pd.Series()\n"
     ]
    },
    {
     "name": "stdout",
     "output_type": "stream",
     "text": [
      "0.850932547944684\n",
      "Pos size= 12177\n",
      "Neg size= 15830\n",
      "Balanced accuracy (cv-train) -> 0.9796099763291682\n",
      "Balanced accuracy (cv-val) -> 0.850932547944684\n",
      "Balanced accuracy (test) -> 0.8863944672316815\n",
      "False\n",
      "ObyO\n",
      "1.3\n",
      "Organic compounds - Unspecified\n"
     ]
    },
    {
     "name": "stderr",
     "output_type": "stream",
     "text": [
      "/home/hsilva/Tese/ML/aux_functions/sampling.py:9: FutureWarning: The default dtype for empty Series will be 'object' instead of 'float64' in a future version. Specify a dtype explicitly to silence this warning.\n",
      "  class_sampled = pd.Series()\n",
      "/home/hsilva/Tese/ML/aux_functions/sampling.py:9: FutureWarning: The default dtype for empty Series will be 'object' instead of 'float64' in a future version. Specify a dtype explicitly to silence this warning.\n",
      "  class_sampled = pd.Series()\n"
     ]
    },
    {
     "name": "stdout",
     "output_type": "stream",
     "text": [
      "0.6836219336219336\n",
      "Pos size= 19\n",
      "Neg size= 65\n",
      "Balanced accuracy (cv-train) -> 1.0\n",
      "Balanced accuracy (cv-val) -> 0.6836219336219336\n",
      "Balanced accuracy (test) -> 0.56875\n",
      "False\n",
      "ObyO\n",
      "1.3\n",
      "Organic nitrogen compounds\n"
     ]
    },
    {
     "name": "stderr",
     "output_type": "stream",
     "text": [
      "/home/hsilva/Tese/ML/aux_functions/sampling.py:9: FutureWarning: The default dtype for empty Series will be 'object' instead of 'float64' in a future version. Specify a dtype explicitly to silence this warning.\n",
      "  class_sampled = pd.Series()\n",
      "/home/hsilva/Tese/ML/aux_functions/sampling.py:9: FutureWarning: The default dtype for empty Series will be 'object' instead of 'float64' in a future version. Specify a dtype explicitly to silence this warning.\n",
      "  class_sampled = pd.Series()\n"
     ]
    },
    {
     "name": "stdout",
     "output_type": "stream",
     "text": [
      "0.8495192307692307\n",
      "Pos size= 1200\n",
      "Neg size= 1560\n",
      "Balanced accuracy (cv-train) -> 0.9938942307692308\n",
      "Balanced accuracy (cv-val) -> 0.8495192307692307\n",
      "Balanced accuracy (test) -> 0.8815502443031954\n",
      "False\n",
      "ObyO\n",
      "1.3\n",
      "Organic oxygen compounds\n"
     ]
    },
    {
     "name": "stderr",
     "output_type": "stream",
     "text": [
      "/home/hsilva/Tese/ML/aux_functions/sampling.py:9: FutureWarning: The default dtype for empty Series will be 'object' instead of 'float64' in a future version. Specify a dtype explicitly to silence this warning.\n",
      "  class_sampled = pd.Series()\n",
      "/home/hsilva/Tese/ML/aux_functions/sampling.py:9: FutureWarning: The default dtype for empty Series will be 'object' instead of 'float64' in a future version. Specify a dtype explicitly to silence this warning.\n",
      "  class_sampled = pd.Series()\n"
     ]
    },
    {
     "name": "stdout",
     "output_type": "stream",
     "text": [
      "0.7512364697486186\n",
      "Pos size= 8094\n",
      "Neg size= 10522\n",
      "Balanced accuracy (cv-train) -> 0.9787637806935394\n",
      "Balanced accuracy (cv-val) -> 0.7512364697486186\n",
      "Balanced accuracy (test) -> 0.8765598097427673\n",
      "False\n",
      "ObyO\n",
      "1.3\n",
      "Organic salts\n"
     ]
    },
    {
     "name": "stderr",
     "output_type": "stream",
     "text": [
      "/home/hsilva/Tese/ML/aux_functions/sampling.py:9: FutureWarning: The default dtype for empty Series will be 'object' instead of 'float64' in a future version. Specify a dtype explicitly to silence this warning.\n",
      "  class_sampled = pd.Series()\n",
      "/home/hsilva/Tese/ML/aux_functions/sampling.py:9: FutureWarning: The default dtype for empty Series will be 'object' instead of 'float64' in a future version. Specify a dtype explicitly to silence this warning.\n",
      "  class_sampled = pd.Series()\n"
     ]
    },
    {
     "name": "stdout",
     "output_type": "stream",
     "text": [
      "1.0\n",
      "Pos size= 43\n",
      "Neg size= 65\n",
      "Balanced accuracy (cv-train) -> 1.0\n",
      "Balanced accuracy (cv-val) -> 1.0\n",
      "Balanced accuracy (test) -> 0.96875\n",
      "False\n",
      "ObyO\n",
      "1.3\n",
      "Organohalogen compounds\n"
     ]
    },
    {
     "name": "stderr",
     "output_type": "stream",
     "text": [
      "/home/hsilva/Tese/ML/aux_functions/sampling.py:9: FutureWarning: The default dtype for empty Series will be 'object' instead of 'float64' in a future version. Specify a dtype explicitly to silence this warning.\n",
      "  class_sampled = pd.Series()\n",
      "/home/hsilva/Tese/ML/aux_functions/sampling.py:9: FutureWarning: The default dtype for empty Series will be 'object' instead of 'float64' in a future version. Specify a dtype explicitly to silence this warning.\n",
      "  class_sampled = pd.Series()\n"
     ]
    },
    {
     "name": "stdout",
     "output_type": "stream",
     "text": [
      "0.9878501996758144\n",
      "Pos size= 218\n",
      "Neg size= 283\n",
      "Balanced accuracy (cv-train) -> 1.0\n",
      "Balanced accuracy (cv-val) -> 0.9878501996758144\n",
      "Balanced accuracy (test) -> 0.97020558946354\n",
      "False\n",
      "ObyO\n",
      "1.3\n",
      "Organoheterocyclic compounds\n"
     ]
    },
    {
     "name": "stderr",
     "output_type": "stream",
     "text": [
      "/home/hsilva/Tese/ML/aux_functions/sampling.py:9: FutureWarning: The default dtype for empty Series will be 'object' instead of 'float64' in a future version. Specify a dtype explicitly to silence this warning.\n",
      "  class_sampled = pd.Series()\n",
      "/home/hsilva/Tese/ML/aux_functions/sampling.py:9: FutureWarning: The default dtype for empty Series will be 'object' instead of 'float64' in a future version. Specify a dtype explicitly to silence this warning.\n",
      "  class_sampled = pd.Series()\n"
     ]
    },
    {
     "name": "stdout",
     "output_type": "stream",
     "text": [
      "0.7150194815660363\n",
      "Pos size= 14296\n",
      "Neg size= 18584\n",
      "Balanced accuracy (cv-train) -> 0.9466202699262922\n",
      "Balanced accuracy (cv-val) -> 0.7150194815660363\n",
      "Balanced accuracy (test) -> 0.8044584022909758\n",
      "False\n",
      "ObyO\n",
      "1.3\n",
      "Organometallic compounds\n"
     ]
    },
    {
     "name": "stderr",
     "output_type": "stream",
     "text": [
      "/home/hsilva/Tese/ML/aux_functions/sampling.py:9: FutureWarning: The default dtype for empty Series will be 'object' instead of 'float64' in a future version. Specify a dtype explicitly to silence this warning.\n",
      "  class_sampled = pd.Series()\n",
      "/home/hsilva/Tese/ML/aux_functions/sampling.py:9: FutureWarning: The default dtype for empty Series will be 'object' instead of 'float64' in a future version. Specify a dtype explicitly to silence this warning.\n",
      "  class_sampled = pd.Series()\n"
     ]
    },
    {
     "name": "stdout",
     "output_type": "stream",
     "text": [
      "0.941107911696147\n",
      "Pos size= 77\n",
      "Neg size= 100\n",
      "Balanced accuracy (cv-train) -> 1.0\n",
      "Balanced accuracy (cv-val) -> 0.941107911696147\n",
      "Balanced accuracy (test) -> 0.9664864864864865\n",
      "False\n",
      "ObyO\n",
      "1.3\n",
      "Organophosphorus compounds\n"
     ]
    },
    {
     "name": "stderr",
     "output_type": "stream",
     "text": [
      "/home/hsilva/Tese/ML/aux_functions/sampling.py:9: FutureWarning: The default dtype for empty Series will be 'object' instead of 'float64' in a future version. Specify a dtype explicitly to silence this warning.\n",
      "  class_sampled = pd.Series()\n",
      "/home/hsilva/Tese/ML/aux_functions/sampling.py:9: FutureWarning: The default dtype for empty Series will be 'object' instead of 'float64' in a future version. Specify a dtype explicitly to silence this warning.\n",
      "  class_sampled = pd.Series()\n"
     ]
    },
    {
     "name": "stdout",
     "output_type": "stream",
     "text": [
      "0.9739057239057239\n",
      "Pos size= 27\n",
      "Neg size= 65\n",
      "Balanced accuracy (cv-train) -> 1.0\n",
      "Balanced accuracy (cv-val) -> 0.9739057239057239\n",
      "Balanced accuracy (test) -> 1.0\n",
      "False\n",
      "ObyO\n",
      "1.3\n",
      "Organosulfur compounds\n"
     ]
    },
    {
     "name": "stderr",
     "output_type": "stream",
     "text": [
      "/home/hsilva/Tese/ML/aux_functions/sampling.py:9: FutureWarning: The default dtype for empty Series will be 'object' instead of 'float64' in a future version. Specify a dtype explicitly to silence this warning.\n",
      "  class_sampled = pd.Series()\n",
      "/home/hsilva/Tese/ML/aux_functions/sampling.py:9: FutureWarning: The default dtype for empty Series will be 'object' instead of 'float64' in a future version. Specify a dtype explicitly to silence this warning.\n",
      "  class_sampled = pd.Series()\n"
     ]
    },
    {
     "name": "stdout",
     "output_type": "stream",
     "text": [
      "0.9592904640172947\n",
      "Pos size= 481\n",
      "Neg size= 625\n",
      "Balanced accuracy (cv-train) -> 0.9991996787185636\n",
      "Balanced accuracy (cv-val) -> 0.9592904640172947\n",
      "Balanced accuracy (test) -> 0.9547234042553192\n",
      "False\n",
      "ObyO\n",
      "1.3\n",
      "Phenylpropanoids and polyketides\n"
     ]
    },
    {
     "name": "stderr",
     "output_type": "stream",
     "text": [
      "/home/hsilva/Tese/ML/aux_functions/sampling.py:9: FutureWarning: The default dtype for empty Series will be 'object' instead of 'float64' in a future version. Specify a dtype explicitly to silence this warning.\n",
      "  class_sampled = pd.Series()\n",
      "/home/hsilva/Tese/ML/aux_functions/sampling.py:9: FutureWarning: The default dtype for empty Series will be 'object' instead of 'float64' in a future version. Specify a dtype explicitly to silence this warning.\n",
      "  class_sampled = pd.Series()\n"
     ]
    },
    {
     "name": "stdout",
     "output_type": "stream",
     "text": [
      "0.884875343740506\n",
      "Pos size= 8418\n",
      "Neg size= 10943\n",
      "Balanced accuracy (cv-train) -> 0.9780228092819193\n",
      "Balanced accuracy (cv-val) -> 0.884875343740506\n",
      "Balanced accuracy (test) -> 0.9064259503891564\n",
      "False\n",
      "ObyO\n",
      "1.5\n",
      "Acetylides\n"
     ]
    },
    {
     "name": "stderr",
     "output_type": "stream",
     "text": [
      "/home/hsilva/Tese/ML/aux_functions/sampling.py:9: FutureWarning: The default dtype for empty Series will be 'object' instead of 'float64' in a future version. Specify a dtype explicitly to silence this warning.\n",
      "  class_sampled = pd.Series()\n",
      "/home/hsilva/Tese/ML/aux_functions/sampling.py:9: FutureWarning: The default dtype for empty Series will be 'object' instead of 'float64' in a future version. Specify a dtype explicitly to silence this warning.\n",
      "  class_sampled = pd.Series()\n"
     ]
    },
    {
     "name": "stdout",
     "output_type": "stream",
     "text": [
      "0.9133333333333334\n",
      "Pos size= 14\n",
      "Neg size= 75\n",
      "Balanced accuracy (cv-train) -> 0.9566666666666667\n",
      "Balanced accuracy (cv-val) -> 0.9133333333333334\n",
      "Balanced accuracy (test) -> 0.888030888030888\n",
      "False\n",
      "ObyO\n",
      "1.5\n",
      "Alkaloids and derivatives\n"
     ]
    },
    {
     "name": "stderr",
     "output_type": "stream",
     "text": [
      "/home/hsilva/Tese/ML/aux_functions/sampling.py:9: FutureWarning: The default dtype for empty Series will be 'object' instead of 'float64' in a future version. Specify a dtype explicitly to silence this warning.\n",
      "  class_sampled = pd.Series()\n",
      "/home/hsilva/Tese/ML/aux_functions/sampling.py:9: FutureWarning: The default dtype for empty Series will be 'object' instead of 'float64' in a future version. Specify a dtype explicitly to silence this warning.\n",
      "  class_sampled = pd.Series()\n"
     ]
    },
    {
     "name": "stdout",
     "output_type": "stream",
     "text": [
      "0.9232295482295484\n",
      "Pos size= 1092\n",
      "Neg size= 1638\n",
      "Balanced accuracy (cv-train) -> 0.9919108669108669\n",
      "Balanced accuracy (cv-val) -> 0.9232295482295484\n",
      "Balanced accuracy (test) -> 0.9220366846065171\n",
      "False\n",
      "ObyO\n",
      "1.5\n",
      "Allenes\n"
     ]
    },
    {
     "name": "stderr",
     "output_type": "stream",
     "text": [
      "/home/hsilva/Tese/ML/aux_functions/sampling.py:9: FutureWarning: The default dtype for empty Series will be 'object' instead of 'float64' in a future version. Specify a dtype explicitly to silence this warning.\n",
      "  class_sampled = pd.Series()\n",
      "/home/hsilva/Tese/ML/aux_functions/sampling.py:9: FutureWarning: The default dtype for empty Series will be 'object' instead of 'float64' in a future version. Specify a dtype explicitly to silence this warning.\n",
      "  class_sampled = pd.Series()\n"
     ]
    },
    {
     "name": "stdout",
     "output_type": "stream",
     "text": [
      "0.9377777777777778\n",
      "Pos size= 7\n",
      "Neg size= 75\n",
      "Balanced accuracy (cv-train) -> 0.9933333333333333\n",
      "Balanced accuracy (cv-val) -> 0.9377777777777778\n",
      "Balanced accuracy (test) -> 0.9864864864864865\n",
      "False\n",
      "ObyO\n",
      "1.5\n",
      "Benzenoids\n"
     ]
    },
    {
     "name": "stderr",
     "output_type": "stream",
     "text": [
      "/home/hsilva/Tese/ML/aux_functions/sampling.py:9: FutureWarning: The default dtype for empty Series will be 'object' instead of 'float64' in a future version. Specify a dtype explicitly to silence this warning.\n",
      "  class_sampled = pd.Series()\n",
      "/home/hsilva/Tese/ML/aux_functions/sampling.py:9: FutureWarning: The default dtype for empty Series will be 'object' instead of 'float64' in a future version. Specify a dtype explicitly to silence this warning.\n",
      "  class_sampled = pd.Series()\n"
     ]
    },
    {
     "name": "stdout",
     "output_type": "stream",
     "text": [
      "0.7702214337341481\n",
      "Pos size= 10146\n",
      "Neg size= 15219\n",
      "Balanced accuracy (cv-train) -> 0.9590643274853802\n",
      "Balanced accuracy (cv-val) -> 0.7702214337341481\n",
      "Balanced accuracy (test) -> 0.8127234271527589\n",
      "False\n",
      "ObyO\n",
      "1.5\n",
      "Hydrocarbon derivatives\n"
     ]
    },
    {
     "name": "stderr",
     "output_type": "stream",
     "text": [
      "/home/hsilva/Tese/ML/aux_functions/sampling.py:9: FutureWarning: The default dtype for empty Series will be 'object' instead of 'float64' in a future version. Specify a dtype explicitly to silence this warning.\n",
      "  class_sampled = pd.Series()\n",
      "/home/hsilva/Tese/ML/aux_functions/sampling.py:9: FutureWarning: The default dtype for empty Series will be 'object' instead of 'float64' in a future version. Specify a dtype explicitly to silence this warning.\n",
      "  class_sampled = pd.Series()\n"
     ]
    },
    {
     "name": "stdout",
     "output_type": "stream",
     "text": [
      "0.8844444444444445\n",
      "Pos size= 35\n",
      "Neg size= 75\n",
      "Balanced accuracy (cv-train) -> 1.0\n",
      "Balanced accuracy (cv-val) -> 0.8844444444444445\n",
      "Balanced accuracy (test) -> 0.8015647226173542\n",
      "False\n",
      "ObyO\n",
      "1.5\n",
      "Hydrocarbons\n"
     ]
    },
    {
     "name": "stderr",
     "output_type": "stream",
     "text": [
      "/home/hsilva/Tese/ML/aux_functions/sampling.py:9: FutureWarning: The default dtype for empty Series will be 'object' instead of 'float64' in a future version. Specify a dtype explicitly to silence this warning.\n",
      "  class_sampled = pd.Series()\n",
      "/home/hsilva/Tese/ML/aux_functions/sampling.py:9: FutureWarning: The default dtype for empty Series will be 'object' instead of 'float64' in a future version. Specify a dtype explicitly to silence this warning.\n",
      "  class_sampled = pd.Series()\n"
     ]
    },
    {
     "name": "stdout",
     "output_type": "stream",
     "text": [
      "0.9763071895424837\n",
      "Pos size= 612\n",
      "Neg size= 918\n",
      "Balanced accuracy (cv-train) -> 0.9959150326797386\n",
      "Balanced accuracy (cv-val) -> 0.9763071895424837\n",
      "Balanced accuracy (test) -> 0.9769785802109623\n",
      "False\n",
      "ObyO\n",
      "1.5\n",
      "Lignans, neolignans and related compounds\n"
     ]
    },
    {
     "name": "stderr",
     "output_type": "stream",
     "text": [
      "/home/hsilva/Tese/ML/aux_functions/sampling.py:9: FutureWarning: The default dtype for empty Series will be 'object' instead of 'float64' in a future version. Specify a dtype explicitly to silence this warning.\n",
      "  class_sampled = pd.Series()\n",
      "/home/hsilva/Tese/ML/aux_functions/sampling.py:9: FutureWarning: The default dtype for empty Series will be 'object' instead of 'float64' in a future version. Specify a dtype explicitly to silence this warning.\n",
      "  class_sampled = pd.Series()\n"
     ]
    },
    {
     "name": "stdout",
     "output_type": "stream",
     "text": [
      "0.9469327638735535\n",
      "Pos size= 286\n",
      "Neg size= 429\n",
      "Balanced accuracy (cv-train) -> 0.9947552447552447\n",
      "Balanced accuracy (cv-val) -> 0.9469327638735535\n",
      "Balanced accuracy (test) -> 0.9522144522144522\n",
      "False\n",
      "ObyO\n",
      "1.5\n",
      "Lipids and lipid-like molecules\n",
      "0.9698765068723395\n",
      "Pos size= 133382\n",
      "Neg size= 59878\n",
      "Balanced accuracy (cv-train) -> 0.9814733301532205\n",
      "Balanced accuracy (cv-val) -> 0.9698765068723395\n",
      "Balanced accuracy (test) -> 0.9706897580521074\n",
      "False\n",
      "ObyO\n",
      "1.5\n",
      "Nucleosides, nucleotides, and analogues\n"
     ]
    },
    {
     "name": "stderr",
     "output_type": "stream",
     "text": [
      "/home/hsilva/Tese/ML/aux_functions/sampling.py:9: FutureWarning: The default dtype for empty Series will be 'object' instead of 'float64' in a future version. Specify a dtype explicitly to silence this warning.\n",
      "  class_sampled = pd.Series()\n",
      "/home/hsilva/Tese/ML/aux_functions/sampling.py:9: FutureWarning: The default dtype for empty Series will be 'object' instead of 'float64' in a future version. Specify a dtype explicitly to silence this warning.\n",
      "  class_sampled = pd.Series()\n"
     ]
    },
    {
     "name": "stdout",
     "output_type": "stream",
     "text": [
      "0.9538012883333806\n",
      "Pos size= 935\n",
      "Neg size= 1402\n",
      "Balanced accuracy (cv-train) -> 0.9998215560314061\n",
      "Balanced accuracy (cv-val) -> 0.9538012883333806\n",
      "Balanced accuracy (test) -> 0.9664406431236724\n",
      "False\n",
      "ObyO\n",
      "1.5\n",
      "Organic 1,3-dipolar compounds\n"
     ]
    },
    {
     "name": "stderr",
     "output_type": "stream",
     "text": [
      "/home/hsilva/Tese/ML/aux_functions/sampling.py:9: FutureWarning: The default dtype for empty Series will be 'object' instead of 'float64' in a future version. Specify a dtype explicitly to silence this warning.\n",
      "  class_sampled = pd.Series()\n",
      "/home/hsilva/Tese/ML/aux_functions/sampling.py:9: FutureWarning: The default dtype for empty Series will be 'object' instead of 'float64' in a future version. Specify a dtype explicitly to silence this warning.\n",
      "  class_sampled = pd.Series()\n"
     ]
    },
    {
     "name": "stdout",
     "output_type": "stream",
     "text": [
      "0.9141414141414143\n",
      "Pos size= 66\n",
      "Neg size= 99\n",
      "Balanced accuracy (cv-train) -> 1.0\n",
      "Balanced accuracy (cv-val) -> 0.9141414141414143\n",
      "Balanced accuracy (test) -> 0.9494949494949495\n",
      "False\n",
      "ObyO\n",
      "1.5\n",
      "Organic Polymers\n"
     ]
    },
    {
     "name": "stderr",
     "output_type": "stream",
     "text": [
      "/home/hsilva/Tese/ML/aux_functions/sampling.py:9: FutureWarning: The default dtype for empty Series will be 'object' instead of 'float64' in a future version. Specify a dtype explicitly to silence this warning.\n",
      "  class_sampled = pd.Series()\n",
      "/home/hsilva/Tese/ML/aux_functions/sampling.py:9: FutureWarning: The default dtype for empty Series will be 'object' instead of 'float64' in a future version. Specify a dtype explicitly to silence this warning.\n",
      "  class_sampled = pd.Series()\n"
     ]
    },
    {
     "name": "stdout",
     "output_type": "stream",
     "text": [
      "0.990209575571102\n",
      "Pos size= 1635\n",
      "Neg size= 2452\n",
      "Balanced accuracy (cv-train) -> 0.9997960016319869\n",
      "Balanced accuracy (cv-val) -> 0.990209575571102\n",
      "Balanced accuracy (test) -> 0.994884916956432\n",
      "False\n",
      "ObyO\n",
      "1.5\n",
      "Organic acids and derivatives\n"
     ]
    },
    {
     "name": "stderr",
     "output_type": "stream",
     "text": [
      "/home/hsilva/Tese/ML/aux_functions/sampling.py:9: FutureWarning: The default dtype for empty Series will be 'object' instead of 'float64' in a future version. Specify a dtype explicitly to silence this warning.\n",
      "  class_sampled = pd.Series()\n",
      "/home/hsilva/Tese/ML/aux_functions/sampling.py:9: FutureWarning: The default dtype for empty Series will be 'object' instead of 'float64' in a future version. Specify a dtype explicitly to silence this warning.\n",
      "  class_sampled = pd.Series()\n"
     ]
    },
    {
     "name": "stdout",
     "output_type": "stream",
     "text": [
      "0.8515063244192538\n",
      "Pos size= 12177\n",
      "Neg size= 18265\n",
      "Balanced accuracy (cv-train) -> 0.9788532167034992\n",
      "Balanced accuracy (cv-val) -> 0.8515063244192538\n",
      "Balanced accuracy (test) -> 0.8843162299823205\n",
      "False\n",
      "ObyO\n",
      "1.5\n",
      "Organic compounds - Unspecified\n"
     ]
    },
    {
     "name": "stderr",
     "output_type": "stream",
     "text": [
      "/home/hsilva/Tese/ML/aux_functions/sampling.py:9: FutureWarning: The default dtype for empty Series will be 'object' instead of 'float64' in a future version. Specify a dtype explicitly to silence this warning.\n",
      "  class_sampled = pd.Series()\n",
      "/home/hsilva/Tese/ML/aux_functions/sampling.py:9: FutureWarning: The default dtype for empty Series will be 'object' instead of 'float64' in a future version. Specify a dtype explicitly to silence this warning.\n",
      "  class_sampled = pd.Series()\n"
     ]
    },
    {
     "name": "stdout",
     "output_type": "stream",
     "text": [
      "0.7401587301587301\n",
      "Pos size= 19\n",
      "Neg size= 75\n",
      "Balanced accuracy (cv-train) -> 1.0\n",
      "Balanced accuracy (cv-val) -> 0.7401587301587301\n",
      "Balanced accuracy (test) -> 0.6364864864864865\n",
      "False\n",
      "ObyO\n",
      "1.5\n",
      "Organic nitrogen compounds\n"
     ]
    },
    {
     "name": "stderr",
     "output_type": "stream",
     "text": [
      "/home/hsilva/Tese/ML/aux_functions/sampling.py:9: FutureWarning: The default dtype for empty Series will be 'object' instead of 'float64' in a future version. Specify a dtype explicitly to silence this warning.\n",
      "  class_sampled = pd.Series()\n",
      "/home/hsilva/Tese/ML/aux_functions/sampling.py:9: FutureWarning: The default dtype for empty Series will be 'object' instead of 'float64' in a future version. Specify a dtype explicitly to silence this warning.\n",
      "  class_sampled = pd.Series()\n"
     ]
    },
    {
     "name": "stdout",
     "output_type": "stream",
     "text": [
      "0.8452777777777779\n",
      "Pos size= 1200\n",
      "Neg size= 1800\n",
      "Balanced accuracy (cv-train) -> 0.9936805555555556\n",
      "Balanced accuracy (cv-val) -> 0.8452777777777779\n",
      "Balanced accuracy (test) -> 0.8763368933857973\n",
      "False\n",
      "ObyO\n",
      "1.5\n",
      "Organic oxygen compounds\n"
     ]
    },
    {
     "name": "stderr",
     "output_type": "stream",
     "text": [
      "/home/hsilva/Tese/ML/aux_functions/sampling.py:9: FutureWarning: The default dtype for empty Series will be 'object' instead of 'float64' in a future version. Specify a dtype explicitly to silence this warning.\n",
      "  class_sampled = pd.Series()\n",
      "/home/hsilva/Tese/ML/aux_functions/sampling.py:9: FutureWarning: The default dtype for empty Series will be 'object' instead of 'float64' in a future version. Specify a dtype explicitly to silence this warning.\n",
      "  class_sampled = pd.Series()\n"
     ]
    },
    {
     "name": "stdout",
     "output_type": "stream",
     "text": [
      "0.7618400461247014\n",
      "Pos size= 8094\n",
      "Neg size= 12141\n",
      "Balanced accuracy (cv-train) -> 0.9775965735936084\n",
      "Balanced accuracy (cv-val) -> 0.7618400461247014\n",
      "Balanced accuracy (test) -> 0.8734604866311392\n",
      "False\n",
      "ObyO\n",
      "1.5\n",
      "Organic salts\n"
     ]
    },
    {
     "name": "stderr",
     "output_type": "stream",
     "text": [
      "/home/hsilva/Tese/ML/aux_functions/sampling.py:9: FutureWarning: The default dtype for empty Series will be 'object' instead of 'float64' in a future version. Specify a dtype explicitly to silence this warning.\n",
      "  class_sampled = pd.Series()\n",
      "/home/hsilva/Tese/ML/aux_functions/sampling.py:9: FutureWarning: The default dtype for empty Series will be 'object' instead of 'float64' in a future version. Specify a dtype explicitly to silence this warning.\n",
      "  class_sampled = pd.Series()\n"
     ]
    },
    {
     "name": "stdout",
     "output_type": "stream",
     "text": [
      "0.9495238095238095\n",
      "Pos size= 43\n",
      "Neg size= 75\n",
      "Balanced accuracy (cv-train) -> 1.0\n",
      "Balanced accuracy (cv-val) -> 0.9495238095238095\n",
      "Balanced accuracy (test) -> 0.938867438867439\n",
      "False\n",
      "ObyO\n",
      "1.5\n",
      "Organohalogen compounds\n"
     ]
    },
    {
     "name": "stderr",
     "output_type": "stream",
     "text": [
      "/home/hsilva/Tese/ML/aux_functions/sampling.py:9: FutureWarning: The default dtype for empty Series will be 'object' instead of 'float64' in a future version. Specify a dtype explicitly to silence this warning.\n",
      "  class_sampled = pd.Series()\n",
      "/home/hsilva/Tese/ML/aux_functions/sampling.py:9: FutureWarning: The default dtype for empty Series will be 'object' instead of 'float64' in a future version. Specify a dtype explicitly to silence this warning.\n",
      "  class_sampled = pd.Series()\n"
     ]
    },
    {
     "name": "stdout",
     "output_type": "stream",
     "text": [
      "0.9847304260399649\n",
      "Pos size= 218\n",
      "Neg size= 327\n",
      "Balanced accuracy (cv-train) -> 1.0\n",
      "Balanced accuracy (cv-val) -> 0.9847304260399649\n",
      "Balanced accuracy (test) -> 0.9741312204614957\n",
      "False\n",
      "ObyO\n",
      "1.5\n",
      "Organoheterocyclic compounds\n"
     ]
    },
    {
     "name": "stderr",
     "output_type": "stream",
     "text": [
      "/home/hsilva/Tese/ML/aux_functions/sampling.py:9: FutureWarning: The default dtype for empty Series will be 'object' instead of 'float64' in a future version. Specify a dtype explicitly to silence this warning.\n",
      "  class_sampled = pd.Series()\n",
      "/home/hsilva/Tese/ML/aux_functions/sampling.py:9: FutureWarning: The default dtype for empty Series will be 'object' instead of 'float64' in a future version. Specify a dtype explicitly to silence this warning.\n",
      "  class_sampled = pd.Series()\n"
     ]
    },
    {
     "name": "stdout",
     "output_type": "stream",
     "text": [
      "0.715012473110047\n",
      "Pos size= 14296\n",
      "Neg size= 21444\n",
      "Balanced accuracy (cv-train) -> 0.9458707363883638\n",
      "Balanced accuracy (cv-val) -> 0.715012473110047\n",
      "Balanced accuracy (test) -> 0.8022561325063617\n",
      "False\n",
      "ObyO\n",
      "1.5\n",
      "Organometallic compounds\n"
     ]
    },
    {
     "name": "stderr",
     "output_type": "stream",
     "text": [
      "/home/hsilva/Tese/ML/aux_functions/sampling.py:9: FutureWarning: The default dtype for empty Series will be 'object' instead of 'float64' in a future version. Specify a dtype explicitly to silence this warning.\n",
      "  class_sampled = pd.Series()\n",
      "/home/hsilva/Tese/ML/aux_functions/sampling.py:9: FutureWarning: The default dtype for empty Series will be 'object' instead of 'float64' in a future version. Specify a dtype explicitly to silence this warning.\n",
      "  class_sampled = pd.Series()\n"
     ]
    },
    {
     "name": "stdout",
     "output_type": "stream",
     "text": [
      "0.9590643274853802\n",
      "Pos size= 77\n",
      "Neg size= 115\n",
      "Balanced accuracy (cv-train) -> 1.0\n",
      "Balanced accuracy (cv-val) -> 0.9590643274853802\n",
      "Balanced accuracy (test) -> 0.9599294947121034\n",
      "False\n",
      "ObyO\n",
      "1.5\n",
      "Organophosphorus compounds\n"
     ]
    },
    {
     "name": "stderr",
     "output_type": "stream",
     "text": [
      "/home/hsilva/Tese/ML/aux_functions/sampling.py:9: FutureWarning: The default dtype for empty Series will be 'object' instead of 'float64' in a future version. Specify a dtype explicitly to silence this warning.\n",
      "  class_sampled = pd.Series()\n",
      "/home/hsilva/Tese/ML/aux_functions/sampling.py:9: FutureWarning: The default dtype for empty Series will be 'object' instead of 'float64' in a future version. Specify a dtype explicitly to silence this warning.\n",
      "  class_sampled = pd.Series()\n"
     ]
    },
    {
     "name": "stdout",
     "output_type": "stream",
     "text": [
      "0.9681481481481482\n",
      "Pos size= 27\n",
      "Neg size= 75\n",
      "Balanced accuracy (cv-train) -> 1.0\n",
      "Balanced accuracy (cv-val) -> 0.9681481481481482\n",
      "Balanced accuracy (test) -> 1.0\n",
      "False\n",
      "ObyO\n",
      "1.5\n",
      "Organosulfur compounds\n"
     ]
    },
    {
     "name": "stderr",
     "output_type": "stream",
     "text": [
      "/home/hsilva/Tese/ML/aux_functions/sampling.py:9: FutureWarning: The default dtype for empty Series will be 'object' instead of 'float64' in a future version. Specify a dtype explicitly to silence this warning.\n",
      "  class_sampled = pd.Series()\n",
      "/home/hsilva/Tese/ML/aux_functions/sampling.py:9: FutureWarning: The default dtype for empty Series will be 'object' instead of 'float64' in a future version. Specify a dtype explicitly to silence this warning.\n",
      "  class_sampled = pd.Series()\n"
     ]
    },
    {
     "name": "stdout",
     "output_type": "stream",
     "text": [
      "0.9570092516229535\n",
      "Pos size= 481\n",
      "Neg size= 721\n",
      "Balanced accuracy (cv-train) -> 0.9927206052206053\n",
      "Balanced accuracy (cv-val) -> 0.9570092516229535\n",
      "Balanced accuracy (test) -> 0.9559329536400389\n",
      "False\n",
      "ObyO\n",
      "1.5\n",
      "Phenylpropanoids and polyketides\n"
     ]
    },
    {
     "name": "stderr",
     "output_type": "stream",
     "text": [
      "/home/hsilva/Tese/ML/aux_functions/sampling.py:9: FutureWarning: The default dtype for empty Series will be 'object' instead of 'float64' in a future version. Specify a dtype explicitly to silence this warning.\n",
      "  class_sampled = pd.Series()\n",
      "/home/hsilva/Tese/ML/aux_functions/sampling.py:9: FutureWarning: The default dtype for empty Series will be 'object' instead of 'float64' in a future version. Specify a dtype explicitly to silence this warning.\n",
      "  class_sampled = pd.Series()\n"
     ]
    },
    {
     "name": "stdout",
     "output_type": "stream",
     "text": [
      "0.8856022808267996\n",
      "Pos size= 8418\n",
      "Neg size= 12627\n",
      "Balanced accuracy (cv-train) -> 0.9781222776589847\n",
      "Balanced accuracy (cv-val) -> 0.8856022808267996\n",
      "Balanced accuracy (test) -> 0.9089842855058596\n",
      "False\n",
      "ObyO\n",
      "2\n",
      "Acetylides\n"
     ]
    },
    {
     "name": "stderr",
     "output_type": "stream",
     "text": [
      "/home/hsilva/Tese/ML/aux_functions/sampling.py:9: FutureWarning: The default dtype for empty Series will be 'object' instead of 'float64' in a future version. Specify a dtype explicitly to silence this warning.\n",
      "  class_sampled = pd.Series()\n",
      "/home/hsilva/Tese/ML/aux_functions/sampling.py:9: FutureWarning: The default dtype for empty Series will be 'object' instead of 'float64' in a future version. Specify a dtype explicitly to silence this warning.\n",
      "  class_sampled = pd.Series()\n"
     ]
    },
    {
     "name": "stdout",
     "output_type": "stream",
     "text": [
      "0.8972964943553179\n",
      "Pos size= 14\n",
      "Neg size= 100\n",
      "Balanced accuracy (cv-train) -> 0.972448364239409\n",
      "Balanced accuracy (cv-val) -> 0.8972964943553179\n",
      "Balanced accuracy (test) -> 0.8685714285714285\n",
      "False\n",
      "ObyO\n",
      "2\n",
      "Alkaloids and derivatives\n"
     ]
    },
    {
     "name": "stderr",
     "output_type": "stream",
     "text": [
      "/home/hsilva/Tese/ML/aux_functions/sampling.py:9: FutureWarning: The default dtype for empty Series will be 'object' instead of 'float64' in a future version. Specify a dtype explicitly to silence this warning.\n",
      "  class_sampled = pd.Series()\n",
      "/home/hsilva/Tese/ML/aux_functions/sampling.py:9: FutureWarning: The default dtype for empty Series will be 'object' instead of 'float64' in a future version. Specify a dtype explicitly to silence this warning.\n",
      "  class_sampled = pd.Series()\n"
     ]
    },
    {
     "name": "stdout",
     "output_type": "stream",
     "text": [
      "0.9178113553113554\n",
      "Pos size= 1092\n",
      "Neg size= 2184\n",
      "Balanced accuracy (cv-train) -> 0.9880952380952381\n",
      "Balanced accuracy (cv-val) -> 0.9178113553113554\n",
      "Balanced accuracy (test) -> 0.9270430454089672\n",
      "False\n",
      "ObyO\n",
      "2\n",
      "Allenes\n"
     ]
    },
    {
     "name": "stderr",
     "output_type": "stream",
     "text": [
      "/home/hsilva/Tese/ML/aux_functions/sampling.py:9: FutureWarning: The default dtype for empty Series will be 'object' instead of 'float64' in a future version. Specify a dtype explicitly to silence this warning.\n",
      "  class_sampled = pd.Series()\n",
      "/home/hsilva/Tese/ML/aux_functions/sampling.py:9: FutureWarning: The default dtype for empty Series will be 'object' instead of 'float64' in a future version. Specify a dtype explicitly to silence this warning.\n",
      "  class_sampled = pd.Series()\n"
     ]
    },
    {
     "name": "stdout",
     "output_type": "stream",
     "text": [
      "0.8964646464646465\n",
      "Pos size= 7\n",
      "Neg size= 100\n",
      "Balanced accuracy (cv-train) -> 0.9333333333333332\n",
      "Balanced accuracy (cv-val) -> 0.8964646464646465\n",
      "Balanced accuracy (test) -> 0.8333333333333333\n",
      "False\n",
      "ObyO\n",
      "2\n",
      "Benzenoids\n"
     ]
    },
    {
     "name": "stderr",
     "output_type": "stream",
     "text": [
      "/home/hsilva/Tese/ML/aux_functions/sampling.py:9: FutureWarning: The default dtype for empty Series will be 'object' instead of 'float64' in a future version. Specify a dtype explicitly to silence this warning.\n",
      "  class_sampled = pd.Series()\n",
      "/home/hsilva/Tese/ML/aux_functions/sampling.py:9: FutureWarning: The default dtype for empty Series will be 'object' instead of 'float64' in a future version. Specify a dtype explicitly to silence this warning.\n",
      "  class_sampled = pd.Series()\n"
     ]
    },
    {
     "name": "stdout",
     "output_type": "stream",
     "text": [
      "0.7602503449635325\n",
      "Pos size= 10146\n",
      "Neg size= 20292\n",
      "Balanced accuracy (cv-train) -> 0.952629114922137\n",
      "Balanced accuracy (cv-val) -> 0.7602503449635325\n",
      "Balanced accuracy (test) -> 0.8109390881123584\n",
      "False\n",
      "ObyO\n",
      "2\n",
      "Hydrocarbon derivatives\n"
     ]
    },
    {
     "name": "stderr",
     "output_type": "stream",
     "text": [
      "/home/hsilva/Tese/ML/aux_functions/sampling.py:9: FutureWarning: The default dtype for empty Series will be 'object' instead of 'float64' in a future version. Specify a dtype explicitly to silence this warning.\n",
      "  class_sampled = pd.Series()\n",
      "/home/hsilva/Tese/ML/aux_functions/sampling.py:9: FutureWarning: The default dtype for empty Series will be 'object' instead of 'float64' in a future version. Specify a dtype explicitly to silence this warning.\n",
      "  class_sampled = pd.Series()\n"
     ]
    },
    {
     "name": "stdout",
     "output_type": "stream",
     "text": [
      "0.8316993464052288\n",
      "Pos size= 35\n",
      "Neg size= 100\n",
      "Balanced accuracy (cv-train) -> 0.992499623096638\n",
      "Balanced accuracy (cv-val) -> 0.8316993464052288\n",
      "Balanced accuracy (test) -> 0.6805263157894736\n",
      "False\n",
      "ObyO\n",
      "2\n",
      "Hydrocarbons\n"
     ]
    },
    {
     "name": "stderr",
     "output_type": "stream",
     "text": [
      "/home/hsilva/Tese/ML/aux_functions/sampling.py:9: FutureWarning: The default dtype for empty Series will be 'object' instead of 'float64' in a future version. Specify a dtype explicitly to silence this warning.\n",
      "  class_sampled = pd.Series()\n",
      "/home/hsilva/Tese/ML/aux_functions/sampling.py:9: FutureWarning: The default dtype for empty Series will be 'object' instead of 'float64' in a future version. Specify a dtype explicitly to silence this warning.\n",
      "  class_sampled = pd.Series()\n"
     ]
    },
    {
     "name": "stdout",
     "output_type": "stream",
     "text": [
      "0.9803921568627452\n",
      "Pos size= 612\n",
      "Neg size= 1224\n",
      "Balanced accuracy (cv-train) -> 0.9969362745098039\n",
      "Balanced accuracy (cv-val) -> 0.9803921568627452\n",
      "Balanced accuracy (test) -> 0.9806712288875947\n",
      "False\n",
      "ObyO\n",
      "2\n",
      "Lignans, neolignans and related compounds\n"
     ]
    },
    {
     "name": "stderr",
     "output_type": "stream",
     "text": [
      "/home/hsilva/Tese/ML/aux_functions/sampling.py:9: FutureWarning: The default dtype for empty Series will be 'object' instead of 'float64' in a future version. Specify a dtype explicitly to silence this warning.\n",
      "  class_sampled = pd.Series()\n",
      "/home/hsilva/Tese/ML/aux_functions/sampling.py:9: FutureWarning: The default dtype for empty Series will be 'object' instead of 'float64' in a future version. Specify a dtype explicitly to silence this warning.\n",
      "  class_sampled = pd.Series()\n"
     ]
    },
    {
     "name": "stdout",
     "output_type": "stream",
     "text": [
      "0.9431246364165213\n",
      "Pos size= 286\n",
      "Neg size= 572\n",
      "Balanced accuracy (cv-train) -> 0.9912602547718183\n",
      "Balanced accuracy (cv-val) -> 0.9431246364165213\n",
      "Balanced accuracy (test) -> 0.9554195804195804\n",
      "False\n",
      "ObyO\n",
      "2\n",
      "Lipids and lipid-like molecules\n",
      "0.9698765068723395\n",
      "Pos size= 133382\n",
      "Neg size= 59878\n",
      "Balanced accuracy (cv-train) -> 0.9814733301532205\n",
      "Balanced accuracy (cv-val) -> 0.9698765068723395\n",
      "Balanced accuracy (test) -> 0.9706897580521074\n",
      "False\n",
      "ObyO\n",
      "2\n",
      "Nucleosides, nucleotides, and analogues\n"
     ]
    },
    {
     "name": "stderr",
     "output_type": "stream",
     "text": [
      "/home/hsilva/Tese/ML/aux_functions/sampling.py:9: FutureWarning: The default dtype for empty Series will be 'object' instead of 'float64' in a future version. Specify a dtype explicitly to silence this warning.\n",
      "  class_sampled = pd.Series()\n",
      "/home/hsilva/Tese/ML/aux_functions/sampling.py:9: FutureWarning: The default dtype for empty Series will be 'object' instead of 'float64' in a future version. Specify a dtype explicitly to silence this warning.\n",
      "  class_sampled = pd.Series()\n"
     ]
    },
    {
     "name": "stdout",
     "output_type": "stream",
     "text": [
      "0.9406218954161437\n",
      "Pos size= 935\n",
      "Neg size= 1870\n",
      "Balanced accuracy (cv-train) -> 0.9990639922115915\n",
      "Balanced accuracy (cv-val) -> 0.9406218954161437\n",
      "Balanced accuracy (test) -> 0.9567545477897392\n",
      "False\n",
      "ObyO\n",
      "2\n",
      "Organic 1,3-dipolar compounds\n"
     ]
    },
    {
     "name": "stderr",
     "output_type": "stream",
     "text": [
      "/home/hsilva/Tese/ML/aux_functions/sampling.py:9: FutureWarning: The default dtype for empty Series will be 'object' instead of 'float64' in a future version. Specify a dtype explicitly to silence this warning.\n",
      "  class_sampled = pd.Series()\n",
      "/home/hsilva/Tese/ML/aux_functions/sampling.py:9: FutureWarning: The default dtype for empty Series will be 'object' instead of 'float64' in a future version. Specify a dtype explicitly to silence this warning.\n",
      "  class_sampled = pd.Series()\n"
     ]
    },
    {
     "name": "stdout",
     "output_type": "stream",
     "text": [
      "0.912878787878788\n",
      "Pos size= 66\n",
      "Neg size= 132\n",
      "Balanced accuracy (cv-train) -> 1.0\n",
      "Balanced accuracy (cv-val) -> 0.912878787878788\n",
      "Balanced accuracy (test) -> 0.8939393939393939\n",
      "False\n",
      "ObyO\n",
      "2\n",
      "Organic Polymers\n"
     ]
    },
    {
     "name": "stderr",
     "output_type": "stream",
     "text": [
      "/home/hsilva/Tese/ML/aux_functions/sampling.py:9: FutureWarning: The default dtype for empty Series will be 'object' instead of 'float64' in a future version. Specify a dtype explicitly to silence this warning.\n",
      "  class_sampled = pd.Series()\n",
      "/home/hsilva/Tese/ML/aux_functions/sampling.py:9: FutureWarning: The default dtype for empty Series will be 'object' instead of 'float64' in a future version. Specify a dtype explicitly to silence this warning.\n",
      "  class_sampled = pd.Series()\n"
     ]
    },
    {
     "name": "stdout",
     "output_type": "stream",
     "text": [
      "0.9940366972477065\n",
      "Pos size= 1635\n",
      "Neg size= 3270\n",
      "Balanced accuracy (cv-train) -> 0.9995412844036697\n",
      "Balanced accuracy (cv-val) -> 0.9940366972477065\n",
      "Balanced accuracy (test) -> 0.9960070116329365\n",
      "False\n",
      "ObyO\n",
      "2\n",
      "Organic acids and derivatives\n"
     ]
    },
    {
     "name": "stderr",
     "output_type": "stream",
     "text": [
      "/home/hsilva/Tese/ML/aux_functions/sampling.py:9: FutureWarning: The default dtype for empty Series will be 'object' instead of 'float64' in a future version. Specify a dtype explicitly to silence this warning.\n",
      "  class_sampled = pd.Series()\n",
      "/home/hsilva/Tese/ML/aux_functions/sampling.py:9: FutureWarning: The default dtype for empty Series will be 'object' instead of 'float64' in a future version. Specify a dtype explicitly to silence this warning.\n",
      "  class_sampled = pd.Series()\n"
     ]
    },
    {
     "name": "stdout",
     "output_type": "stream",
     "text": [
      "0.8508869179600888\n",
      "Pos size= 12177\n",
      "Neg size= 24354\n",
      "Balanced accuracy (cv-train) -> 0.976851851851852\n",
      "Balanced accuracy (cv-val) -> 0.8508869179600888\n",
      "Balanced accuracy (test) -> 0.8844810544907358\n",
      "False\n",
      "ObyO\n",
      "2\n",
      "Organic compounds - Unspecified\n"
     ]
    },
    {
     "name": "stderr",
     "output_type": "stream",
     "text": [
      "/home/hsilva/Tese/ML/aux_functions/sampling.py:9: FutureWarning: The default dtype for empty Series will be 'object' instead of 'float64' in a future version. Specify a dtype explicitly to silence this warning.\n",
      "  class_sampled = pd.Series()\n",
      "/home/hsilva/Tese/ML/aux_functions/sampling.py:9: FutureWarning: The default dtype for empty Series will be 'object' instead of 'float64' in a future version. Specify a dtype explicitly to silence this warning.\n",
      "  class_sampled = pd.Series()\n"
     ]
    },
    {
     "name": "stdout",
     "output_type": "stream",
     "text": [
      "0.6592394533571004\n",
      "Pos size= 19\n",
      "Neg size= 100\n",
      "Balanced accuracy (cv-train) -> 0.9376601839288407\n",
      "Balanced accuracy (cv-val) -> 0.6592394533571004\n",
      "Balanced accuracy (test) -> 0.76\n",
      "False\n",
      "ObyO\n",
      "2\n",
      "Organic nitrogen compounds\n"
     ]
    },
    {
     "name": "stderr",
     "output_type": "stream",
     "text": [
      "/home/hsilva/Tese/ML/aux_functions/sampling.py:9: FutureWarning: The default dtype for empty Series will be 'object' instead of 'float64' in a future version. Specify a dtype explicitly to silence this warning.\n",
      "  class_sampled = pd.Series()\n",
      "/home/hsilva/Tese/ML/aux_functions/sampling.py:9: FutureWarning: The default dtype for empty Series will be 'object' instead of 'float64' in a future version. Specify a dtype explicitly to silence this warning.\n",
      "  class_sampled = pd.Series()\n"
     ]
    },
    {
     "name": "stdout",
     "output_type": "stream",
     "text": [
      "0.8404166666666666\n",
      "Pos size= 1200\n",
      "Neg size= 2400\n",
      "Balanced accuracy (cv-train) -> 0.9944791666666667\n",
      "Balanced accuracy (cv-val) -> 0.8404166666666666\n",
      "Balanced accuracy (test) -> 0.869761101742552\n",
      "False\n",
      "ObyO\n",
      "2\n",
      "Organic oxygen compounds\n"
     ]
    },
    {
     "name": "stderr",
     "output_type": "stream",
     "text": [
      "/home/hsilva/Tese/ML/aux_functions/sampling.py:9: FutureWarning: The default dtype for empty Series will be 'object' instead of 'float64' in a future version. Specify a dtype explicitly to silence this warning.\n",
      "  class_sampled = pd.Series()\n",
      "/home/hsilva/Tese/ML/aux_functions/sampling.py:9: FutureWarning: The default dtype for empty Series will be 'object' instead of 'float64' in a future version. Specify a dtype explicitly to silence this warning.\n",
      "  class_sampled = pd.Series()\n"
     ]
    },
    {
     "name": "stdout",
     "output_type": "stream",
     "text": [
      "0.7704472448727454\n",
      "Pos size= 8094\n",
      "Neg size= 16188\n",
      "Balanced accuracy (cv-train) -> 0.974193847294292\n",
      "Balanced accuracy (cv-val) -> 0.7704472448727454\n",
      "Balanced accuracy (test) -> 0.8712465150140639\n",
      "False\n",
      "ObyO\n",
      "2\n",
      "Organic salts\n"
     ]
    },
    {
     "name": "stderr",
     "output_type": "stream",
     "text": [
      "/home/hsilva/Tese/ML/aux_functions/sampling.py:9: FutureWarning: The default dtype for empty Series will be 'object' instead of 'float64' in a future version. Specify a dtype explicitly to silence this warning.\n",
      "  class_sampled = pd.Series()\n",
      "/home/hsilva/Tese/ML/aux_functions/sampling.py:9: FutureWarning: The default dtype for empty Series will be 'object' instead of 'float64' in a future version. Specify a dtype explicitly to silence this warning.\n",
      "  class_sampled = pd.Series()\n"
     ]
    },
    {
     "name": "stdout",
     "output_type": "stream",
     "text": [
      "0.9660894660894662\n",
      "Pos size= 43\n",
      "Neg size= 100\n",
      "Balanced accuracy (cv-train) -> 1.0\n",
      "Balanced accuracy (cv-val) -> 0.9660894660894662\n",
      "Balanced accuracy (test) -> 0.9761904761904762\n",
      "False\n",
      "ObyO\n",
      "2\n",
      "Organohalogen compounds\n"
     ]
    },
    {
     "name": "stderr",
     "output_type": "stream",
     "text": [
      "/home/hsilva/Tese/ML/aux_functions/sampling.py:9: FutureWarning: The default dtype for empty Series will be 'object' instead of 'float64' in a future version. Specify a dtype explicitly to silence this warning.\n",
      "  class_sampled = pd.Series()\n",
      "/home/hsilva/Tese/ML/aux_functions/sampling.py:9: FutureWarning: The default dtype for empty Series will be 'object' instead of 'float64' in a future version. Specify a dtype explicitly to silence this warning.\n",
      "  class_sampled = pd.Series()\n"
     ]
    },
    {
     "name": "stdout",
     "output_type": "stream",
     "text": [
      "0.985128326247835\n",
      "Pos size= 218\n",
      "Neg size= 436\n",
      "Balanced accuracy (cv-train) -> 1.0\n",
      "Balanced accuracy (cv-val) -> 0.985128326247835\n",
      "Balanced accuracy (test) -> 0.9737489574645538\n",
      "False\n",
      "ObyO\n",
      "2\n",
      "Organoheterocyclic compounds\n"
     ]
    },
    {
     "name": "stderr",
     "output_type": "stream",
     "text": [
      "/home/hsilva/Tese/ML/aux_functions/sampling.py:9: FutureWarning: The default dtype for empty Series will be 'object' instead of 'float64' in a future version. Specify a dtype explicitly to silence this warning.\n",
      "  class_sampled = pd.Series()\n",
      "/home/hsilva/Tese/ML/aux_functions/sampling.py:9: FutureWarning: The default dtype for empty Series will be 'object' instead of 'float64' in a future version. Specify a dtype explicitly to silence this warning.\n",
      "  class_sampled = pd.Series()\n"
     ]
    },
    {
     "name": "stdout",
     "output_type": "stream",
     "text": [
      "0.7093209357015695\n",
      "Pos size= 14296\n",
      "Neg size= 28592\n",
      "Balanced accuracy (cv-train) -> 0.9442588495841573\n",
      "Balanced accuracy (cv-val) -> 0.7093209357015695\n",
      "Balanced accuracy (test) -> 0.7929453671391526\n",
      "False\n",
      "ObyO\n",
      "2\n",
      "Organometallic compounds\n"
     ]
    },
    {
     "name": "stderr",
     "output_type": "stream",
     "text": [
      "/home/hsilva/Tese/ML/aux_functions/sampling.py:9: FutureWarning: The default dtype for empty Series will be 'object' instead of 'float64' in a future version. Specify a dtype explicitly to silence this warning.\n",
      "  class_sampled = pd.Series()\n",
      "/home/hsilva/Tese/ML/aux_functions/sampling.py:9: FutureWarning: The default dtype for empty Series will be 'object' instead of 'float64' in a future version. Specify a dtype explicitly to silence this warning.\n",
      "  class_sampled = pd.Series()\n"
     ]
    },
    {
     "name": "stdout",
     "output_type": "stream",
     "text": [
      "0.9349446958270488\n",
      "Pos size= 77\n",
      "Neg size= 154\n",
      "Balanced accuracy (cv-train) -> 0.9983660130718954\n",
      "Balanced accuracy (cv-val) -> 0.9349446958270488\n",
      "Balanced accuracy (test) -> 0.9734994734994735\n",
      "False\n",
      "ObyO\n",
      "2\n",
      "Organophosphorus compounds\n"
     ]
    },
    {
     "name": "stderr",
     "output_type": "stream",
     "text": [
      "/home/hsilva/Tese/ML/aux_functions/sampling.py:9: FutureWarning: The default dtype for empty Series will be 'object' instead of 'float64' in a future version. Specify a dtype explicitly to silence this warning.\n",
      "  class_sampled = pd.Series()\n",
      "/home/hsilva/Tese/ML/aux_functions/sampling.py:9: FutureWarning: The default dtype for empty Series will be 'object' instead of 'float64' in a future version. Specify a dtype explicitly to silence this warning.\n",
      "  class_sampled = pd.Series()\n"
     ]
    },
    {
     "name": "stdout",
     "output_type": "stream",
     "text": [
      "0.9848484848484849\n",
      "Pos size= 27\n",
      "Neg size= 100\n",
      "Balanced accuracy (cv-train) -> 1.0\n",
      "Balanced accuracy (cv-val) -> 0.9848484848484849\n",
      "Balanced accuracy (test) -> 1.0\n",
      "False\n",
      "ObyO\n",
      "2\n",
      "Organosulfur compounds\n"
     ]
    },
    {
     "name": "stderr",
     "output_type": "stream",
     "text": [
      "/home/hsilva/Tese/ML/aux_functions/sampling.py:9: FutureWarning: The default dtype for empty Series will be 'object' instead of 'float64' in a future version. Specify a dtype explicitly to silence this warning.\n",
      "  class_sampled = pd.Series()\n",
      "/home/hsilva/Tese/ML/aux_functions/sampling.py:9: FutureWarning: The default dtype for empty Series will be 'object' instead of 'float64' in a future version. Specify a dtype explicitly to silence this warning.\n",
      "  class_sampled = pd.Series()\n"
     ]
    },
    {
     "name": "stdout",
     "output_type": "stream",
     "text": [
      "0.9636373558464425\n",
      "Pos size= 481\n",
      "Neg size= 962\n",
      "Balanced accuracy (cv-train) -> 0.9888288677964564\n",
      "Balanced accuracy (cv-val) -> 0.9636373558464425\n",
      "Balanced accuracy (test) -> 0.9649820851948512\n",
      "False\n",
      "ObyO\n",
      "2\n",
      "Phenylpropanoids and polyketides\n"
     ]
    },
    {
     "name": "stderr",
     "output_type": "stream",
     "text": [
      "/home/hsilva/Tese/ML/aux_functions/sampling.py:9: FutureWarning: The default dtype for empty Series will be 'object' instead of 'float64' in a future version. Specify a dtype explicitly to silence this warning.\n",
      "  class_sampled = pd.Series()\n",
      "/home/hsilva/Tese/ML/aux_functions/sampling.py:9: FutureWarning: The default dtype for empty Series will be 'object' instead of 'float64' in a future version. Specify a dtype explicitly to silence this warning.\n",
      "  class_sampled = pd.Series()\n"
     ]
    },
    {
     "name": "stdout",
     "output_type": "stream",
     "text": [
      "0.8872653837015919\n",
      "Pos size= 8418\n",
      "Neg size= 16836\n",
      "Balanced accuracy (cv-train) -> 0.9775035637918745\n",
      "Balanced accuracy (cv-val) -> 0.8872653837015919\n",
      "Balanced accuracy (test) -> 0.9051339404673123\n",
      "False\n",
      "ObyO\n",
      "3\n",
      "Acetylides\n"
     ]
    },
    {
     "name": "stderr",
     "output_type": "stream",
     "text": [
      "/home/hsilva/Tese/ML/aux_functions/sampling.py:9: FutureWarning: The default dtype for empty Series will be 'object' instead of 'float64' in a future version. Specify a dtype explicitly to silence this warning.\n",
      "  class_sampled = pd.Series()\n",
      "/home/hsilva/Tese/ML/aux_functions/sampling.py:9: FutureWarning: The default dtype for empty Series will be 'object' instead of 'float64' in a future version. Specify a dtype explicitly to silence this warning.\n",
      "  class_sampled = pd.Series()\n"
     ]
    },
    {
     "name": "stdout",
     "output_type": "stream",
     "text": [
      "0.8833333333333333\n",
      "Pos size= 14\n",
      "Neg size= 150\n",
      "Balanced accuracy (cv-train) -> 0.965\n",
      "Balanced accuracy (cv-val) -> 0.8833333333333333\n",
      "Balanced accuracy (test) -> 0.8885714285714286\n",
      "False\n",
      "ObyO\n",
      "3\n",
      "Alkaloids and derivatives\n"
     ]
    },
    {
     "name": "stderr",
     "output_type": "stream",
     "text": [
      "/home/hsilva/Tese/ML/aux_functions/sampling.py:9: FutureWarning: The default dtype for empty Series will be 'object' instead of 'float64' in a future version. Specify a dtype explicitly to silence this warning.\n",
      "  class_sampled = pd.Series()\n",
      "/home/hsilva/Tese/ML/aux_functions/sampling.py:9: FutureWarning: The default dtype for empty Series will be 'object' instead of 'float64' in a future version. Specify a dtype explicitly to silence this warning.\n",
      "  class_sampled = pd.Series()\n"
     ]
    },
    {
     "name": "stdout",
     "output_type": "stream",
     "text": [
      "0.9169719169719169\n",
      "Pos size= 1092\n",
      "Neg size= 3276\n",
      "Balanced accuracy (cv-train) -> 0.9802350427350429\n",
      "Balanced accuracy (cv-val) -> 0.9169719169719169\n",
      "Balanced accuracy (test) -> 0.9265702484976228\n",
      "False\n",
      "ObyO\n",
      "3\n",
      "Allenes\n"
     ]
    },
    {
     "name": "stderr",
     "output_type": "stream",
     "text": [
      "/home/hsilva/Tese/ML/aux_functions/sampling.py:9: FutureWarning: The default dtype for empty Series will be 'object' instead of 'float64' in a future version. Specify a dtype explicitly to silence this warning.\n",
      "  class_sampled = pd.Series()\n",
      "/home/hsilva/Tese/ML/aux_functions/sampling.py:9: FutureWarning: The default dtype for empty Series will be 'object' instead of 'float64' in a future version. Specify a dtype explicitly to silence this warning.\n",
      "  class_sampled = pd.Series()\n"
     ]
    },
    {
     "name": "stdout",
     "output_type": "stream",
     "text": [
      "0.9166666666666666\n",
      "Pos size= 7\n",
      "Neg size= 150\n",
      "Balanced accuracy (cv-train) -> 0.9783333333333334\n",
      "Balanced accuracy (cv-val) -> 0.9166666666666666\n",
      "Balanced accuracy (test) -> 0.9533333333333334\n",
      "False\n",
      "ObyO\n",
      "3\n",
      "Benzenoids\n"
     ]
    },
    {
     "name": "stderr",
     "output_type": "stream",
     "text": [
      "/home/hsilva/Tese/ML/aux_functions/sampling.py:9: FutureWarning: The default dtype for empty Series will be 'object' instead of 'float64' in a future version. Specify a dtype explicitly to silence this warning.\n",
      "  class_sampled = pd.Series()\n",
      "/home/hsilva/Tese/ML/aux_functions/sampling.py:9: FutureWarning: The default dtype for empty Series will be 'object' instead of 'float64' in a future version. Specify a dtype explicitly to silence this warning.\n",
      "  class_sampled = pd.Series()\n"
     ]
    },
    {
     "name": "stdout",
     "output_type": "stream",
     "text": [
      "0.7507227807346081\n",
      "Pos size= 10146\n",
      "Neg size= 30438\n",
      "Balanced accuracy (cv-train) -> 0.942284315658059\n",
      "Balanced accuracy (cv-val) -> 0.7507227807346081\n",
      "Balanced accuracy (test) -> 0.8026112747875018\n",
      "False\n",
      "ObyO\n",
      "3\n",
      "Hydrocarbon derivatives\n"
     ]
    },
    {
     "name": "stderr",
     "output_type": "stream",
     "text": [
      "/home/hsilva/Tese/ML/aux_functions/sampling.py:9: FutureWarning: The default dtype for empty Series will be 'object' instead of 'float64' in a future version. Specify a dtype explicitly to silence this warning.\n",
      "  class_sampled = pd.Series()\n",
      "/home/hsilva/Tese/ML/aux_functions/sampling.py:9: FutureWarning: The default dtype for empty Series will be 'object' instead of 'float64' in a future version. Specify a dtype explicitly to silence this warning.\n",
      "  class_sampled = pd.Series()\n"
     ]
    },
    {
     "name": "stdout",
     "output_type": "stream",
     "text": [
      "0.8702525252525253\n",
      "Pos size= 35\n",
      "Neg size= 150\n",
      "Balanced accuracy (cv-train) -> 0.9983333333333334\n",
      "Balanced accuracy (cv-val) -> 0.8702525252525253\n",
      "Balanced accuracy (test) -> 0.6971929824561404\n",
      "False\n",
      "ObyO\n",
      "3\n",
      "Hydrocarbons\n"
     ]
    },
    {
     "name": "stderr",
     "output_type": "stream",
     "text": [
      "/home/hsilva/Tese/ML/aux_functions/sampling.py:9: FutureWarning: The default dtype for empty Series will be 'object' instead of 'float64' in a future version. Specify a dtype explicitly to silence this warning.\n",
      "  class_sampled = pd.Series()\n",
      "/home/hsilva/Tese/ML/aux_functions/sampling.py:9: FutureWarning: The default dtype for empty Series will be 'object' instead of 'float64' in a future version. Specify a dtype explicitly to silence this warning.\n",
      "  class_sampled = pd.Series()\n"
     ]
    },
    {
     "name": "stdout",
     "output_type": "stream",
     "text": [
      "0.9842047930283225\n",
      "Pos size= 612\n",
      "Neg size= 1836\n",
      "Balanced accuracy (cv-train) -> 0.9978213507625272\n",
      "Balanced accuracy (cv-val) -> 0.9842047930283225\n",
      "Balanced accuracy (test) -> 0.9807912163765395\n",
      "False\n",
      "ObyO\n",
      "3\n",
      "Lignans, neolignans and related compounds\n"
     ]
    },
    {
     "name": "stderr",
     "output_type": "stream",
     "text": [
      "/home/hsilva/Tese/ML/aux_functions/sampling.py:9: FutureWarning: The default dtype for empty Series will be 'object' instead of 'float64' in a future version. Specify a dtype explicitly to silence this warning.\n",
      "  class_sampled = pd.Series()\n",
      "/home/hsilva/Tese/ML/aux_functions/sampling.py:9: FutureWarning: The default dtype for empty Series will be 'object' instead of 'float64' in a future version. Specify a dtype explicitly to silence this warning.\n",
      "  class_sampled = pd.Series()\n"
     ]
    },
    {
     "name": "stdout",
     "output_type": "stream",
     "text": [
      "0.9475033738191634\n",
      "Pos size= 286\n",
      "Neg size= 858\n",
      "Balanced accuracy (cv-train) -> 0.9886363636363636\n",
      "Balanced accuracy (cv-val) -> 0.9475033738191634\n",
      "Balanced accuracy (test) -> 0.9557109557109558\n",
      "False\n",
      "ObyO\n",
      "3\n",
      "Lipids and lipid-like molecules\n",
      "0.9698765068723395\n",
      "Pos size= 133382\n",
      "Neg size= 59878\n",
      "Balanced accuracy (cv-train) -> 0.9814733301532205\n",
      "Balanced accuracy (cv-val) -> 0.9698765068723395\n",
      "Balanced accuracy (test) -> 0.9706897580521074\n",
      "False\n",
      "ObyO\n",
      "3\n",
      "Nucleosides, nucleotides, and analogues\n"
     ]
    },
    {
     "name": "stderr",
     "output_type": "stream",
     "text": [
      "/home/hsilva/Tese/ML/aux_functions/sampling.py:9: FutureWarning: The default dtype for empty Series will be 'object' instead of 'float64' in a future version. Specify a dtype explicitly to silence this warning.\n",
      "  class_sampled = pd.Series()\n",
      "/home/hsilva/Tese/ML/aux_functions/sampling.py:9: FutureWarning: The default dtype for empty Series will be 'object' instead of 'float64' in a future version. Specify a dtype explicitly to silence this warning.\n",
      "  class_sampled = pd.Series()\n"
     ]
    },
    {
     "name": "stdout",
     "output_type": "stream",
     "text": [
      "0.9429537827093152\n",
      "Pos size= 935\n",
      "Neg size= 2805\n",
      "Balanced accuracy (cv-train) -> 0.9990196078431373\n",
      "Balanced accuracy (cv-val) -> 0.9429537827093152\n",
      "Balanced accuracy (test) -> 0.9530116214806685\n",
      "False\n",
      "ObyO\n",
      "3\n",
      "Organic 1,3-dipolar compounds\n"
     ]
    },
    {
     "name": "stderr",
     "output_type": "stream",
     "text": [
      "/home/hsilva/Tese/ML/aux_functions/sampling.py:9: FutureWarning: The default dtype for empty Series will be 'object' instead of 'float64' in a future version. Specify a dtype explicitly to silence this warning.\n",
      "  class_sampled = pd.Series()\n",
      "/home/hsilva/Tese/ML/aux_functions/sampling.py:9: FutureWarning: The default dtype for empty Series will be 'object' instead of 'float64' in a future version. Specify a dtype explicitly to silence this warning.\n",
      "  class_sampled = pd.Series()\n"
     ]
    },
    {
     "name": "stdout",
     "output_type": "stream",
     "text": [
      "0.904040404040404\n",
      "Pos size= 66\n",
      "Neg size= 198\n",
      "Balanced accuracy (cv-train) -> 1.0\n",
      "Balanced accuracy (cv-val) -> 0.904040404040404\n",
      "Balanced accuracy (test) -> 0.8813131313131313\n",
      "False\n",
      "ObyO\n",
      "3\n",
      "Organic Polymers\n"
     ]
    },
    {
     "name": "stderr",
     "output_type": "stream",
     "text": [
      "/home/hsilva/Tese/ML/aux_functions/sampling.py:9: FutureWarning: The default dtype for empty Series will be 'object' instead of 'float64' in a future version. Specify a dtype explicitly to silence this warning.\n",
      "  class_sampled = pd.Series()\n",
      "/home/hsilva/Tese/ML/aux_functions/sampling.py:9: FutureWarning: The default dtype for empty Series will be 'object' instead of 'float64' in a future version. Specify a dtype explicitly to silence this warning.\n",
      "  class_sampled = pd.Series()\n"
     ]
    },
    {
     "name": "stdout",
     "output_type": "stream",
     "text": [
      "0.9953109072375129\n",
      "Pos size= 1635\n",
      "Neg size= 4905\n",
      "Balanced accuracy (cv-train) -> 0.9985219164118248\n",
      "Balanced accuracy (cv-val) -> 0.9953109072375129\n",
      "Balanced accuracy (test) -> 0.9947924966421564\n",
      "False\n",
      "ObyO\n",
      "3\n",
      "Organic acids and derivatives\n"
     ]
    },
    {
     "name": "stderr",
     "output_type": "stream",
     "text": [
      "/home/hsilva/Tese/ML/aux_functions/sampling.py:9: FutureWarning: The default dtype for empty Series will be 'object' instead of 'float64' in a future version. Specify a dtype explicitly to silence this warning.\n",
      "  class_sampled = pd.Series()\n",
      "/home/hsilva/Tese/ML/aux_functions/sampling.py:9: FutureWarning: The default dtype for empty Series will be 'object' instead of 'float64' in a future version. Specify a dtype explicitly to silence this warning.\n",
      "  class_sampled = pd.Series()\n"
     ]
    },
    {
     "name": "stdout",
     "output_type": "stream",
     "text": [
      "0.8455558292956665\n",
      "Pos size= 12177\n",
      "Neg size= 36531\n",
      "Balanced accuracy (cv-train) -> 0.9757808436670227\n",
      "Balanced accuracy (cv-val) -> 0.8455558292956665\n",
      "Balanced accuracy (test) -> 0.8827639014003095\n",
      "False\n",
      "ObyO\n",
      "3\n",
      "Organic compounds - Unspecified\n"
     ]
    },
    {
     "name": "stderr",
     "output_type": "stream",
     "text": [
      "/home/hsilva/Tese/ML/aux_functions/sampling.py:9: FutureWarning: The default dtype for empty Series will be 'object' instead of 'float64' in a future version. Specify a dtype explicitly to silence this warning.\n",
      "  class_sampled = pd.Series()\n",
      "/home/hsilva/Tese/ML/aux_functions/sampling.py:9: FutureWarning: The default dtype for empty Series will be 'object' instead of 'float64' in a future version. Specify a dtype explicitly to silence this warning.\n",
      "  class_sampled = pd.Series()\n"
     ]
    },
    {
     "name": "stdout",
     "output_type": "stream",
     "text": [
      "0.7147619047619047\n",
      "Pos size= 19\n",
      "Neg size= 150\n",
      "Balanced accuracy (cv-train) -> 1.0\n",
      "Balanced accuracy (cv-val) -> 0.7147619047619047\n",
      "Balanced accuracy (test) -> 0.6366666666666667\n",
      "False\n",
      "ObyO\n",
      "3\n",
      "Organic nitrogen compounds\n"
     ]
    },
    {
     "name": "stderr",
     "output_type": "stream",
     "text": [
      "/home/hsilva/Tese/ML/aux_functions/sampling.py:9: FutureWarning: The default dtype for empty Series will be 'object' instead of 'float64' in a future version. Specify a dtype explicitly to silence this warning.\n",
      "  class_sampled = pd.Series()\n",
      "/home/hsilva/Tese/ML/aux_functions/sampling.py:9: FutureWarning: The default dtype for empty Series will be 'object' instead of 'float64' in a future version. Specify a dtype explicitly to silence this warning.\n",
      "  class_sampled = pd.Series()\n"
     ]
    },
    {
     "name": "stdout",
     "output_type": "stream",
     "text": [
      "0.8418055555555556\n",
      "Pos size= 1200\n",
      "Neg size= 3600\n",
      "Balanced accuracy (cv-train) -> 0.9840972222222222\n",
      "Balanced accuracy (cv-val) -> 0.8418055555555556\n",
      "Balanced accuracy (test) -> 0.8842315439385422\n",
      "False\n",
      "ObyO\n",
      "3\n",
      "Organic oxygen compounds\n"
     ]
    },
    {
     "name": "stderr",
     "output_type": "stream",
     "text": [
      "/home/hsilva/Tese/ML/aux_functions/sampling.py:9: FutureWarning: The default dtype for empty Series will be 'object' instead of 'float64' in a future version. Specify a dtype explicitly to silence this warning.\n",
      "  class_sampled = pd.Series()\n",
      "/home/hsilva/Tese/ML/aux_functions/sampling.py:9: FutureWarning: The default dtype for empty Series will be 'object' instead of 'float64' in a future version. Specify a dtype explicitly to silence this warning.\n",
      "  class_sampled = pd.Series()\n"
     ]
    },
    {
     "name": "stdout",
     "output_type": "stream",
     "text": [
      "0.7888353512890207\n",
      "Pos size= 8094\n",
      "Neg size= 24282\n",
      "Balanced accuracy (cv-train) -> 0.970657276995305\n",
      "Balanced accuracy (cv-val) -> 0.7888353512890207\n",
      "Balanced accuracy (test) -> 0.8657133423865169\n",
      "False\n",
      "ObyO\n",
      "3\n",
      "Organic salts\n"
     ]
    },
    {
     "name": "stderr",
     "output_type": "stream",
     "text": [
      "/home/hsilva/Tese/ML/aux_functions/sampling.py:9: FutureWarning: The default dtype for empty Series will be 'object' instead of 'float64' in a future version. Specify a dtype explicitly to silence this warning.\n",
      "  class_sampled = pd.Series()\n",
      "/home/hsilva/Tese/ML/aux_functions/sampling.py:9: FutureWarning: The default dtype for empty Series will be 'object' instead of 'float64' in a future version. Specify a dtype explicitly to silence this warning.\n",
      "  class_sampled = pd.Series()\n"
     ]
    },
    {
     "name": "stdout",
     "output_type": "stream",
     "text": [
      "0.9714285714285715\n",
      "Pos size= 43\n",
      "Neg size= 150\n",
      "Balanced accuracy (cv-train) -> 0.9933333333333333\n",
      "Balanced accuracy (cv-val) -> 0.9714285714285715\n",
      "Balanced accuracy (test) -> 0.9866666666666667\n",
      "False\n",
      "ObyO\n",
      "3\n",
      "Organohalogen compounds\n"
     ]
    },
    {
     "name": "stderr",
     "output_type": "stream",
     "text": [
      "/home/hsilva/Tese/ML/aux_functions/sampling.py:9: FutureWarning: The default dtype for empty Series will be 'object' instead of 'float64' in a future version. Specify a dtype explicitly to silence this warning.\n",
      "  class_sampled = pd.Series()\n",
      "/home/hsilva/Tese/ML/aux_functions/sampling.py:9: FutureWarning: The default dtype for empty Series will be 'object' instead of 'float64' in a future version. Specify a dtype explicitly to silence this warning.\n",
      "  class_sampled = pd.Series()\n"
     ]
    },
    {
     "name": "stdout",
     "output_type": "stream",
     "text": [
      "0.9762674025665731\n",
      "Pos size= 218\n",
      "Neg size= 654\n",
      "Balanced accuracy (cv-train) -> 1.0\n",
      "Balanced accuracy (cv-val) -> 0.9762674025665731\n",
      "Balanced accuracy (test) -> 0.9749374478732277\n",
      "False\n",
      "ObyO\n",
      "3\n",
      "Organoheterocyclic compounds\n"
     ]
    },
    {
     "name": "stderr",
     "output_type": "stream",
     "text": [
      "/home/hsilva/Tese/ML/aux_functions/sampling.py:9: FutureWarning: The default dtype for empty Series will be 'object' instead of 'float64' in a future version. Specify a dtype explicitly to silence this warning.\n",
      "  class_sampled = pd.Series()\n",
      "/home/hsilva/Tese/ML/aux_functions/sampling.py:9: FutureWarning: The default dtype for empty Series will be 'object' instead of 'float64' in a future version. Specify a dtype explicitly to silence this warning.\n",
      "  class_sampled = pd.Series()\n"
     ]
    },
    {
     "name": "stdout",
     "output_type": "stream",
     "text": [
      "0.7145231781859032\n",
      "Pos size= 14296\n",
      "Neg size= 42888\n",
      "Balanced accuracy (cv-train) -> 0.9240230238681583\n",
      "Balanced accuracy (cv-val) -> 0.7145231781859032\n",
      "Balanced accuracy (test) -> 0.8469897575113706\n",
      "False\n",
      "ObyO\n",
      "3\n",
      "Organometallic compounds\n"
     ]
    },
    {
     "name": "stderr",
     "output_type": "stream",
     "text": [
      "/home/hsilva/Tese/ML/aux_functions/sampling.py:9: FutureWarning: The default dtype for empty Series will be 'object' instead of 'float64' in a future version. Specify a dtype explicitly to silence this warning.\n",
      "  class_sampled = pd.Series()\n",
      "/home/hsilva/Tese/ML/aux_functions/sampling.py:9: FutureWarning: The default dtype for empty Series will be 'object' instead of 'float64' in a future version. Specify a dtype explicitly to silence this warning.\n",
      "  class_sampled = pd.Series()\n"
     ]
    },
    {
     "name": "stdout",
     "output_type": "stream",
     "text": [
      "0.9089044289044289\n",
      "Pos size= 77\n",
      "Neg size= 231\n",
      "Balanced accuracy (cv-train) -> 0.9989177489177489\n",
      "Balanced accuracy (cv-val) -> 0.9089044289044289\n",
      "Balanced accuracy (test) -> 0.9734994734994735\n",
      "False\n",
      "ObyO\n",
      "3\n",
      "Organophosphorus compounds\n"
     ]
    },
    {
     "name": "stderr",
     "output_type": "stream",
     "text": [
      "/home/hsilva/Tese/ML/aux_functions/sampling.py:9: FutureWarning: The default dtype for empty Series will be 'object' instead of 'float64' in a future version. Specify a dtype explicitly to silence this warning.\n",
      "  class_sampled = pd.Series()\n",
      "/home/hsilva/Tese/ML/aux_functions/sampling.py:9: FutureWarning: The default dtype for empty Series will be 'object' instead of 'float64' in a future version. Specify a dtype explicitly to silence this warning.\n",
      "  class_sampled = pd.Series()\n"
     ]
    },
    {
     "name": "stdout",
     "output_type": "stream",
     "text": [
      "0.9781481481481481\n",
      "Pos size= 27\n",
      "Neg size= 150\n",
      "Balanced accuracy (cv-train) -> 1.0\n",
      "Balanced accuracy (cv-val) -> 0.9781481481481481\n",
      "Balanced accuracy (test) -> 0.9866666666666667\n",
      "False\n",
      "ObyO\n",
      "3\n",
      "Organosulfur compounds\n"
     ]
    },
    {
     "name": "stderr",
     "output_type": "stream",
     "text": [
      "/home/hsilva/Tese/ML/aux_functions/sampling.py:9: FutureWarning: The default dtype for empty Series will be 'object' instead of 'float64' in a future version. Specify a dtype explicitly to silence this warning.\n",
      "  class_sampled = pd.Series()\n",
      "/home/hsilva/Tese/ML/aux_functions/sampling.py:9: FutureWarning: The default dtype for empty Series will be 'object' instead of 'float64' in a future version. Specify a dtype explicitly to silence this warning.\n",
      "  class_sampled = pd.Series()\n"
     ]
    },
    {
     "name": "stdout",
     "output_type": "stream",
     "text": [
      "0.9566917072351856\n",
      "Pos size= 481\n",
      "Neg size= 1443\n",
      "Balanced accuracy (cv-train) -> 0.9838877338877339\n",
      "Balanced accuracy (cv-val) -> 0.9566917072351856\n",
      "Balanced accuracy (test) -> 0.9609486737146311\n",
      "False\n",
      "ObyO\n",
      "3\n",
      "Phenylpropanoids and polyketides\n"
     ]
    },
    {
     "name": "stderr",
     "output_type": "stream",
     "text": [
      "/home/hsilva/Tese/ML/aux_functions/sampling.py:9: FutureWarning: The default dtype for empty Series will be 'object' instead of 'float64' in a future version. Specify a dtype explicitly to silence this warning.\n",
      "  class_sampled = pd.Series()\n",
      "/home/hsilva/Tese/ML/aux_functions/sampling.py:9: FutureWarning: The default dtype for empty Series will be 'object' instead of 'float64' in a future version. Specify a dtype explicitly to silence this warning.\n",
      "  class_sampled = pd.Series()\n"
     ]
    },
    {
     "name": "stdout",
     "output_type": "stream",
     "text": [
      "0.885879464639265\n",
      "Pos size= 8418\n",
      "Neg size= 25254\n",
      "Balanced accuracy (cv-train) -> 0.9753009424249623\n",
      "Balanced accuracy (cv-val) -> 0.885879464639265\n",
      "Balanced accuracy (test) -> 0.8988320344031127\n",
      "False\n",
      "ObyO\n",
      "4\n",
      "Acetylides\n"
     ]
    },
    {
     "name": "stderr",
     "output_type": "stream",
     "text": [
      "/home/hsilva/Tese/ML/aux_functions/sampling.py:9: FutureWarning: The default dtype for empty Series will be 'object' instead of 'float64' in a future version. Specify a dtype explicitly to silence this warning.\n",
      "  class_sampled = pd.Series()\n",
      "/home/hsilva/Tese/ML/aux_functions/sampling.py:9: FutureWarning: The default dtype for empty Series will be 'object' instead of 'float64' in a future version. Specify a dtype explicitly to silence this warning.\n",
      "  class_sampled = pd.Series()\n"
     ]
    },
    {
     "name": "stdout",
     "output_type": "stream",
     "text": [
      "0.9118272274988692\n",
      "Pos size= 14\n",
      "Neg size= 200\n",
      "Balanced accuracy (cv-train) -> 0.9662495791718101\n",
      "Balanced accuracy (cv-val) -> 0.9118272274988692\n",
      "Balanced accuracy (test) -> 0.8885714285714286\n",
      "False\n",
      "ObyO\n",
      "4\n",
      "Alkaloids and derivatives\n"
     ]
    },
    {
     "name": "stderr",
     "output_type": "stream",
     "text": [
      "/home/hsilva/Tese/ML/aux_functions/sampling.py:9: FutureWarning: The default dtype for empty Series will be 'object' instead of 'float64' in a future version. Specify a dtype explicitly to silence this warning.\n",
      "  class_sampled = pd.Series()\n",
      "/home/hsilva/Tese/ML/aux_functions/sampling.py:9: FutureWarning: The default dtype for empty Series will be 'object' instead of 'float64' in a future version. Specify a dtype explicitly to silence this warning.\n",
      "  class_sampled = pd.Series()\n"
     ]
    },
    {
     "name": "stdout",
     "output_type": "stream",
     "text": [
      "0.9124313186813188\n",
      "Pos size= 1092\n",
      "Neg size= 4368\n",
      "Balanced accuracy (cv-train) -> 0.975503663003663\n",
      "Balanced accuracy (cv-val) -> 0.9124313186813188\n",
      "Balanced accuracy (test) -> 0.923051982933268\n",
      "False\n",
      "ObyO\n",
      "4\n",
      "Allenes\n"
     ]
    },
    {
     "name": "stderr",
     "output_type": "stream",
     "text": [
      "/home/hsilva/Tese/ML/aux_functions/sampling.py:9: FutureWarning: The default dtype for empty Series will be 'object' instead of 'float64' in a future version. Specify a dtype explicitly to silence this warning.\n",
      "  class_sampled = pd.Series()\n",
      "/home/hsilva/Tese/ML/aux_functions/sampling.py:9: FutureWarning: The default dtype for empty Series will be 'object' instead of 'float64' in a future version. Specify a dtype explicitly to silence this warning.\n",
      "  class_sampled = pd.Series()\n"
     ]
    },
    {
     "name": "stdout",
     "output_type": "stream",
     "text": [
      "0.9144052464947987\n",
      "Pos size= 7\n",
      "Neg size= 200\n",
      "Balanced accuracy (cv-train) -> 0.9600306736991732\n",
      "Balanced accuracy (cv-val) -> 0.9144052464947987\n",
      "Balanced accuracy (test) -> 0.95\n",
      "False\n",
      "ObyO\n",
      "4\n",
      "Benzenoids\n"
     ]
    },
    {
     "name": "stderr",
     "output_type": "stream",
     "text": [
      "/home/hsilva/Tese/ML/aux_functions/sampling.py:9: FutureWarning: The default dtype for empty Series will be 'object' instead of 'float64' in a future version. Specify a dtype explicitly to silence this warning.\n",
      "  class_sampled = pd.Series()\n",
      "/home/hsilva/Tese/ML/aux_functions/sampling.py:9: FutureWarning: The default dtype for empty Series will be 'object' instead of 'float64' in a future version. Specify a dtype explicitly to silence this warning.\n",
      "  class_sampled = pd.Series()\n"
     ]
    },
    {
     "name": "stdout",
     "output_type": "stream",
     "text": [
      "0.7472156514882712\n",
      "Pos size= 10146\n",
      "Neg size= 40584\n",
      "Balanced accuracy (cv-train) -> 0.9382515276956435\n",
      "Balanced accuracy (cv-val) -> 0.7472156514882712\n",
      "Balanced accuracy (test) -> 0.8243188561121737\n",
      "False\n",
      "ObyO\n",
      "4\n",
      "Hydrocarbon derivatives\n"
     ]
    },
    {
     "name": "stderr",
     "output_type": "stream",
     "text": [
      "/home/hsilva/Tese/ML/aux_functions/sampling.py:9: FutureWarning: The default dtype for empty Series will be 'object' instead of 'float64' in a future version. Specify a dtype explicitly to silence this warning.\n",
      "  class_sampled = pd.Series()\n",
      "/home/hsilva/Tese/ML/aux_functions/sampling.py:9: FutureWarning: The default dtype for empty Series will be 'object' instead of 'float64' in a future version. Specify a dtype explicitly to silence this warning.\n",
      "  class_sampled = pd.Series()\n"
     ]
    },
    {
     "name": "stdout",
     "output_type": "stream",
     "text": [
      "0.8713628825569124\n",
      "Pos size= 35\n",
      "Neg size= 200\n",
      "Balanced accuracy (cv-train) -> 1.0\n",
      "Balanced accuracy (cv-val) -> 0.8713628825569124\n",
      "Balanced accuracy (test) -> 0.6692105263157895\n",
      "False\n",
      "ObyO\n",
      "4\n",
      "Hydrocarbons\n"
     ]
    },
    {
     "name": "stderr",
     "output_type": "stream",
     "text": [
      "/home/hsilva/Tese/ML/aux_functions/sampling.py:9: FutureWarning: The default dtype for empty Series will be 'object' instead of 'float64' in a future version. Specify a dtype explicitly to silence this warning.\n",
      "  class_sampled = pd.Series()\n",
      "/home/hsilva/Tese/ML/aux_functions/sampling.py:9: FutureWarning: The default dtype for empty Series will be 'object' instead of 'float64' in a future version. Specify a dtype explicitly to silence this warning.\n",
      "  class_sampled = pd.Series()\n"
     ]
    },
    {
     "name": "stdout",
     "output_type": "stream",
     "text": [
      "0.9850898692810457\n",
      "Pos size= 612\n",
      "Neg size= 2448\n",
      "Balanced accuracy (cv-train) -> 0.9981617647058824\n",
      "Balanced accuracy (cv-val) -> 0.9850898692810457\n",
      "Balanced accuracy (test) -> 0.9837349543777907\n",
      "False\n",
      "ObyO\n",
      "4\n",
      "Lignans, neolignans and related compounds\n"
     ]
    },
    {
     "name": "stderr",
     "output_type": "stream",
     "text": [
      "/home/hsilva/Tese/ML/aux_functions/sampling.py:9: FutureWarning: The default dtype for empty Series will be 'object' instead of 'float64' in a future version. Specify a dtype explicitly to silence this warning.\n",
      "  class_sampled = pd.Series()\n",
      "/home/hsilva/Tese/ML/aux_functions/sampling.py:9: FutureWarning: The default dtype for empty Series will be 'object' instead of 'float64' in a future version. Specify a dtype explicitly to silence this warning.\n",
      "  class_sampled = pd.Series()\n"
     ]
    },
    {
     "name": "stdout",
     "output_type": "stream",
     "text": [
      "0.9479346296191826\n",
      "Pos size= 286\n",
      "Neg size= 1144\n",
      "Balanced accuracy (cv-train) -> 0.9855754842571284\n",
      "Balanced accuracy (cv-val) -> 0.9479346296191826\n",
      "Balanced accuracy (test) -> 0.9571678321678322\n",
      "False\n",
      "ObyO\n",
      "4\n",
      "Lipids and lipid-like molecules\n",
      "0.9698765068723395\n",
      "Pos size= 133382\n",
      "Neg size= 59878\n",
      "Balanced accuracy (cv-train) -> 0.9814733301532205\n",
      "Balanced accuracy (cv-val) -> 0.9698765068723395\n",
      "Balanced accuracy (test) -> 0.9706897580521074\n",
      "False\n",
      "ObyO\n",
      "4\n",
      "Nucleosides, nucleotides, and analogues\n"
     ]
    },
    {
     "name": "stderr",
     "output_type": "stream",
     "text": [
      "/home/hsilva/Tese/ML/aux_functions/sampling.py:9: FutureWarning: The default dtype for empty Series will be 'object' instead of 'float64' in a future version. Specify a dtype explicitly to silence this warning.\n",
      "  class_sampled = pd.Series()\n",
      "/home/hsilva/Tese/ML/aux_functions/sampling.py:9: FutureWarning: The default dtype for empty Series will be 'object' instead of 'float64' in a future version. Specify a dtype explicitly to silence this warning.\n",
      "  class_sampled = pd.Series()\n"
     ]
    },
    {
     "name": "stdout",
     "output_type": "stream",
     "text": [
      "0.9497170215063523\n",
      "Pos size= 935\n",
      "Neg size= 3740\n",
      "Balanced accuracy (cv-train) -> 0.9992646075678566\n",
      "Balanced accuracy (cv-val) -> 0.9497170215063523\n",
      "Balanced accuracy (test) -> 0.947575485136492\n",
      "False\n",
      "ObyO\n",
      "4\n",
      "Organic 1,3-dipolar compounds\n"
     ]
    },
    {
     "name": "stderr",
     "output_type": "stream",
     "text": [
      "/home/hsilva/Tese/ML/aux_functions/sampling.py:9: FutureWarning: The default dtype for empty Series will be 'object' instead of 'float64' in a future version. Specify a dtype explicitly to silence this warning.\n",
      "  class_sampled = pd.Series()\n",
      "/home/hsilva/Tese/ML/aux_functions/sampling.py:9: FutureWarning: The default dtype for empty Series will be 'object' instead of 'float64' in a future version. Specify a dtype explicitly to silence this warning.\n",
      "  class_sampled = pd.Series()\n"
     ]
    },
    {
     "name": "stdout",
     "output_type": "stream",
     "text": [
      "0.8939393939393939\n",
      "Pos size= 66\n",
      "Neg size= 264\n",
      "Balanced accuracy (cv-train) -> 1.0\n",
      "Balanced accuracy (cv-val) -> 0.8939393939393939\n",
      "Balanced accuracy (test) -> 0.8731060606060606\n",
      "False\n",
      "ObyO\n",
      "4\n",
      "Organic Polymers\n"
     ]
    },
    {
     "name": "stderr",
     "output_type": "stream",
     "text": [
      "/home/hsilva/Tese/ML/aux_functions/sampling.py:9: FutureWarning: The default dtype for empty Series will be 'object' instead of 'float64' in a future version. Specify a dtype explicitly to silence this warning.\n",
      "  class_sampled = pd.Series()\n",
      "/home/hsilva/Tese/ML/aux_functions/sampling.py:9: FutureWarning: The default dtype for empty Series will be 'object' instead of 'float64' in a future version. Specify a dtype explicitly to silence this warning.\n",
      "  class_sampled = pd.Series()\n"
     ]
    },
    {
     "name": "stdout",
     "output_type": "stream",
     "text": [
      "0.9951070336391438\n",
      "Pos size= 1635\n",
      "Neg size= 6540\n",
      "Balanced accuracy (cv-train) -> 0.9987003058103975\n",
      "Balanced accuracy (cv-val) -> 0.9951070336391438\n",
      "Balanced accuracy (test) -> 0.9947247706422018\n",
      "False\n",
      "ObyO\n",
      "4\n",
      "Organic acids and derivatives\n"
     ]
    },
    {
     "name": "stderr",
     "output_type": "stream",
     "text": [
      "/home/hsilva/Tese/ML/aux_functions/sampling.py:9: FutureWarning: The default dtype for empty Series will be 'object' instead of 'float64' in a future version. Specify a dtype explicitly to silence this warning.\n",
      "  class_sampled = pd.Series()\n",
      "/home/hsilva/Tese/ML/aux_functions/sampling.py:9: FutureWarning: The default dtype for empty Series will be 'object' instead of 'float64' in a future version. Specify a dtype explicitly to silence this warning.\n",
      "  class_sampled = pd.Series()\n"
     ]
    },
    {
     "name": "stdout",
     "output_type": "stream",
     "text": [
      "0.8479921162847992\n",
      "Pos size= 12177\n",
      "Neg size= 48708\n",
      "Balanced accuracy (cv-train) -> 0.9746550874599654\n",
      "Balanced accuracy (cv-val) -> 0.8479921162847992\n",
      "Balanced accuracy (test) -> 0.8848836455696314\n",
      "False\n",
      "ObyO\n",
      "4\n",
      "Organic compounds - Unspecified\n"
     ]
    },
    {
     "name": "stderr",
     "output_type": "stream",
     "text": [
      "/home/hsilva/Tese/ML/aux_functions/sampling.py:9: FutureWarning: The default dtype for empty Series will be 'object' instead of 'float64' in a future version. Specify a dtype explicitly to silence this warning.\n",
      "  class_sampled = pd.Series()\n",
      "/home/hsilva/Tese/ML/aux_functions/sampling.py:9: FutureWarning: The default dtype for empty Series will be 'object' instead of 'float64' in a future version. Specify a dtype explicitly to silence this warning.\n",
      "  class_sampled = pd.Series()\n"
     ]
    },
    {
     "name": "stdout",
     "output_type": "stream",
     "text": [
      "0.6724171351037024\n",
      "Pos size= 19\n",
      "Neg size= 200\n",
      "Balanced accuracy (cv-train) -> 0.9594017094017094\n",
      "Balanced accuracy (cv-val) -> 0.6724171351037024\n",
      "Balanced accuracy (test) -> 0.545\n",
      "False\n",
      "ObyO\n",
      "4\n",
      "Organic nitrogen compounds\n"
     ]
    },
    {
     "name": "stderr",
     "output_type": "stream",
     "text": [
      "/home/hsilva/Tese/ML/aux_functions/sampling.py:9: FutureWarning: The default dtype for empty Series will be 'object' instead of 'float64' in a future version. Specify a dtype explicitly to silence this warning.\n",
      "  class_sampled = pd.Series()\n",
      "/home/hsilva/Tese/ML/aux_functions/sampling.py:9: FutureWarning: The default dtype for empty Series will be 'object' instead of 'float64' in a future version. Specify a dtype explicitly to silence this warning.\n",
      "  class_sampled = pd.Series()\n"
     ]
    },
    {
     "name": "stdout",
     "output_type": "stream",
     "text": [
      "0.8445833333333334\n",
      "Pos size= 1200\n",
      "Neg size= 4800\n",
      "Balanced accuracy (cv-train) -> 0.9809895833333333\n",
      "Balanced accuracy (cv-val) -> 0.8445833333333334\n",
      "Balanced accuracy (test) -> 0.8819155775716694\n",
      "False\n",
      "ObyO\n",
      "4\n",
      "Organic oxygen compounds\n"
     ]
    },
    {
     "name": "stderr",
     "output_type": "stream",
     "text": [
      "/home/hsilva/Tese/ML/aux_functions/sampling.py:9: FutureWarning: The default dtype for empty Series will be 'object' instead of 'float64' in a future version. Specify a dtype explicitly to silence this warning.\n",
      "  class_sampled = pd.Series()\n",
      "/home/hsilva/Tese/ML/aux_functions/sampling.py:9: FutureWarning: The default dtype for empty Series will be 'object' instead of 'float64' in a future version. Specify a dtype explicitly to silence this warning.\n",
      "  class_sampled = pd.Series()\n"
     ]
    },
    {
     "name": "stdout",
     "output_type": "stream",
     "text": [
      "0.7952650111193478\n",
      "Pos size= 8094\n",
      "Neg size= 32376\n",
      "Balanced accuracy (cv-train) -> 0.9688426612305413\n",
      "Balanced accuracy (cv-val) -> 0.7952650111193478\n",
      "Balanced accuracy (test) -> 0.862144327483727\n",
      "False\n",
      "ObyO\n",
      "4\n",
      "Organic salts\n"
     ]
    },
    {
     "name": "stderr",
     "output_type": "stream",
     "text": [
      "/home/hsilva/Tese/ML/aux_functions/sampling.py:9: FutureWarning: The default dtype for empty Series will be 'object' instead of 'float64' in a future version. Specify a dtype explicitly to silence this warning.\n",
      "  class_sampled = pd.Series()\n",
      "/home/hsilva/Tese/ML/aux_functions/sampling.py:9: FutureWarning: The default dtype for empty Series will be 'object' instead of 'float64' in a future version. Specify a dtype explicitly to silence this warning.\n",
      "  class_sampled = pd.Series()\n"
     ]
    },
    {
     "name": "stdout",
     "output_type": "stream",
     "text": [
      "0.9824739936680236\n",
      "Pos size= 43\n",
      "Neg size= 200\n",
      "Balanced accuracy (cv-train) -> 0.9937530393147046\n",
      "Balanced accuracy (cv-val) -> 0.9824739936680236\n",
      "Balanced accuracy (test) -> 0.98\n",
      "False\n",
      "ObyO\n",
      "4\n",
      "Organohalogen compounds\n"
     ]
    },
    {
     "name": "stderr",
     "output_type": "stream",
     "text": [
      "/home/hsilva/Tese/ML/aux_functions/sampling.py:9: FutureWarning: The default dtype for empty Series will be 'object' instead of 'float64' in a future version. Specify a dtype explicitly to silence this warning.\n",
      "  class_sampled = pd.Series()\n",
      "/home/hsilva/Tese/ML/aux_functions/sampling.py:9: FutureWarning: The default dtype for empty Series will be 'object' instead of 'float64' in a future version. Specify a dtype explicitly to silence this warning.\n",
      "  class_sampled = pd.Series()\n"
     ]
    },
    {
     "name": "stdout",
     "output_type": "stream",
     "text": [
      "0.9781819880084907\n",
      "Pos size= 218\n",
      "Neg size= 872\n",
      "Balanced accuracy (cv-train) -> 1.0\n",
      "Balanced accuracy (cv-val) -> 0.9781819880084907\n",
      "Balanced accuracy (test) -> 0.9772310258548791\n",
      "False\n",
      "ObyO\n",
      "4\n",
      "Organoheterocyclic compounds\n"
     ]
    },
    {
     "name": "stderr",
     "output_type": "stream",
     "text": [
      "/home/hsilva/Tese/ML/aux_functions/sampling.py:9: FutureWarning: The default dtype for empty Series will be 'object' instead of 'float64' in a future version. Specify a dtype explicitly to silence this warning.\n",
      "  class_sampled = pd.Series()\n",
      "/home/hsilva/Tese/ML/aux_functions/sampling.py:9: FutureWarning: The default dtype for empty Series will be 'object' instead of 'float64' in a future version. Specify a dtype explicitly to silence this warning.\n",
      "  class_sampled = pd.Series()\n"
     ]
    },
    {
     "name": "stdout",
     "output_type": "stream",
     "text": [
      "0.7340495464847449\n",
      "Pos size= 14296\n",
      "Neg size= 57184\n",
      "Balanced accuracy (cv-train) -> 0.924187645166937\n",
      "Balanced accuracy (cv-val) -> 0.7340495464847449\n",
      "Balanced accuracy (test) -> 0.8593672060234194\n",
      "False\n",
      "ObyO\n",
      "4\n",
      "Organometallic compounds\n"
     ]
    },
    {
     "name": "stderr",
     "output_type": "stream",
     "text": [
      "/home/hsilva/Tese/ML/aux_functions/sampling.py:9: FutureWarning: The default dtype for empty Series will be 'object' instead of 'float64' in a future version. Specify a dtype explicitly to silence this warning.\n",
      "  class_sampled = pd.Series()\n",
      "/home/hsilva/Tese/ML/aux_functions/sampling.py:9: FutureWarning: The default dtype for empty Series will be 'object' instead of 'float64' in a future version. Specify a dtype explicitly to silence this warning.\n",
      "  class_sampled = pd.Series()\n"
     ]
    },
    {
     "name": "stdout",
     "output_type": "stream",
     "text": [
      "0.9235829098878785\n",
      "Pos size= 77\n",
      "Neg size= 308\n",
      "Balanced accuracy (cv-train) -> 0.9991869918699187\n",
      "Balanced accuracy (cv-val) -> 0.9235829098878785\n",
      "Balanced accuracy (test) -> 0.9751228501228502\n",
      "False\n",
      "ObyO\n",
      "4\n",
      "Organophosphorus compounds\n"
     ]
    },
    {
     "name": "stderr",
     "output_type": "stream",
     "text": [
      "/home/hsilva/Tese/ML/aux_functions/sampling.py:9: FutureWarning: The default dtype for empty Series will be 'object' instead of 'float64' in a future version. Specify a dtype explicitly to silence this warning.\n",
      "  class_sampled = pd.Series()\n",
      "/home/hsilva/Tese/ML/aux_functions/sampling.py:9: FutureWarning: The default dtype for empty Series will be 'object' instead of 'float64' in a future version. Specify a dtype explicitly to silence this warning.\n",
      "  class_sampled = pd.Series()\n"
     ]
    },
    {
     "name": "stdout",
     "output_type": "stream",
     "text": [
      "0.972636815920398\n",
      "Pos size= 27\n",
      "Neg size= 200\n",
      "Balanced accuracy (cv-train) -> 0.9975030860733924\n",
      "Balanced accuracy (cv-val) -> 0.972636815920398\n",
      "Balanced accuracy (test) -> 0.99\n",
      "False\n",
      "ObyO\n",
      "4\n",
      "Organosulfur compounds\n"
     ]
    },
    {
     "name": "stderr",
     "output_type": "stream",
     "text": [
      "/home/hsilva/Tese/ML/aux_functions/sampling.py:9: FutureWarning: The default dtype for empty Series will be 'object' instead of 'float64' in a future version. Specify a dtype explicitly to silence this warning.\n",
      "  class_sampled = pd.Series()\n",
      "/home/hsilva/Tese/ML/aux_functions/sampling.py:9: FutureWarning: The default dtype for empty Series will be 'object' instead of 'float64' in a future version. Specify a dtype explicitly to silence this warning.\n",
      "  class_sampled = pd.Series()\n"
     ]
    },
    {
     "name": "stdout",
     "output_type": "stream",
     "text": [
      "0.9519307751325551\n",
      "Pos size= 481\n",
      "Neg size= 1924\n",
      "Balanced accuracy (cv-train) -> 0.9815485838451465\n",
      "Balanced accuracy (cv-val) -> 0.9519307751325551\n",
      "Balanced accuracy (test) -> 0.9655504932100677\n",
      "False\n",
      "ObyO\n",
      "4\n",
      "Phenylpropanoids and polyketides\n"
     ]
    },
    {
     "name": "stderr",
     "output_type": "stream",
     "text": [
      "/home/hsilva/Tese/ML/aux_functions/sampling.py:9: FutureWarning: The default dtype for empty Series will be 'object' instead of 'float64' in a future version. Specify a dtype explicitly to silence this warning.\n",
      "  class_sampled = pd.Series()\n",
      "/home/hsilva/Tese/ML/aux_functions/sampling.py:9: FutureWarning: The default dtype for empty Series will be 'object' instead of 'float64' in a future version. Specify a dtype explicitly to silence this warning.\n",
      "  class_sampled = pd.Series()\n"
     ]
    },
    {
     "name": "stdout",
     "output_type": "stream",
     "text": [
      "0.8830185317177476\n",
      "Pos size= 8418\n",
      "Neg size= 33672\n",
      "Balanced accuracy (cv-train) -> 0.9742738774055595\n",
      "Balanced accuracy (cv-val) -> 0.8830185317177476\n",
      "Balanced accuracy (test) -> 0.899761068642448\n",
      "False\n",
      "ObyO\n",
      "5\n",
      "Acetylides\n"
     ]
    },
    {
     "name": "stderr",
     "output_type": "stream",
     "text": [
      "/home/hsilva/Tese/ML/aux_functions/sampling.py:9: FutureWarning: The default dtype for empty Series will be 'object' instead of 'float64' in a future version. Specify a dtype explicitly to silence this warning.\n",
      "  class_sampled = pd.Series()\n",
      "/home/hsilva/Tese/ML/aux_functions/sampling.py:9: FutureWarning: The default dtype for empty Series will be 'object' instead of 'float64' in a future version. Specify a dtype explicitly to silence this warning.\n",
      "  class_sampled = pd.Series()\n"
     ]
    },
    {
     "name": "stdout",
     "output_type": "stream",
     "text": [
      "0.9260135781220118\n",
      "Pos size= 14\n",
      "Neg size= 250\n",
      "Balanced accuracy (cv-train) -> 0.9629956953562754\n",
      "Balanced accuracy (cv-val) -> 0.9260135781220118\n",
      "Balanced accuracy (test) -> 0.8805714285714286\n",
      "False\n",
      "ObyO\n",
      "5\n",
      "Alkaloids and derivatives\n"
     ]
    },
    {
     "name": "stderr",
     "output_type": "stream",
     "text": [
      "/home/hsilva/Tese/ML/aux_functions/sampling.py:9: FutureWarning: The default dtype for empty Series will be 'object' instead of 'float64' in a future version. Specify a dtype explicitly to silence this warning.\n",
      "  class_sampled = pd.Series()\n",
      "/home/hsilva/Tese/ML/aux_functions/sampling.py:9: FutureWarning: The default dtype for empty Series will be 'object' instead of 'float64' in a future version. Specify a dtype explicitly to silence this warning.\n",
      "  class_sampled = pd.Series()\n"
     ]
    },
    {
     "name": "stdout",
     "output_type": "stream",
     "text": [
      "0.9090659340659341\n",
      "Pos size= 1092\n",
      "Neg size= 5460\n",
      "Balanced accuracy (cv-train) -> 0.9667124542124542\n",
      "Balanced accuracy (cv-val) -> 0.9090659340659341\n",
      "Balanced accuracy (test) -> 0.9208161949782061\n",
      "False\n",
      "ObyO\n",
      "5\n",
      "Allenes\n"
     ]
    },
    {
     "name": "stderr",
     "output_type": "stream",
     "text": [
      "/home/hsilva/Tese/ML/aux_functions/sampling.py:9: FutureWarning: The default dtype for empty Series will be 'object' instead of 'float64' in a future version. Specify a dtype explicitly to silence this warning.\n",
      "  class_sampled = pd.Series()\n",
      "/home/hsilva/Tese/ML/aux_functions/sampling.py:9: FutureWarning: The default dtype for empty Series will be 'object' instead of 'float64' in a future version. Specify a dtype explicitly to silence this warning.\n",
      "  class_sampled = pd.Series()\n"
     ]
    },
    {
     "name": "stdout",
     "output_type": "stream",
     "text": [
      "0.919798240581373\n",
      "Pos size= 7\n",
      "Neg size= 250\n",
      "Balanced accuracy (cv-train) -> 0.9649977154125485\n",
      "Balanced accuracy (cv-val) -> 0.919798240581373\n",
      "Balanced accuracy (test) -> 0.968\n",
      "False\n",
      "ObyO\n",
      "5\n",
      "Benzenoids\n"
     ]
    },
    {
     "name": "stderr",
     "output_type": "stream",
     "text": [
      "/home/hsilva/Tese/ML/aux_functions/sampling.py:9: FutureWarning: The default dtype for empty Series will be 'object' instead of 'float64' in a future version. Specify a dtype explicitly to silence this warning.\n",
      "  class_sampled = pd.Series()\n",
      "/home/hsilva/Tese/ML/aux_functions/sampling.py:9: FutureWarning: The default dtype for empty Series will be 'object' instead of 'float64' in a future version. Specify a dtype explicitly to silence this warning.\n",
      "  class_sampled = pd.Series()\n"
     ]
    },
    {
     "name": "stdout",
     "output_type": "stream",
     "text": [
      "0.7493396412379263\n",
      "Pos size= 10146\n",
      "Neg size= 50730\n",
      "Balanced accuracy (cv-train) -> 0.929745712596097\n",
      "Balanced accuracy (cv-val) -> 0.7493396412379263\n",
      "Balanced accuracy (test) -> 0.8440316425236591\n",
      "False\n",
      "ObyO\n",
      "5\n",
      "Hydrocarbon derivatives\n"
     ]
    },
    {
     "name": "stderr",
     "output_type": "stream",
     "text": [
      "/home/hsilva/Tese/ML/aux_functions/sampling.py:9: FutureWarning: The default dtype for empty Series will be 'object' instead of 'float64' in a future version. Specify a dtype explicitly to silence this warning.\n",
      "  class_sampled = pd.Series()\n",
      "/home/hsilva/Tese/ML/aux_functions/sampling.py:9: FutureWarning: The default dtype for empty Series will be 'object' instead of 'float64' in a future version. Specify a dtype explicitly to silence this warning.\n",
      "  class_sampled = pd.Series()\n"
     ]
    },
    {
     "name": "stdout",
     "output_type": "stream",
     "text": [
      "0.7917275161251065\n",
      "Pos size= 35\n",
      "Neg size= 250\n",
      "Balanced accuracy (cv-train) -> 1.0\n",
      "Balanced accuracy (cv-val) -> 0.7917275161251065\n",
      "Balanced accuracy (test) -> 0.6842105263157895\n",
      "False\n",
      "ObyO\n",
      "5\n",
      "Hydrocarbons\n"
     ]
    },
    {
     "name": "stderr",
     "output_type": "stream",
     "text": [
      "/home/hsilva/Tese/ML/aux_functions/sampling.py:9: FutureWarning: The default dtype for empty Series will be 'object' instead of 'float64' in a future version. Specify a dtype explicitly to silence this warning.\n",
      "  class_sampled = pd.Series()\n",
      "/home/hsilva/Tese/ML/aux_functions/sampling.py:9: FutureWarning: The default dtype for empty Series will be 'object' instead of 'float64' in a future version. Specify a dtype explicitly to silence this warning.\n",
      "  class_sampled = pd.Series()\n"
     ]
    },
    {
     "name": "stdout",
     "output_type": "stream",
     "text": [
      "0.9869281045751634\n",
      "Pos size= 612\n",
      "Neg size= 3060\n",
      "Balanced accuracy (cv-train) -> 0.9984477124183005\n",
      "Balanced accuracy (cv-val) -> 0.9869281045751634\n",
      "Balanced accuracy (test) -> 0.9841843007830195\n",
      "False\n",
      "ObyO\n",
      "5\n",
      "Lignans, neolignans and related compounds\n"
     ]
    },
    {
     "name": "stderr",
     "output_type": "stream",
     "text": [
      "/home/hsilva/Tese/ML/aux_functions/sampling.py:9: FutureWarning: The default dtype for empty Series will be 'object' instead of 'float64' in a future version. Specify a dtype explicitly to silence this warning.\n",
      "  class_sampled = pd.Series()\n",
      "/home/hsilva/Tese/ML/aux_functions/sampling.py:9: FutureWarning: The default dtype for empty Series will be 'object' instead of 'float64' in a future version. Specify a dtype explicitly to silence this warning.\n",
      "  class_sampled = pd.Series()\n"
     ]
    },
    {
     "name": "stdout",
     "output_type": "stream",
     "text": [
      "0.9422802916543424\n",
      "Pos size= 286\n",
      "Neg size= 1430\n",
      "Balanced accuracy (cv-train) -> 0.983394598542394\n",
      "Balanced accuracy (cv-val) -> 0.9422802916543424\n",
      "Balanced accuracy (test) -> 0.9493006993006993\n",
      "False\n",
      "ObyO\n",
      "5\n",
      "Lipids and lipid-like molecules\n",
      "0.9698765068723395\n",
      "Pos size= 133382\n",
      "Neg size= 59878\n",
      "Balanced accuracy (cv-train) -> 0.9814733301532205\n",
      "Balanced accuracy (cv-val) -> 0.9698765068723395\n",
      "Balanced accuracy (test) -> 0.9706897580521074\n",
      "False\n",
      "ObyO\n",
      "5\n",
      "Nucleosides, nucleotides, and analogues\n"
     ]
    },
    {
     "name": "stderr",
     "output_type": "stream",
     "text": [
      "/home/hsilva/Tese/ML/aux_functions/sampling.py:9: FutureWarning: The default dtype for empty Series will be 'object' instead of 'float64' in a future version. Specify a dtype explicitly to silence this warning.\n",
      "  class_sampled = pd.Series()\n",
      "/home/hsilva/Tese/ML/aux_functions/sampling.py:9: FutureWarning: The default dtype for empty Series will be 'object' instead of 'float64' in a future version. Specify a dtype explicitly to silence this warning.\n",
      "  class_sampled = pd.Series()\n"
     ]
    },
    {
     "name": "stdout",
     "output_type": "stream",
     "text": [
      "0.9499376530939635\n",
      "Pos size= 935\n",
      "Neg size= 4675\n",
      "Balanced accuracy (cv-train) -> 0.9994117246526804\n",
      "Balanced accuracy (cv-val) -> 0.9499376530939635\n",
      "Balanced accuracy (test) -> 0.9460605282208159\n",
      "False\n",
      "ObyO\n",
      "5\n",
      "Organic 1,3-dipolar compounds\n"
     ]
    },
    {
     "name": "stderr",
     "output_type": "stream",
     "text": [
      "/home/hsilva/Tese/ML/aux_functions/sampling.py:9: FutureWarning: The default dtype for empty Series will be 'object' instead of 'float64' in a future version. Specify a dtype explicitly to silence this warning.\n",
      "  class_sampled = pd.Series()\n",
      "/home/hsilva/Tese/ML/aux_functions/sampling.py:9: FutureWarning: The default dtype for empty Series will be 'object' instead of 'float64' in a future version. Specify a dtype explicitly to silence this warning.\n",
      "  class_sampled = pd.Series()\n"
     ]
    },
    {
     "name": "stdout",
     "output_type": "stream",
     "text": [
      "0.8727272727272727\n",
      "Pos size= 66\n",
      "Neg size= 330\n",
      "Balanced accuracy (cv-train) -> 1.0\n",
      "Balanced accuracy (cv-val) -> 0.8727272727272727\n",
      "Balanced accuracy (test) -> 0.8196969696969697\n",
      "False\n",
      "ObyO\n",
      "5\n",
      "Organic Polymers\n"
     ]
    },
    {
     "name": "stderr",
     "output_type": "stream",
     "text": [
      "/home/hsilva/Tese/ML/aux_functions/sampling.py:9: FutureWarning: The default dtype for empty Series will be 'object' instead of 'float64' in a future version. Specify a dtype explicitly to silence this warning.\n",
      "  class_sampled = pd.Series()\n",
      "/home/hsilva/Tese/ML/aux_functions/sampling.py:9: FutureWarning: The default dtype for empty Series will be 'object' instead of 'float64' in a future version. Specify a dtype explicitly to silence this warning.\n",
      "  class_sampled = pd.Series()\n"
     ]
    },
    {
     "name": "stdout",
     "output_type": "stream",
     "text": [
      "0.9954740061162081\n",
      "Pos size= 1635\n",
      "Neg size= 8175\n",
      "Balanced accuracy (cv-train) -> 0.9997859327217125\n",
      "Balanced accuracy (cv-val) -> 0.9954740061162081\n",
      "Balanced accuracy (test) -> 0.9952643400793741\n",
      "False\n",
      "ObyO\n",
      "5\n",
      "Organic acids and derivatives\n"
     ]
    },
    {
     "name": "stderr",
     "output_type": "stream",
     "text": [
      "/home/hsilva/Tese/ML/aux_functions/sampling.py:9: FutureWarning: The default dtype for empty Series will be 'object' instead of 'float64' in a future version. Specify a dtype explicitly to silence this warning.\n",
      "  class_sampled = pd.Series()\n",
      "/home/hsilva/Tese/ML/aux_functions/sampling.py:9: FutureWarning: The default dtype for empty Series will be 'object' instead of 'float64' in a future version. Specify a dtype explicitly to silence this warning.\n",
      "  class_sampled = pd.Series()\n"
     ]
    },
    {
     "name": "stdout",
     "output_type": "stream",
     "text": [
      "0.8507185677917386\n",
      "Pos size= 12177\n",
      "Neg size= 60885\n",
      "Balanced accuracy (cv-train) -> 0.9736306150940296\n",
      "Balanced accuracy (cv-val) -> 0.8507185677917386\n",
      "Balanced accuracy (test) -> 0.883651589083259\n",
      "False\n",
      "ObyO\n",
      "5\n",
      "Organic compounds - Unspecified\n"
     ]
    },
    {
     "name": "stderr",
     "output_type": "stream",
     "text": [
      "/home/hsilva/Tese/ML/aux_functions/sampling.py:9: FutureWarning: The default dtype for empty Series will be 'object' instead of 'float64' in a future version. Specify a dtype explicitly to silence this warning.\n",
      "  class_sampled = pd.Series()\n",
      "/home/hsilva/Tese/ML/aux_functions/sampling.py:9: FutureWarning: The default dtype for empty Series will be 'object' instead of 'float64' in a future version. Specify a dtype explicitly to silence this warning.\n",
      "  class_sampled = pd.Series()\n"
     ]
    },
    {
     "name": "stdout",
     "output_type": "stream",
     "text": [
      "0.6430722891566266\n",
      "Pos size= 19\n",
      "Neg size= 250\n",
      "Balanced accuracy (cv-train) -> 0.9390315754034099\n",
      "Balanced accuracy (cv-val) -> 0.6430722891566266\n",
      "Balanced accuracy (test) -> 0.776\n",
      "False\n",
      "ObyO\n",
      "5\n",
      "Organic nitrogen compounds\n"
     ]
    },
    {
     "name": "stderr",
     "output_type": "stream",
     "text": [
      "/home/hsilva/Tese/ML/aux_functions/sampling.py:9: FutureWarning: The default dtype for empty Series will be 'object' instead of 'float64' in a future version. Specify a dtype explicitly to silence this warning.\n",
      "  class_sampled = pd.Series()\n",
      "/home/hsilva/Tese/ML/aux_functions/sampling.py:9: FutureWarning: The default dtype for empty Series will be 'object' instead of 'float64' in a future version. Specify a dtype explicitly to silence this warning.\n",
      "  class_sampled = pd.Series()\n"
     ]
    },
    {
     "name": "stdout",
     "output_type": "stream",
     "text": [
      "0.8470833333333333\n",
      "Pos size= 1200\n",
      "Neg size= 6000\n",
      "Balanced accuracy (cv-train) -> 0.9783750000000001\n",
      "Balanced accuracy (cv-val) -> 0.8470833333333333\n",
      "Balanced accuracy (test) -> 0.8842037661607645\n",
      "False\n",
      "ObyO\n",
      "5\n",
      "Organic oxygen compounds\n"
     ]
    },
    {
     "name": "stderr",
     "output_type": "stream",
     "text": [
      "/home/hsilva/Tese/ML/aux_functions/sampling.py:9: FutureWarning: The default dtype for empty Series will be 'object' instead of 'float64' in a future version. Specify a dtype explicitly to silence this warning.\n",
      "  class_sampled = pd.Series()\n",
      "/home/hsilva/Tese/ML/aux_functions/sampling.py:9: FutureWarning: The default dtype for empty Series will be 'object' instead of 'float64' in a future version. Specify a dtype explicitly to silence this warning.\n",
      "  class_sampled = pd.Series()\n"
     ]
    },
    {
     "name": "stdout",
     "output_type": "stream",
     "text": [
      "0.8035211267605633\n",
      "Pos size= 8094\n",
      "Neg size= 40470\n",
      "Balanced accuracy (cv-train) -> 0.9683222139856684\n",
      "Balanced accuracy (cv-val) -> 0.8035211267605633\n",
      "Balanced accuracy (test) -> 0.8629571054906653\n",
      "False\n",
      "ObyO\n",
      "5\n",
      "Organic salts\n"
     ]
    },
    {
     "name": "stderr",
     "output_type": "stream",
     "text": [
      "/home/hsilva/Tese/ML/aux_functions/sampling.py:9: FutureWarning: The default dtype for empty Series will be 'object' instead of 'float64' in a future version. Specify a dtype explicitly to silence this warning.\n",
      "  class_sampled = pd.Series()\n",
      "/home/hsilva/Tese/ML/aux_functions/sampling.py:9: FutureWarning: The default dtype for empty Series will be 'object' instead of 'float64' in a future version. Specify a dtype explicitly to silence this warning.\n",
      "  class_sampled = pd.Series()\n"
     ]
    },
    {
     "name": "stdout",
     "output_type": "stream",
     "text": [
      "0.9780072671638939\n",
      "Pos size= 43\n",
      "Neg size= 250\n",
      "Balanced accuracy (cv-train) -> 0.9900079359353583\n",
      "Balanced accuracy (cv-val) -> 0.9780072671638939\n",
      "Balanced accuracy (test) -> 0.984\n",
      "False\n",
      "ObyO\n",
      "5\n",
      "Organohalogen compounds\n"
     ]
    },
    {
     "name": "stderr",
     "output_type": "stream",
     "text": [
      "/home/hsilva/Tese/ML/aux_functions/sampling.py:9: FutureWarning: The default dtype for empty Series will be 'object' instead of 'float64' in a future version. Specify a dtype explicitly to silence this warning.\n",
      "  class_sampled = pd.Series()\n",
      "/home/hsilva/Tese/ML/aux_functions/sampling.py:9: FutureWarning: The default dtype for empty Series will be 'object' instead of 'float64' in a future version. Specify a dtype explicitly to silence this warning.\n",
      "  class_sampled = pd.Series()\n"
     ]
    },
    {
     "name": "stdout",
     "output_type": "stream",
     "text": [
      "0.9821125843853117\n",
      "Pos size= 218\n",
      "Neg size= 1090\n",
      "Balanced accuracy (cv-train) -> 0.9938076526172063\n",
      "Balanced accuracy (cv-val) -> 0.9821125843853117\n",
      "Balanced accuracy (test) -> 0.9753544620517098\n",
      "False\n",
      "ObyO\n",
      "5\n",
      "Organoheterocyclic compounds\n"
     ]
    },
    {
     "name": "stderr",
     "output_type": "stream",
     "text": [
      "/home/hsilva/Tese/ML/aux_functions/sampling.py:9: FutureWarning: The default dtype for empty Series will be 'object' instead of 'float64' in a future version. Specify a dtype explicitly to silence this warning.\n",
      "  class_sampled = pd.Series()\n",
      "/home/hsilva/Tese/ML/aux_functions/sampling.py:9: FutureWarning: The default dtype for empty Series will be 'object' instead of 'float64' in a future version. Specify a dtype explicitly to silence this warning.\n",
      "  class_sampled = pd.Series()\n"
     ]
    },
    {
     "name": "stdout",
     "output_type": "stream",
     "text": [
      "0.7864357443948945\n",
      "Pos size= 14296\n",
      "Neg size= 71480\n",
      "Balanced accuracy (cv-train) -> 0.9193548489845133\n",
      "Balanced accuracy (cv-val) -> 0.7864357443948945\n",
      "Balanced accuracy (test) -> 0.883348591881941\n",
      "False\n",
      "ObyO\n",
      "5\n",
      "Organometallic compounds\n"
     ]
    },
    {
     "name": "stderr",
     "output_type": "stream",
     "text": [
      "/home/hsilva/Tese/ML/aux_functions/sampling.py:9: FutureWarning: The default dtype for empty Series will be 'object' instead of 'float64' in a future version. Specify a dtype explicitly to silence this warning.\n",
      "  class_sampled = pd.Series()\n",
      "/home/hsilva/Tese/ML/aux_functions/sampling.py:9: FutureWarning: The default dtype for empty Series will be 'object' instead of 'float64' in a future version. Specify a dtype explicitly to silence this warning.\n",
      "  class_sampled = pd.Series()\n"
     ]
    },
    {
     "name": "stdout",
     "output_type": "stream",
     "text": [
      "0.9130440332438878\n",
      "Pos size= 77\n",
      "Neg size= 385\n",
      "Balanced accuracy (cv-train) -> 0.9993489583333334\n",
      "Balanced accuracy (cv-val) -> 0.9130440332438878\n",
      "Balanced accuracy (test) -> 0.9922077922077922\n",
      "False\n",
      "ObyO\n",
      "5\n",
      "Organophosphorus compounds\n"
     ]
    },
    {
     "name": "stderr",
     "output_type": "stream",
     "text": [
      "/home/hsilva/Tese/ML/aux_functions/sampling.py:9: FutureWarning: The default dtype for empty Series will be 'object' instead of 'float64' in a future version. Specify a dtype explicitly to silence this warning.\n",
      "  class_sampled = pd.Series()\n",
      "/home/hsilva/Tese/ML/aux_functions/sampling.py:9: FutureWarning: The default dtype for empty Series will be 'object' instead of 'float64' in a future version. Specify a dtype explicitly to silence this warning.\n",
      "  class_sampled = pd.Series()\n"
     ]
    },
    {
     "name": "stdout",
     "output_type": "stream",
     "text": [
      "0.9814814814814815\n",
      "Pos size= 27\n",
      "Neg size= 250\n",
      "Balanced accuracy (cv-train) -> 1.0\n",
      "Balanced accuracy (cv-val) -> 0.9814814814814815\n",
      "Balanced accuracy (test) -> 0.9575384615384616\n",
      "False\n",
      "ObyO\n",
      "5\n",
      "Organosulfur compounds\n"
     ]
    },
    {
     "name": "stderr",
     "output_type": "stream",
     "text": [
      "/home/hsilva/Tese/ML/aux_functions/sampling.py:9: FutureWarning: The default dtype for empty Series will be 'object' instead of 'float64' in a future version. Specify a dtype explicitly to silence this warning.\n",
      "  class_sampled = pd.Series()\n",
      "/home/hsilva/Tese/ML/aux_functions/sampling.py:9: FutureWarning: The default dtype for empty Series will be 'object' instead of 'float64' in a future version. Specify a dtype explicitly to silence this warning.\n",
      "  class_sampled = pd.Series()\n"
     ]
    },
    {
     "name": "stdout",
     "output_type": "stream",
     "text": [
      "0.9575968303070651\n",
      "Pos size= 481\n",
      "Neg size= 2405\n",
      "Balanced accuracy (cv-train) -> 0.9837843009444573\n",
      "Balanced accuracy (cv-val) -> 0.9575968303070651\n",
      "Balanced accuracy (test) -> 0.9676294952890698\n",
      "False\n",
      "ObyO\n",
      "5\n",
      "Phenylpropanoids and polyketides\n"
     ]
    },
    {
     "name": "stderr",
     "output_type": "stream",
     "text": [
      "/home/hsilva/Tese/ML/aux_functions/sampling.py:9: FutureWarning: The default dtype for empty Series will be 'object' instead of 'float64' in a future version. Specify a dtype explicitly to silence this warning.\n",
      "  class_sampled = pd.Series()\n",
      "/home/hsilva/Tese/ML/aux_functions/sampling.py:9: FutureWarning: The default dtype for empty Series will be 'object' instead of 'float64' in a future version. Specify a dtype explicitly to silence this warning.\n",
      "  class_sampled = pd.Series()\n"
     ]
    },
    {
     "name": "stdout",
     "output_type": "stream",
     "text": [
      "0.882727488714659\n",
      "Pos size= 8418\n",
      "Neg size= 42090\n",
      "Balanced accuracy (cv-train) -> 0.9694761225944405\n",
      "Balanced accuracy (cv-val) -> 0.882727488714659\n",
      "Balanced accuracy (test) -> 0.9183116325398781\n",
      "False\n",
      "ObyO\n",
      "6\n",
      "Acetylides\n"
     ]
    },
    {
     "name": "stderr",
     "output_type": "stream",
     "text": [
      "/home/hsilva/Tese/ML/aux_functions/sampling.py:9: FutureWarning: The default dtype for empty Series will be 'object' instead of 'float64' in a future version. Specify a dtype explicitly to silence this warning.\n",
      "  class_sampled = pd.Series()\n",
      "/home/hsilva/Tese/ML/aux_functions/sampling.py:9: FutureWarning: The default dtype for empty Series will be 'object' instead of 'float64' in a future version. Specify a dtype explicitly to silence this warning.\n",
      "  class_sampled = pd.Series()\n"
     ]
    },
    {
     "name": "stdout",
     "output_type": "stream",
     "text": [
      "0.9466666666666667\n",
      "Pos size= 14\n",
      "Neg size= 300\n",
      "Balanced accuracy (cv-train) -> 0.9724999999999998\n",
      "Balanced accuracy (cv-val) -> 0.9466666666666667\n",
      "Balanced accuracy (test) -> 0.94\n",
      "False\n",
      "ObyO\n",
      "6\n",
      "Alkaloids and derivatives\n"
     ]
    },
    {
     "name": "stderr",
     "output_type": "stream",
     "text": [
      "/home/hsilva/Tese/ML/aux_functions/sampling.py:9: FutureWarning: The default dtype for empty Series will be 'object' instead of 'float64' in a future version. Specify a dtype explicitly to silence this warning.\n",
      "  class_sampled = pd.Series()\n",
      "/home/hsilva/Tese/ML/aux_functions/sampling.py:9: FutureWarning: The default dtype for empty Series will be 'object' instead of 'float64' in a future version. Specify a dtype explicitly to silence this warning.\n",
      "  class_sampled = pd.Series()\n"
     ]
    },
    {
     "name": "stdout",
     "output_type": "stream",
     "text": [
      "0.907051282051282\n",
      "Pos size= 1092\n",
      "Neg size= 6552\n",
      "Balanced accuracy (cv-train) -> 0.9723748473748474\n",
      "Balanced accuracy (cv-val) -> 0.907051282051282\n",
      "Balanced accuracy (test) -> 0.9131383824121254\n",
      "False\n",
      "ObyO\n",
      "6\n",
      "Allenes\n"
     ]
    },
    {
     "name": "stderr",
     "output_type": "stream",
     "text": [
      "/home/hsilva/Tese/ML/aux_functions/sampling.py:9: FutureWarning: The default dtype for empty Series will be 'object' instead of 'float64' in a future version. Specify a dtype explicitly to silence this warning.\n",
      "  class_sampled = pd.Series()\n",
      "/home/hsilva/Tese/ML/aux_functions/sampling.py:9: FutureWarning: The default dtype for empty Series will be 'object' instead of 'float64' in a future version. Specify a dtype explicitly to silence this warning.\n",
      "  class_sampled = pd.Series()\n"
     ]
    },
    {
     "name": "stdout",
     "output_type": "stream",
     "text": [
      "0.9366666666666665\n",
      "Pos size= 7\n",
      "Neg size= 300\n",
      "Balanced accuracy (cv-train) -> 0.9658333333333333\n",
      "Balanced accuracy (cv-val) -> 0.9366666666666665\n",
      "Balanced accuracy (test) -> 0.97\n",
      "False\n",
      "ObyO\n",
      "6\n",
      "Benzenoids\n"
     ]
    },
    {
     "name": "stderr",
     "output_type": "stream",
     "text": [
      "/home/hsilva/Tese/ML/aux_functions/sampling.py:9: FutureWarning: The default dtype for empty Series will be 'object' instead of 'float64' in a future version. Specify a dtype explicitly to silence this warning.\n",
      "  class_sampled = pd.Series()\n",
      "/home/hsilva/Tese/ML/aux_functions/sampling.py:9: FutureWarning: The default dtype for empty Series will be 'object' instead of 'float64' in a future version. Specify a dtype explicitly to silence this warning.\n",
      "  class_sampled = pd.Series()\n"
     ]
    },
    {
     "name": "stdout",
     "output_type": "stream",
     "text": [
      "0.7441849004533806\n",
      "Pos size= 10146\n",
      "Neg size= 60876\n",
      "Balanced accuracy (cv-train) -> 0.9325842696629213\n",
      "Balanced accuracy (cv-val) -> 0.7441849004533806\n",
      "Balanced accuracy (test) -> 0.8466820161379593\n",
      "False\n",
      "ObyO\n",
      "6\n",
      "Hydrocarbon derivatives\n"
     ]
    },
    {
     "name": "stderr",
     "output_type": "stream",
     "text": [
      "/home/hsilva/Tese/ML/aux_functions/sampling.py:9: FutureWarning: The default dtype for empty Series will be 'object' instead of 'float64' in a future version. Specify a dtype explicitly to silence this warning.\n",
      "  class_sampled = pd.Series()\n",
      "/home/hsilva/Tese/ML/aux_functions/sampling.py:9: FutureWarning: The default dtype for empty Series will be 'object' instead of 'float64' in a future version. Specify a dtype explicitly to silence this warning.\n",
      "  class_sampled = pd.Series()\n"
     ]
    },
    {
     "name": "stdout",
     "output_type": "stream",
     "text": [
      "0.8485858585858587\n",
      "Pos size= 35\n",
      "Neg size= 300\n",
      "Balanced accuracy (cv-train) -> 0.9991666666666666\n",
      "Balanced accuracy (cv-val) -> 0.8485858585858587\n",
      "Balanced accuracy (test) -> 0.6708771929824562\n",
      "False\n",
      "ObyO\n",
      "6\n",
      "Hydrocarbons\n"
     ]
    },
    {
     "name": "stderr",
     "output_type": "stream",
     "text": [
      "/home/hsilva/Tese/ML/aux_functions/sampling.py:9: FutureWarning: The default dtype for empty Series will be 'object' instead of 'float64' in a future version. Specify a dtype explicitly to silence this warning.\n",
      "  class_sampled = pd.Series()\n",
      "/home/hsilva/Tese/ML/aux_functions/sampling.py:9: FutureWarning: The default dtype for empty Series will be 'object' instead of 'float64' in a future version. Specify a dtype explicitly to silence this warning.\n",
      "  class_sampled = pd.Series()\n"
     ]
    },
    {
     "name": "stdout",
     "output_type": "stream",
     "text": [
      "0.9888344226579521\n",
      "Pos size= 612\n",
      "Neg size= 3672\n",
      "Balanced accuracy (cv-train) -> 0.9986383442265795\n",
      "Balanced accuracy (cv-val) -> 0.9888344226579521\n",
      "Balanced accuracy (test) -> 0.9847561962078561\n",
      "False\n",
      "ObyO\n",
      "6\n",
      "Lignans, neolignans and related compounds\n"
     ]
    },
    {
     "name": "stderr",
     "output_type": "stream",
     "text": [
      "/home/hsilva/Tese/ML/aux_functions/sampling.py:9: FutureWarning: The default dtype for empty Series will be 'object' instead of 'float64' in a future version. Specify a dtype explicitly to silence this warning.\n",
      "  class_sampled = pd.Series()\n",
      "/home/hsilva/Tese/ML/aux_functions/sampling.py:9: FutureWarning: The default dtype for empty Series will be 'object' instead of 'float64' in a future version. Specify a dtype explicitly to silence this warning.\n",
      "  class_sampled = pd.Series()\n"
     ]
    },
    {
     "name": "stdout",
     "output_type": "stream",
     "text": [
      "0.9414089017707439\n",
      "Pos size= 286\n",
      "Neg size= 1716\n",
      "Balanced accuracy (cv-train) -> 0.9809149184149183\n",
      "Balanced accuracy (cv-val) -> 0.9414089017707439\n",
      "Balanced accuracy (test) -> 0.9411421911421911\n",
      "False\n",
      "ObyO\n",
      "6\n",
      "Lipids and lipid-like molecules\n",
      "0.9698765068723395\n",
      "Pos size= 133382\n",
      "Neg size= 59878\n",
      "Balanced accuracy (cv-train) -> 0.9814733301532205\n",
      "Balanced accuracy (cv-val) -> 0.9698765068723395\n",
      "Balanced accuracy (test) -> 0.9706897580521074\n",
      "False\n",
      "ObyO\n",
      "6\n",
      "Nucleosides, nucleotides, and analogues\n"
     ]
    },
    {
     "name": "stderr",
     "output_type": "stream",
     "text": [
      "/home/hsilva/Tese/ML/aux_functions/sampling.py:9: FutureWarning: The default dtype for empty Series will be 'object' instead of 'float64' in a future version. Specify a dtype explicitly to silence this warning.\n",
      "  class_sampled = pd.Series()\n",
      "/home/hsilva/Tese/ML/aux_functions/sampling.py:9: FutureWarning: The default dtype for empty Series will be 'object' instead of 'float64' in a future version. Specify a dtype explicitly to silence this warning.\n",
      "  class_sampled = pd.Series()\n"
     ]
    },
    {
     "name": "stdout",
     "output_type": "stream",
     "text": [
      "0.9508866619373523\n",
      "Pos size= 935\n",
      "Neg size= 5610\n",
      "Balanced accuracy (cv-train) -> 0.9923351158645275\n",
      "Balanced accuracy (cv-val) -> 0.9508866619373523\n",
      "Balanced accuracy (test) -> 0.9596945566634751\n",
      "False\n",
      "ObyO\n",
      "6\n",
      "Organic 1,3-dipolar compounds\n"
     ]
    },
    {
     "name": "stderr",
     "output_type": "stream",
     "text": [
      "/home/hsilva/Tese/ML/aux_functions/sampling.py:9: FutureWarning: The default dtype for empty Series will be 'object' instead of 'float64' in a future version. Specify a dtype explicitly to silence this warning.\n",
      "  class_sampled = pd.Series()\n",
      "/home/hsilva/Tese/ML/aux_functions/sampling.py:9: FutureWarning: The default dtype for empty Series will be 'object' instead of 'float64' in a future version. Specify a dtype explicitly to silence this warning.\n",
      "  class_sampled = pd.Series()\n"
     ]
    },
    {
     "name": "stdout",
     "output_type": "stream",
     "text": [
      "0.8762626262626263\n",
      "Pos size= 66\n",
      "Neg size= 396\n",
      "Balanced accuracy (cv-train) -> 1.0\n",
      "Balanced accuracy (cv-val) -> 0.8762626262626263\n",
      "Balanced accuracy (test) -> 0.8194444444444444\n",
      "False\n",
      "ObyO\n",
      "6\n",
      "Organic Polymers\n"
     ]
    },
    {
     "name": "stderr",
     "output_type": "stream",
     "text": [
      "/home/hsilva/Tese/ML/aux_functions/sampling.py:9: FutureWarning: The default dtype for empty Series will be 'object' instead of 'float64' in a future version. Specify a dtype explicitly to silence this warning.\n",
      "  class_sampled = pd.Series()\n",
      "/home/hsilva/Tese/ML/aux_functions/sampling.py:9: FutureWarning: The default dtype for empty Series will be 'object' instead of 'float64' in a future version. Specify a dtype explicitly to silence this warning.\n",
      "  class_sampled = pd.Series()\n"
     ]
    },
    {
     "name": "stdout",
     "output_type": "stream",
     "text": [
      "0.994138634046891\n",
      "Pos size= 1635\n",
      "Neg size= 9810\n",
      "Balanced accuracy (cv-train) -> 0.999821610601427\n",
      "Balanced accuracy (cv-val) -> 0.994138634046891\n",
      "Balanced accuracy (test) -> 0.9949192220426313\n",
      "False\n",
      "ObyO\n",
      "6\n",
      "Organic acids and derivatives\n"
     ]
    },
    {
     "name": "stderr",
     "output_type": "stream",
     "text": [
      "/home/hsilva/Tese/ML/aux_functions/sampling.py:9: FutureWarning: The default dtype for empty Series will be 'object' instead of 'float64' in a future version. Specify a dtype explicitly to silence this warning.\n",
      "  class_sampled = pd.Series()\n",
      "/home/hsilva/Tese/ML/aux_functions/sampling.py:9: FutureWarning: The default dtype for empty Series will be 'object' instead of 'float64' in a future version. Specify a dtype explicitly to silence this warning.\n",
      "  class_sampled = pd.Series()\n"
     ]
    },
    {
     "name": "stdout",
     "output_type": "stream",
     "text": [
      "0.8660452766143824\n",
      "Pos size= 12177\n",
      "Neg size= 73062\n",
      "Balanced accuracy (cv-train) -> 0.9686533355232543\n",
      "Balanced accuracy (cv-val) -> 0.8660452766143824\n",
      "Balanced accuracy (test) -> 0.9169824995700783\n",
      "False\n",
      "ObyO\n",
      "6\n",
      "Organic compounds - Unspecified\n"
     ]
    },
    {
     "name": "stderr",
     "output_type": "stream",
     "text": [
      "/home/hsilva/Tese/ML/aux_functions/sampling.py:9: FutureWarning: The default dtype for empty Series will be 'object' instead of 'float64' in a future version. Specify a dtype explicitly to silence this warning.\n",
      "  class_sampled = pd.Series()\n",
      "/home/hsilva/Tese/ML/aux_functions/sampling.py:9: FutureWarning: The default dtype for empty Series will be 'object' instead of 'float64' in a future version. Specify a dtype explicitly to silence this warning.\n",
      "  class_sampled = pd.Series()\n"
     ]
    },
    {
     "name": "stdout",
     "output_type": "stream",
     "text": [
      "0.7034920634920635\n",
      "Pos size= 19\n",
      "Neg size= 300\n",
      "Balanced accuracy (cv-train) -> 0.9583333333333334\n",
      "Balanced accuracy (cv-val) -> 0.7034920634920635\n",
      "Balanced accuracy (test) -> 0.8266666666666667\n",
      "False\n",
      "ObyO\n",
      "6\n",
      "Organic nitrogen compounds\n"
     ]
    },
    {
     "name": "stderr",
     "output_type": "stream",
     "text": [
      "/home/hsilva/Tese/ML/aux_functions/sampling.py:9: FutureWarning: The default dtype for empty Series will be 'object' instead of 'float64' in a future version. Specify a dtype explicitly to silence this warning.\n",
      "  class_sampled = pd.Series()\n",
      "/home/hsilva/Tese/ML/aux_functions/sampling.py:9: FutureWarning: The default dtype for empty Series will be 'object' instead of 'float64' in a future version. Specify a dtype explicitly to silence this warning.\n",
      "  class_sampled = pd.Series()\n"
     ]
    },
    {
     "name": "stdout",
     "output_type": "stream",
     "text": [
      "0.8527083333333333\n",
      "Pos size= 1200\n",
      "Neg size= 7200\n",
      "Balanced accuracy (cv-train) -> 0.9788888888888888\n",
      "Balanced accuracy (cv-val) -> 0.8527083333333333\n",
      "Balanced accuracy (test) -> 0.8864936996439947\n",
      "False\n",
      "ObyO\n",
      "6\n",
      "Organic oxygen compounds\n"
     ]
    },
    {
     "name": "stderr",
     "output_type": "stream",
     "text": [
      "/home/hsilva/Tese/ML/aux_functions/sampling.py:9: FutureWarning: The default dtype for empty Series will be 'object' instead of 'float64' in a future version. Specify a dtype explicitly to silence this warning.\n",
      "  class_sampled = pd.Series()\n",
      "/home/hsilva/Tese/ML/aux_functions/sampling.py:9: FutureWarning: The default dtype for empty Series will be 'object' instead of 'float64' in a future version. Specify a dtype explicitly to silence this warning.\n",
      "  class_sampled = pd.Series()\n"
     ]
    },
    {
     "name": "stdout",
     "output_type": "stream",
     "text": [
      "0.8074499629355079\n",
      "Pos size= 8094\n",
      "Neg size= 48564\n",
      "Balanced accuracy (cv-train) -> 0.9672494028498476\n",
      "Balanced accuracy (cv-val) -> 0.8074499629355079\n",
      "Balanced accuracy (test) -> 0.8628118788876957\n",
      "False\n",
      "ObyO\n",
      "6\n",
      "Organic salts\n"
     ]
    },
    {
     "name": "stderr",
     "output_type": "stream",
     "text": [
      "/home/hsilva/Tese/ML/aux_functions/sampling.py:9: FutureWarning: The default dtype for empty Series will be 'object' instead of 'float64' in a future version. Specify a dtype explicitly to silence this warning.\n",
      "  class_sampled = pd.Series()\n",
      "/home/hsilva/Tese/ML/aux_functions/sampling.py:9: FutureWarning: The default dtype for empty Series will be 'object' instead of 'float64' in a future version. Specify a dtype explicitly to silence this warning.\n",
      "  class_sampled = pd.Series()\n"
     ]
    },
    {
     "name": "stdout",
     "output_type": "stream",
     "text": [
      "0.9730952380952381\n",
      "Pos size= 43\n",
      "Neg size= 300\n",
      "Balanced accuracy (cv-train) -> 0.9908333333333333\n",
      "Balanced accuracy (cv-val) -> 0.9730952380952381\n",
      "Balanced accuracy (test) -> 0.99\n",
      "False\n",
      "ObyO\n",
      "6\n",
      "Organohalogen compounds\n"
     ]
    },
    {
     "name": "stderr",
     "output_type": "stream",
     "text": [
      "/home/hsilva/Tese/ML/aux_functions/sampling.py:9: FutureWarning: The default dtype for empty Series will be 'object' instead of 'float64' in a future version. Specify a dtype explicitly to silence this warning.\n",
      "  class_sampled = pd.Series()\n",
      "/home/hsilva/Tese/ML/aux_functions/sampling.py:9: FutureWarning: The default dtype for empty Series will be 'object' instead of 'float64' in a future version. Specify a dtype explicitly to silence this warning.\n",
      "  class_sampled = pd.Series()\n"
     ]
    },
    {
     "name": "stdout",
     "output_type": "stream",
     "text": [
      "0.9843272171253824\n",
      "Pos size= 218\n",
      "Neg size= 1308\n",
      "Balanced accuracy (cv-train) -> 0.993119266055046\n",
      "Balanced accuracy (cv-val) -> 0.9843272171253824\n",
      "Balanced accuracy (test) -> 0.976807061440089\n",
      "False\n",
      "ObyO\n",
      "6\n",
      "Organoheterocyclic compounds\n"
     ]
    },
    {
     "name": "stderr",
     "output_type": "stream",
     "text": [
      "/home/hsilva/Tese/ML/aux_functions/sampling.py:9: FutureWarning: The default dtype for empty Series will be 'object' instead of 'float64' in a future version. Specify a dtype explicitly to silence this warning.\n",
      "  class_sampled = pd.Series()\n",
      "/home/hsilva/Tese/ML/aux_functions/sampling.py:9: FutureWarning: The default dtype for empty Series will be 'object' instead of 'float64' in a future version. Specify a dtype explicitly to silence this warning.\n",
      "  class_sampled = pd.Series()\n"
     ]
    },
    {
     "name": "stdout",
     "output_type": "stream",
     "text": [
      "0.7998152262244483\n",
      "Pos size= 14296\n",
      "Neg size= 85776\n",
      "Balanced accuracy (cv-train) -> 0.9338334328439352\n",
      "Balanced accuracy (cv-val) -> 0.7998152262244483\n",
      "Balanced accuracy (test) -> 0.8935115898956083\n",
      "False\n",
      "ObyO\n",
      "6\n",
      "Organometallic compounds\n"
     ]
    },
    {
     "name": "stderr",
     "output_type": "stream",
     "text": [
      "/home/hsilva/Tese/ML/aux_functions/sampling.py:9: FutureWarning: The default dtype for empty Series will be 'object' instead of 'float64' in a future version. Specify a dtype explicitly to silence this warning.\n",
      "  class_sampled = pd.Series()\n",
      "/home/hsilva/Tese/ML/aux_functions/sampling.py:9: FutureWarning: The default dtype for empty Series will be 'object' instead of 'float64' in a future version. Specify a dtype explicitly to silence this warning.\n",
      "  class_sampled = pd.Series()\n"
     ]
    },
    {
     "name": "stdout",
     "output_type": "stream",
     "text": [
      "0.9242224442224442\n",
      "Pos size= 77\n",
      "Neg size= 462\n",
      "Balanced accuracy (cv-train) -> 0.9994588744588745\n",
      "Balanced accuracy (cv-val) -> 0.9242224442224442\n",
      "Balanced accuracy (test) -> 0.9789107289107289\n",
      "False\n",
      "ObyO\n",
      "6\n",
      "Organophosphorus compounds\n"
     ]
    },
    {
     "name": "stderr",
     "output_type": "stream",
     "text": [
      "/home/hsilva/Tese/ML/aux_functions/sampling.py:9: FutureWarning: The default dtype for empty Series will be 'object' instead of 'float64' in a future version. Specify a dtype explicitly to silence this warning.\n",
      "  class_sampled = pd.Series()\n",
      "/home/hsilva/Tese/ML/aux_functions/sampling.py:9: FutureWarning: The default dtype for empty Series will be 'object' instead of 'float64' in a future version. Specify a dtype explicitly to silence this warning.\n",
      "  class_sampled = pd.Series()\n"
     ]
    },
    {
     "name": "stdout",
     "output_type": "stream",
     "text": [
      "0.9816666666666666\n",
      "Pos size= 27\n",
      "Neg size= 300\n",
      "Balanced accuracy (cv-train) -> 0.9966666666666667\n",
      "Balanced accuracy (cv-val) -> 0.9816666666666666\n",
      "Balanced accuracy (test) -> 0.9933333333333334\n",
      "False\n",
      "ObyO\n",
      "6\n",
      "Organosulfur compounds\n"
     ]
    },
    {
     "name": "stderr",
     "output_type": "stream",
     "text": [
      "/home/hsilva/Tese/ML/aux_functions/sampling.py:9: FutureWarning: The default dtype for empty Series will be 'object' instead of 'float64' in a future version. Specify a dtype explicitly to silence this warning.\n",
      "  class_sampled = pd.Series()\n",
      "/home/hsilva/Tese/ML/aux_functions/sampling.py:9: FutureWarning: The default dtype for empty Series will be 'object' instead of 'float64' in a future version. Specify a dtype explicitly to silence this warning.\n",
      "  class_sampled = pd.Series()\n"
     ]
    },
    {
     "name": "stdout",
     "output_type": "stream",
     "text": [
      "0.9575622624535668\n",
      "Pos size= 481\n",
      "Neg size= 2886\n",
      "Balanced accuracy (cv-train) -> 0.9824151074151074\n",
      "Balanced accuracy (cv-val) -> 0.9575622624535668\n",
      "Balanced accuracy (test) -> 0.9660215862343522\n",
      "False\n",
      "ObyO\n",
      "6\n",
      "Phenylpropanoids and polyketides\n"
     ]
    },
    {
     "name": "stderr",
     "output_type": "stream",
     "text": [
      "/home/hsilva/Tese/ML/aux_functions/sampling.py:9: FutureWarning: The default dtype for empty Series will be 'object' instead of 'float64' in a future version. Specify a dtype explicitly to silence this warning.\n",
      "  class_sampled = pd.Series()\n",
      "/home/hsilva/Tese/ML/aux_functions/sampling.py:9: FutureWarning: The default dtype for empty Series will be 'object' instead of 'float64' in a future version. Specify a dtype explicitly to silence this warning.\n",
      "  class_sampled = pd.Series()\n"
     ]
    },
    {
     "name": "stdout",
     "output_type": "stream",
     "text": [
      "0.8803852854993268\n",
      "Pos size= 8418\n",
      "Neg size= 50508\n",
      "Balanced accuracy (cv-train) -> 0.9691781499960402\n",
      "Balanced accuracy (cv-val) -> 0.8803852854993268\n",
      "Balanced accuracy (test) -> 0.9207556866233281\n",
      "True\n",
      "None\n",
      "None\n",
      "Acetylides\n",
      "0.899148754419914\n",
      "Pos size= 14\n",
      "Neg size= 193246\n",
      "Balanced accuracy (cv-train) -> 0.9992457792505158\n",
      "Balanced accuracy (cv-val) -> 0.899148754419914\n",
      "Balanced accuracy (test) -> 0.927168822982019\n",
      "True\n",
      "None\n",
      "None\n",
      "Alkaloids and derivatives\n"
     ]
    },
    {
     "name": "stderr",
     "output_type": "stream",
     "text": [
      "/home/hsilva/Tese/ML/aux_functions/sampling.py:9: FutureWarning: The default dtype for empty Series will be 'object' instead of 'float64' in a future version. Specify a dtype explicitly to silence this warning.\n",
      "  class_sampled = pd.Series()\n",
      "/home/hsilva/Tese/ML/aux_functions/sampling.py:9: FutureWarning: The default dtype for empty Series will be 'object' instead of 'float64' in a future version. Specify a dtype explicitly to silence this warning.\n",
      "  class_sampled = pd.Series()\n"
     ]
    },
    {
     "name": "stdout",
     "output_type": "stream",
     "text": [
      "0.7254547918771328\n",
      "Pos size= 14296\n",
      "Neg size= 18584\n",
      "Balanced accuracy (cv-train) -> 0.9089811103368156\n",
      "Balanced accuracy (cv-val) -> 0.7254547918771328\n",
      "Balanced accuracy (test) -> 0.8070321545485701\n",
      "True\n",
      "ObyO\n",
      "1.3\n",
      "Organometallic compounds\n"
     ]
    },
    {
     "name": "stderr",
     "output_type": "stream",
     "text": [
      "/home/hsilva/Tese/ML/aux_functions/sampling.py:9: FutureWarning: The default dtype for empty Series will be 'object' instead of 'float64' in a future version. Specify a dtype explicitly to silence this warning.\n",
      "  class_sampled = pd.Series()\n",
      "/home/hsilva/Tese/ML/aux_functions/sampling.py:9: FutureWarning: The default dtype for empty Series will be 'object' instead of 'float64' in a future version. Specify a dtype explicitly to silence this warning.\n",
      "  class_sampled = pd.Series()\n"
     ]
    },
    {
     "name": "stdout",
     "output_type": "stream",
     "text": [
      "0.9524201288907171\n",
      "Pos size= 77\n",
      "Neg size= 100\n",
      "Balanced accuracy (cv-train) -> 1.0\n",
      "Balanced accuracy (cv-val) -> 0.9524201288907171\n",
      "Balanced accuracy (test) -> 0.9664864864864865\n",
      "True\n",
      "ObyO\n",
      "1.3\n",
      "Organophosphorus compounds\n"
     ]
    },
    {
     "name": "stderr",
     "output_type": "stream",
     "text": [
      "/home/hsilva/Tese/ML/aux_functions/sampling.py:9: FutureWarning: The default dtype for empty Series will be 'object' instead of 'float64' in a future version. Specify a dtype explicitly to silence this warning.\n",
      "  class_sampled = pd.Series()\n",
      "/home/hsilva/Tese/ML/aux_functions/sampling.py:9: FutureWarning: The default dtype for empty Series will be 'object' instead of 'float64' in a future version. Specify a dtype explicitly to silence this warning.\n",
      "  class_sampled = pd.Series()\n"
     ]
    },
    {
     "name": "stdout",
     "output_type": "stream",
     "text": [
      "0.9814814814814815\n",
      "Pos size= 27\n",
      "Neg size= 65\n",
      "Balanced accuracy (cv-train) -> 1.0\n",
      "Balanced accuracy (cv-val) -> 0.9814814814814815\n",
      "Balanced accuracy (test) -> 1.0\n",
      "True\n",
      "ObyO\n",
      "1.3\n",
      "Organosulfur compounds\n"
     ]
    },
    {
     "name": "stderr",
     "output_type": "stream",
     "text": [
      "/home/hsilva/Tese/ML/aux_functions/sampling.py:9: FutureWarning: The default dtype for empty Series will be 'object' instead of 'float64' in a future version. Specify a dtype explicitly to silence this warning.\n",
      "  class_sampled = pd.Series()\n",
      "/home/hsilva/Tese/ML/aux_functions/sampling.py:9: FutureWarning: The default dtype for empty Series will be 'object' instead of 'float64' in a future version. Specify a dtype explicitly to silence this warning.\n",
      "  class_sampled = pd.Series()\n"
     ]
    },
    {
     "name": "stdout",
     "output_type": "stream",
     "text": [
      "0.9627218390876857\n",
      "Pos size= 481\n",
      "Neg size= 625\n",
      "Balanced accuracy (cv-train) -> 0.9991996787185636\n",
      "Balanced accuracy (cv-val) -> 0.9627218390876857\n",
      "Balanced accuracy (test) -> 0.9555234042553191\n",
      "True\n",
      "ObyO\n",
      "1.3\n",
      "Phenylpropanoids and polyketides\n"
     ]
    },
    {
     "name": "stderr",
     "output_type": "stream",
     "text": [
      "/home/hsilva/Tese/ML/aux_functions/sampling.py:9: FutureWarning: The default dtype for empty Series will be 'object' instead of 'float64' in a future version. Specify a dtype explicitly to silence this warning.\n",
      "  class_sampled = pd.Series()\n",
      "/home/hsilva/Tese/ML/aux_functions/sampling.py:9: FutureWarning: The default dtype for empty Series will be 'object' instead of 'float64' in a future version. Specify a dtype explicitly to silence this warning.\n",
      "  class_sampled = pd.Series()\n"
     ]
    },
    {
     "name": "stdout",
     "output_type": "stream",
     "text": [
      "0.8821020752959695\n",
      "Pos size= 8418\n",
      "Neg size= 10943\n",
      "Balanced accuracy (cv-train) -> 0.9780091061479808\n",
      "Balanced accuracy (cv-val) -> 0.8821020752959695\n",
      "Balanced accuracy (test) -> 0.9063255639592593\n",
      "True\n",
      "ObyO\n",
      "1.5\n",
      "Acetylides\n"
     ]
    },
    {
     "name": "stderr",
     "output_type": "stream",
     "text": [
      "/home/hsilva/Tese/ML/aux_functions/sampling.py:9: FutureWarning: The default dtype for empty Series will be 'object' instead of 'float64' in a future version. Specify a dtype explicitly to silence this warning.\n",
      "  class_sampled = pd.Series()\n",
      "/home/hsilva/Tese/ML/aux_functions/sampling.py:9: FutureWarning: The default dtype for empty Series will be 'object' instead of 'float64' in a future version. Specify a dtype explicitly to silence this warning.\n",
      "  class_sampled = pd.Series()\n"
     ]
    },
    {
     "name": "stdout",
     "output_type": "stream",
     "text": [
      "0.9266666666666666\n",
      "Pos size= 14\n",
      "Neg size= 75\n",
      "Balanced accuracy (cv-train) -> 1.0\n",
      "Balanced accuracy (cv-val) -> 0.9266666666666666\n",
      "Balanced accuracy (test) -> 0.915057915057915\n",
      "True\n",
      "ObyO\n",
      "1.5\n",
      "Alkaloids and derivatives\n"
     ]
    },
    {
     "name": "stderr",
     "output_type": "stream",
     "text": [
      "/home/hsilva/Tese/ML/aux_functions/sampling.py:9: FutureWarning: The default dtype for empty Series will be 'object' instead of 'float64' in a future version. Specify a dtype explicitly to silence this warning.\n",
      "  class_sampled = pd.Series()\n",
      "/home/hsilva/Tese/ML/aux_functions/sampling.py:9: FutureWarning: The default dtype for empty Series will be 'object' instead of 'float64' in a future version. Specify a dtype explicitly to silence this warning.\n",
      "  class_sampled = pd.Series()\n"
     ]
    },
    {
     "name": "stdout",
     "output_type": "stream",
     "text": [
      "0.9184981684981685\n",
      "Pos size= 1092\n",
      "Neg size= 1638\n",
      "Balanced accuracy (cv-train) -> 0.9944291819291818\n",
      "Balanced accuracy (cv-val) -> 0.9184981684981685\n",
      "Balanced accuracy (test) -> 0.9212727061889072\n",
      "True\n",
      "ObyO\n",
      "1.5\n",
      "Allenes\n"
     ]
    },
    {
     "name": "stderr",
     "output_type": "stream",
     "text": [
      "/home/hsilva/Tese/ML/aux_functions/sampling.py:9: FutureWarning: The default dtype for empty Series will be 'object' instead of 'float64' in a future version. Specify a dtype explicitly to silence this warning.\n",
      "  class_sampled = pd.Series()\n",
      "/home/hsilva/Tese/ML/aux_functions/sampling.py:9: FutureWarning: The default dtype for empty Series will be 'object' instead of 'float64' in a future version. Specify a dtype explicitly to silence this warning.\n",
      "  class_sampled = pd.Series()\n"
     ]
    },
    {
     "name": "stdout",
     "output_type": "stream",
     "text": [
      "0.9133333333333332\n",
      "Pos size= 7\n",
      "Neg size= 75\n",
      "Balanced accuracy (cv-train) -> 0.94\n",
      "Balanced accuracy (cv-val) -> 0.9133333333333332\n",
      "Balanced accuracy (test) -> 0.8783783783783784\n",
      "True\n",
      "ObyO\n",
      "1.5\n",
      "Benzenoids\n"
     ]
    },
    {
     "name": "stderr",
     "output_type": "stream",
     "text": [
      "/home/hsilva/Tese/ML/aux_functions/sampling.py:9: FutureWarning: The default dtype for empty Series will be 'object' instead of 'float64' in a future version. Specify a dtype explicitly to silence this warning.\n",
      "  class_sampled = pd.Series()\n",
      "/home/hsilva/Tese/ML/aux_functions/sampling.py:9: FutureWarning: The default dtype for empty Series will be 'object' instead of 'float64' in a future version. Specify a dtype explicitly to silence this warning.\n",
      "  class_sampled = pd.Series()\n"
     ]
    },
    {
     "name": "stdout",
     "output_type": "stream",
     "text": [
      "0.7712234706616728\n",
      "Pos size= 10146\n",
      "Neg size= 15219\n",
      "Balanced accuracy (cv-train) -> 0.9557953873447665\n",
      "Balanced accuracy (cv-val) -> 0.7712234706616728\n",
      "Balanced accuracy (test) -> 0.8115766268930077\n",
      "True\n",
      "ObyO\n",
      "1.5\n",
      "Hydrocarbon derivatives\n"
     ]
    },
    {
     "name": "stderr",
     "output_type": "stream",
     "text": [
      "/home/hsilva/Tese/ML/aux_functions/sampling.py:9: FutureWarning: The default dtype for empty Series will be 'object' instead of 'float64' in a future version. Specify a dtype explicitly to silence this warning.\n",
      "  class_sampled = pd.Series()\n",
      "/home/hsilva/Tese/ML/aux_functions/sampling.py:9: FutureWarning: The default dtype for empty Series will be 'object' instead of 'float64' in a future version. Specify a dtype explicitly to silence this warning.\n",
      "  class_sampled = pd.Series()\n"
     ]
    },
    {
     "name": "stdout",
     "output_type": "stream",
     "text": [
      "0.8500000000000001\n",
      "Pos size= 35\n",
      "Neg size= 75\n",
      "Balanced accuracy (cv-train) -> 1.0\n",
      "Balanced accuracy (cv-val) -> 0.8500000000000001\n",
      "Balanced accuracy (test) -> 0.8150782361308677\n",
      "True\n",
      "ObyO\n",
      "1.5\n",
      "Hydrocarbons\n"
     ]
    },
    {
     "name": "stderr",
     "output_type": "stream",
     "text": [
      "/home/hsilva/Tese/ML/aux_functions/sampling.py:9: FutureWarning: The default dtype for empty Series will be 'object' instead of 'float64' in a future version. Specify a dtype explicitly to silence this warning.\n",
      "  class_sampled = pd.Series()\n",
      "/home/hsilva/Tese/ML/aux_functions/sampling.py:9: FutureWarning: The default dtype for empty Series will be 'object' instead of 'float64' in a future version. Specify a dtype explicitly to silence this warning.\n",
      "  class_sampled = pd.Series()\n"
     ]
    },
    {
     "name": "stdout",
     "output_type": "stream",
     "text": [
      "0.9784858387799565\n",
      "Pos size= 612\n",
      "Neg size= 918\n",
      "Balanced accuracy (cv-train) -> 0.9960511982570806\n",
      "Balanced accuracy (cv-val) -> 0.9784858387799565\n",
      "Balanced accuracy (test) -> 0.9786287452274639\n",
      "True\n",
      "ObyO\n",
      "1.5\n",
      "Lignans, neolignans and related compounds\n"
     ]
    },
    {
     "name": "stderr",
     "output_type": "stream",
     "text": [
      "/home/hsilva/Tese/ML/aux_functions/sampling.py:9: FutureWarning: The default dtype for empty Series will be 'object' instead of 'float64' in a future version. Specify a dtype explicitly to silence this warning.\n",
      "  class_sampled = pd.Series()\n",
      "/home/hsilva/Tese/ML/aux_functions/sampling.py:9: FutureWarning: The default dtype for empty Series will be 'object' instead of 'float64' in a future version. Specify a dtype explicitly to silence this warning.\n",
      "  class_sampled = pd.Series()\n"
     ]
    },
    {
     "name": "stdout",
     "output_type": "stream",
     "text": [
      "0.9457610006952112\n",
      "Pos size= 286\n",
      "Neg size= 429\n",
      "Balanced accuracy (cv-train) -> 0.9988344988344989\n",
      "Balanced accuracy (cv-val) -> 0.9457610006952112\n",
      "Balanced accuracy (test) -> 0.9312354312354312\n",
      "True\n",
      "ObyO\n",
      "1.5\n",
      "Lipids and lipid-like molecules\n",
      "0.9701686316532543\n",
      "Pos size= 133382\n",
      "Neg size= 59878\n",
      "Balanced accuracy (cv-train) -> 0.9810908806073594\n",
      "Balanced accuracy (cv-val) -> 0.9701686316532543\n",
      "Balanced accuracy (test) -> 0.9711180841762532\n",
      "True\n",
      "ObyO\n",
      "1.5\n",
      "Nucleosides, nucleotides, and analogues\n"
     ]
    },
    {
     "name": "stderr",
     "output_type": "stream",
     "text": [
      "/home/hsilva/Tese/ML/aux_functions/sampling.py:9: FutureWarning: The default dtype for empty Series will be 'object' instead of 'float64' in a future version. Specify a dtype explicitly to silence this warning.\n",
      "  class_sampled = pd.Series()\n",
      "/home/hsilva/Tese/ML/aux_functions/sampling.py:9: FutureWarning: The default dtype for empty Series will be 'object' instead of 'float64' in a future version. Specify a dtype explicitly to silence this warning.\n",
      "  class_sampled = pd.Series()\n"
     ]
    },
    {
     "name": "stdout",
     "output_type": "stream",
     "text": [
      "0.9306041425129536\n",
      "Pos size= 935\n",
      "Neg size= 1402\n",
      "Balanced accuracy (cv-train) -> 0.9998215560314061\n",
      "Balanced accuracy (cv-val) -> 0.9306041425129536\n",
      "Balanced accuracy (test) -> 0.9617171975157137\n",
      "True\n",
      "ObyO\n",
      "1.5\n",
      "Organic 1,3-dipolar compounds\n"
     ]
    },
    {
     "name": "stderr",
     "output_type": "stream",
     "text": [
      "/home/hsilva/Tese/ML/aux_functions/sampling.py:9: FutureWarning: The default dtype for empty Series will be 'object' instead of 'float64' in a future version. Specify a dtype explicitly to silence this warning.\n",
      "  class_sampled = pd.Series()\n",
      "/home/hsilva/Tese/ML/aux_functions/sampling.py:9: FutureWarning: The default dtype for empty Series will be 'object' instead of 'float64' in a future version. Specify a dtype explicitly to silence this warning.\n",
      "  class_sampled = pd.Series()\n"
     ]
    },
    {
     "name": "stdout",
     "output_type": "stream",
     "text": [
      "0.9116161616161617\n",
      "Pos size= 66\n",
      "Neg size= 99\n",
      "Balanced accuracy (cv-train) -> 1.0\n",
      "Balanced accuracy (cv-val) -> 0.9116161616161617\n",
      "Balanced accuracy (test) -> 0.9646464646464646\n",
      "True\n",
      "ObyO\n",
      "1.5\n",
      "Organic Polymers\n"
     ]
    },
    {
     "name": "stderr",
     "output_type": "stream",
     "text": [
      "/home/hsilva/Tese/ML/aux_functions/sampling.py:9: FutureWarning: The default dtype for empty Series will be 'object' instead of 'float64' in a future version. Specify a dtype explicitly to silence this warning.\n",
      "  class_sampled = pd.Series()\n",
      "/home/hsilva/Tese/ML/aux_functions/sampling.py:9: FutureWarning: The default dtype for empty Series will be 'object' instead of 'float64' in a future version. Specify a dtype explicitly to silence this warning.\n",
      "  class_sampled = pd.Series()\n"
     ]
    },
    {
     "name": "stdout",
     "output_type": "stream",
     "text": [
      "0.9910248204252898\n",
      "Pos size= 1635\n",
      "Neg size= 2452\n",
      "Balanced accuracy (cv-train) -> 0.9996940024479803\n",
      "Balanced accuracy (cv-val) -> 0.9910248204252898\n",
      "Balanced accuracy (test) -> 0.994264569561891\n",
      "True\n",
      "ObyO\n",
      "1.5\n",
      "Organic acids and derivatives\n"
     ]
    },
    {
     "name": "stderr",
     "output_type": "stream",
     "text": [
      "/home/hsilva/Tese/ML/aux_functions/sampling.py:9: FutureWarning: The default dtype for empty Series will be 'object' instead of 'float64' in a future version. Specify a dtype explicitly to silence this warning.\n",
      "  class_sampled = pd.Series()\n",
      "/home/hsilva/Tese/ML/aux_functions/sampling.py:9: FutureWarning: The default dtype for empty Series will be 'object' instead of 'float64' in a future version. Specify a dtype explicitly to silence this warning.\n",
      "  class_sampled = pd.Series()\n"
     ]
    },
    {
     "name": "stdout",
     "output_type": "stream",
     "text": [
      "0.8502883292848203\n",
      "Pos size= 12177\n",
      "Neg size= 18265\n",
      "Balanced accuracy (cv-train) -> 0.9788189935691217\n",
      "Balanced accuracy (cv-val) -> 0.8502883292848203\n",
      "Balanced accuracy (test) -> 0.8835707882269173\n",
      "True\n",
      "ObyO\n",
      "1.5\n",
      "Organic compounds - Unspecified\n"
     ]
    },
    {
     "name": "stderr",
     "output_type": "stream",
     "text": [
      "/home/hsilva/Tese/ML/aux_functions/sampling.py:9: FutureWarning: The default dtype for empty Series will be 'object' instead of 'float64' in a future version. Specify a dtype explicitly to silence this warning.\n",
      "  class_sampled = pd.Series()\n",
      "/home/hsilva/Tese/ML/aux_functions/sampling.py:9: FutureWarning: The default dtype for empty Series will be 'object' instead of 'float64' in a future version. Specify a dtype explicitly to silence this warning.\n",
      "  class_sampled = pd.Series()\n"
     ]
    },
    {
     "name": "stdout",
     "output_type": "stream",
     "text": [
      "0.7534920634920635\n",
      "Pos size= 19\n",
      "Neg size= 75\n",
      "Balanced accuracy (cv-train) -> 1.0\n",
      "Balanced accuracy (cv-val) -> 0.7534920634920635\n",
      "Balanced accuracy (test) -> 0.672972972972973\n",
      "True\n",
      "ObyO\n",
      "1.5\n",
      "Organic nitrogen compounds\n"
     ]
    },
    {
     "name": "stderr",
     "output_type": "stream",
     "text": [
      "/home/hsilva/Tese/ML/aux_functions/sampling.py:9: FutureWarning: The default dtype for empty Series will be 'object' instead of 'float64' in a future version. Specify a dtype explicitly to silence this warning.\n",
      "  class_sampled = pd.Series()\n",
      "/home/hsilva/Tese/ML/aux_functions/sampling.py:9: FutureWarning: The default dtype for empty Series will be 'object' instead of 'float64' in a future version. Specify a dtype explicitly to silence this warning.\n",
      "  class_sampled = pd.Series()\n"
     ]
    },
    {
     "name": "stdout",
     "output_type": "stream",
     "text": [
      "0.8520833333333334\n",
      "Pos size= 1200\n",
      "Neg size= 1800\n",
      "Balanced accuracy (cv-train) -> 0.9938194444444445\n",
      "Balanced accuracy (cv-val) -> 0.8520833333333334\n",
      "Balanced accuracy (test) -> 0.8813172194116545\n",
      "True\n",
      "ObyO\n",
      "1.5\n",
      "Organic oxygen compounds\n"
     ]
    },
    {
     "name": "stderr",
     "output_type": "stream",
     "text": [
      "/home/hsilva/Tese/ML/aux_functions/sampling.py:9: FutureWarning: The default dtype for empty Series will be 'object' instead of 'float64' in a future version. Specify a dtype explicitly to silence this warning.\n",
      "  class_sampled = pd.Series()\n",
      "/home/hsilva/Tese/ML/aux_functions/sampling.py:9: FutureWarning: The default dtype for empty Series will be 'object' instead of 'float64' in a future version. Specify a dtype explicitly to silence this warning.\n",
      "  class_sampled = pd.Series()\n"
     ]
    },
    {
     "name": "stdout",
     "output_type": "stream",
     "text": [
      "0.7632196688905362\n",
      "Pos size= 8094\n",
      "Neg size= 12141\n",
      "Balanced accuracy (cv-train) -> 0.9755580265217033\n",
      "Balanced accuracy (cv-val) -> 0.7632196688905362\n",
      "Balanced accuracy (test) -> 0.872597125934511\n",
      "True\n",
      "ObyO\n",
      "1.5\n",
      "Organic salts\n"
     ]
    },
    {
     "name": "stderr",
     "output_type": "stream",
     "text": [
      "/home/hsilva/Tese/ML/aux_functions/sampling.py:9: FutureWarning: The default dtype for empty Series will be 'object' instead of 'float64' in a future version. Specify a dtype explicitly to silence this warning.\n",
      "  class_sampled = pd.Series()\n",
      "/home/hsilva/Tese/ML/aux_functions/sampling.py:9: FutureWarning: The default dtype for empty Series will be 'object' instead of 'float64' in a future version. Specify a dtype explicitly to silence this warning.\n",
      "  class_sampled = pd.Series()\n"
     ]
    },
    {
     "name": "stdout",
     "output_type": "stream",
     "text": [
      "0.9933333333333333\n",
      "Pos size= 43\n",
      "Neg size= 75\n",
      "Balanced accuracy (cv-train) -> 1.0\n",
      "Balanced accuracy (cv-val) -> 0.9933333333333333\n",
      "Balanced accuracy (test) -> 0.9864864864864865\n",
      "True\n",
      "ObyO\n",
      "1.5\n",
      "Organohalogen compounds\n"
     ]
    },
    {
     "name": "stderr",
     "output_type": "stream",
     "text": [
      "/home/hsilva/Tese/ML/aux_functions/sampling.py:9: FutureWarning: The default dtype for empty Series will be 'object' instead of 'float64' in a future version. Specify a dtype explicitly to silence this warning.\n",
      "  class_sampled = pd.Series()\n",
      "/home/hsilva/Tese/ML/aux_functions/sampling.py:9: FutureWarning: The default dtype for empty Series will be 'object' instead of 'float64' in a future version. Specify a dtype explicitly to silence this warning.\n",
      "  class_sampled = pd.Series()\n"
     ]
    },
    {
     "name": "stdout",
     "output_type": "stream",
     "text": [
      "0.9778601650538311\n",
      "Pos size= 218\n",
      "Neg size= 327\n",
      "Balanced accuracy (cv-train) -> 1.0\n",
      "Balanced accuracy (cv-val) -> 0.9778601650538311\n",
      "Balanced accuracy (test) -> 0.9756185710314151\n",
      "True\n",
      "ObyO\n",
      "1.5\n",
      "Organoheterocyclic compounds\n"
     ]
    },
    {
     "name": "stderr",
     "output_type": "stream",
     "text": [
      "/home/hsilva/Tese/ML/aux_functions/sampling.py:9: FutureWarning: The default dtype for empty Series will be 'object' instead of 'float64' in a future version. Specify a dtype explicitly to silence this warning.\n",
      "  class_sampled = pd.Series()\n",
      "/home/hsilva/Tese/ML/aux_functions/sampling.py:9: FutureWarning: The default dtype for empty Series will be 'object' instead of 'float64' in a future version. Specify a dtype explicitly to silence this warning.\n",
      "  class_sampled = pd.Series()\n"
     ]
    },
    {
     "name": "stdout",
     "output_type": "stream",
     "text": [
      "0.7298424666149751\n",
      "Pos size= 14296\n",
      "Neg size= 21444\n",
      "Balanced accuracy (cv-train) -> 0.9105810195250822\n",
      "Balanced accuracy (cv-val) -> 0.7298424666149751\n",
      "Balanced accuracy (test) -> 0.8062496313648542\n",
      "True\n",
      "ObyO\n",
      "1.5\n",
      "Organometallic compounds\n"
     ]
    },
    {
     "name": "stderr",
     "output_type": "stream",
     "text": [
      "/home/hsilva/Tese/ML/aux_functions/sampling.py:9: FutureWarning: The default dtype for empty Series will be 'object' instead of 'float64' in a future version. Specify a dtype explicitly to silence this warning.\n",
      "  class_sampled = pd.Series()\n",
      "/home/hsilva/Tese/ML/aux_functions/sampling.py:9: FutureWarning: The default dtype for empty Series will be 'object' instead of 'float64' in a future version. Specify a dtype explicitly to silence this warning.\n",
      "  class_sampled = pd.Series()\n"
     ]
    },
    {
     "name": "stdout",
     "output_type": "stream",
     "text": [
      "0.9612010796221323\n",
      "Pos size= 77\n",
      "Neg size= 115\n",
      "Balanced accuracy (cv-train) -> 1.0\n",
      "Balanced accuracy (cv-val) -> 0.9612010796221323\n",
      "Balanced accuracy (test) -> 0.9242068155111633\n",
      "True\n",
      "ObyO\n",
      "1.5\n",
      "Organophosphorus compounds\n"
     ]
    },
    {
     "name": "stderr",
     "output_type": "stream",
     "text": [
      "/home/hsilva/Tese/ML/aux_functions/sampling.py:9: FutureWarning: The default dtype for empty Series will be 'object' instead of 'float64' in a future version. Specify a dtype explicitly to silence this warning.\n",
      "  class_sampled = pd.Series()\n",
      "/home/hsilva/Tese/ML/aux_functions/sampling.py:9: FutureWarning: The default dtype for empty Series will be 'object' instead of 'float64' in a future version. Specify a dtype explicitly to silence this warning.\n",
      "  class_sampled = pd.Series()\n"
     ]
    },
    {
     "name": "stdout",
     "output_type": "stream",
     "text": [
      "0.9814814814814815\n",
      "Pos size= 27\n",
      "Neg size= 75\n",
      "Balanced accuracy (cv-train) -> 1.0\n",
      "Balanced accuracy (cv-val) -> 0.9814814814814815\n",
      "Balanced accuracy (test) -> 1.0\n",
      "True\n",
      "ObyO\n",
      "1.5\n",
      "Organosulfur compounds\n"
     ]
    },
    {
     "name": "stderr",
     "output_type": "stream",
     "text": [
      "/home/hsilva/Tese/ML/aux_functions/sampling.py:9: FutureWarning: The default dtype for empty Series will be 'object' instead of 'float64' in a future version. Specify a dtype explicitly to silence this warning.\n",
      "  class_sampled = pd.Series()\n",
      "/home/hsilva/Tese/ML/aux_functions/sampling.py:9: FutureWarning: The default dtype for empty Series will be 'object' instead of 'float64' in a future version. Specify a dtype explicitly to silence this warning.\n",
      "  class_sampled = pd.Series()\n"
     ]
    },
    {
     "name": "stdout",
     "output_type": "stream",
     "text": [
      "0.9597719148847824\n",
      "Pos size= 481\n",
      "Neg size= 721\n",
      "Balanced accuracy (cv-train) -> 0.998612554862555\n",
      "Balanced accuracy (cv-val) -> 0.9597719148847824\n",
      "Balanced accuracy (test) -> 0.9580606132145071\n",
      "True\n",
      "ObyO\n",
      "1.5\n",
      "Phenylpropanoids and polyketides\n"
     ]
    },
    {
     "name": "stderr",
     "output_type": "stream",
     "text": [
      "/home/hsilva/Tese/ML/aux_functions/sampling.py:9: FutureWarning: The default dtype for empty Series will be 'object' instead of 'float64' in a future version. Specify a dtype explicitly to silence this warning.\n",
      "  class_sampled = pd.Series()\n",
      "/home/hsilva/Tese/ML/aux_functions/sampling.py:9: FutureWarning: The default dtype for empty Series will be 'object' instead of 'float64' in a future version. Specify a dtype explicitly to silence this warning.\n",
      "  class_sampled = pd.Series()\n"
     ]
    },
    {
     "name": "stdout",
     "output_type": "stream",
     "text": [
      "0.8838203848895224\n",
      "Pos size= 8418\n",
      "Neg size= 12627\n",
      "Balanced accuracy (cv-train) -> 0.9781222776589847\n",
      "Balanced accuracy (cv-val) -> 0.8838203848895224\n",
      "Balanced accuracy (test) -> 0.9058721995237504\n",
      "True\n",
      "ObyO\n",
      "2\n",
      "Acetylides\n"
     ]
    },
    {
     "name": "stderr",
     "output_type": "stream",
     "text": [
      "/home/hsilva/Tese/ML/aux_functions/sampling.py:9: FutureWarning: The default dtype for empty Series will be 'object' instead of 'float64' in a future version. Specify a dtype explicitly to silence this warning.\n",
      "  class_sampled = pd.Series()\n",
      "/home/hsilva/Tese/ML/aux_functions/sampling.py:9: FutureWarning: The default dtype for empty Series will be 'object' instead of 'float64' in a future version. Specify a dtype explicitly to silence this warning.\n",
      "  class_sampled = pd.Series()\n"
     ]
    },
    {
     "name": "stdout",
     "output_type": "stream",
     "text": [
      "0.8819964349376114\n",
      "Pos size= 14\n",
      "Neg size= 100\n",
      "Balanced accuracy (cv-train) -> 0.9449344188150158\n",
      "Balanced accuracy (cv-val) -> 0.8819964349376114\n",
      "Balanced accuracy (test) -> 0.8585714285714285\n",
      "True\n",
      "ObyO\n",
      "2\n",
      "Alkaloids and derivatives\n"
     ]
    },
    {
     "name": "stderr",
     "output_type": "stream",
     "text": [
      "/home/hsilva/Tese/ML/aux_functions/sampling.py:9: FutureWarning: The default dtype for empty Series will be 'object' instead of 'float64' in a future version. Specify a dtype explicitly to silence this warning.\n",
      "  class_sampled = pd.Series()\n",
      "/home/hsilva/Tese/ML/aux_functions/sampling.py:9: FutureWarning: The default dtype for empty Series will be 'object' instead of 'float64' in a future version. Specify a dtype explicitly to silence this warning.\n",
      "  class_sampled = pd.Series()\n"
     ]
    },
    {
     "name": "stdout",
     "output_type": "stream",
     "text": [
      "0.9152930402930403\n",
      "Pos size= 1092\n",
      "Neg size= 2184\n",
      "Balanced accuracy (cv-train) -> 0.9866071428571429\n",
      "Balanced accuracy (cv-val) -> 0.9152930402930403\n",
      "Balanced accuracy (test) -> 0.9191824237215298\n",
      "True\n",
      "ObyO\n",
      "2\n",
      "Allenes\n"
     ]
    },
    {
     "name": "stderr",
     "output_type": "stream",
     "text": [
      "/home/hsilva/Tese/ML/aux_functions/sampling.py:9: FutureWarning: The default dtype for empty Series will be 'object' instead of 'float64' in a future version. Specify a dtype explicitly to silence this warning.\n",
      "  class_sampled = pd.Series()\n",
      "/home/hsilva/Tese/ML/aux_functions/sampling.py:9: FutureWarning: The default dtype for empty Series will be 'object' instead of 'float64' in a future version. Specify a dtype explicitly to silence this warning.\n",
      "  class_sampled = pd.Series()\n"
     ]
    },
    {
     "name": "stdout",
     "output_type": "stream",
     "text": [
      "0.9949494949494949\n",
      "Pos size= 7\n",
      "Neg size= 100\n",
      "Balanced accuracy (cv-train) -> 1.0\n",
      "Balanced accuracy (cv-val) -> 0.9949494949494949\n",
      "Balanced accuracy (test) -> 0.8033333333333332\n",
      "True\n",
      "ObyO\n",
      "2\n",
      "Benzenoids\n"
     ]
    },
    {
     "name": "stderr",
     "output_type": "stream",
     "text": [
      "/home/hsilva/Tese/ML/aux_functions/sampling.py:9: FutureWarning: The default dtype for empty Series will be 'object' instead of 'float64' in a future version. Specify a dtype explicitly to silence this warning.\n",
      "  class_sampled = pd.Series()\n",
      "/home/hsilva/Tese/ML/aux_functions/sampling.py:9: FutureWarning: The default dtype for empty Series will be 'object' instead of 'float64' in a future version. Specify a dtype explicitly to silence this warning.\n",
      "  class_sampled = pd.Series()\n"
     ]
    },
    {
     "name": "stdout",
     "output_type": "stream",
     "text": [
      "0.7634289375123201\n",
      "Pos size= 10146\n",
      "Neg size= 20292\n",
      "Balanced accuracy (cv-train) -> 0.9463951310861423\n",
      "Balanced accuracy (cv-val) -> 0.7634289375123201\n",
      "Balanced accuracy (test) -> 0.8137418909151612\n",
      "True\n",
      "ObyO\n",
      "2\n",
      "Hydrocarbon derivatives\n"
     ]
    },
    {
     "name": "stderr",
     "output_type": "stream",
     "text": [
      "/home/hsilva/Tese/ML/aux_functions/sampling.py:9: FutureWarning: The default dtype for empty Series will be 'object' instead of 'float64' in a future version. Specify a dtype explicitly to silence this warning.\n",
      "  class_sampled = pd.Series()\n",
      "/home/hsilva/Tese/ML/aux_functions/sampling.py:9: FutureWarning: The default dtype for empty Series will be 'object' instead of 'float64' in a future version. Specify a dtype explicitly to silence this warning.\n",
      "  class_sampled = pd.Series()\n"
     ]
    },
    {
     "name": "stdout",
     "output_type": "stream",
     "text": [
      "0.8515300059417706\n",
      "Pos size= 35\n",
      "Neg size= 100\n",
      "Balanced accuracy (cv-train) -> 1.0\n",
      "Balanced accuracy (cv-val) -> 0.8515300059417706\n",
      "Balanced accuracy (test) -> 0.743157894736842\n",
      "True\n",
      "ObyO\n",
      "2\n",
      "Hydrocarbons\n"
     ]
    },
    {
     "name": "stderr",
     "output_type": "stream",
     "text": [
      "/home/hsilva/Tese/ML/aux_functions/sampling.py:9: FutureWarning: The default dtype for empty Series will be 'object' instead of 'float64' in a future version. Specify a dtype explicitly to silence this warning.\n",
      "  class_sampled = pd.Series()\n",
      "/home/hsilva/Tese/ML/aux_functions/sampling.py:9: FutureWarning: The default dtype for empty Series will be 'object' instead of 'float64' in a future version. Specify a dtype explicitly to silence this warning.\n",
      "  class_sampled = pd.Series()\n"
     ]
    },
    {
     "name": "stdout",
     "output_type": "stream",
     "text": [
      "0.9816176470588237\n",
      "Pos size= 612\n",
      "Neg size= 1224\n",
      "Balanced accuracy (cv-train) -> 0.9969362745098039\n",
      "Balanced accuracy (cv-val) -> 0.9816176470588237\n",
      "Balanced accuracy (test) -> 0.9806712288875947\n",
      "True\n",
      "ObyO\n",
      "2\n",
      "Lignans, neolignans and related compounds\n"
     ]
    },
    {
     "name": "stderr",
     "output_type": "stream",
     "text": [
      "/home/hsilva/Tese/ML/aux_functions/sampling.py:9: FutureWarning: The default dtype for empty Series will be 'object' instead of 'float64' in a future version. Specify a dtype explicitly to silence this warning.\n",
      "  class_sampled = pd.Series()\n",
      "/home/hsilva/Tese/ML/aux_functions/sampling.py:9: FutureWarning: The default dtype for empty Series will be 'object' instead of 'float64' in a future version. Specify a dtype explicitly to silence this warning.\n",
      "  class_sampled = pd.Series()\n"
     ]
    },
    {
     "name": "stdout",
     "output_type": "stream",
     "text": [
      "0.9396158644866967\n",
      "Pos size= 286\n",
      "Neg size= 572\n",
      "Balanced accuracy (cv-train) -> 0.9925703004401937\n",
      "Balanced accuracy (cv-val) -> 0.9396158644866967\n",
      "Balanced accuracy (test) -> 0.9501748251748252\n",
      "True\n",
      "ObyO\n",
      "2\n",
      "Lipids and lipid-like molecules\n",
      "0.9701686316532543\n",
      "Pos size= 133382\n",
      "Neg size= 59878\n",
      "Balanced accuracy (cv-train) -> 0.9810908806073594\n",
      "Balanced accuracy (cv-val) -> 0.9701686316532543\n",
      "Balanced accuracy (test) -> 0.9711180841762532\n",
      "True\n",
      "ObyO\n",
      "2\n",
      "Nucleosides, nucleotides, and analogues\n"
     ]
    },
    {
     "name": "stderr",
     "output_type": "stream",
     "text": [
      "/home/hsilva/Tese/ML/aux_functions/sampling.py:9: FutureWarning: The default dtype for empty Series will be 'object' instead of 'float64' in a future version. Specify a dtype explicitly to silence this warning.\n",
      "  class_sampled = pd.Series()\n",
      "/home/hsilva/Tese/ML/aux_functions/sampling.py:9: FutureWarning: The default dtype for empty Series will be 'object' instead of 'float64' in a future version. Specify a dtype explicitly to silence this warning.\n",
      "  class_sampled = pd.Series()\n"
     ]
    },
    {
     "name": "stdout",
     "output_type": "stream",
     "text": [
      "0.9240294807015065\n",
      "Pos size= 935\n",
      "Neg size= 1870\n",
      "Balanced accuracy (cv-train) -> 0.9990639922115915\n",
      "Balanced accuracy (cv-val) -> 0.9240294807015065\n",
      "Balanced accuracy (test) -> 0.9564871681105948\n",
      "True\n",
      "ObyO\n",
      "2\n",
      "Organic 1,3-dipolar compounds\n"
     ]
    },
    {
     "name": "stderr",
     "output_type": "stream",
     "text": [
      "/home/hsilva/Tese/ML/aux_functions/sampling.py:9: FutureWarning: The default dtype for empty Series will be 'object' instead of 'float64' in a future version. Specify a dtype explicitly to silence this warning.\n",
      "  class_sampled = pd.Series()\n",
      "/home/hsilva/Tese/ML/aux_functions/sampling.py:9: FutureWarning: The default dtype for empty Series will be 'object' instead of 'float64' in a future version. Specify a dtype explicitly to silence this warning.\n",
      "  class_sampled = pd.Series()\n"
     ]
    },
    {
     "name": "stdout",
     "output_type": "stream",
     "text": [
      "0.8977272727272728\n",
      "Pos size= 66\n",
      "Neg size= 132\n",
      "Balanced accuracy (cv-train) -> 0.9981060606060606\n",
      "Balanced accuracy (cv-val) -> 0.8977272727272728\n",
      "Balanced accuracy (test) -> 0.875\n",
      "True\n",
      "ObyO\n",
      "2\n",
      "Organic Polymers\n"
     ]
    },
    {
     "name": "stderr",
     "output_type": "stream",
     "text": [
      "/home/hsilva/Tese/ML/aux_functions/sampling.py:9: FutureWarning: The default dtype for empty Series will be 'object' instead of 'float64' in a future version. Specify a dtype explicitly to silence this warning.\n",
      "  class_sampled = pd.Series()\n",
      "/home/hsilva/Tese/ML/aux_functions/sampling.py:9: FutureWarning: The default dtype for empty Series will be 'object' instead of 'float64' in a future version. Specify a dtype explicitly to silence this warning.\n",
      "  class_sampled = pd.Series()\n"
     ]
    },
    {
     "name": "stdout",
     "output_type": "stream",
     "text": [
      "0.9941896024464832\n",
      "Pos size= 1635\n",
      "Neg size= 3270\n",
      "Balanced accuracy (cv-train) -> 0.999770642201835\n",
      "Balanced accuracy (cv-val) -> 0.9941896024464832\n",
      "Balanced accuracy (test) -> 0.9955395694371723\n",
      "True\n",
      "ObyO\n",
      "2\n",
      "Organic acids and derivatives\n"
     ]
    },
    {
     "name": "stderr",
     "output_type": "stream",
     "text": [
      "/home/hsilva/Tese/ML/aux_functions/sampling.py:9: FutureWarning: The default dtype for empty Series will be 'object' instead of 'float64' in a future version. Specify a dtype explicitly to silence this warning.\n",
      "  class_sampled = pd.Series()\n",
      "/home/hsilva/Tese/ML/aux_functions/sampling.py:9: FutureWarning: The default dtype for empty Series will be 'object' instead of 'float64' in a future version. Specify a dtype explicitly to silence this warning.\n",
      "  class_sampled = pd.Series()\n"
     ]
    },
    {
     "name": "stdout",
     "output_type": "stream",
     "text": [
      "0.8487928061098793\n",
      "Pos size= 12177\n",
      "Neg size= 24354\n",
      "Balanced accuracy (cv-train) -> 0.9769237086310257\n",
      "Balanced accuracy (cv-val) -> 0.8487928061098793\n",
      "Balanced accuracy (test) -> 0.8847606200251867\n",
      "True\n",
      "ObyO\n",
      "2\n",
      "Organic compounds - Unspecified\n"
     ]
    },
    {
     "name": "stderr",
     "output_type": "stream",
     "text": [
      "/home/hsilva/Tese/ML/aux_functions/sampling.py:9: FutureWarning: The default dtype for empty Series will be 'object' instead of 'float64' in a future version. Specify a dtype explicitly to silence this warning.\n",
      "  class_sampled = pd.Series()\n",
      "/home/hsilva/Tese/ML/aux_functions/sampling.py:9: FutureWarning: The default dtype for empty Series will be 'object' instead of 'float64' in a future version. Specify a dtype explicitly to silence this warning.\n",
      "  class_sampled = pd.Series()\n"
     ]
    },
    {
     "name": "stdout",
     "output_type": "stream",
     "text": [
      "0.7116967999320941\n",
      "Pos size= 19\n",
      "Neg size= 100\n",
      "Balanced accuracy (cv-train) -> 1.0\n",
      "Balanced accuracy (cv-val) -> 0.7116967999320941\n",
      "Balanced accuracy (test) -> 0.54\n",
      "True\n",
      "ObyO\n",
      "2\n",
      "Organic nitrogen compounds\n"
     ]
    },
    {
     "name": "stderr",
     "output_type": "stream",
     "text": [
      "/home/hsilva/Tese/ML/aux_functions/sampling.py:9: FutureWarning: The default dtype for empty Series will be 'object' instead of 'float64' in a future version. Specify a dtype explicitly to silence this warning.\n",
      "  class_sampled = pd.Series()\n",
      "/home/hsilva/Tese/ML/aux_functions/sampling.py:9: FutureWarning: The default dtype for empty Series will be 'object' instead of 'float64' in a future version. Specify a dtype explicitly to silence this warning.\n",
      "  class_sampled = pd.Series()\n"
     ]
    },
    {
     "name": "stdout",
     "output_type": "stream",
     "text": [
      "0.8483333333333333\n",
      "Pos size= 1200\n",
      "Neg size= 2400\n",
      "Balanced accuracy (cv-train) -> 0.9929166666666666\n",
      "Balanced accuracy (cv-val) -> 0.8483333333333333\n",
      "Balanced accuracy (test) -> 0.8735209387296234\n",
      "True\n",
      "ObyO\n",
      "2\n",
      "Organic oxygen compounds\n"
     ]
    },
    {
     "name": "stderr",
     "output_type": "stream",
     "text": [
      "/home/hsilva/Tese/ML/aux_functions/sampling.py:9: FutureWarning: The default dtype for empty Series will be 'object' instead of 'float64' in a future version. Specify a dtype explicitly to silence this warning.\n",
      "  class_sampled = pd.Series()\n",
      "/home/hsilva/Tese/ML/aux_functions/sampling.py:9: FutureWarning: The default dtype for empty Series will be 'object' instead of 'float64' in a future version. Specify a dtype explicitly to silence this warning.\n",
      "  class_sampled = pd.Series()\n"
     ]
    },
    {
     "name": "stdout",
     "output_type": "stream",
     "text": [
      "0.7723313565604152\n",
      "Pos size= 8094\n",
      "Neg size= 16188\n",
      "Balanced accuracy (cv-train) -> 0.9741784037558685\n",
      "Balanced accuracy (cv-val) -> 0.7723313565604152\n",
      "Balanced accuracy (test) -> 0.8742104035733667\n",
      "True\n",
      "ObyO\n",
      "2\n",
      "Organic salts\n"
     ]
    },
    {
     "name": "stderr",
     "output_type": "stream",
     "text": [
      "/home/hsilva/Tese/ML/aux_functions/sampling.py:9: FutureWarning: The default dtype for empty Series will be 'object' instead of 'float64' in a future version. Specify a dtype explicitly to silence this warning.\n",
      "  class_sampled = pd.Series()\n",
      "/home/hsilva/Tese/ML/aux_functions/sampling.py:9: FutureWarning: The default dtype for empty Series will be 'object' instead of 'float64' in a future version. Specify a dtype explicitly to silence this warning.\n",
      "  class_sampled = pd.Series()\n"
     ]
    },
    {
     "name": "stdout",
     "output_type": "stream",
     "text": [
      "0.9660894660894662\n",
      "Pos size= 43\n",
      "Neg size= 100\n",
      "Balanced accuracy (cv-train) -> 1.0\n",
      "Balanced accuracy (cv-val) -> 0.9660894660894662\n",
      "Balanced accuracy (test) -> 0.9423809523809523\n",
      "True\n",
      "ObyO\n",
      "2\n",
      "Organohalogen compounds\n"
     ]
    },
    {
     "name": "stderr",
     "output_type": "stream",
     "text": [
      "/home/hsilva/Tese/ML/aux_functions/sampling.py:9: FutureWarning: The default dtype for empty Series will be 'object' instead of 'float64' in a future version. Specify a dtype explicitly to silence this warning.\n",
      "  class_sampled = pd.Series()\n",
      "/home/hsilva/Tese/ML/aux_functions/sampling.py:9: FutureWarning: The default dtype for empty Series will be 'object' instead of 'float64' in a future version. Specify a dtype explicitly to silence this warning.\n",
      "  class_sampled = pd.Series()\n"
     ]
    },
    {
     "name": "stdout",
     "output_type": "stream",
     "text": [
      "0.980498915306426\n",
      "Pos size= 218\n",
      "Neg size= 436\n",
      "Balanced accuracy (cv-train) -> 1.0\n",
      "Balanced accuracy (cv-val) -> 0.980498915306426\n",
      "Balanced accuracy (test) -> 0.9669516263552961\n",
      "True\n",
      "ObyO\n",
      "2\n",
      "Organoheterocyclic compounds\n"
     ]
    },
    {
     "name": "stderr",
     "output_type": "stream",
     "text": [
      "/home/hsilva/Tese/ML/aux_functions/sampling.py:9: FutureWarning: The default dtype for empty Series will be 'object' instead of 'float64' in a future version. Specify a dtype explicitly to silence this warning.\n",
      "  class_sampled = pd.Series()\n",
      "/home/hsilva/Tese/ML/aux_functions/sampling.py:9: FutureWarning: The default dtype for empty Series will be 'object' instead of 'float64' in a future version. Specify a dtype explicitly to silence this warning.\n",
      "  class_sampled = pd.Series()\n"
     ]
    },
    {
     "name": "stdout",
     "output_type": "stream",
     "text": [
      "0.7245543550023271\n",
      "Pos size= 14296\n",
      "Neg size= 28592\n",
      "Balanced accuracy (cv-train) -> 0.9039325001741546\n",
      "Balanced accuracy (cv-val) -> 0.7245543550023271\n",
      "Balanced accuracy (test) -> 0.8115168441068022\n",
      "True\n",
      "ObyO\n",
      "2\n",
      "Organometallic compounds\n"
     ]
    },
    {
     "name": "stderr",
     "output_type": "stream",
     "text": [
      "/home/hsilva/Tese/ML/aux_functions/sampling.py:9: FutureWarning: The default dtype for empty Series will be 'object' instead of 'float64' in a future version. Specify a dtype explicitly to silence this warning.\n",
      "  class_sampled = pd.Series()\n",
      "/home/hsilva/Tese/ML/aux_functions/sampling.py:9: FutureWarning: The default dtype for empty Series will be 'object' instead of 'float64' in a future version. Specify a dtype explicitly to silence this warning.\n",
      "  class_sampled = pd.Series()\n"
     ]
    },
    {
     "name": "stdout",
     "output_type": "stream",
     "text": [
      "0.9480216189039719\n",
      "Pos size= 77\n",
      "Neg size= 154\n",
      "Balanced accuracy (cv-train) -> 0.9983660130718954\n",
      "Balanced accuracy (cv-val) -> 0.9480216189039719\n",
      "Balanced accuracy (test) -> 0.9432256932256933\n",
      "True\n",
      "ObyO\n",
      "2\n",
      "Organophosphorus compounds\n"
     ]
    },
    {
     "name": "stderr",
     "output_type": "stream",
     "text": [
      "/home/hsilva/Tese/ML/aux_functions/sampling.py:9: FutureWarning: The default dtype for empty Series will be 'object' instead of 'float64' in a future version. Specify a dtype explicitly to silence this warning.\n",
      "  class_sampled = pd.Series()\n",
      "/home/hsilva/Tese/ML/aux_functions/sampling.py:9: FutureWarning: The default dtype for empty Series will be 'object' instead of 'float64' in a future version. Specify a dtype explicitly to silence this warning.\n",
      "  class_sampled = pd.Series()\n"
     ]
    },
    {
     "name": "stdout",
     "output_type": "stream",
     "text": [
      "0.9950980392156863\n",
      "Pos size= 27\n",
      "Neg size= 100\n",
      "Balanced accuracy (cv-train) -> 1.0\n",
      "Balanced accuracy (cv-val) -> 0.9950980392156863\n",
      "Balanced accuracy (test) -> 1.0\n",
      "True\n",
      "ObyO\n",
      "2\n",
      "Organosulfur compounds\n"
     ]
    },
    {
     "name": "stderr",
     "output_type": "stream",
     "text": [
      "/home/hsilva/Tese/ML/aux_functions/sampling.py:9: FutureWarning: The default dtype for empty Series will be 'object' instead of 'float64' in a future version. Specify a dtype explicitly to silence this warning.\n",
      "  class_sampled = pd.Series()\n",
      "/home/hsilva/Tese/ML/aux_functions/sampling.py:9: FutureWarning: The default dtype for empty Series will be 'object' instead of 'float64' in a future version. Specify a dtype explicitly to silence this warning.\n",
      "  class_sampled = pd.Series()\n"
     ]
    },
    {
     "name": "stdout",
     "output_type": "stream",
     "text": [
      "0.9636146605296595\n",
      "Pos size= 481\n",
      "Neg size= 962\n",
      "Balanced accuracy (cv-train) -> 0.9987003504672898\n",
      "Balanced accuracy (cv-val) -> 0.9636146605296595\n",
      "Balanced accuracy (test) -> 0.9505109037023931\n",
      "True\n",
      "ObyO\n",
      "2\n",
      "Phenylpropanoids and polyketides\n"
     ]
    },
    {
     "name": "stderr",
     "output_type": "stream",
     "text": [
      "/home/hsilva/Tese/ML/aux_functions/sampling.py:9: FutureWarning: The default dtype for empty Series will be 'object' instead of 'float64' in a future version. Specify a dtype explicitly to silence this warning.\n",
      "  class_sampled = pd.Series()\n",
      "/home/hsilva/Tese/ML/aux_functions/sampling.py:9: FutureWarning: The default dtype for empty Series will be 'object' instead of 'float64' in a future version. Specify a dtype explicitly to silence this warning.\n",
      "  class_sampled = pd.Series()\n"
     ]
    },
    {
     "name": "stdout",
     "output_type": "stream",
     "text": [
      "0.8861665478736042\n",
      "Pos size= 8418\n",
      "Neg size= 16836\n",
      "Balanced accuracy (cv-train) -> 0.9774293181278214\n",
      "Balanced accuracy (cv-val) -> 0.8861665478736042\n",
      "Balanced accuracy (test) -> 0.9054363384367934\n",
      "True\n",
      "ObyO\n",
      "3\n",
      "Acetylides\n"
     ]
    },
    {
     "name": "stderr",
     "output_type": "stream",
     "text": [
      "/home/hsilva/Tese/ML/aux_functions/sampling.py:9: FutureWarning: The default dtype for empty Series will be 'object' instead of 'float64' in a future version. Specify a dtype explicitly to silence this warning.\n",
      "  class_sampled = pd.Series()\n",
      "/home/hsilva/Tese/ML/aux_functions/sampling.py:9: FutureWarning: The default dtype for empty Series will be 'object' instead of 'float64' in a future version. Specify a dtype explicitly to silence this warning.\n",
      "  class_sampled = pd.Series()\n"
     ]
    },
    {
     "name": "stdout",
     "output_type": "stream",
     "text": [
      "0.8833333333333333\n",
      "Pos size= 14\n",
      "Neg size= 150\n",
      "Balanced accuracy (cv-train) -> 0.9633333333333334\n",
      "Balanced accuracy (cv-val) -> 0.8833333333333333\n",
      "Balanced accuracy (test) -> 0.8885714285714286\n",
      "True\n",
      "ObyO\n",
      "3\n",
      "Alkaloids and derivatives\n"
     ]
    },
    {
     "name": "stderr",
     "output_type": "stream",
     "text": [
      "/home/hsilva/Tese/ML/aux_functions/sampling.py:9: FutureWarning: The default dtype for empty Series will be 'object' instead of 'float64' in a future version. Specify a dtype explicitly to silence this warning.\n",
      "  class_sampled = pd.Series()\n",
      "/home/hsilva/Tese/ML/aux_functions/sampling.py:9: FutureWarning: The default dtype for empty Series will be 'object' instead of 'float64' in a future version. Specify a dtype explicitly to silence this warning.\n",
      "  class_sampled = pd.Series()\n"
     ]
    },
    {
     "name": "stdout",
     "output_type": "stream",
     "text": [
      "0.9065934065934066\n",
      "Pos size= 1092\n",
      "Neg size= 3276\n",
      "Balanced accuracy (cv-train) -> 0.97748778998779\n",
      "Balanced accuracy (cv-val) -> 0.9065934065934066\n",
      "Balanced accuracy (test) -> 0.9228918970539082\n",
      "True\n",
      "ObyO\n",
      "3\n",
      "Allenes\n"
     ]
    },
    {
     "name": "stderr",
     "output_type": "stream",
     "text": [
      "/home/hsilva/Tese/ML/aux_functions/sampling.py:9: FutureWarning: The default dtype for empty Series will be 'object' instead of 'float64' in a future version. Specify a dtype explicitly to silence this warning.\n",
      "  class_sampled = pd.Series()\n",
      "/home/hsilva/Tese/ML/aux_functions/sampling.py:9: FutureWarning: The default dtype for empty Series will be 'object' instead of 'float64' in a future version. Specify a dtype explicitly to silence this warning.\n",
      "  class_sampled = pd.Series()\n"
     ]
    },
    {
     "name": "stdout",
     "output_type": "stream",
     "text": [
      "0.9199999999999999\n",
      "Pos size= 7\n",
      "Neg size= 150\n",
      "Balanced accuracy (cv-train) -> 0.9616666666666666\n",
      "Balanced accuracy (cv-val) -> 0.9199999999999999\n",
      "Balanced accuracy (test) -> 0.9266666666666667\n",
      "True\n",
      "ObyO\n",
      "3\n",
      "Benzenoids\n"
     ]
    },
    {
     "name": "stderr",
     "output_type": "stream",
     "text": [
      "/home/hsilva/Tese/ML/aux_functions/sampling.py:9: FutureWarning: The default dtype for empty Series will be 'object' instead of 'float64' in a future version. Specify a dtype explicitly to silence this warning.\n",
      "  class_sampled = pd.Series()\n",
      "/home/hsilva/Tese/ML/aux_functions/sampling.py:9: FutureWarning: The default dtype for empty Series will be 'object' instead of 'float64' in a future version. Specify a dtype explicitly to silence this warning.\n",
      "  class_sampled = pd.Series()\n"
     ]
    },
    {
     "name": "stdout",
     "output_type": "stream",
     "text": [
      "0.7512155857809318\n",
      "Pos size= 10146\n",
      "Neg size= 30438\n",
      "Balanced accuracy (cv-train) -> 0.9373316249425061\n",
      "Balanced accuracy (cv-val) -> 0.7512155857809318\n",
      "Balanced accuracy (test) -> 0.8072250843392179\n",
      "True\n",
      "ObyO\n",
      "3\n",
      "Hydrocarbon derivatives\n"
     ]
    },
    {
     "name": "stderr",
     "output_type": "stream",
     "text": [
      "/home/hsilva/Tese/ML/aux_functions/sampling.py:9: FutureWarning: The default dtype for empty Series will be 'object' instead of 'float64' in a future version. Specify a dtype explicitly to silence this warning.\n",
      "  class_sampled = pd.Series()\n",
      "/home/hsilva/Tese/ML/aux_functions/sampling.py:9: FutureWarning: The default dtype for empty Series will be 'object' instead of 'float64' in a future version. Specify a dtype explicitly to silence this warning.\n",
      "  class_sampled = pd.Series()\n"
     ]
    },
    {
     "name": "stdout",
     "output_type": "stream",
     "text": [
      "0.8799999999999999\n",
      "Pos size= 35\n",
      "Neg size= 150\n",
      "Balanced accuracy (cv-train) -> 1.0\n",
      "Balanced accuracy (cv-val) -> 0.8799999999999999\n",
      "Balanced accuracy (test) -> 0.6775438596491228\n",
      "True\n",
      "ObyO\n",
      "3\n",
      "Hydrocarbons\n"
     ]
    },
    {
     "name": "stderr",
     "output_type": "stream",
     "text": [
      "/home/hsilva/Tese/ML/aux_functions/sampling.py:9: FutureWarning: The default dtype for empty Series will be 'object' instead of 'float64' in a future version. Specify a dtype explicitly to silence this warning.\n",
      "  class_sampled = pd.Series()\n",
      "/home/hsilva/Tese/ML/aux_functions/sampling.py:9: FutureWarning: The default dtype for empty Series will be 'object' instead of 'float64' in a future version. Specify a dtype explicitly to silence this warning.\n",
      "  class_sampled = pd.Series()\n"
     ]
    },
    {
     "name": "stdout",
     "output_type": "stream",
     "text": [
      "0.9858387799564271\n",
      "Pos size= 612\n",
      "Neg size= 1836\n",
      "Balanced accuracy (cv-train) -> 0.9978213507625272\n",
      "Balanced accuracy (cv-val) -> 0.9858387799564271\n",
      "Balanced accuracy (test) -> 0.9807912163765395\n",
      "True\n",
      "ObyO\n",
      "3\n",
      "Lignans, neolignans and related compounds\n"
     ]
    },
    {
     "name": "stderr",
     "output_type": "stream",
     "text": [
      "/home/hsilva/Tese/ML/aux_functions/sampling.py:9: FutureWarning: The default dtype for empty Series will be 'object' instead of 'float64' in a future version. Specify a dtype explicitly to silence this warning.\n",
      "  class_sampled = pd.Series()\n",
      "/home/hsilva/Tese/ML/aux_functions/sampling.py:9: FutureWarning: The default dtype for empty Series will be 'object' instead of 'float64' in a future version. Specify a dtype explicitly to silence this warning.\n",
      "  class_sampled = pd.Series()\n"
     ]
    },
    {
     "name": "stdout",
     "output_type": "stream",
     "text": [
      "0.9475337893101052\n",
      "Pos size= 286\n",
      "Neg size= 858\n",
      "Balanced accuracy (cv-train) -> 0.9883449883449883\n",
      "Balanced accuracy (cv-val) -> 0.9475337893101052\n",
      "Balanced accuracy (test) -> 0.956876456876457\n",
      "True\n",
      "ObyO\n",
      "3\n",
      "Lipids and lipid-like molecules\n",
      "0.9701686316532543\n",
      "Pos size= 133382\n",
      "Neg size= 59878\n",
      "Balanced accuracy (cv-train) -> 0.9810908806073594\n",
      "Balanced accuracy (cv-val) -> 0.9701686316532543\n",
      "Balanced accuracy (test) -> 0.9711180841762532\n",
      "True\n",
      "ObyO\n",
      "3\n",
      "Nucleosides, nucleotides, and analogues\n"
     ]
    },
    {
     "name": "stderr",
     "output_type": "stream",
     "text": [
      "/home/hsilva/Tese/ML/aux_functions/sampling.py:9: FutureWarning: The default dtype for empty Series will be 'object' instead of 'float64' in a future version. Specify a dtype explicitly to silence this warning.\n",
      "  class_sampled = pd.Series()\n",
      "/home/hsilva/Tese/ML/aux_functions/sampling.py:9: FutureWarning: The default dtype for empty Series will be 'object' instead of 'float64' in a future version. Specify a dtype explicitly to silence this warning.\n",
      "  class_sampled = pd.Series()\n"
     ]
    },
    {
     "name": "stdout",
     "output_type": "stream",
     "text": [
      "0.9474083857004226\n",
      "Pos size= 935\n",
      "Neg size= 2805\n",
      "Balanced accuracy (cv-train) -> 0.9990196078431373\n",
      "Balanced accuracy (cv-val) -> 0.9474083857004226\n",
      "Balanced accuracy (test) -> 0.949179568611883\n",
      "True\n",
      "ObyO\n",
      "3\n",
      "Organic 1,3-dipolar compounds\n"
     ]
    },
    {
     "name": "stderr",
     "output_type": "stream",
     "text": [
      "/home/hsilva/Tese/ML/aux_functions/sampling.py:9: FutureWarning: The default dtype for empty Series will be 'object' instead of 'float64' in a future version. Specify a dtype explicitly to silence this warning.\n",
      "  class_sampled = pd.Series()\n",
      "/home/hsilva/Tese/ML/aux_functions/sampling.py:9: FutureWarning: The default dtype for empty Series will be 'object' instead of 'float64' in a future version. Specify a dtype explicitly to silence this warning.\n",
      "  class_sampled = pd.Series()\n"
     ]
    },
    {
     "name": "stdout",
     "output_type": "stream",
     "text": [
      "0.8863636363636364\n",
      "Pos size= 66\n",
      "Neg size= 198\n",
      "Balanced accuracy (cv-train) -> 1.0\n",
      "Balanced accuracy (cv-val) -> 0.8863636363636364\n",
      "Balanced accuracy (test) -> 0.8813131313131313\n",
      "True\n",
      "ObyO\n",
      "3\n",
      "Organic Polymers\n"
     ]
    },
    {
     "name": "stderr",
     "output_type": "stream",
     "text": [
      "/home/hsilva/Tese/ML/aux_functions/sampling.py:9: FutureWarning: The default dtype for empty Series will be 'object' instead of 'float64' in a future version. Specify a dtype explicitly to silence this warning.\n",
      "  class_sampled = pd.Series()\n",
      "/home/hsilva/Tese/ML/aux_functions/sampling.py:9: FutureWarning: The default dtype for empty Series will be 'object' instead of 'float64' in a future version. Specify a dtype explicitly to silence this warning.\n",
      "  class_sampled = pd.Series()\n"
     ]
    },
    {
     "name": "stdout",
     "output_type": "stream",
     "text": [
      "0.9953109072375127\n",
      "Pos size= 1635\n",
      "Neg size= 4905\n",
      "Balanced accuracy (cv-train) -> 0.9996941896024465\n",
      "Balanced accuracy (cv-val) -> 0.9953109072375127\n",
      "Balanced accuracy (test) -> 0.9962108852313054\n",
      "True\n",
      "ObyO\n",
      "3\n",
      "Organic acids and derivatives\n"
     ]
    },
    {
     "name": "stderr",
     "output_type": "stream",
     "text": [
      "/home/hsilva/Tese/ML/aux_functions/sampling.py:9: FutureWarning: The default dtype for empty Series will be 'object' instead of 'float64' in a future version. Specify a dtype explicitly to silence this warning.\n",
      "  class_sampled = pd.Series()\n",
      "/home/hsilva/Tese/ML/aux_functions/sampling.py:9: FutureWarning: The default dtype for empty Series will be 'object' instead of 'float64' in a future version. Specify a dtype explicitly to silence this warning.\n",
      "  class_sampled = pd.Series()\n"
     ]
    },
    {
     "name": "stdout",
     "output_type": "stream",
     "text": [
      "0.844953601051162\n",
      "Pos size= 12177\n",
      "Neg size= 36531\n",
      "Balanced accuracy (cv-train) -> 0.9756371301086748\n",
      "Balanced accuracy (cv-val) -> 0.844953601051162\n",
      "Balanced accuracy (test) -> 0.8835529289653177\n",
      "True\n",
      "ObyO\n",
      "3\n",
      "Organic compounds - Unspecified\n"
     ]
    },
    {
     "name": "stderr",
     "output_type": "stream",
     "text": [
      "/home/hsilva/Tese/ML/aux_functions/sampling.py:9: FutureWarning: The default dtype for empty Series will be 'object' instead of 'float64' in a future version. Specify a dtype explicitly to silence this warning.\n",
      "  class_sampled = pd.Series()\n",
      "/home/hsilva/Tese/ML/aux_functions/sampling.py:9: FutureWarning: The default dtype for empty Series will be 'object' instead of 'float64' in a future version. Specify a dtype explicitly to silence this warning.\n",
      "  class_sampled = pd.Series()\n"
     ]
    },
    {
     "name": "stdout",
     "output_type": "stream",
     "text": [
      "0.731904761904762\n",
      "Pos size= 19\n",
      "Neg size= 150\n",
      "Balanced accuracy (cv-train) -> 1.0\n",
      "Balanced accuracy (cv-val) -> 0.731904761904762\n",
      "Balanced accuracy (test) -> 0.53\n",
      "True\n",
      "ObyO\n",
      "3\n",
      "Organic nitrogen compounds\n"
     ]
    },
    {
     "name": "stderr",
     "output_type": "stream",
     "text": [
      "/home/hsilva/Tese/ML/aux_functions/sampling.py:9: FutureWarning: The default dtype for empty Series will be 'object' instead of 'float64' in a future version. Specify a dtype explicitly to silence this warning.\n",
      "  class_sampled = pd.Series()\n",
      "/home/hsilva/Tese/ML/aux_functions/sampling.py:9: FutureWarning: The default dtype for empty Series will be 'object' instead of 'float64' in a future version. Specify a dtype explicitly to silence this warning.\n",
      "  class_sampled = pd.Series()\n"
     ]
    },
    {
     "name": "stdout",
     "output_type": "stream",
     "text": [
      "0.8466666666666667\n",
      "Pos size= 1200\n",
      "Neg size= 3600\n",
      "Balanced accuracy (cv-train) -> 0.9824999999999999\n",
      "Balanced accuracy (cv-val) -> 0.8466666666666667\n",
      "Balanced accuracy (test) -> 0.8864537661607645\n",
      "True\n",
      "ObyO\n",
      "3\n",
      "Organic oxygen compounds\n"
     ]
    },
    {
     "name": "stderr",
     "output_type": "stream",
     "text": [
      "/home/hsilva/Tese/ML/aux_functions/sampling.py:9: FutureWarning: The default dtype for empty Series will be 'object' instead of 'float64' in a future version. Specify a dtype explicitly to silence this warning.\n",
      "  class_sampled = pd.Series()\n",
      "/home/hsilva/Tese/ML/aux_functions/sampling.py:9: FutureWarning: The default dtype for empty Series will be 'object' instead of 'float64' in a future version. Specify a dtype explicitly to silence this warning.\n",
      "  class_sampled = pd.Series()\n"
     ]
    },
    {
     "name": "stdout",
     "output_type": "stream",
     "text": [
      "0.7879705131373033\n",
      "Pos size= 8094\n",
      "Neg size= 24282\n",
      "Balanced accuracy (cv-train) -> 0.9708425994563875\n",
      "Balanced accuracy (cv-val) -> 0.7879705131373033\n",
      "Balanced accuracy (test) -> 0.8661571058378157\n",
      "True\n",
      "ObyO\n",
      "3\n",
      "Organic salts\n"
     ]
    },
    {
     "name": "stderr",
     "output_type": "stream",
     "text": [
      "/home/hsilva/Tese/ML/aux_functions/sampling.py:9: FutureWarning: The default dtype for empty Series will be 'object' instead of 'float64' in a future version. Specify a dtype explicitly to silence this warning.\n",
      "  class_sampled = pd.Series()\n",
      "/home/hsilva/Tese/ML/aux_functions/sampling.py:9: FutureWarning: The default dtype for empty Series will be 'object' instead of 'float64' in a future version. Specify a dtype explicitly to silence this warning.\n",
      "  class_sampled = pd.Series()\n"
     ]
    },
    {
     "name": "stdout",
     "output_type": "stream",
     "text": [
      "0.9866666666666667\n",
      "Pos size= 43\n",
      "Neg size= 150\n",
      "Balanced accuracy (cv-train) -> 0.9883333333333333\n",
      "Balanced accuracy (cv-val) -> 0.9866666666666667\n",
      "Balanced accuracy (test) -> 0.9733333333333334\n",
      "True\n",
      "ObyO\n",
      "3\n",
      "Organohalogen compounds\n"
     ]
    },
    {
     "name": "stderr",
     "output_type": "stream",
     "text": [
      "/home/hsilva/Tese/ML/aux_functions/sampling.py:9: FutureWarning: The default dtype for empty Series will be 'object' instead of 'float64' in a future version. Specify a dtype explicitly to silence this warning.\n",
      "  class_sampled = pd.Series()\n",
      "/home/hsilva/Tese/ML/aux_functions/sampling.py:9: FutureWarning: The default dtype for empty Series will be 'object' instead of 'float64' in a future version. Specify a dtype explicitly to silence this warning.\n",
      "  class_sampled = pd.Series()\n"
     ]
    },
    {
     "name": "stdout",
     "output_type": "stream",
     "text": [
      "0.9770319285604568\n",
      "Pos size= 218\n",
      "Neg size= 654\n",
      "Balanced accuracy (cv-train) -> 1.0\n",
      "Balanced accuracy (cv-val) -> 0.9770319285604568\n",
      "Balanced accuracy (test) -> 0.9726855713094246\n",
      "True\n",
      "ObyO\n",
      "3\n",
      "Organoheterocyclic compounds\n"
     ]
    },
    {
     "name": "stderr",
     "output_type": "stream",
     "text": [
      "/home/hsilva/Tese/ML/aux_functions/sampling.py:9: FutureWarning: The default dtype for empty Series will be 'object' instead of 'float64' in a future version. Specify a dtype explicitly to silence this warning.\n",
      "  class_sampled = pd.Series()\n",
      "/home/hsilva/Tese/ML/aux_functions/sampling.py:9: FutureWarning: The default dtype for empty Series will be 'object' instead of 'float64' in a future version. Specify a dtype explicitly to silence this warning.\n",
      "  class_sampled = pd.Series()\n"
     ]
    },
    {
     "name": "stdout",
     "output_type": "stream",
     "text": [
      "0.7297958090627978\n",
      "Pos size= 14296\n",
      "Neg size= 42888\n",
      "Balanced accuracy (cv-train) -> 0.8984971538095875\n",
      "Balanced accuracy (cv-val) -> 0.7297958090627978\n",
      "Balanced accuracy (test) -> 0.8473237042059141\n",
      "True\n",
      "ObyO\n",
      "3\n",
      "Organometallic compounds\n"
     ]
    },
    {
     "name": "stderr",
     "output_type": "stream",
     "text": [
      "/home/hsilva/Tese/ML/aux_functions/sampling.py:9: FutureWarning: The default dtype for empty Series will be 'object' instead of 'float64' in a future version. Specify a dtype explicitly to silence this warning.\n",
      "  class_sampled = pd.Series()\n",
      "/home/hsilva/Tese/ML/aux_functions/sampling.py:9: FutureWarning: The default dtype for empty Series will be 'object' instead of 'float64' in a future version. Specify a dtype explicitly to silence this warning.\n",
      "  class_sampled = pd.Series()\n"
     ]
    },
    {
     "name": "stdout",
     "output_type": "stream",
     "text": [
      "0.9389510489510489\n",
      "Pos size= 77\n",
      "Neg size= 231\n",
      "Balanced accuracy (cv-train) -> 0.9989177489177489\n",
      "Balanced accuracy (cv-val) -> 0.9389510489510489\n",
      "Balanced accuracy (test) -> 0.932958932958933\n",
      "True\n",
      "ObyO\n",
      "3\n",
      "Organophosphorus compounds\n"
     ]
    },
    {
     "name": "stderr",
     "output_type": "stream",
     "text": [
      "/home/hsilva/Tese/ML/aux_functions/sampling.py:9: FutureWarning: The default dtype for empty Series will be 'object' instead of 'float64' in a future version. Specify a dtype explicitly to silence this warning.\n",
      "  class_sampled = pd.Series()\n",
      "/home/hsilva/Tese/ML/aux_functions/sampling.py:9: FutureWarning: The default dtype for empty Series will be 'object' instead of 'float64' in a future version. Specify a dtype explicitly to silence this warning.\n",
      "  class_sampled = pd.Series()\n"
     ]
    },
    {
     "name": "stdout",
     "output_type": "stream",
     "text": [
      "0.96\n",
      "Pos size= 27\n",
      "Neg size= 150\n",
      "Balanced accuracy (cv-train) -> 0.9899999999999999\n",
      "Balanced accuracy (cv-val) -> 0.96\n",
      "Balanced accuracy (test) -> 0.9866666666666667\n",
      "True\n",
      "ObyO\n",
      "3\n",
      "Organosulfur compounds\n"
     ]
    },
    {
     "name": "stderr",
     "output_type": "stream",
     "text": [
      "/home/hsilva/Tese/ML/aux_functions/sampling.py:9: FutureWarning: The default dtype for empty Series will be 'object' instead of 'float64' in a future version. Specify a dtype explicitly to silence this warning.\n",
      "  class_sampled = pd.Series()\n",
      "/home/hsilva/Tese/ML/aux_functions/sampling.py:9: FutureWarning: The default dtype for empty Series will be 'object' instead of 'float64' in a future version. Specify a dtype explicitly to silence this warning.\n",
      "  class_sampled = pd.Series()\n"
     ]
    },
    {
     "name": "stdout",
     "output_type": "stream",
     "text": [
      "0.9580647686625947\n",
      "Pos size= 481\n",
      "Neg size= 1443\n",
      "Balanced accuracy (cv-train) -> 0.9842342342342342\n",
      "Balanced accuracy (cv-val) -> 0.9580647686625947\n",
      "Balanced accuracy (test) -> 0.9592161719821295\n",
      "True\n",
      "ObyO\n",
      "3\n",
      "Phenylpropanoids and polyketides\n"
     ]
    },
    {
     "name": "stderr",
     "output_type": "stream",
     "text": [
      "/home/hsilva/Tese/ML/aux_functions/sampling.py:9: FutureWarning: The default dtype for empty Series will be 'object' instead of 'float64' in a future version. Specify a dtype explicitly to silence this warning.\n",
      "  class_sampled = pd.Series()\n",
      "/home/hsilva/Tese/ML/aux_functions/sampling.py:9: FutureWarning: The default dtype for empty Series will be 'object' instead of 'float64' in a future version. Specify a dtype explicitly to silence this warning.\n",
      "  class_sampled = pd.Series()\n"
     ]
    },
    {
     "name": "stdout",
     "output_type": "stream",
     "text": [
      "0.8851271085768592\n",
      "Pos size= 8418\n",
      "Neg size= 25254\n",
      "Balanced accuracy (cv-train) -> 0.9754692325968163\n",
      "Balanced accuracy (cv-val) -> 0.8851271085768592\n",
      "Balanced accuracy (test) -> 0.896679261138096\n",
      "True\n",
      "ObyO\n",
      "4\n",
      "Acetylides\n"
     ]
    },
    {
     "name": "stderr",
     "output_type": "stream",
     "text": [
      "/home/hsilva/Tese/ML/aux_functions/sampling.py:9: FutureWarning: The default dtype for empty Series will be 'object' instead of 'float64' in a future version. Specify a dtype explicitly to silence this warning.\n",
      "  class_sampled = pd.Series()\n",
      "/home/hsilva/Tese/ML/aux_functions/sampling.py:9: FutureWarning: The default dtype for empty Series will be 'object' instead of 'float64' in a future version. Specify a dtype explicitly to silence this warning.\n",
      "  class_sampled = pd.Series()\n"
     ]
    },
    {
     "name": "stdout",
     "output_type": "stream",
     "text": [
      "0.8493743404191165\n",
      "Pos size= 14\n",
      "Neg size= 200\n",
      "Balanced accuracy (cv-train) -> 0.9524744697564808\n",
      "Balanced accuracy (cv-val) -> 0.8493743404191165\n",
      "Balanced accuracy (test) -> 0.8685714285714285\n",
      "True\n",
      "ObyO\n",
      "4\n",
      "Alkaloids and derivatives\n"
     ]
    },
    {
     "name": "stderr",
     "output_type": "stream",
     "text": [
      "/home/hsilva/Tese/ML/aux_functions/sampling.py:9: FutureWarning: The default dtype for empty Series will be 'object' instead of 'float64' in a future version. Specify a dtype explicitly to silence this warning.\n",
      "  class_sampled = pd.Series()\n",
      "/home/hsilva/Tese/ML/aux_functions/sampling.py:9: FutureWarning: The default dtype for empty Series will be 'object' instead of 'float64' in a future version. Specify a dtype explicitly to silence this warning.\n",
      "  class_sampled = pd.Series()\n"
     ]
    },
    {
     "name": "stdout",
     "output_type": "stream",
     "text": [
      "0.9043040293040292\n",
      "Pos size= 1092\n",
      "Neg size= 4368\n",
      "Balanced accuracy (cv-train) -> 0.974187271062271\n",
      "Balanced accuracy (cv-val) -> 0.9043040293040292\n",
      "Balanced accuracy (test) -> 0.9204345468311949\n",
      "True\n",
      "ObyO\n",
      "4\n",
      "Allenes\n"
     ]
    },
    {
     "name": "stderr",
     "output_type": "stream",
     "text": [
      "/home/hsilva/Tese/ML/aux_functions/sampling.py:9: FutureWarning: The default dtype for empty Series will be 'object' instead of 'float64' in a future version. Specify a dtype explicitly to silence this warning.\n",
      "  class_sampled = pd.Series()\n",
      "/home/hsilva/Tese/ML/aux_functions/sampling.py:9: FutureWarning: The default dtype for empty Series will be 'object' instead of 'float64' in a future version. Specify a dtype explicitly to silence this warning.\n",
      "  class_sampled = pd.Series()\n"
     ]
    },
    {
     "name": "stdout",
     "output_type": "stream",
     "text": [
      "0.9371702095582691\n",
      "Pos size= 7\n",
      "Neg size= 200\n",
      "Balanced accuracy (cv-train) -> 0.9675214154789961\n",
      "Balanced accuracy (cv-val) -> 0.9371702095582691\n",
      "Balanced accuracy (test) -> 0.9550000000000001\n",
      "True\n",
      "ObyO\n",
      "4\n",
      "Benzenoids\n"
     ]
    },
    {
     "name": "stderr",
     "output_type": "stream",
     "text": [
      "/home/hsilva/Tese/ML/aux_functions/sampling.py:9: FutureWarning: The default dtype for empty Series will be 'object' instead of 'float64' in a future version. Specify a dtype explicitly to silence this warning.\n",
      "  class_sampled = pd.Series()\n",
      "/home/hsilva/Tese/ML/aux_functions/sampling.py:9: FutureWarning: The default dtype for empty Series will be 'object' instead of 'float64' in a future version. Specify a dtype explicitly to silence this warning.\n",
      "  class_sampled = pd.Series()\n"
     ]
    },
    {
     "name": "stdout",
     "output_type": "stream",
     "text": [
      "0.7490759905381431\n",
      "Pos size= 10146\n",
      "Neg size= 40584\n",
      "Balanced accuracy (cv-train) -> 0.9320976246796767\n",
      "Balanced accuracy (cv-val) -> 0.7490759905381431\n",
      "Balanced accuracy (test) -> 0.8270307785609382\n",
      "True\n",
      "ObyO\n",
      "4\n",
      "Hydrocarbon derivatives\n"
     ]
    },
    {
     "name": "stderr",
     "output_type": "stream",
     "text": [
      "/home/hsilva/Tese/ML/aux_functions/sampling.py:9: FutureWarning: The default dtype for empty Series will be 'object' instead of 'float64' in a future version. Specify a dtype explicitly to silence this warning.\n",
      "  class_sampled = pd.Series()\n",
      "/home/hsilva/Tese/ML/aux_functions/sampling.py:9: FutureWarning: The default dtype for empty Series will be 'object' instead of 'float64' in a future version. Specify a dtype explicitly to silence this warning.\n",
      "  class_sampled = pd.Series()\n"
     ]
    },
    {
     "name": "stdout",
     "output_type": "stream",
     "text": [
      "0.8490125131916176\n",
      "Pos size= 35\n",
      "Neg size= 200\n",
      "Balanced accuracy (cv-train) -> 1.0\n",
      "Balanced accuracy (cv-val) -> 0.8490125131916176\n",
      "Balanced accuracy (test) -> 0.7105263157894737\n",
      "True\n",
      "ObyO\n",
      "4\n",
      "Hydrocarbons\n"
     ]
    },
    {
     "name": "stderr",
     "output_type": "stream",
     "text": [
      "/home/hsilva/Tese/ML/aux_functions/sampling.py:9: FutureWarning: The default dtype for empty Series will be 'object' instead of 'float64' in a future version. Specify a dtype explicitly to silence this warning.\n",
      "  class_sampled = pd.Series()\n",
      "/home/hsilva/Tese/ML/aux_functions/sampling.py:9: FutureWarning: The default dtype for empty Series will be 'object' instead of 'float64' in a future version. Specify a dtype explicitly to silence this warning.\n",
      "  class_sampled = pd.Series()\n"
     ]
    },
    {
     "name": "stdout",
     "output_type": "stream",
     "text": [
      "0.9875408496732025\n",
      "Pos size= 612\n",
      "Neg size= 2448\n",
      "Balanced accuracy (cv-train) -> 0.9978553921568628\n",
      "Balanced accuracy (cv-val) -> 0.9875408496732025\n",
      "Balanced accuracy (test) -> 0.9804346243447875\n",
      "True\n",
      "ObyO\n",
      "4\n",
      "Lignans, neolignans and related compounds\n"
     ]
    },
    {
     "name": "stderr",
     "output_type": "stream",
     "text": [
      "/home/hsilva/Tese/ML/aux_functions/sampling.py:9: FutureWarning: The default dtype for empty Series will be 'object' instead of 'float64' in a future version. Specify a dtype explicitly to silence this warning.\n",
      "  class_sampled = pd.Series()\n",
      "/home/hsilva/Tese/ML/aux_functions/sampling.py:9: FutureWarning: The default dtype for empty Series will be 'object' instead of 'float64' in a future version. Specify a dtype explicitly to silence this warning.\n",
      "  class_sampled = pd.Series()\n"
     ]
    },
    {
     "name": "stdout",
     "output_type": "stream",
     "text": [
      "0.9470608841253275\n",
      "Pos size= 286\n",
      "Neg size= 1144\n",
      "Balanced accuracy (cv-train) -> 0.9857939202553809\n",
      "Balanced accuracy (cv-val) -> 0.9470608841253275\n",
      "Balanced accuracy (test) -> 0.9632867132867133\n",
      "True\n",
      "ObyO\n",
      "4\n",
      "Lipids and lipid-like molecules\n",
      "0.9701686316532543\n",
      "Pos size= 133382\n",
      "Neg size= 59878\n",
      "Balanced accuracy (cv-train) -> 0.9810908806073594\n",
      "Balanced accuracy (cv-val) -> 0.9701686316532543\n",
      "Balanced accuracy (test) -> 0.9711180841762532\n",
      "True\n",
      "ObyO\n",
      "4\n",
      "Nucleosides, nucleotides, and analogues\n"
     ]
    },
    {
     "name": "stderr",
     "output_type": "stream",
     "text": [
      "/home/hsilva/Tese/ML/aux_functions/sampling.py:9: FutureWarning: The default dtype for empty Series will be 'object' instead of 'float64' in a future version. Specify a dtype explicitly to silence this warning.\n",
      "  class_sampled = pd.Series()\n",
      "/home/hsilva/Tese/ML/aux_functions/sampling.py:9: FutureWarning: The default dtype for empty Series will be 'object' instead of 'float64' in a future version. Specify a dtype explicitly to silence this warning.\n",
      "  class_sampled = pd.Series()\n"
     ]
    },
    {
     "name": "stdout",
     "output_type": "stream",
     "text": [
      "0.9487851909177397\n",
      "Pos size= 935\n",
      "Neg size= 3740\n",
      "Balanced accuracy (cv-train) -> 0.9992646075678566\n",
      "Balanced accuracy (cv-val) -> 0.9487851909177397\n",
      "Balanced accuracy (test) -> 0.9449910095042384\n",
      "True\n",
      "ObyO\n",
      "4\n",
      "Organic 1,3-dipolar compounds\n"
     ]
    },
    {
     "name": "stderr",
     "output_type": "stream",
     "text": [
      "/home/hsilva/Tese/ML/aux_functions/sampling.py:9: FutureWarning: The default dtype for empty Series will be 'object' instead of 'float64' in a future version. Specify a dtype explicitly to silence this warning.\n",
      "  class_sampled = pd.Series()\n",
      "/home/hsilva/Tese/ML/aux_functions/sampling.py:9: FutureWarning: The default dtype for empty Series will be 'object' instead of 'float64' in a future version. Specify a dtype explicitly to silence this warning.\n",
      "  class_sampled = pd.Series()\n"
     ]
    },
    {
     "name": "stdout",
     "output_type": "stream",
     "text": [
      "0.8920454545454546\n",
      "Pos size= 66\n",
      "Neg size= 264\n",
      "Balanced accuracy (cv-train) -> 0.9848484848484849\n",
      "Balanced accuracy (cv-val) -> 0.8920454545454546\n",
      "Balanced accuracy (test) -> 0.9337121212121212\n",
      "True\n",
      "ObyO\n",
      "4\n",
      "Organic Polymers\n"
     ]
    },
    {
     "name": "stderr",
     "output_type": "stream",
     "text": [
      "/home/hsilva/Tese/ML/aux_functions/sampling.py:9: FutureWarning: The default dtype for empty Series will be 'object' instead of 'float64' in a future version. Specify a dtype explicitly to silence this warning.\n",
      "  class_sampled = pd.Series()\n",
      "/home/hsilva/Tese/ML/aux_functions/sampling.py:9: FutureWarning: The default dtype for empty Series will be 'object' instead of 'float64' in a future version. Specify a dtype explicitly to silence this warning.\n",
      "  class_sampled = pd.Series()\n"
     ]
    },
    {
     "name": "stdout",
     "output_type": "stream",
     "text": [
      "0.9953363914373089\n",
      "Pos size= 1635\n",
      "Neg size= 6540\n",
      "Balanced accuracy (cv-train) -> 0.9997706422018348\n",
      "Balanced accuracy (cv-val) -> 0.9953363914373089\n",
      "Balanced accuracy (test) -> 0.9959305590335481\n",
      "True\n",
      "ObyO\n",
      "4\n",
      "Organic acids and derivatives\n"
     ]
    },
    {
     "name": "stderr",
     "output_type": "stream",
     "text": [
      "/home/hsilva/Tese/ML/aux_functions/sampling.py:9: FutureWarning: The default dtype for empty Series will be 'object' instead of 'float64' in a future version. Specify a dtype explicitly to silence this warning.\n",
      "  class_sampled = pd.Series()\n",
      "/home/hsilva/Tese/ML/aux_functions/sampling.py:9: FutureWarning: The default dtype for empty Series will be 'object' instead of 'float64' in a future version. Specify a dtype explicitly to silence this warning.\n",
      "  class_sampled = pd.Series()\n"
     ]
    },
    {
     "name": "stdout",
     "output_type": "stream",
     "text": [
      "0.8462059620596206\n",
      "Pos size= 12177\n",
      "Neg size= 48708\n",
      "Balanced accuracy (cv-train) -> 0.9747526073745586\n",
      "Balanced accuracy (cv-val) -> 0.8462059620596206\n",
      "Balanced accuracy (test) -> 0.8838008564248823\n",
      "True\n",
      "ObyO\n",
      "4\n",
      "Organic compounds - Unspecified\n"
     ]
    },
    {
     "name": "stderr",
     "output_type": "stream",
     "text": [
      "/home/hsilva/Tese/ML/aux_functions/sampling.py:9: FutureWarning: The default dtype for empty Series will be 'object' instead of 'float64' in a future version. Specify a dtype explicitly to silence this warning.\n",
      "  class_sampled = pd.Series()\n",
      "/home/hsilva/Tese/ML/aux_functions/sampling.py:9: FutureWarning: The default dtype for empty Series will be 'object' instead of 'float64' in a future version. Specify a dtype explicitly to silence this warning.\n",
      "  class_sampled = pd.Series()\n"
     ]
    },
    {
     "name": "stdout",
     "output_type": "stream",
     "text": [
      "0.692872218991622\n",
      "Pos size= 19\n",
      "Neg size= 200\n",
      "Balanced accuracy (cv-train) -> 0.9550181423708525\n",
      "Balanced accuracy (cv-val) -> 0.692872218991622\n",
      "Balanced accuracy (test) -> 0.77\n",
      "True\n",
      "ObyO\n",
      "4\n",
      "Organic nitrogen compounds\n"
     ]
    },
    {
     "name": "stderr",
     "output_type": "stream",
     "text": [
      "/home/hsilva/Tese/ML/aux_functions/sampling.py:9: FutureWarning: The default dtype for empty Series will be 'object' instead of 'float64' in a future version. Specify a dtype explicitly to silence this warning.\n",
      "  class_sampled = pd.Series()\n",
      "/home/hsilva/Tese/ML/aux_functions/sampling.py:9: FutureWarning: The default dtype for empty Series will be 'object' instead of 'float64' in a future version. Specify a dtype explicitly to silence this warning.\n",
      "  class_sampled = pd.Series()\n"
     ]
    },
    {
     "name": "stdout",
     "output_type": "stream",
     "text": [
      "0.8492708333333333\n",
      "Pos size= 1200\n",
      "Neg size= 4800\n",
      "Balanced accuracy (cv-train) -> 0.9790625\n",
      "Balanced accuracy (cv-val) -> 0.8492708333333333\n",
      "Balanced accuracy (test) -> 0.8894745994940978\n",
      "True\n",
      "ObyO\n",
      "4\n",
      "Organic oxygen compounds\n"
     ]
    },
    {
     "name": "stderr",
     "output_type": "stream",
     "text": [
      "/home/hsilva/Tese/ML/aux_functions/sampling.py:9: FutureWarning: The default dtype for empty Series will be 'object' instead of 'float64' in a future version. Specify a dtype explicitly to silence this warning.\n",
      "  class_sampled = pd.Series()\n",
      "/home/hsilva/Tese/ML/aux_functions/sampling.py:9: FutureWarning: The default dtype for empty Series will be 'object' instead of 'float64' in a future version. Specify a dtype explicitly to silence this warning.\n",
      "  class_sampled = pd.Series()\n"
     ]
    },
    {
     "name": "stdout",
     "output_type": "stream",
     "text": [
      "0.7947862614282185\n",
      "Pos size= 8094\n",
      "Neg size= 32376\n",
      "Balanced accuracy (cv-train) -> 0.9689507659995057\n",
      "Balanced accuracy (cv-val) -> 0.7947862614282185\n",
      "Balanced accuracy (test) -> 0.8653556303623096\n",
      "True\n",
      "ObyO\n",
      "4\n",
      "Organic salts\n"
     ]
    },
    {
     "name": "stderr",
     "output_type": "stream",
     "text": [
      "/home/hsilva/Tese/ML/aux_functions/sampling.py:9: FutureWarning: The default dtype for empty Series will be 'object' instead of 'float64' in a future version. Specify a dtype explicitly to silence this warning.\n",
      "  class_sampled = pd.Series()\n",
      "/home/hsilva/Tese/ML/aux_functions/sampling.py:9: FutureWarning: The default dtype for empty Series will be 'object' instead of 'float64' in a future version. Specify a dtype explicitly to silence this warning.\n",
      "  class_sampled = pd.Series()\n"
     ]
    },
    {
     "name": "stdout",
     "output_type": "stream",
     "text": [
      "0.9848861751846827\n",
      "Pos size= 43\n",
      "Neg size= 200\n",
      "Balanced accuracy (cv-train) -> 0.9937530393147046\n",
      "Balanced accuracy (cv-val) -> 0.9848861751846827\n",
      "Balanced accuracy (test) -> 0.99\n",
      "True\n",
      "ObyO\n",
      "4\n",
      "Organohalogen compounds\n"
     ]
    },
    {
     "name": "stderr",
     "output_type": "stream",
     "text": [
      "/home/hsilva/Tese/ML/aux_functions/sampling.py:9: FutureWarning: The default dtype for empty Series will be 'object' instead of 'float64' in a future version. Specify a dtype explicitly to silence this warning.\n",
      "  class_sampled = pd.Series()\n",
      "/home/hsilva/Tese/ML/aux_functions/sampling.py:9: FutureWarning: The default dtype for empty Series will be 'object' instead of 'float64' in a future version. Specify a dtype explicitly to silence this warning.\n",
      "  class_sampled = pd.Series()\n"
     ]
    },
    {
     "name": "stdout",
     "output_type": "stream",
     "text": [
      "0.9775735906152904\n",
      "Pos size= 218\n",
      "Neg size= 872\n",
      "Balanced accuracy (cv-train) -> 1.0\n",
      "Balanced accuracy (cv-val) -> 0.9775735906152904\n",
      "Balanced accuracy (test) -> 0.9732589658048374\n",
      "True\n",
      "ObyO\n",
      "4\n",
      "Organoheterocyclic compounds\n"
     ]
    },
    {
     "name": "stderr",
     "output_type": "stream",
     "text": [
      "/home/hsilva/Tese/ML/aux_functions/sampling.py:9: FutureWarning: The default dtype for empty Series will be 'object' instead of 'float64' in a future version. Specify a dtype explicitly to silence this warning.\n",
      "  class_sampled = pd.Series()\n",
      "/home/hsilva/Tese/ML/aux_functions/sampling.py:9: FutureWarning: The default dtype for empty Series will be 'object' instead of 'float64' in a future version. Specify a dtype explicitly to silence this warning.\n",
      "  class_sampled = pd.Series()\n"
     ]
    },
    {
     "name": "stdout",
     "output_type": "stream",
     "text": [
      "0.742610253629945\n",
      "Pos size= 14296\n",
      "Neg size= 57184\n",
      "Balanced accuracy (cv-train) -> 0.9061098977779031\n",
      "Balanced accuracy (cv-val) -> 0.742610253629945\n",
      "Balanced accuracy (test) -> 0.8665373665236197\n",
      "True\n",
      "ObyO\n",
      "4\n",
      "Organometallic compounds\n"
     ]
    },
    {
     "name": "stderr",
     "output_type": "stream",
     "text": [
      "/home/hsilva/Tese/ML/aux_functions/sampling.py:9: FutureWarning: The default dtype for empty Series will be 'object' instead of 'float64' in a future version. Specify a dtype explicitly to silence this warning.\n",
      "  class_sampled = pd.Series()\n",
      "/home/hsilva/Tese/ML/aux_functions/sampling.py:9: FutureWarning: The default dtype for empty Series will be 'object' instead of 'float64' in a future version. Specify a dtype explicitly to silence this warning.\n",
      "  class_sampled = pd.Series()\n"
     ]
    },
    {
     "name": "stdout",
     "output_type": "stream",
     "text": [
      "0.9399424504678645\n",
      "Pos size= 77\n",
      "Neg size= 308\n",
      "Balanced accuracy (cv-train) -> 0.9991869918699187\n",
      "Balanced accuracy (cv-val) -> 0.9399424504678645\n",
      "Balanced accuracy (test) -> 0.9902597402597403\n",
      "True\n",
      "ObyO\n",
      "4\n",
      "Organophosphorus compounds\n"
     ]
    },
    {
     "name": "stderr",
     "output_type": "stream",
     "text": [
      "/home/hsilva/Tese/ML/aux_functions/sampling.py:9: FutureWarning: The default dtype for empty Series will be 'object' instead of 'float64' in a future version. Specify a dtype explicitly to silence this warning.\n",
      "  class_sampled = pd.Series()\n",
      "/home/hsilva/Tese/ML/aux_functions/sampling.py:9: FutureWarning: The default dtype for empty Series will be 'object' instead of 'float64' in a future version. Specify a dtype explicitly to silence this warning.\n",
      "  class_sampled = pd.Series()\n"
     ]
    },
    {
     "name": "stdout",
     "output_type": "stream",
     "text": [
      "0.9799864314789688\n",
      "Pos size= 27\n",
      "Neg size= 200\n",
      "Balanced accuracy (cv-train) -> 0.9924812030075189\n",
      "Balanced accuracy (cv-val) -> 0.9799864314789688\n",
      "Balanced accuracy (test) -> 0.995\n",
      "True\n",
      "ObyO\n",
      "4\n",
      "Organosulfur compounds\n"
     ]
    },
    {
     "name": "stderr",
     "output_type": "stream",
     "text": [
      "/home/hsilva/Tese/ML/aux_functions/sampling.py:9: FutureWarning: The default dtype for empty Series will be 'object' instead of 'float64' in a future version. Specify a dtype explicitly to silence this warning.\n",
      "  class_sampled = pd.Series()\n",
      "/home/hsilva/Tese/ML/aux_functions/sampling.py:9: FutureWarning: The default dtype for empty Series will be 'object' instead of 'float64' in a future version. Specify a dtype explicitly to silence this warning.\n",
      "  class_sampled = pd.Series()\n"
     ]
    },
    {
     "name": "stdout",
     "output_type": "stream",
     "text": [
      "0.9511450890157663\n",
      "Pos size= 481\n",
      "Neg size= 1924\n",
      "Balanced accuracy (cv-train) -> 0.982848230530936\n",
      "Balanced accuracy (cv-val) -> 0.9511450890157663\n",
      "Balanced accuracy (test) -> 0.9604668907860396\n",
      "True\n",
      "ObyO\n",
      "4\n",
      "Phenylpropanoids and polyketides\n"
     ]
    },
    {
     "name": "stderr",
     "output_type": "stream",
     "text": [
      "/home/hsilva/Tese/ML/aux_functions/sampling.py:9: FutureWarning: The default dtype for empty Series will be 'object' instead of 'float64' in a future version. Specify a dtype explicitly to silence this warning.\n",
      "  class_sampled = pd.Series()\n",
      "/home/hsilva/Tese/ML/aux_functions/sampling.py:9: FutureWarning: The default dtype for empty Series will be 'object' instead of 'float64' in a future version. Specify a dtype explicitly to silence this warning.\n",
      "  class_sampled = pd.Series()\n"
     ]
    },
    {
     "name": "stdout",
     "output_type": "stream",
     "text": [
      "0.8810584461867427\n",
      "Pos size= 8418\n",
      "Neg size= 33672\n",
      "Balanced accuracy (cv-train) -> 0.9742738774055595\n",
      "Balanced accuracy (cv-val) -> 0.8810584461867427\n",
      "Balanced accuracy (test) -> 0.8967276551280954\n",
      "True\n",
      "ObyO\n",
      "5\n",
      "Acetylides\n"
     ]
    },
    {
     "name": "stderr",
     "output_type": "stream",
     "text": [
      "/home/hsilva/Tese/ML/aux_functions/sampling.py:9: FutureWarning: The default dtype for empty Series will be 'object' instead of 'float64' in a future version. Specify a dtype explicitly to silence this warning.\n",
      "  class_sampled = pd.Series()\n",
      "/home/hsilva/Tese/ML/aux_functions/sampling.py:9: FutureWarning: The default dtype for empty Series will be 'object' instead of 'float64' in a future version. Specify a dtype explicitly to silence this warning.\n",
      "  class_sampled = pd.Series()\n"
     ]
    },
    {
     "name": "stdout",
     "output_type": "stream",
     "text": [
      "0.896839739912029\n",
      "Pos size= 14\n",
      "Neg size= 250\n",
      "Balanced accuracy (cv-train) -> 0.9709977635091264\n",
      "Balanced accuracy (cv-val) -> 0.896839739912029\n",
      "Balanced accuracy (test) -> 0.8845714285714286\n",
      "True\n",
      "ObyO\n",
      "5\n",
      "Alkaloids and derivatives\n"
     ]
    },
    {
     "name": "stderr",
     "output_type": "stream",
     "text": [
      "/home/hsilva/Tese/ML/aux_functions/sampling.py:9: FutureWarning: The default dtype for empty Series will be 'object' instead of 'float64' in a future version. Specify a dtype explicitly to silence this warning.\n",
      "  class_sampled = pd.Series()\n",
      "/home/hsilva/Tese/ML/aux_functions/sampling.py:9: FutureWarning: The default dtype for empty Series will be 'object' instead of 'float64' in a future version. Specify a dtype explicitly to silence this warning.\n",
      "  class_sampled = pd.Series()\n"
     ]
    },
    {
     "name": "stdout",
     "output_type": "stream",
     "text": [
      "0.901098901098901\n",
      "Pos size= 1092\n",
      "Neg size= 5460\n",
      "Balanced accuracy (cv-train) -> 0.9692307692307692\n",
      "Balanced accuracy (cv-val) -> 0.901098901098901\n",
      "Balanced accuracy (test) -> 0.9171071479730697\n",
      "True\n",
      "ObyO\n",
      "5\n",
      "Allenes\n"
     ]
    },
    {
     "name": "stderr",
     "output_type": "stream",
     "text": [
      "/home/hsilva/Tese/ML/aux_functions/sampling.py:9: FutureWarning: The default dtype for empty Series will be 'object' instead of 'float64' in a future version. Specify a dtype explicitly to silence this warning.\n",
      "  class_sampled = pd.Series()\n",
      "/home/hsilva/Tese/ML/aux_functions/sampling.py:9: FutureWarning: The default dtype for empty Series will be 'object' instead of 'float64' in a future version. Specify a dtype explicitly to silence this warning.\n",
      "  class_sampled = pd.Series()\n"
     ]
    },
    {
     "name": "stdout",
     "output_type": "stream",
     "text": [
      "0.9298384012239435\n",
      "Pos size= 7\n",
      "Neg size= 250\n",
      "Balanced accuracy (cv-train) -> 0.9690017555250945\n",
      "Balanced accuracy (cv-val) -> 0.9298384012239435\n",
      "Balanced accuracy (test) -> 0.7853333333333333\n",
      "True\n",
      "ObyO\n",
      "5\n",
      "Benzenoids\n"
     ]
    },
    {
     "name": "stderr",
     "output_type": "stream",
     "text": [
      "/home/hsilva/Tese/ML/aux_functions/sampling.py:9: FutureWarning: The default dtype for empty Series will be 'object' instead of 'float64' in a future version. Specify a dtype explicitly to silence this warning.\n",
      "  class_sampled = pd.Series()\n",
      "/home/hsilva/Tese/ML/aux_functions/sampling.py:9: FutureWarning: The default dtype for empty Series will be 'object' instead of 'float64' in a future version. Specify a dtype explicitly to silence this warning.\n",
      "  class_sampled = pd.Series()\n"
     ]
    },
    {
     "name": "stdout",
     "output_type": "stream",
     "text": [
      "0.7511334516065444\n",
      "Pos size= 10146\n",
      "Neg size= 50730\n",
      "Balanced accuracy (cv-train) -> 0.9243692095407057\n",
      "Balanced accuracy (cv-val) -> 0.7511334516065444\n",
      "Balanced accuracy (test) -> 0.8466832000539866\n",
      "True\n",
      "ObyO\n",
      "5\n",
      "Hydrocarbon derivatives\n"
     ]
    },
    {
     "name": "stderr",
     "output_type": "stream",
     "text": [
      "/home/hsilva/Tese/ML/aux_functions/sampling.py:9: FutureWarning: The default dtype for empty Series will be 'object' instead of 'float64' in a future version. Specify a dtype explicitly to silence this warning.\n",
      "  class_sampled = pd.Series()\n",
      "/home/hsilva/Tese/ML/aux_functions/sampling.py:9: FutureWarning: The default dtype for empty Series will be 'object' instead of 'float64' in a future version. Specify a dtype explicitly to silence this warning.\n",
      "  class_sampled = pd.Series()\n"
     ]
    },
    {
     "name": "stdout",
     "output_type": "stream",
     "text": [
      "0.8584663328639232\n",
      "Pos size= 35\n",
      "Neg size= 250\n",
      "Balanced accuracy (cv-train) -> 1.0\n",
      "Balanced accuracy (cv-val) -> 0.8584663328639232\n",
      "Balanced accuracy (test) -> 0.7208421052631578\n",
      "True\n",
      "ObyO\n",
      "5\n",
      "Hydrocarbons\n"
     ]
    },
    {
     "name": "stderr",
     "output_type": "stream",
     "text": [
      "/home/hsilva/Tese/ML/aux_functions/sampling.py:9: FutureWarning: The default dtype for empty Series will be 'object' instead of 'float64' in a future version. Specify a dtype explicitly to silence this warning.\n",
      "  class_sampled = pd.Series()\n",
      "/home/hsilva/Tese/ML/aux_functions/sampling.py:9: FutureWarning: The default dtype for empty Series will be 'object' instead of 'float64' in a future version. Specify a dtype explicitly to silence this warning.\n",
      "  class_sampled = pd.Series()\n"
     ]
    },
    {
     "name": "stdout",
     "output_type": "stream",
     "text": [
      "0.9887254901960785\n",
      "Pos size= 612\n",
      "Neg size= 3060\n",
      "Balanced accuracy (cv-train) -> 0.9984477124183005\n",
      "Balanced accuracy (cv-val) -> 0.9887254901960785\n",
      "Balanced accuracy (test) -> 0.9825341357665178\n",
      "True\n",
      "ObyO\n",
      "5\n",
      "Lignans, neolignans and related compounds\n"
     ]
    },
    {
     "name": "stderr",
     "output_type": "stream",
     "text": [
      "/home/hsilva/Tese/ML/aux_functions/sampling.py:9: FutureWarning: The default dtype for empty Series will be 'object' instead of 'float64' in a future version. Specify a dtype explicitly to silence this warning.\n",
      "  class_sampled = pd.Series()\n",
      "/home/hsilva/Tese/ML/aux_functions/sampling.py:9: FutureWarning: The default dtype for empty Series will be 'object' instead of 'float64' in a future version. Specify a dtype explicitly to silence this warning.\n",
      "  class_sampled = pd.Series()\n"
     ]
    },
    {
     "name": "stdout",
     "output_type": "stream",
     "text": [
      "0.942302252192944\n",
      "Pos size= 286\n",
      "Neg size= 1430\n",
      "Balanced accuracy (cv-train) -> 0.9846186194906225\n",
      "Balanced accuracy (cv-val) -> 0.942302252192944\n",
      "Balanced accuracy (test) -> 0.9503496503496502\n",
      "True\n",
      "ObyO\n",
      "5\n",
      "Lipids and lipid-like molecules\n",
      "0.9701686316532543\n",
      "Pos size= 133382\n",
      "Neg size= 59878\n",
      "Balanced accuracy (cv-train) -> 0.9810908806073594\n",
      "Balanced accuracy (cv-val) -> 0.9701686316532543\n",
      "Balanced accuracy (test) -> 0.9711180841762532\n",
      "True\n",
      "ObyO\n",
      "5\n",
      "Nucleosides, nucleotides, and analogues\n"
     ]
    },
    {
     "name": "stderr",
     "output_type": "stream",
     "text": [
      "/home/hsilva/Tese/ML/aux_functions/sampling.py:9: FutureWarning: The default dtype for empty Series will be 'object' instead of 'float64' in a future version. Specify a dtype explicitly to silence this warning.\n",
      "  class_sampled = pd.Series()\n",
      "/home/hsilva/Tese/ML/aux_functions/sampling.py:9: FutureWarning: The default dtype for empty Series will be 'object' instead of 'float64' in a future version. Specify a dtype explicitly to silence this warning.\n",
      "  class_sampled = pd.Series()\n"
     ]
    },
    {
     "name": "stdout",
     "output_type": "stream",
     "text": [
      "0.9490839742718388\n",
      "Pos size= 935\n",
      "Neg size= 4675\n",
      "Balanced accuracy (cv-train) -> 0.9983427996876478\n",
      "Balanced accuracy (cv-val) -> 0.9490839742718388\n",
      "Balanced accuracy (test) -> 0.9444118814655675\n",
      "True\n",
      "ObyO\n",
      "5\n",
      "Organic 1,3-dipolar compounds\n"
     ]
    },
    {
     "name": "stderr",
     "output_type": "stream",
     "text": [
      "/home/hsilva/Tese/ML/aux_functions/sampling.py:9: FutureWarning: The default dtype for empty Series will be 'object' instead of 'float64' in a future version. Specify a dtype explicitly to silence this warning.\n",
      "  class_sampled = pd.Series()\n",
      "/home/hsilva/Tese/ML/aux_functions/sampling.py:9: FutureWarning: The default dtype for empty Series will be 'object' instead of 'float64' in a future version. Specify a dtype explicitly to silence this warning.\n",
      "  class_sampled = pd.Series()\n"
     ]
    },
    {
     "name": "stdout",
     "output_type": "stream",
     "text": [
      "0.8924242424242426\n",
      "Pos size= 66\n",
      "Neg size= 330\n",
      "Balanced accuracy (cv-train) -> 0.9772727272727272\n",
      "Balanced accuracy (cv-val) -> 0.8924242424242426\n",
      "Balanced accuracy (test) -> 0.9378787878787879\n",
      "True\n",
      "ObyO\n",
      "5\n",
      "Organic Polymers\n"
     ]
    },
    {
     "name": "stderr",
     "output_type": "stream",
     "text": [
      "/home/hsilva/Tese/ML/aux_functions/sampling.py:9: FutureWarning: The default dtype for empty Series will be 'object' instead of 'float64' in a future version. Specify a dtype explicitly to silence this warning.\n",
      "  class_sampled = pd.Series()\n",
      "/home/hsilva/Tese/ML/aux_functions/sampling.py:9: FutureWarning: The default dtype for empty Series will be 'object' instead of 'float64' in a future version. Specify a dtype explicitly to silence this warning.\n",
      "  class_sampled = pd.Series()\n"
     ]
    },
    {
     "name": "stdout",
     "output_type": "stream",
     "text": [
      "0.9951681957186546\n",
      "Pos size= 1635\n",
      "Neg size= 8175\n",
      "Balanced accuracy (cv-train) -> 0.9998165137614677\n",
      "Balanced accuracy (cv-val) -> 0.9951681957186546\n",
      "Balanced accuracy (test) -> 0.9952643400793741\n",
      "True\n",
      "ObyO\n",
      "5\n",
      "Organic acids and derivatives\n"
     ]
    },
    {
     "name": "stderr",
     "output_type": "stream",
     "text": [
      "/home/hsilva/Tese/ML/aux_functions/sampling.py:9: FutureWarning: The default dtype for empty Series will be 'object' instead of 'float64' in a future version. Specify a dtype explicitly to silence this warning.\n",
      "  class_sampled = pd.Series()\n",
      "/home/hsilva/Tese/ML/aux_functions/sampling.py:9: FutureWarning: The default dtype for empty Series will be 'object' instead of 'float64' in a future version. Specify a dtype explicitly to silence this warning.\n",
      "  class_sampled = pd.Series()\n"
     ]
    },
    {
     "name": "stdout",
     "output_type": "stream",
     "text": [
      "0.8508006898250802\n",
      "Pos size= 12177\n",
      "Neg size= 60885\n",
      "Balanced accuracy (cv-train) -> 0.9734745832306807\n",
      "Balanced accuracy (cv-val) -> 0.8508006898250802\n",
      "Balanced accuracy (test) -> 0.8831443102168302\n",
      "True\n",
      "ObyO\n",
      "5\n",
      "Organic compounds - Unspecified\n"
     ]
    },
    {
     "name": "stderr",
     "output_type": "stream",
     "text": [
      "/home/hsilva/Tese/ML/aux_functions/sampling.py:9: FutureWarning: The default dtype for empty Series will be 'object' instead of 'float64' in a future version. Specify a dtype explicitly to silence this warning.\n",
      "  class_sampled = pd.Series()\n",
      "/home/hsilva/Tese/ML/aux_functions/sampling.py:9: FutureWarning: The default dtype for empty Series will be 'object' instead of 'float64' in a future version. Specify a dtype explicitly to silence this warning.\n",
      "  class_sampled = pd.Series()\n"
     ]
    },
    {
     "name": "stdout",
     "output_type": "stream",
     "text": [
      "0.6487139032319755\n",
      "Pos size= 19\n",
      "Neg size= 250\n",
      "Balanced accuracy (cv-train) -> 0.9530156554361158\n",
      "Balanced accuracy (cv-val) -> 0.6487139032319755\n",
      "Balanced accuracy (test) -> 0.808\n",
      "True\n",
      "ObyO\n",
      "5\n",
      "Organic nitrogen compounds\n"
     ]
    },
    {
     "name": "stderr",
     "output_type": "stream",
     "text": [
      "/home/hsilva/Tese/ML/aux_functions/sampling.py:9: FutureWarning: The default dtype for empty Series will be 'object' instead of 'float64' in a future version. Specify a dtype explicitly to silence this warning.\n",
      "  class_sampled = pd.Series()\n",
      "/home/hsilva/Tese/ML/aux_functions/sampling.py:9: FutureWarning: The default dtype for empty Series will be 'object' instead of 'float64' in a future version. Specify a dtype explicitly to silence this warning.\n",
      "  class_sampled = pd.Series()\n"
     ]
    },
    {
     "name": "stdout",
     "output_type": "stream",
     "text": [
      "0.8495\n",
      "Pos size= 1200\n",
      "Neg size= 6000\n",
      "Balanced accuracy (cv-train) -> 0.9770416666666666\n",
      "Balanced accuracy (cv-val) -> 0.8495\n",
      "Balanced accuracy (test) -> 0.8869439291736931\n",
      "True\n",
      "ObyO\n",
      "5\n",
      "Organic oxygen compounds\n"
     ]
    },
    {
     "name": "stderr",
     "output_type": "stream",
     "text": [
      "/home/hsilva/Tese/ML/aux_functions/sampling.py:9: FutureWarning: The default dtype for empty Series will be 'object' instead of 'float64' in a future version. Specify a dtype explicitly to silence this warning.\n",
      "  class_sampled = pd.Series()\n",
      "/home/hsilva/Tese/ML/aux_functions/sampling.py:9: FutureWarning: The default dtype for empty Series will be 'object' instead of 'float64' in a future version. Specify a dtype explicitly to silence this warning.\n",
      "  class_sampled = pd.Series()\n"
     ]
    },
    {
     "name": "stdout",
     "output_type": "stream",
     "text": [
      "0.8041388682975043\n",
      "Pos size= 8094\n",
      "Neg size= 40470\n",
      "Balanced accuracy (cv-train) -> 0.9683036817395602\n",
      "Balanced accuracy (cv-val) -> 0.8041388682975043\n",
      "Balanced accuracy (test) -> 0.8653775116788176\n",
      "True\n",
      "ObyO\n",
      "5\n",
      "Organic salts\n"
     ]
    },
    {
     "name": "stderr",
     "output_type": "stream",
     "text": [
      "/home/hsilva/Tese/ML/aux_functions/sampling.py:9: FutureWarning: The default dtype for empty Series will be 'object' instead of 'float64' in a future version. Specify a dtype explicitly to silence this warning.\n",
      "  class_sampled = pd.Series()\n",
      "/home/hsilva/Tese/ML/aux_functions/sampling.py:9: FutureWarning: The default dtype for empty Series will be 'object' instead of 'float64' in a future version. Specify a dtype explicitly to silence this warning.\n",
      "  class_sampled = pd.Series()\n"
     ]
    },
    {
     "name": "stdout",
     "output_type": "stream",
     "text": [
      "0.9621581564352649\n",
      "Pos size= 43\n",
      "Neg size= 250\n",
      "Balanced accuracy (cv-train) -> 1.0\n",
      "Balanced accuracy (cv-val) -> 0.9621581564352649\n",
      "Balanced accuracy (test) -> 0.9761904761904762\n",
      "True\n",
      "ObyO\n",
      "5\n",
      "Organohalogen compounds\n"
     ]
    },
    {
     "name": "stderr",
     "output_type": "stream",
     "text": [
      "/home/hsilva/Tese/ML/aux_functions/sampling.py:9: FutureWarning: The default dtype for empty Series will be 'object' instead of 'float64' in a future version. Specify a dtype explicitly to silence this warning.\n",
      "  class_sampled = pd.Series()\n",
      "/home/hsilva/Tese/ML/aux_functions/sampling.py:9: FutureWarning: The default dtype for empty Series will be 'object' instead of 'float64' in a future version. Specify a dtype explicitly to silence this warning.\n",
      "  class_sampled = pd.Series()\n"
     ]
    },
    {
     "name": "stdout",
     "output_type": "stream",
     "text": [
      "0.9784382284382285\n",
      "Pos size= 218\n",
      "Neg size= 1090\n",
      "Balanced accuracy (cv-train) -> 0.9949542315742139\n",
      "Balanced accuracy (cv-val) -> 0.9784382284382285\n",
      "Balanced accuracy (test) -> 0.979441201000834\n",
      "True\n",
      "ObyO\n",
      "5\n",
      "Organoheterocyclic compounds\n"
     ]
    },
    {
     "name": "stderr",
     "output_type": "stream",
     "text": [
      "/home/hsilva/Tese/ML/aux_functions/sampling.py:9: FutureWarning: The default dtype for empty Series will be 'object' instead of 'float64' in a future version. Specify a dtype explicitly to silence this warning.\n",
      "  class_sampled = pd.Series()\n",
      "/home/hsilva/Tese/ML/aux_functions/sampling.py:9: FutureWarning: The default dtype for empty Series will be 'object' instead of 'float64' in a future version. Specify a dtype explicitly to silence this warning.\n",
      "  class_sampled = pd.Series()\n"
     ]
    },
    {
     "name": "stdout",
     "output_type": "stream",
     "text": [
      "0.7936613811838603\n",
      "Pos size= 14296\n",
      "Neg size= 71480\n",
      "Balanced accuracy (cv-train) -> 0.9142555675467241\n",
      "Balanced accuracy (cv-val) -> 0.7936613811838603\n",
      "Balanced accuracy (test) -> 0.8894762773500793\n",
      "True\n",
      "ObyO\n",
      "5\n",
      "Organometallic compounds\n"
     ]
    },
    {
     "name": "stderr",
     "output_type": "stream",
     "text": [
      "/home/hsilva/Tese/ML/aux_functions/sampling.py:9: FutureWarning: The default dtype for empty Series will be 'object' instead of 'float64' in a future version. Specify a dtype explicitly to silence this warning.\n",
      "  class_sampled = pd.Series()\n",
      "/home/hsilva/Tese/ML/aux_functions/sampling.py:9: FutureWarning: The default dtype for empty Series will be 'object' instead of 'float64' in a future version. Specify a dtype explicitly to silence this warning.\n",
      "  class_sampled = pd.Series()\n"
     ]
    },
    {
     "name": "stdout",
     "output_type": "stream",
     "text": [
      "0.9441094277976546\n",
      "Pos size= 77\n",
      "Neg size= 385\n",
      "Balanced accuracy (cv-train) -> 0.9987004499027238\n",
      "Balanced accuracy (cv-val) -> 0.9441094277976546\n",
      "Balanced accuracy (test) -> 0.9799929799929801\n",
      "True\n",
      "ObyO\n",
      "5\n",
      "Organophosphorus compounds\n"
     ]
    },
    {
     "name": "stderr",
     "output_type": "stream",
     "text": [
      "/home/hsilva/Tese/ML/aux_functions/sampling.py:9: FutureWarning: The default dtype for empty Series will be 'object' instead of 'float64' in a future version. Specify a dtype explicitly to silence this warning.\n",
      "  class_sampled = pd.Series()\n",
      "/home/hsilva/Tese/ML/aux_functions/sampling.py:9: FutureWarning: The default dtype for empty Series will be 'object' instead of 'float64' in a future version. Specify a dtype explicitly to silence this warning.\n",
      "  class_sampled = pd.Series()\n"
     ]
    },
    {
     "name": "stdout",
     "output_type": "stream",
     "text": [
      "0.9779116465863454\n",
      "Pos size= 27\n",
      "Neg size= 250\n",
      "Balanced accuracy (cv-train) -> 0.995995959887454\n",
      "Balanced accuracy (cv-val) -> 0.9779116465863454\n",
      "Balanced accuracy (test) -> 0.996\n",
      "True\n",
      "ObyO\n",
      "5\n",
      "Organosulfur compounds\n"
     ]
    },
    {
     "name": "stderr",
     "output_type": "stream",
     "text": [
      "/home/hsilva/Tese/ML/aux_functions/sampling.py:9: FutureWarning: The default dtype for empty Series will be 'object' instead of 'float64' in a future version. Specify a dtype explicitly to silence this warning.\n",
      "  class_sampled = pd.Series()\n",
      "/home/hsilva/Tese/ML/aux_functions/sampling.py:9: FutureWarning: The default dtype for empty Series will be 'object' instead of 'float64' in a future version. Specify a dtype explicitly to silence this warning.\n",
      "  class_sampled = pd.Series()\n"
     ]
    },
    {
     "name": "stdout",
     "output_type": "stream",
     "text": [
      "0.9580238379626237\n",
      "Pos size= 481\n",
      "Neg size= 2405\n",
      "Balanced accuracy (cv-train) -> 0.9838884023046978\n",
      "Balanced accuracy (cv-val) -> 0.9580238379626237\n",
      "Balanced accuracy (test) -> 0.9672136948732694\n",
      "True\n",
      "ObyO\n",
      "5\n",
      "Phenylpropanoids and polyketides\n"
     ]
    },
    {
     "name": "stderr",
     "output_type": "stream",
     "text": [
      "/home/hsilva/Tese/ML/aux_functions/sampling.py:9: FutureWarning: The default dtype for empty Series will be 'object' instead of 'float64' in a future version. Specify a dtype explicitly to silence this warning.\n",
      "  class_sampled = pd.Series()\n",
      "/home/hsilva/Tese/ML/aux_functions/sampling.py:9: FutureWarning: The default dtype for empty Series will be 'object' instead of 'float64' in a future version. Specify a dtype explicitly to silence this warning.\n",
      "  class_sampled = pd.Series()\n"
     ]
    },
    {
     "name": "stdout",
     "output_type": "stream",
     "text": [
      "0.8801140413399858\n",
      "Pos size= 8418\n",
      "Neg size= 42090\n",
      "Balanced accuracy (cv-train) -> 0.9691197434069849\n",
      "Balanced accuracy (cv-val) -> 0.8801140413399858\n",
      "Balanced accuracy (test) -> 0.917553162044396\n",
      "True\n",
      "ObyO\n",
      "6\n",
      "Acetylides\n"
     ]
    },
    {
     "name": "stderr",
     "output_type": "stream",
     "text": [
      "/home/hsilva/Tese/ML/aux_functions/sampling.py:9: FutureWarning: The default dtype for empty Series will be 'object' instead of 'float64' in a future version. Specify a dtype explicitly to silence this warning.\n",
      "  class_sampled = pd.Series()\n",
      "/home/hsilva/Tese/ML/aux_functions/sampling.py:9: FutureWarning: The default dtype for empty Series will be 'object' instead of 'float64' in a future version. Specify a dtype explicitly to silence this warning.\n",
      "  class_sampled = pd.Series()\n"
     ]
    },
    {
     "name": "stdout",
     "output_type": "stream",
     "text": [
      "0.8933333333333334\n",
      "Pos size= 14\n",
      "Neg size= 300\n",
      "Balanced accuracy (cv-train) -> 0.9633333333333334\n",
      "Balanced accuracy (cv-val) -> 0.8933333333333334\n",
      "Balanced accuracy (test) -> 0.8852380952380952\n",
      "True\n",
      "ObyO\n",
      "6\n",
      "Alkaloids and derivatives\n"
     ]
    },
    {
     "name": "stderr",
     "output_type": "stream",
     "text": [
      "/home/hsilva/Tese/ML/aux_functions/sampling.py:9: FutureWarning: The default dtype for empty Series will be 'object' instead of 'float64' in a future version. Specify a dtype explicitly to silence this warning.\n",
      "  class_sampled = pd.Series()\n",
      "/home/hsilva/Tese/ML/aux_functions/sampling.py:9: FutureWarning: The default dtype for empty Series will be 'object' instead of 'float64' in a future version. Specify a dtype explicitly to silence this warning.\n",
      "  class_sampled = pd.Series()\n"
     ]
    },
    {
     "name": "stdout",
     "output_type": "stream",
     "text": [
      "0.9013278388278388\n",
      "Pos size= 1092\n",
      "Neg size= 6552\n",
      "Balanced accuracy (cv-train) -> 0.9699328449328449\n",
      "Balanced accuracy (cv-val) -> 0.9013278388278388\n",
      "Balanced accuracy (test) -> 0.9150926664893145\n",
      "True\n",
      "ObyO\n",
      "6\n",
      "Allenes\n"
     ]
    },
    {
     "name": "stderr",
     "output_type": "stream",
     "text": [
      "/home/hsilva/Tese/ML/aux_functions/sampling.py:9: FutureWarning: The default dtype for empty Series will be 'object' instead of 'float64' in a future version. Specify a dtype explicitly to silence this warning.\n",
      "  class_sampled = pd.Series()\n",
      "/home/hsilva/Tese/ML/aux_functions/sampling.py:9: FutureWarning: The default dtype for empty Series will be 'object' instead of 'float64' in a future version. Specify a dtype explicitly to silence this warning.\n",
      "  class_sampled = pd.Series()\n"
     ]
    },
    {
     "name": "stdout",
     "output_type": "stream",
     "text": [
      "0.9466666666666667\n",
      "Pos size= 7\n",
      "Neg size= 300\n",
      "Balanced accuracy (cv-train) -> 0.9741666666666666\n",
      "Balanced accuracy (cv-val) -> 0.9466666666666667\n",
      "Balanced accuracy (test) -> 0.8033333333333332\n",
      "True\n",
      "ObyO\n",
      "6\n",
      "Benzenoids\n"
     ]
    },
    {
     "name": "stderr",
     "output_type": "stream",
     "text": [
      "/home/hsilva/Tese/ML/aux_functions/sampling.py:9: FutureWarning: The default dtype for empty Series will be 'object' instead of 'float64' in a future version. Specify a dtype explicitly to silence this warning.\n",
      "  class_sampled = pd.Series()\n",
      "/home/hsilva/Tese/ML/aux_functions/sampling.py:9: FutureWarning: The default dtype for empty Series will be 'object' instead of 'float64' in a future version. Specify a dtype explicitly to silence this warning.\n",
      "  class_sampled = pd.Series()\n"
     ]
    },
    {
     "name": "stdout",
     "output_type": "stream",
     "text": [
      "0.7461068401340429\n",
      "Pos size= 10146\n",
      "Neg size= 60876\n",
      "Balanced accuracy (cv-train) -> 0.9272126946579933\n",
      "Balanced accuracy (cv-val) -> 0.7461068401340429\n",
      "Balanced accuracy (test) -> 0.8495674414805107\n",
      "True\n",
      "ObyO\n",
      "6\n",
      "Hydrocarbon derivatives\n"
     ]
    },
    {
     "name": "stderr",
     "output_type": "stream",
     "text": [
      "/home/hsilva/Tese/ML/aux_functions/sampling.py:9: FutureWarning: The default dtype for empty Series will be 'object' instead of 'float64' in a future version. Specify a dtype explicitly to silence this warning.\n",
      "  class_sampled = pd.Series()\n",
      "/home/hsilva/Tese/ML/aux_functions/sampling.py:9: FutureWarning: The default dtype for empty Series will be 'object' instead of 'float64' in a future version. Specify a dtype explicitly to silence this warning.\n",
      "  class_sampled = pd.Series()\n"
     ]
    },
    {
     "name": "stdout",
     "output_type": "stream",
     "text": [
      "0.8805555555555555\n",
      "Pos size= 35\n",
      "Neg size= 300\n",
      "Balanced accuracy (cv-train) -> 1.0\n",
      "Balanced accuracy (cv-val) -> 0.8805555555555555\n",
      "Balanced accuracy (test) -> 0.7071929824561403\n",
      "True\n",
      "ObyO\n",
      "6\n",
      "Hydrocarbons\n"
     ]
    },
    {
     "name": "stderr",
     "output_type": "stream",
     "text": [
      "/home/hsilva/Tese/ML/aux_functions/sampling.py:9: FutureWarning: The default dtype for empty Series will be 'object' instead of 'float64' in a future version. Specify a dtype explicitly to silence this warning.\n",
      "  class_sampled = pd.Series()\n",
      "/home/hsilva/Tese/ML/aux_functions/sampling.py:9: FutureWarning: The default dtype for empty Series will be 'object' instead of 'float64' in a future version. Specify a dtype explicitly to silence this warning.\n",
      "  class_sampled = pd.Series()\n"
     ]
    },
    {
     "name": "stdout",
     "output_type": "stream",
     "text": [
      "0.9891067538126362\n",
      "Pos size= 612\n",
      "Neg size= 3672\n",
      "Balanced accuracy (cv-train) -> 0.9986383442265795\n",
      "Balanced accuracy (cv-val) -> 0.9891067538126362\n",
      "Balanced accuracy (test) -> 0.9831060311913544\n",
      "True\n",
      "ObyO\n",
      "6\n",
      "Lignans, neolignans and related compounds\n"
     ]
    },
    {
     "name": "stderr",
     "output_type": "stream",
     "text": [
      "/home/hsilva/Tese/ML/aux_functions/sampling.py:9: FutureWarning: The default dtype for empty Series will be 'object' instead of 'float64' in a future version. Specify a dtype explicitly to silence this warning.\n",
      "  class_sampled = pd.Series()\n",
      "/home/hsilva/Tese/ML/aux_functions/sampling.py:9: FutureWarning: The default dtype for empty Series will be 'object' instead of 'float64' in a future version. Specify a dtype explicitly to silence this warning.\n",
      "  class_sampled = pd.Series()\n"
     ]
    },
    {
     "name": "stdout",
     "output_type": "stream",
     "text": [
      "0.9382097799860958\n",
      "Pos size= 286\n",
      "Neg size= 1716\n",
      "Balanced accuracy (cv-train) -> 0.9829545454545454\n",
      "Balanced accuracy (cv-val) -> 0.9382097799860958\n",
      "Balanced accuracy (test) -> 0.9493006993006993\n",
      "True\n",
      "ObyO\n",
      "6\n",
      "Lipids and lipid-like molecules\n",
      "0.9701686316532543\n",
      "Pos size= 133382\n",
      "Neg size= 59878\n",
      "Balanced accuracy (cv-train) -> 0.9810908806073594\n",
      "Balanced accuracy (cv-val) -> 0.9701686316532543\n",
      "Balanced accuracy (test) -> 0.9711180841762532\n",
      "True\n",
      "ObyO\n",
      "6\n",
      "Nucleosides, nucleotides, and analogues\n"
     ]
    },
    {
     "name": "stderr",
     "output_type": "stream",
     "text": [
      "/home/hsilva/Tese/ML/aux_functions/sampling.py:9: FutureWarning: The default dtype for empty Series will be 'object' instead of 'float64' in a future version. Specify a dtype explicitly to silence this warning.\n",
      "  class_sampled = pd.Series()\n",
      "/home/hsilva/Tese/ML/aux_functions/sampling.py:9: FutureWarning: The default dtype for empty Series will be 'object' instead of 'float64' in a future version. Specify a dtype explicitly to silence this warning.\n",
      "  class_sampled = pd.Series()\n"
     ]
    },
    {
     "name": "stdout",
     "output_type": "stream",
     "text": [
      "0.9463445692025226\n",
      "Pos size= 935\n",
      "Neg size= 5610\n",
      "Balanced accuracy (cv-train) -> 0.9995098039215686\n",
      "Balanced accuracy (cv-val) -> 0.9463445692025226\n",
      "Balanced accuracy (test) -> 0.9426962924907955\n",
      "True\n",
      "ObyO\n",
      "6\n",
      "Organic 1,3-dipolar compounds\n"
     ]
    },
    {
     "name": "stderr",
     "output_type": "stream",
     "text": [
      "/home/hsilva/Tese/ML/aux_functions/sampling.py:9: FutureWarning: The default dtype for empty Series will be 'object' instead of 'float64' in a future version. Specify a dtype explicitly to silence this warning.\n",
      "  class_sampled = pd.Series()\n",
      "/home/hsilva/Tese/ML/aux_functions/sampling.py:9: FutureWarning: The default dtype for empty Series will be 'object' instead of 'float64' in a future version. Specify a dtype explicitly to silence this warning.\n",
      "  class_sampled = pd.Series()\n"
     ]
    },
    {
     "name": "stdout",
     "output_type": "stream",
     "text": [
      "0.9065656565656566\n",
      "Pos size= 66\n",
      "Neg size= 396\n",
      "Balanced accuracy (cv-train) -> 0.9810606060606061\n",
      "Balanced accuracy (cv-val) -> 0.9065656565656566\n",
      "Balanced accuracy (test) -> 0.946969696969697\n",
      "True\n",
      "ObyO\n",
      "6\n",
      "Organic Polymers\n"
     ]
    },
    {
     "name": "stderr",
     "output_type": "stream",
     "text": [
      "/home/hsilva/Tese/ML/aux_functions/sampling.py:9: FutureWarning: The default dtype for empty Series will be 'object' instead of 'float64' in a future version. Specify a dtype explicitly to silence this warning.\n",
      "  class_sampled = pd.Series()\n",
      "/home/hsilva/Tese/ML/aux_functions/sampling.py:9: FutureWarning: The default dtype for empty Series will be 'object' instead of 'float64' in a future version. Specify a dtype explicitly to silence this warning.\n",
      "  class_sampled = pd.Series()\n"
     ]
    },
    {
     "name": "stdout",
     "output_type": "stream",
     "text": [
      "0.99434250764526\n",
      "Pos size= 1635\n",
      "Neg size= 9810\n",
      "Balanced accuracy (cv-train) -> 0.9998470948012232\n",
      "Balanced accuracy (cv-val) -> 0.99434250764526\n",
      "Balanced accuracy (test) -> 0.9944008114472749\n",
      "True\n",
      "ObyO\n",
      "6\n",
      "Organic acids and derivatives\n"
     ]
    },
    {
     "name": "stderr",
     "output_type": "stream",
     "text": [
      "/home/hsilva/Tese/ML/aux_functions/sampling.py:9: FutureWarning: The default dtype for empty Series will be 'object' instead of 'float64' in a future version. Specify a dtype explicitly to silence this warning.\n",
      "  class_sampled = pd.Series()\n",
      "/home/hsilva/Tese/ML/aux_functions/sampling.py:9: FutureWarning: The default dtype for empty Series will be 'object' instead of 'float64' in a future version. Specify a dtype explicitly to silence this warning.\n",
      "  class_sampled = pd.Series()\n"
     ]
    },
    {
     "name": "stdout",
     "output_type": "stream",
     "text": [
      "0.8632257534696558\n",
      "Pos size= 12177\n",
      "Neg size= 73062\n",
      "Balanced accuracy (cv-train) -> 0.9646293558895184\n",
      "Balanced accuracy (cv-val) -> 0.8632257534696558\n",
      "Balanced accuracy (test) -> 0.9189115866738347\n",
      "True\n",
      "ObyO\n",
      "6\n",
      "Organic compounds - Unspecified\n"
     ]
    },
    {
     "name": "stderr",
     "output_type": "stream",
     "text": [
      "/home/hsilva/Tese/ML/aux_functions/sampling.py:9: FutureWarning: The default dtype for empty Series will be 'object' instead of 'float64' in a future version. Specify a dtype explicitly to silence this warning.\n",
      "  class_sampled = pd.Series()\n",
      "/home/hsilva/Tese/ML/aux_functions/sampling.py:9: FutureWarning: The default dtype for empty Series will be 'object' instead of 'float64' in a future version. Specify a dtype explicitly to silence this warning.\n",
      "  class_sampled = pd.Series()\n"
     ]
    },
    {
     "name": "stdout",
     "output_type": "stream",
     "text": [
      "0.7162698412698413\n",
      "Pos size= 19\n",
      "Neg size= 300\n",
      "Balanced accuracy (cv-train) -> 0.9683333333333334\n",
      "Balanced accuracy (cv-val) -> 0.7162698412698413\n",
      "Balanced accuracy (test) -> 0.8300000000000001\n",
      "True\n",
      "ObyO\n",
      "6\n",
      "Organic nitrogen compounds\n"
     ]
    },
    {
     "name": "stderr",
     "output_type": "stream",
     "text": [
      "/home/hsilva/Tese/ML/aux_functions/sampling.py:9: FutureWarning: The default dtype for empty Series will be 'object' instead of 'float64' in a future version. Specify a dtype explicitly to silence this warning.\n",
      "  class_sampled = pd.Series()\n",
      "/home/hsilva/Tese/ML/aux_functions/sampling.py:9: FutureWarning: The default dtype for empty Series will be 'object' instead of 'float64' in a future version. Specify a dtype explicitly to silence this warning.\n",
      "  class_sampled = pd.Series()\n"
     ]
    },
    {
     "name": "stdout",
     "output_type": "stream",
     "text": [
      "0.8566666666666666\n",
      "Pos size= 1200\n",
      "Neg size= 7200\n",
      "Balanced accuracy (cv-train) -> 0.9775694444444444\n",
      "Balanced accuracy (cv-val) -> 0.8566666666666666\n",
      "Balanced accuracy (test) -> 0.8841528480419711\n",
      "True\n",
      "ObyO\n",
      "6\n",
      "Organic oxygen compounds\n"
     ]
    },
    {
     "name": "stderr",
     "output_type": "stream",
     "text": [
      "/home/hsilva/Tese/ML/aux_functions/sampling.py:9: FutureWarning: The default dtype for empty Series will be 'object' instead of 'float64' in a future version. Specify a dtype explicitly to silence this warning.\n",
      "  class_sampled = pd.Series()\n",
      "/home/hsilva/Tese/ML/aux_functions/sampling.py:9: FutureWarning: The default dtype for empty Series will be 'object' instead of 'float64' in a future version. Specify a dtype explicitly to silence this warning.\n",
      "  class_sampled = pd.Series()\n"
     ]
    },
    {
     "name": "stdout",
     "output_type": "stream",
     "text": [
      "0.8078000164731076\n",
      "Pos size= 8094\n",
      "Neg size= 48564\n",
      "Balanced accuracy (cv-train) -> 0.9672082200807183\n",
      "Balanced accuracy (cv-val) -> 0.8078000164731076\n",
      "Balanced accuracy (test) -> 0.8641851940568037\n",
      "True\n",
      "ObyO\n",
      "6\n",
      "Organic salts\n"
     ]
    },
    {
     "name": "stderr",
     "output_type": "stream",
     "text": [
      "/home/hsilva/Tese/ML/aux_functions/sampling.py:9: FutureWarning: The default dtype for empty Series will be 'object' instead of 'float64' in a future version. Specify a dtype explicitly to silence this warning.\n",
      "  class_sampled = pd.Series()\n",
      "/home/hsilva/Tese/ML/aux_functions/sampling.py:9: FutureWarning: The default dtype for empty Series will be 'object' instead of 'float64' in a future version. Specify a dtype explicitly to silence this warning.\n",
      "  class_sampled = pd.Series()\n"
     ]
    },
    {
     "name": "stdout",
     "output_type": "stream",
     "text": [
      "0.9730952380952381\n",
      "Pos size= 43\n",
      "Neg size= 300\n",
      "Balanced accuracy (cv-train) -> 0.9941666666666666\n",
      "Balanced accuracy (cv-val) -> 0.9730952380952381\n",
      "Balanced accuracy (test) -> 0.99\n",
      "True\n",
      "ObyO\n",
      "6\n",
      "Organohalogen compounds\n"
     ]
    },
    {
     "name": "stderr",
     "output_type": "stream",
     "text": [
      "/home/hsilva/Tese/ML/aux_functions/sampling.py:9: FutureWarning: The default dtype for empty Series will be 'object' instead of 'float64' in a future version. Specify a dtype explicitly to silence this warning.\n",
      "  class_sampled = pd.Series()\n",
      "/home/hsilva/Tese/ML/aux_functions/sampling.py:9: FutureWarning: The default dtype for empty Series will be 'object' instead of 'float64' in a future version. Specify a dtype explicitly to silence this warning.\n",
      "  class_sampled = pd.Series()\n"
     ]
    },
    {
     "name": "stdout",
     "output_type": "stream",
     "text": [
      "0.9843272171253824\n",
      "Pos size= 218\n",
      "Neg size= 1308\n",
      "Balanced accuracy (cv-train) -> 0.9935015290519879\n",
      "Balanced accuracy (cv-val) -> 0.9843272171253824\n",
      "Balanced accuracy (test) -> 0.9817347789824854\n",
      "True\n",
      "ObyO\n",
      "6\n",
      "Organoheterocyclic compounds\n"
     ]
    },
    {
     "name": "stderr",
     "output_type": "stream",
     "text": [
      "/home/hsilva/Tese/ML/aux_functions/sampling.py:9: FutureWarning: The default dtype for empty Series will be 'object' instead of 'float64' in a future version. Specify a dtype explicitly to silence this warning.\n",
      "  class_sampled = pd.Series()\n",
      "/home/hsilva/Tese/ML/aux_functions/sampling.py:9: FutureWarning: The default dtype for empty Series will be 'object' instead of 'float64' in a future version. Specify a dtype explicitly to silence this warning.\n",
      "  class_sampled = pd.Series()\n"
     ]
    },
    {
     "name": "stdout",
     "output_type": "stream",
     "text": [
      "0.8072244794074912\n",
      "Pos size= 14296\n",
      "Neg size= 85776\n",
      "Balanced accuracy (cv-train) -> 0.922618165934631\n",
      "Balanced accuracy (cv-val) -> 0.8072244794074912\n",
      "Balanced accuracy (test) -> 0.9015579656801109\n",
      "True\n",
      "ObyO\n",
      "6\n",
      "Organometallic compounds\n"
     ]
    },
    {
     "name": "stderr",
     "output_type": "stream",
     "text": [
      "/home/hsilva/Tese/ML/aux_functions/sampling.py:9: FutureWarning: The default dtype for empty Series will be 'object' instead of 'float64' in a future version. Specify a dtype explicitly to silence this warning.\n",
      "  class_sampled = pd.Series()\n",
      "/home/hsilva/Tese/ML/aux_functions/sampling.py:9: FutureWarning: The default dtype for empty Series will be 'object' instead of 'float64' in a future version. Specify a dtype explicitly to silence this warning.\n",
      "  class_sampled = pd.Series()\n"
     ]
    },
    {
     "name": "stdout",
     "output_type": "stream",
     "text": [
      "0.9437928737928738\n",
      "Pos size= 77\n",
      "Neg size= 462\n",
      "Balanced accuracy (cv-train) -> 0.9994588744588745\n",
      "Balanced accuracy (cv-val) -> 0.9437928737928738\n",
      "Balanced accuracy (test) -> 0.9935064935064934\n",
      "True\n",
      "ObyO\n",
      "6\n",
      "Organophosphorus compounds\n"
     ]
    },
    {
     "name": "stderr",
     "output_type": "stream",
     "text": [
      "/home/hsilva/Tese/ML/aux_functions/sampling.py:9: FutureWarning: The default dtype for empty Series will be 'object' instead of 'float64' in a future version. Specify a dtype explicitly to silence this warning.\n",
      "  class_sampled = pd.Series()\n",
      "/home/hsilva/Tese/ML/aux_functions/sampling.py:9: FutureWarning: The default dtype for empty Series will be 'object' instead of 'float64' in a future version. Specify a dtype explicitly to silence this warning.\n",
      "  class_sampled = pd.Series()\n"
     ]
    },
    {
     "name": "stdout",
     "output_type": "stream",
     "text": [
      "0.98\n",
      "Pos size= 27\n",
      "Neg size= 300\n",
      "Balanced accuracy (cv-train) -> 0.9975\n",
      "Balanced accuracy (cv-val) -> 0.98\n",
      "Balanced accuracy (test) -> 0.98\n",
      "True\n",
      "ObyO\n",
      "6\n",
      "Organosulfur compounds\n"
     ]
    },
    {
     "name": "stderr",
     "output_type": "stream",
     "text": [
      "/home/hsilva/Tese/ML/aux_functions/sampling.py:9: FutureWarning: The default dtype for empty Series will be 'object' instead of 'float64' in a future version. Specify a dtype explicitly to silence this warning.\n",
      "  class_sampled = pd.Series()\n",
      "/home/hsilva/Tese/ML/aux_functions/sampling.py:9: FutureWarning: The default dtype for empty Series will be 'object' instead of 'float64' in a future version. Specify a dtype explicitly to silence this warning.\n",
      "  class_sampled = pd.Series()\n"
     ]
    },
    {
     "name": "stdout",
     "output_type": "stream",
     "text": [
      "0.9591258183649488\n",
      "Pos size= 481\n",
      "Neg size= 2886\n",
      "Balanced accuracy (cv-train) -> 0.9827616077616077\n",
      "Balanced accuracy (cv-val) -> 0.9591258183649488\n",
      "Balanced accuracy (test) -> 0.965848336061102\n",
      "True\n",
      "ObyO\n",
      "6\n",
      "Phenylpropanoids and polyketides\n"
     ]
    },
    {
     "name": "stderr",
     "output_type": "stream",
     "text": [
      "/home/hsilva/Tese/ML/aux_functions/sampling.py:9: FutureWarning: The default dtype for empty Series will be 'object' instead of 'float64' in a future version. Specify a dtype explicitly to silence this warning.\n",
      "  class_sampled = pd.Series()\n",
      "/home/hsilva/Tese/ML/aux_functions/sampling.py:9: FutureWarning: The default dtype for empty Series will be 'object' instead of 'float64' in a future version. Specify a dtype explicitly to silence this warning.\n",
      "  class_sampled = pd.Series()\n"
     ]
    },
    {
     "name": "stdout",
     "output_type": "stream",
     "text": [
      "0.8788904727963885\n",
      "Pos size= 8418\n",
      "Neg size= 50508\n",
      "Balanced accuracy (cv-train) -> 0.9679258731290092\n",
      "Balanced accuracy (cv-val) -> 0.8788904727963885\n",
      "Balanced accuracy (test) -> 0.9211913757955783\n"
     ]
    }
   ],
   "source": [
    "results = []\n",
    "for f_sel in [False, True]:\n",
    "    for samp_strat in [None, 'stratf', 'ObyO']:\n",
    "        for mult_factor in [1.3, 1.5, 2, 3, 4, 5, 6]:\n",
    "            if samp_strat is None:\n",
    "                mult_factor = None\n",
    "            for i, sclass_ in enumerate(org_sclasses):\n",
    "                print(f_sel)\n",
    "                print(samp_strat)\n",
    "                print(mult_factor)\n",
    "                print(sclass_)\n",
    "                \n",
    "                if f_sel is True:\n",
    "                    sel_f = pickle.load(open('Results/selected_features.pkl', 'rb'))['Superclass_binary'][sclass_]['selected features']\n",
    "                    f_index = [feature_names.index(feature) for feature in sel_f]\n",
    "                else:\n",
    "                    sel_f = None\n",
    "                    f_index = None\n",
    "                    \n",
    "                X_train, y_train, X_test, y_test, train_pos_size, train_neg_size = binary_data_sampling(X_train_org, y_train_org, \n",
    "                                                                                                        X_test_org, y_test_org, \n",
    "                                                                                                        sclass_, samp_strat, \n",
    "                                                                                                        mult_factor, seed=seed, \n",
    "                                                                                                        feature_selection=f_sel, \n",
    "                                                                                                        features_index=f_index)\n",
    "                if f_sel is True:\n",
    "                    grid = {'class_weight': [None, 'balanced', 'balanced_subsample'],\n",
    "                            'criterion' : ['gini', 'entropy'],\n",
    "                            'max_features' : range(1, np.shape(X_train)[1]+1)}\n",
    "                else:\n",
    "                    grid = {'class_weight': [None, 'balanced', 'balanced_subsample'],\n",
    "                            'criterion' : ['gini', 'entropy'],\n",
    "                            'max_features' : [1, 2, 3, 5, 7, 10, 15, 20, 30, 40, 50, 60, 70, 80, 90, 100, 110, 120, 130, 133]}\n",
    "                '''\n",
    "                estimator = RandomForestClassifier(random_state=seed, n_jobs=-1)\n",
    "                gs = GridSearchCV(estimator, param_grid=grid, scoring='balanced_accuracy', cv=3, verbose=100, \n",
    "                                  pre_dispatch=True, error_score='raise', return_train_score=True, n_jobs=-1)\n",
    "                gs.fit(X_train, y_train)\n",
    "                pickle.dump(gs, open(f'Models/Superclass/Org_RF_Binary/Feature_selection={f_sel}/Sampl_strategy={samp_strat}/{i}_multfactor={mult_factor}.pkl', 'wb'))\n",
    "                '''\n",
    "                gs = pickle.load(open(f'Models/Superclass/Org_RF_Binary/Feature_selection={f_sel}/Sampl_strategy={samp_strat}/{i}_multfactor={mult_factor}.pkl', 'rb'))\n",
    "                \n",
    "                print(gs.best_score_)\n",
    "                estimator = gs.best_estimator_\n",
    "                cval_results = gs.cv_results_\n",
    "                print('Pos size=',train_pos_size)\n",
    "                print('Neg size=',train_neg_size)\n",
    "                score_train = cval_results['mean_train_score'][gs.best_index_]\n",
    "                score_val = cval_results['mean_test_score'][gs.best_index_]\n",
    "                print('Balanced accuracy (cv-train) ->', score_train)\n",
    "                print('Balanced accuracy (cv-val) ->', score_val)\n",
    "                ##Test binary RF\n",
    "                y_pred = estimator.predict(X_test)\n",
    "                score_test = balanced_accuracy_score(y_test, y_pred)\n",
    "                print('Balanced accuracy (test) ->', score_test)\n",
    "                results.append({'Superclass': sclass_, 'Feature selection':f_sel, 'Sampling strategy': str(samp_strat), \n",
    "                                'Multiplying factor': mult_factor,\n",
    "                                'Train positive size': train_pos_size, 'Train negative size':train_neg_size,\n",
    "                                'Balanced accuracy (cv-train)':score_train,\n",
    "                                'Balanced accuracy (cv-val)':score_val,\n",
    "                                'Balanced accuracy (test)':score_test})\n",
    "            if samp_strat is None:\n",
    "                break\n",
    "results = pd.DataFrame(results)\n",
    "results.replace({True:'Yes', False:'No'}).to_csv('Results/GS_Binary_RF_(Superclass-Org compounds).csv')\n",
    "results.to_pickle('Results/GS_Binary_RF_(Superclass-Org compounds).pkl')"
   ]
  },
  {
   "cell_type": "markdown",
   "id": "8bba8296",
   "metadata": {},
   "source": [
    "# Prediction"
   ]
  },
  {
   "cell_type": "code",
   "execution_count": 27,
   "id": "00d733ea",
   "metadata": {},
   "outputs": [],
   "source": [
    "df = pd.read_pickle('Results/GS_Binary_RF_(Superclass-Org compounds).pkl')"
   ]
  },
  {
   "cell_type": "markdown",
   "id": "8a708577",
   "metadata": {},
   "source": [
    "### select classifiers from all"
   ]
  },
  {
   "cell_type": "code",
   "execution_count": 28,
   "id": "d79a11e7",
   "metadata": {},
   "outputs": [],
   "source": [
    "cfs = {}\n",
    "for i, sclass_ in enumerate(org_sclasses):\n",
    "    c_results = df[df['Superclass']==sclass_]\n",
    "    max_ = c_results['Balanced accuracy (cv-val)'].idxmax()\n",
    "    row = c_results.loc[max_]\n",
    "    samp_strat = row['Sampling strategy']\n",
    "    mult_factor = row['Multiplying factor']\n",
    "    f_sel = row['Feature selection']\n",
    "    if samp_strat == 'None':\n",
    "        mult_factor = None\n",
    "    if mult_factor in [1, 2, 3, 4, 5, 6]:\n",
    "        mult_factor = int(mult_factor)\n",
    "    cfs[sclass_] = (pickle.load(open(f'Models/Superclass/Org_RF_Binary/Feature_selection={f_sel}/Sampl_strategy={samp_strat}/{i}_multfactor={mult_factor}.pkl', 'rb')).best_estimator_, f_sel)"
   ]
  },
  {
   "cell_type": "code",
   "execution_count": 85,
   "id": "a60faf04",
   "metadata": {},
   "outputs": [
    {
     "data": {
      "application/vnd.jupyter.widget-view+json": {
       "model_id": "ff0332a96d424ddc984473d95155a34c",
       "version_major": 2,
       "version_minor": 0
      },
      "text/plain": [
       "  0%|          | 0/22 [00:00<?, ?it/s]"
      ]
     },
     "metadata": {},
     "output_type": "display_data"
    }
   ],
   "source": [
    "new_pred = {}\n",
    "index = np.where([True if i in org_sclasses else False for i in y_test_org])[0]\n",
    "y_test = y_test_org[index]\n",
    "for sclass_ in tqdm(cfs):\n",
    "    X_test_org_ = X_test_org\n",
    "    cf = cfs[sclass_][0]\n",
    "    f_sel = cfs[sclass_][1]\n",
    "    if f_sel:\n",
    "        sel_f = pickle.load(open('Results/selected_features.pkl', 'rb'))['Superclass_binary'][sclass_]['selected features']\n",
    "        f_index = [feature_names.index(feature) for feature in sel_f]\n",
    "        X_test_org_= X_test_org_[:, f_index]\n",
    "    new_pred[sclass_] = cf.predict_proba(X_test_org_[index])[:, 1]"
   ]
  },
  {
   "cell_type": "code",
   "execution_count": 86,
   "id": "7019ae2c",
   "metadata": {},
   "outputs": [],
   "source": [
    "new_pred = pd.DataFrame(new_pred)"
   ]
  },
  {
   "cell_type": "code",
   "execution_count": 87,
   "id": "bf9731fe",
   "metadata": {},
   "outputs": [],
   "source": [
    "y_pred = new_pred.idxmax(axis=1).values"
   ]
  },
  {
   "cell_type": "code",
   "execution_count": 88,
   "id": "046a11b0",
   "metadata": {},
   "outputs": [
    {
     "data": {
      "text/plain": [
       "0.42658235803650213"
      ]
     },
     "execution_count": 88,
     "metadata": {},
     "output_type": "execute_result"
    }
   ],
   "source": [
    "f1_score(y_test, y_pred, average='macro')"
   ]
  },
  {
   "cell_type": "code",
   "execution_count": 89,
   "id": "7bdeabeb",
   "metadata": {},
   "outputs": [
    {
     "data": {
      "text/plain": [
       "0.83804511120216"
      ]
     },
     "execution_count": 89,
     "metadata": {},
     "output_type": "execute_result"
    }
   ],
   "source": [
    "f1_score(y_test, y_pred, average='micro')"
   ]
  },
  {
   "cell_type": "code",
   "execution_count": 90,
   "id": "24004b60",
   "metadata": {},
   "outputs": [
    {
     "data": {
      "text/plain": [
       "{'Acetylides': {'precision': 0.006711409395973154,\n",
       "  'recall': 0.14285714285714285,\n",
       "  'f1-score': 0.012820512820512822,\n",
       "  'support': 7},\n",
       " 'Alkaloids and derivatives': {'precision': 0.18283220174587778,\n",
       "  'recall': 0.702048417132216,\n",
       "  'f1-score': 0.29011158137745285,\n",
       "  'support': 537},\n",
       " 'Allenes': {'precision': 0.0, 'recall': 0.0, 'f1-score': 0.0, 'support': 3},\n",
       " 'Benzenoids': {'precision': 0.46378072656080055,\n",
       "  'recall': 0.4268268268268268,\n",
       "  'f1-score': 0.44453711426188486,\n",
       "  'support': 4995},\n",
       " 'Hydrocarbon derivatives': {'precision': 0.0,\n",
       "  'recall': 0.0,\n",
       "  'f1-score': 0.0,\n",
       "  'support': 19},\n",
       " 'Hydrocarbons': {'precision': 0.5983263598326359,\n",
       "  'recall': 0.9438943894389439,\n",
       "  'f1-score': 0.732394366197183,\n",
       "  'support': 303},\n",
       " 'Lignans, neolignans and related compounds': {'precision': 0.07672849915682968,\n",
       "  'recall': 0.6363636363636364,\n",
       "  'f1-score': 0.13694507148231752,\n",
       "  'support': 143},\n",
       " 'Lipids and lipid-like molecules': {'precision': 0.9955559864901989,\n",
       "  'recall': 0.9377863699328696,\n",
       "  'f1-score': 0.9658080800163042,\n",
       "  'support': 65693},\n",
       " 'Nucleosides, nucleotides, and analogues': {'precision': 0.5076923076923077,\n",
       "  'recall': 0.8646288209606987,\n",
       "  'f1-score': 0.6397415185783522,\n",
       "  'support': 458},\n",
       " 'Organic 1,3-dipolar compounds': {'precision': 0.04132231404958678,\n",
       "  'recall': 0.30303030303030304,\n",
       "  'f1-score': 0.07272727272727272,\n",
       "  'support': 33},\n",
       " 'Organic Polymers': {'precision': 0.792,\n",
       "  'recall': 0.9826302729528535,\n",
       "  'f1-score': 0.8770764119601329,\n",
       "  'support': 806},\n",
       " 'Organic acids and derivatives': {'precision': 0.7472803347280335,\n",
       "  'recall': 0.7446631087391594,\n",
       "  'f1-score': 0.7459694261131067,\n",
       "  'support': 5996},\n",
       " 'Organic compounds - Unspecified': {'precision': 0.008450704225352112,\n",
       "  'recall': 0.3,\n",
       "  'f1-score': 0.01643835616438356,\n",
       "  'support': 10},\n",
       " 'Organic nitrogen compounds': {'precision': 0.34782608695652173,\n",
       "  'recall': 0.5935919055649241,\n",
       "  'f1-score': 0.4386292834890965,\n",
       "  'support': 593},\n",
       " 'Organic oxygen compounds': {'precision': 0.6104461371055495,\n",
       "  'recall': 0.7037129954841946,\n",
       "  'f1-score': 0.6537699568814823,\n",
       "  'support': 3986},\n",
       " 'Organic salts': {'precision': 0.625,\n",
       "  'recall': 0.7142857142857143,\n",
       "  'f1-score': 0.6666666666666666,\n",
       "  'support': 21},\n",
       " 'Organohalogen compounds': {'precision': 0.3516949152542373,\n",
       "  'recall': 0.7545454545454545,\n",
       "  'f1-score': 0.47976878612716767,\n",
       "  'support': 110},\n",
       " 'Organoheterocyclic compounds': {'precision': 0.6087546000387372,\n",
       "  'recall': 0.4462586965781627,\n",
       "  'f1-score': 0.5149926265770931,\n",
       "  'support': 7043},\n",
       " 'Organometallic compounds': {'precision': 0.8125,\n",
       "  'recall': 0.35135135135135137,\n",
       "  'f1-score': 0.49056603773584906,\n",
       "  'support': 37},\n",
       " 'Organophosphorus compounds': {'precision': 0.13043478260869565,\n",
       "  'recall': 0.6923076923076923,\n",
       "  'f1-score': 0.21951219512195122,\n",
       "  'support': 13},\n",
       " 'Organosulfur compounds': {'precision': 0.15986099044309296,\n",
       "  'recall': 0.7829787234042553,\n",
       "  'f1-score': 0.2655122655122655,\n",
       "  'support': 235},\n",
       " 'Phenylpropanoids and polyketides': {'precision': 0.7161904761904762,\n",
       "  'recall': 0.7255185721177038,\n",
       "  'f1-score': 0.7208243469925713,\n",
       "  'support': 4146},\n",
       " 'accuracy': 0.83804511120216,\n",
       " 'macro avg': {'precision': 0.3992449469306775,\n",
       "  'recall': 0.5795127451760954,\n",
       "  'f1-score': 0.42658235803650213,\n",
       "  'support': 95187},\n",
       " 'weighted avg': {'precision': 0.8759449678178178,\n",
       "  'recall': 0.83804511120216,\n",
       "  'f1-score': 0.8527617555859243,\n",
       "  'support': 95187}}"
      ]
     },
     "execution_count": 90,
     "metadata": {},
     "output_type": "execute_result"
    }
   ],
   "source": [
    "classification_report(y_test, y_pred, output_dict=True)"
   ]
  },
  {
   "cell_type": "markdown",
   "id": "e22cc006",
   "metadata": {},
   "source": [
    "### select classifiers from no sampling"
   ]
  },
  {
   "cell_type": "code",
   "execution_count": 91,
   "id": "b6ca9762",
   "metadata": {},
   "outputs": [],
   "source": [
    "cfs = {}\n",
    "for i, sclass_ in enumerate(org_sclasses):\n",
    "    c_results = df[(df['Superclass']==sclass_) & (df['Sampling strategy'].isnull())]\n",
    "    max_ = c_results['Balanced accuracy (cv-val)'].idxmax()\n",
    "    row = c_results.loc[max_]\n",
    "    samp_strat = None\n",
    "    mult_factor = None\n",
    "    f_sel = row['Feature selection']\n",
    "    cfs[sclass_] = (pickle.load(open(f'Models/Superclass/Org_RF_Binary/Feature_selection={f_sel}/Sampl_strategy={samp_strat}/{i}_multfactor={mult_factor}.pkl', 'rb')).best_estimator_, f_sel)"
   ]
  },
  {
   "cell_type": "code",
   "execution_count": 92,
   "id": "b4f72641",
   "metadata": {},
   "outputs": [
    {
     "data": {
      "application/vnd.jupyter.widget-view+json": {
       "model_id": "2a684699082e4c1b8432ea400c3ae6cc",
       "version_major": 2,
       "version_minor": 0
      },
      "text/plain": [
       "  0%|          | 0/22 [00:00<?, ?it/s]"
      ]
     },
     "metadata": {},
     "output_type": "display_data"
    }
   ],
   "source": [
    "new_pred = {}\n",
    "index = np.where([True if i in org_sclasses else False for i in y_test_org])[0]\n",
    "y_test = y_test_org[index]\n",
    "for sclass_ in tqdm(cfs):\n",
    "    X_test_org_ = X_test_org\n",
    "    cf = cfs[sclass_][0]\n",
    "    f_sel = cfs[sclass_][1]\n",
    "    if f_sel:\n",
    "        sel_f = pickle.load(open('Results/selected_features.pkl', 'rb'))['Superclass_binary'][sclass_]['selected features']\n",
    "        f_index = [feature_names.index(feature) for feature in sel_f]\n",
    "        X_test_org_= X_test_org_[:, f_index]\n",
    "    new_pred[sclass_] = cf.predict_proba(X_test_org_[index])[:, 1]"
   ]
  },
  {
   "cell_type": "code",
   "execution_count": 93,
   "id": "1f583cbb",
   "metadata": {},
   "outputs": [],
   "source": [
    "new_pred = pd.DataFrame(new_pred)"
   ]
  },
  {
   "cell_type": "code",
   "execution_count": 94,
   "id": "752b892b",
   "metadata": {},
   "outputs": [],
   "source": [
    "y_pred = new_pred.idxmax(axis=1).values"
   ]
  },
  {
   "cell_type": "code",
   "execution_count": 95,
   "id": "176852c2",
   "metadata": {},
   "outputs": [
    {
     "data": {
      "text/plain": [
       "0.40601702595448336"
      ]
     },
     "execution_count": 95,
     "metadata": {},
     "output_type": "execute_result"
    }
   ],
   "source": [
    "f1_score(y_test, y_pred, average='macro')"
   ]
  },
  {
   "cell_type": "code",
   "execution_count": 96,
   "id": "e69d9855",
   "metadata": {},
   "outputs": [
    {
     "data": {
      "text/plain": [
       "0.8365007826699025"
      ]
     },
     "execution_count": 96,
     "metadata": {},
     "output_type": "execute_result"
    }
   ],
   "source": [
    "f1_score(y_test, y_pred, average='micro')"
   ]
  },
  {
   "cell_type": "markdown",
   "id": "e2d82b23",
   "metadata": {},
   "source": [
    "### select classifiers from stratf sampling"
   ]
  },
  {
   "cell_type": "code",
   "execution_count": 97,
   "id": "b70c90a5",
   "metadata": {},
   "outputs": [],
   "source": [
    "cfs = {}\n",
    "for i, sclass_ in enumerate(org_sclasses):\n",
    "    c_results = df[(df['Superclass']==sclass_) & (df['Sampling strategy']=='stratf')]\n",
    "    max_ = c_results['Balanced accuracy (cv-val)'].idxmax()\n",
    "    row = c_results.loc[max_]\n",
    "    samp_strat = 'stratf'\n",
    "    mult_factor = row['Multiplying factor']\n",
    "    f_sel = row['Feature selection']\n",
    "    if mult_factor in [1, 2, 3, 4, 5, 6]:\n",
    "        mult_factor = int(mult_factor)\n",
    "    cfs[sclass_] = (pickle.load(open(f'Models/Superclass/Org_RF_Binary/Feature_selection={f_sel}/Sampl_strategy={samp_strat}/{i}_multfactor={mult_factor}.pkl', 'rb')).best_estimator_, f_sel)"
   ]
  },
  {
   "cell_type": "code",
   "execution_count": 98,
   "id": "96e58395",
   "metadata": {},
   "outputs": [
    {
     "data": {
      "application/vnd.jupyter.widget-view+json": {
       "model_id": "af3987ab13fd42a58321423727ed9dd4",
       "version_major": 2,
       "version_minor": 0
      },
      "text/plain": [
       "  0%|          | 0/22 [00:00<?, ?it/s]"
      ]
     },
     "metadata": {},
     "output_type": "display_data"
    }
   ],
   "source": [
    "new_pred = {}\n",
    "index = np.where([True if i in org_sclasses else False for i in y_test_org])[0]\n",
    "y_test = y_test_org[index]\n",
    "for sclass_ in tqdm(cfs):\n",
    "    X_test_org_ = X_test_org\n",
    "    cf = cfs[sclass_][0]\n",
    "    f_sel = cfs[sclass_][1]\n",
    "    if f_sel:\n",
    "        sel_f = pickle.load(open('Results/selected_features.pkl', 'rb'))['Superclass_binary'][sclass_]['selected features']\n",
    "        f_index = [feature_names.index(feature) for feature in sel_f]\n",
    "        X_test_org_= X_test_org_[:, f_index]\n",
    "    new_pred[sclass_] = cf.predict_proba(X_test_org_[index])[:, 1]"
   ]
  },
  {
   "cell_type": "code",
   "execution_count": 99,
   "id": "b301f6dc",
   "metadata": {},
   "outputs": [],
   "source": [
    "new_pred = pd.DataFrame(new_pred)"
   ]
  },
  {
   "cell_type": "code",
   "execution_count": 100,
   "id": "ae25854d",
   "metadata": {},
   "outputs": [],
   "source": [
    "y_pred = new_pred.idxmax(axis=1).values"
   ]
  },
  {
   "cell_type": "code",
   "execution_count": 101,
   "id": "57e8903b",
   "metadata": {},
   "outputs": [
    {
     "data": {
      "text/plain": [
       "0.42658235803650213"
      ]
     },
     "execution_count": 101,
     "metadata": {},
     "output_type": "execute_result"
    }
   ],
   "source": [
    "f1_score(y_test, y_pred, average='macro')"
   ]
  },
  {
   "cell_type": "code",
   "execution_count": 102,
   "id": "cd8c7546",
   "metadata": {},
   "outputs": [
    {
     "data": {
      "text/plain": [
       "0.83804511120216"
      ]
     },
     "execution_count": 102,
     "metadata": {},
     "output_type": "execute_result"
    }
   ],
   "source": [
    "f1_score(y_test, y_pred, average='micro')"
   ]
  },
  {
   "cell_type": "markdown",
   "id": "eabdcc36",
   "metadata": {},
   "source": [
    "### select classifiers from ObyO sampling"
   ]
  },
  {
   "cell_type": "code",
   "execution_count": 103,
   "id": "2a66729c",
   "metadata": {},
   "outputs": [],
   "source": [
    "cfs = {}\n",
    "for i, sclass_ in enumerate(org_sclasses):\n",
    "    c_results = df[(df['Superclass']==sclass_) & (df['Sampling strategy']=='ObyO')]\n",
    "    max_ = c_results['Balanced accuracy (cv-val)'].idxmax()\n",
    "    row = c_results.loc[max_]\n",
    "    samp_strat = 'ObyO'\n",
    "    mult_factor = row['Multiplying factor']\n",
    "    f_sel = row['Feature selection']\n",
    "    if mult_factor in [1, 2, 3, 4, 5, 6]:\n",
    "        mult_factor = int(mult_factor)\n",
    "    cfs[sclass_] = (pickle.load(open(f'Models/Superclass/Org_RF_Binary/Feature_selection={f_sel}/Sampl_strategy={samp_strat}/{i}_multfactor={mult_factor}.pkl', 'rb')).best_estimator_, f_sel)"
   ]
  },
  {
   "cell_type": "code",
   "execution_count": 104,
   "id": "ce1a6a6b",
   "metadata": {},
   "outputs": [
    {
     "data": {
      "application/vnd.jupyter.widget-view+json": {
       "model_id": "f92e452e017e45ccabfe8367785c079a",
       "version_major": 2,
       "version_minor": 0
      },
      "text/plain": [
       "  0%|          | 0/22 [00:00<?, ?it/s]"
      ]
     },
     "metadata": {},
     "output_type": "display_data"
    }
   ],
   "source": [
    "new_pred = {}\n",
    "index = np.where([True if i in org_sclasses else False for i in y_test_org])[0]\n",
    "y_test = y_test_org[index]\n",
    "for sclass_ in tqdm(cfs):\n",
    "    X_test_org_ = X_test_org\n",
    "    cf = cfs[sclass_][0]\n",
    "    f_sel = cfs[sclass_][1]\n",
    "    if f_sel:\n",
    "        sel_f = pickle.load(open('Results/selected_features.pkl', 'rb'))['Superclass_binary'][sclass_]['selected features']\n",
    "        f_index = [feature_names.index(feature) for feature in sel_f]\n",
    "        X_test_org_= X_test_org_[:, f_index]\n",
    "    new_pred[sclass_] = cf.predict_proba(X_test_org_[index])[:, 1]"
   ]
  },
  {
   "cell_type": "code",
   "execution_count": 105,
   "id": "53197f77",
   "metadata": {},
   "outputs": [],
   "source": [
    "new_pred = pd.DataFrame(new_pred)"
   ]
  },
  {
   "cell_type": "code",
   "execution_count": 106,
   "id": "89cbbcdc",
   "metadata": {},
   "outputs": [],
   "source": [
    "y_pred = new_pred.idxmax(axis=1).values"
   ]
  },
  {
   "cell_type": "code",
   "execution_count": 107,
   "id": "61aac10a",
   "metadata": {},
   "outputs": [
    {
     "data": {
      "text/plain": [
       "0.40171567621278226"
      ]
     },
     "execution_count": 107,
     "metadata": {},
     "output_type": "execute_result"
    }
   ],
   "source": [
    "f1_score(y_test, y_pred, average='macro')"
   ]
  },
  {
   "cell_type": "code",
   "execution_count": 108,
   "id": "7e6b8461",
   "metadata": {},
   "outputs": [
    {
     "data": {
      "text/plain": [
       "0.8201750239003225"
      ]
     },
     "execution_count": 108,
     "metadata": {},
     "output_type": "execute_result"
    }
   ],
   "source": [
    "f1_score(y_test, y_pred, average='micro')"
   ]
  },
  {
   "cell_type": "markdown",
   "id": "7bb3c77a",
   "metadata": {},
   "source": [
    "### Prediction on test using the multiclass RF"
   ]
  },
  {
   "cell_type": "code",
   "execution_count": 109,
   "id": "065f8a71",
   "metadata": {},
   "outputs": [
    {
     "name": "stdout",
     "output_type": "stream",
     "text": [
      "all\n",
      "f1_macro_test -> 0.5202564530455621\n",
      "f1_macro_train -> 0.8395686699909547\n",
      "f1_micro_test -> 0.8776570423263997\n",
      "f1_micro_train -> 0.9514979819931698\n",
      "sel\n",
      "f1_macro_test -> 0.5258085250500398\n",
      "f1_macro_train -> 0.826792738664746\n",
      "f1_micro_test -> 0.8783193625168167\n",
      "f1_micro_train -> 0.9503233985304771\n"
     ]
    }
   ],
   "source": [
    "for f_sel in ['all', 'sel']:\n",
    "    print(f_sel)\n",
    "    gs = pickle.load(open(f'Models/Superclass/1_RF_{f_sel}_feat.pkl', 'rb'))\n",
    "    print('f1_macro_test ->', gs.cv_results_['mean_test_f1_macro'][gs.best_index_])\n",
    "    print('f1_macro_train ->', gs.cv_results_['mean_train_f1_macro'][gs.best_index_])\n",
    "    print('f1_micro_test ->', gs.cv_results_['mean_test_f1_micro'][gs.best_index_])\n",
    "    print('f1_micro_train ->', gs.cv_results_['mean_train_f1_micro'][gs.best_index_])"
   ]
  },
  {
   "cell_type": "code",
   "execution_count": 110,
   "id": "daed85f0",
   "metadata": {},
   "outputs": [],
   "source": [
    "#Best one is with feature selection (f1 macro test)\n",
    "gs = pickle.load(open(f'Models/Superclass/1_RF_sel_feat.pkl', 'rb'))\n",
    "sel_f = pickle.load(open('Results/selected_features.pkl', 'rb'))['Superclass']['Organic compounds']['selected features']\n",
    "f_index = [feature_names.index(feature) for feature in sel_f]\n",
    "y_pred = gs.best_estimator_.predict(X_test_org[:, f_index])"
   ]
  },
  {
   "cell_type": "code",
   "execution_count": 111,
   "id": "9c555640",
   "metadata": {},
   "outputs": [
    {
     "data": {
      "text/plain": [
       "0.5186876912737598"
      ]
     },
     "execution_count": 111,
     "metadata": {},
     "output_type": "execute_result"
    }
   ],
   "source": [
    "f1_score(y_test_org, y_pred, average='macro')"
   ]
  },
  {
   "cell_type": "code",
   "execution_count": 112,
   "id": "f64332d7",
   "metadata": {},
   "outputs": [
    {
     "data": {
      "text/plain": [
       "0.884427495351256"
      ]
     },
     "execution_count": 112,
     "metadata": {},
     "output_type": "execute_result"
    }
   ],
   "source": [
    "f1_score(y_test_org, y_pred, average='micro')"
   ]
  }
 ],
 "metadata": {
  "kernelspec": {
   "display_name": "Python 3 (ipykernel)",
   "language": "python",
   "name": "python3"
  },
  "language_info": {
   "codemirror_mode": {
    "name": "ipython",
    "version": 3
   },
   "file_extension": ".py",
   "mimetype": "text/x-python",
   "name": "python",
   "nbconvert_exporter": "python",
   "pygments_lexer": "ipython3",
   "version": "3.9.12"
  }
 },
 "nbformat": 4,
 "nbformat_minor": 5
}
