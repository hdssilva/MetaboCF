{
 "cells": [
  {
   "cell_type": "code",
   "execution_count": null,
   "id": "39e96254",
   "metadata": {},
   "outputs": [],
   "source": [
    "# Importing Libraries\n",
    "import numpy as np\n",
    "import pandas as pd\n",
    "from sklearnex import patch_sklearn #Improves sklearn alghoritms performance\n",
    "patch_sklearn()\n",
    "import sklearn\n",
    "print('scikit-learn version\\n', sklearn.__version__)\n",
    "from sklearn.ensemble import RandomForestClassifier\n",
    "from sklearn.metrics import accuracy_score, balanced_accuracy_score, f1_score, precision_score, recall_score, classification_report\n",
    "from sklearn.model_selection import GridSearchCV\n",
    "from aux_functions.binary_classifiers import binary_data_sampling\n",
    "import pickle\n",
    "from tqdm.notebook import tqdm\n",
    "import os"
   ]
  },
  {
   "cell_type": "code",
   "execution_count": null,
   "id": "74af8cc7",
   "metadata": {},
   "outputs": [],
   "source": [
    "#Set seed\n",
    "seed=41"
   ]
  },
  {
   "cell_type": "code",
   "execution_count": null,
   "id": "e8ca1eb9",
   "metadata": {},
   "outputs": [],
   "source": [
    "#Classification Level -> Superclass\n",
    "classif_level = 1"
   ]
  },
  {
   "cell_type": "markdown",
   "id": "5893d9f9",
   "metadata": {},
   "source": [
    "# Load Data"
   ]
  },
  {
   "cell_type": "code",
   "execution_count": null,
   "id": "90a56b2b",
   "metadata": {},
   "outputs": [],
   "source": [
    "feature_names = pickle.load(open('Dataset/feature_names.pkl', 'rb'))\n",
    "X_train = pickle.load(open(f'Dataset/X_train.pkl', 'rb'))\n",
    "X_test = pickle.load(open(f'Dataset/X_test.pkl', 'rb'))\n",
    "y_train = pickle.load(open(f'Dataset/y_train.pkl', 'rb'))\n",
    "y_test = pickle.load(open(f'Dataset/y_test.pkl', 'rb'))"
   ]
  },
  {
   "cell_type": "code",
   "execution_count": null,
   "id": "1c93bfb1",
   "metadata": {},
   "outputs": [],
   "source": [
    "len(feature_names)"
   ]
  },
  {
   "cell_type": "code",
   "execution_count": null,
   "id": "b4602860",
   "metadata": {},
   "outputs": [],
   "source": [
    "X_train_org = X_train[y_train[:,classif_level-1] == 'Organic compounds', :]\n",
    "X_test_org = X_test[y_test[:,classif_level-1] == 'Organic compounds', :]\n",
    "y_train_org = y_train[y_train[:,classif_level-1] == 'Organic compounds'][:, classif_level]\n",
    "y_test_org = y_test[y_test[:,classif_level-1] == 'Organic compounds'][:, classif_level]"
   ]
  },
  {
   "cell_type": "code",
   "execution_count": null,
   "id": "1323443b",
   "metadata": {},
   "outputs": [],
   "source": [
    "#all classes\n",
    "org_sclasses = np.unique(y_train_org)"
   ]
  },
  {
   "cell_type": "code",
   "execution_count": null,
   "id": "65d2f9f9",
   "metadata": {},
   "outputs": [],
   "source": [
    "for i, sclass_ in enumerate(org_sclasses):\n",
    "    print(i, sclass_)"
   ]
  },
  {
   "cell_type": "code",
   "execution_count": null,
   "id": "79541362",
   "metadata": {},
   "outputs": [],
   "source": [
    "results = []\n",
    "for f_sel in [False, True]:\n",
    "    for samp_strat in [None, 'stratf', 'ObyO']:\n",
    "        for mult_factor in [1.3, 1.5, 2, 3, 4, 5, 6]:\n",
    "            if samp_strat is None:\n",
    "                mult_factor = None\n",
    "            for i, sclass_ in enumerate(org_sclasses):\n",
    "                print(f_sel)\n",
    "                print(samp_strat)\n",
    "                print(mult_factor)\n",
    "                print(sclass_)\n",
    "                \n",
    "                if f_sel is True:\n",
    "                    sel_f = pickle.load(open('Results/selected_features.pkl', 'rb'))['Superclass_binary'][sclass_]['selected features']\n",
    "                    f_index = [feature_names.index(feature) for feature in sel_f]\n",
    "                else:\n",
    "                    sel_f = None\n",
    "                    f_index = None\n",
    "                    \n",
    "                X_train, y_train, X_test, y_test, train_pos_size, train_neg_size = binary_data_sampling(X_train_org, y_train_org, \n",
    "                                                                                                        X_test_org, y_test_org, \n",
    "                                                                                                        sclass_, samp_strat, \n",
    "                                                                                                        mult_factor, seed=seed, \n",
    "                                                                                                        feature_selection=f_sel, \n",
    "                                                                                                        features_index=f_index)\n",
    "                if f_sel is True:\n",
    "                    grid = {'class_weight': [None, 'balanced', 'balanced_subsample'],\n",
    "                            'criterion' : ['gini', 'entropy'],\n",
    "                            'max_features' : range(1, np.shape(X_train)[1]+1)}\n",
    "                else:\n",
    "                    grid = {'class_weight': [None, 'balanced', 'balanced_subsample'],\n",
    "                            'criterion' : ['gini', 'entropy'],\n",
    "                            'max_features' : [1, 2, 3, 5, 7, 10, 15, 20, 30, 40, 50, 60, 70, 80, 90, 100, 110, 120, 130, 133]}\n",
    "                '''\n",
    "                estimator = RandomForestClassifier(random_state=seed, n_jobs=-1)\n",
    "                gs = GridSearchCV(estimator, param_grid=grid, scoring='balanced_accuracy', cv=3, verbose=100, \n",
    "                                  pre_dispatch=True, error_score='raise', return_train_score=True, n_jobs=-1)\n",
    "                gs.fit(X_train, y_train)\n",
    "                pickle.dump(gs, open(f'Models/Superclass/Org_RF_Binary/Feature_selection={f_sel}/Sampl_strategy={samp_strat}/{i}_multfactor={mult_factor}.pkl', 'wb'))\n",
    "                '''\n",
    "                gs = pickle.load(open(f'Models/Superclass/Org_RF_Binary/Feature_selection={f_sel}/Sampl_strategy={samp_strat}/{i}_multfactor={mult_factor}.pkl', 'rb'))\n",
    "                \n",
    "                print(gs.best_score_)\n",
    "                estimator = gs.best_estimator_\n",
    "                cval_results = gs.cv_results_\n",
    "                print('Pos size=',train_pos_size)\n",
    "                print('Neg size=',train_neg_size)\n",
    "                score_train = cval_results['mean_train_score'][gs.best_index_]\n",
    "                score_val = cval_results['mean_test_score'][gs.best_index_]\n",
    "                print('Balanced accuracy (cv-train) ->', score_train)\n",
    "                print('Balanced accuracy (cv-val) ->', score_val)\n",
    "                ##Test binary RF\n",
    "                y_pred = estimator.predict(X_test)\n",
    "                score_test = balanced_accuracy_score(y_test, y_pred)\n",
    "                print('Balanced accuracy (test) ->', score_test)\n",
    "                results.append({'Superclass': sclass_, 'Feature selection':f_sel, 'Sampling strategy': str(samp_strat), \n",
    "                                'Multiplying factor': mult_factor,\n",
    "                                'Train positive size': train_pos_size, 'Train negative size':train_neg_size,\n",
    "                                'Balanced accuracy (cv-train)':score_train,\n",
    "                                'Balanced accuracy (cv-val)':score_val,\n",
    "                                'Balanced accuracy (test)':score_test})\n",
    "            if samp_strat is None:\n",
    "                break\n",
    "results = pd.DataFrame(results)\n",
    "results.replace({True:'Yes', False:'No'}).to_csv('Results/GS_Binary_RF_(Superclass-Org compounds).csv')\n",
    "results.to_pickle('Results/GS_Binary_RF_(Superclass-Org compounds).pkl')"
   ]
  },
  {
   "cell_type": "markdown",
   "id": "8bba8296",
   "metadata": {},
   "source": [
    "# Prediction"
   ]
  },
  {
   "cell_type": "code",
   "execution_count": null,
   "id": "00d733ea",
   "metadata": {},
   "outputs": [],
   "source": [
    "df = pd.read_pickle('Results/GS_Binary_RF_(Superclass-Org compounds).pkl')"
   ]
  },
  {
   "cell_type": "markdown",
   "id": "8a708577",
   "metadata": {},
   "source": [
    "### select classifiers from all"
   ]
  },
  {
   "cell_type": "code",
   "execution_count": null,
   "id": "d79a11e7",
   "metadata": {},
   "outputs": [],
   "source": [
    "cfs = {}\n",
    "for i, sclass_ in enumerate(org_sclasses):\n",
    "    c_results = df[df['Superclass']==sclass_]\n",
    "    max_ = c_results['Balanced accuracy (cv-val)'].idxmax()\n",
    "    row = c_results.loc[max_]\n",
    "    samp_strat = row['Sampling strategy']\n",
    "    mult_factor = row['Multiplying factor']\n",
    "    f_sel = row['Feature selection']\n",
    "    if samp_strat == 'None':\n",
    "        mult_factor = None\n",
    "    if mult_factor in [1, 2, 3, 4, 5, 6]:\n",
    "        mult_factor = int(mult_factor)\n",
    "    cfs[sclass_] = (pickle.load(open(f'Models/Superclass/Org_RF_Binary/Feature_selection={f_sel}/Sampl_strategy={samp_strat}/{i}_multfactor={mult_factor}.pkl', 'rb')).best_estimator_, f_sel)"
   ]
  },
  {
   "cell_type": "code",
   "execution_count": null,
   "id": "a60faf04",
   "metadata": {},
   "outputs": [],
   "source": [
    "new_pred = {}\n",
    "index = np.where([True if i in org_sclasses else False for i in y_test_org])[0]\n",
    "y_test = y_test_org[index]\n",
    "for sclass_ in tqdm(cfs):\n",
    "    X_test_org_ = X_test_org\n",
    "    cf = cfs[sclass_][0]\n",
    "    f_sel = cfs[sclass_][1]\n",
    "    if f_sel:\n",
    "        sel_f = pickle.load(open('Results/selected_features.pkl', 'rb'))['Superclass_binary'][sclass_]['selected features']\n",
    "        f_index = [feature_names.index(feature) for feature in sel_f]\n",
    "        X_test_org_= X_test_org_[:, f_index]\n",
    "    new_pred[sclass_] = cf.predict_proba(X_test_org_[index])[:, 1]"
   ]
  },
  {
   "cell_type": "code",
   "execution_count": null,
   "id": "7019ae2c",
   "metadata": {},
   "outputs": [],
   "source": [
    "new_pred = pd.DataFrame(new_pred)"
   ]
  },
  {
   "cell_type": "code",
   "execution_count": null,
   "id": "bf9731fe",
   "metadata": {},
   "outputs": [],
   "source": [
    "y_pred = new_pred.idxmax(axis=1).values"
   ]
  },
  {
   "cell_type": "code",
   "execution_count": null,
   "id": "046a11b0",
   "metadata": {},
   "outputs": [],
   "source": [
    "f1_score(y_test, y_pred, average='macro')"
   ]
  },
  {
   "cell_type": "code",
   "execution_count": null,
   "id": "7bdeabeb",
   "metadata": {},
   "outputs": [],
   "source": [
    "f1_score(y_test, y_pred, average='micro')"
   ]
  },
  {
   "cell_type": "code",
   "execution_count": null,
   "id": "24004b60",
   "metadata": {},
   "outputs": [],
   "source": [
    "classification_report(y_test, y_pred, output_dict=True)"
   ]
  },
  {
   "cell_type": "markdown",
   "id": "e22cc006",
   "metadata": {},
   "source": [
    "### select classifiers from no sampling"
   ]
  },
  {
   "cell_type": "code",
   "execution_count": null,
   "id": "b6ca9762",
   "metadata": {},
   "outputs": [],
   "source": [
    "cfs = {}\n",
    "for i, sclass_ in enumerate(org_sclasses):\n",
    "    c_results = df[(df['Superclass']==sclass_) & (df['Sampling strategy'].isnull())]\n",
    "    max_ = c_results['Balanced accuracy (cv-val)'].idxmax()\n",
    "    row = c_results.loc[max_]\n",
    "    samp_strat = None\n",
    "    mult_factor = None\n",
    "    f_sel = row['Feature selection']\n",
    "    cfs[sclass_] = (pickle.load(open(f'Models/Superclass/Org_RF_Binary/Feature_selection={f_sel}/Sampl_strategy={samp_strat}/{i}_multfactor={mult_factor}.pkl', 'rb')).best_estimator_, f_sel)"
   ]
  },
  {
   "cell_type": "code",
   "execution_count": null,
   "id": "b4f72641",
   "metadata": {},
   "outputs": [],
   "source": [
    "new_pred = {}\n",
    "index = np.where([True if i in org_sclasses else False for i in y_test_org])[0]\n",
    "y_test = y_test_org[index]\n",
    "for sclass_ in tqdm(cfs):\n",
    "    X_test_org_ = X_test_org\n",
    "    cf = cfs[sclass_][0]\n",
    "    f_sel = cfs[sclass_][1]\n",
    "    if f_sel:\n",
    "        sel_f = pickle.load(open('Results/selected_features.pkl', 'rb'))['Superclass_binary'][sclass_]['selected features']\n",
    "        f_index = [feature_names.index(feature) for feature in sel_f]\n",
    "        X_test_org_= X_test_org_[:, f_index]\n",
    "    new_pred[sclass_] = cf.predict_proba(X_test_org_[index])[:, 1]"
   ]
  },
  {
   "cell_type": "code",
   "execution_count": null,
   "id": "1f583cbb",
   "metadata": {},
   "outputs": [],
   "source": [
    "new_pred = pd.DataFrame(new_pred)"
   ]
  },
  {
   "cell_type": "code",
   "execution_count": null,
   "id": "752b892b",
   "metadata": {},
   "outputs": [],
   "source": [
    "y_pred = new_pred.idxmax(axis=1).values"
   ]
  },
  {
   "cell_type": "code",
   "execution_count": null,
   "id": "176852c2",
   "metadata": {},
   "outputs": [],
   "source": [
    "f1_score(y_test, y_pred, average='macro')"
   ]
  },
  {
   "cell_type": "code",
   "execution_count": null,
   "id": "e69d9855",
   "metadata": {},
   "outputs": [],
   "source": [
    "f1_score(y_test, y_pred, average='micro')"
   ]
  },
  {
   "cell_type": "markdown",
   "id": "e2d82b23",
   "metadata": {},
   "source": [
    "### select classifiers from stratf sampling"
   ]
  },
  {
   "cell_type": "code",
   "execution_count": null,
   "id": "b70c90a5",
   "metadata": {},
   "outputs": [],
   "source": [
    "cfs = {}\n",
    "for i, sclass_ in enumerate(org_sclasses):\n",
    "    c_results = df[(df['Superclass']==sclass_) & (df['Sampling strategy']=='stratf')]\n",
    "    max_ = c_results['Balanced accuracy (cv-val)'].idxmax()\n",
    "    row = c_results.loc[max_]\n",
    "    samp_strat = 'stratf'\n",
    "    mult_factor = row['Multiplying factor']\n",
    "    f_sel = row['Feature selection']\n",
    "    if mult_factor in [1, 2, 3, 4, 5, 6]:\n",
    "        mult_factor = int(mult_factor)\n",
    "    cfs[sclass_] = (pickle.load(open(f'Models/Superclass/Org_RF_Binary/Feature_selection={f_sel}/Sampl_strategy={samp_strat}/{i}_multfactor={mult_factor}.pkl', 'rb')).best_estimator_, f_sel)"
   ]
  },
  {
   "cell_type": "code",
   "execution_count": null,
   "id": "96e58395",
   "metadata": {},
   "outputs": [],
   "source": [
    "new_pred = {}\n",
    "index = np.where([True if i in org_sclasses else False for i in y_test_org])[0]\n",
    "y_test = y_test_org[index]\n",
    "for sclass_ in tqdm(cfs):\n",
    "    X_test_org_ = X_test_org\n",
    "    cf = cfs[sclass_][0]\n",
    "    f_sel = cfs[sclass_][1]\n",
    "    if f_sel:\n",
    "        sel_f = pickle.load(open('Results/selected_features.pkl', 'rb'))['Superclass_binary'][sclass_]['selected features']\n",
    "        f_index = [feature_names.index(feature) for feature in sel_f]\n",
    "        X_test_org_= X_test_org_[:, f_index]\n",
    "    new_pred[sclass_] = cf.predict_proba(X_test_org_[index])[:, 1]"
   ]
  },
  {
   "cell_type": "code",
   "execution_count": null,
   "id": "b301f6dc",
   "metadata": {},
   "outputs": [],
   "source": [
    "new_pred = pd.DataFrame(new_pred)"
   ]
  },
  {
   "cell_type": "code",
   "execution_count": null,
   "id": "ae25854d",
   "metadata": {},
   "outputs": [],
   "source": [
    "y_pred = new_pred.idxmax(axis=1).values"
   ]
  },
  {
   "cell_type": "code",
   "execution_count": null,
   "id": "57e8903b",
   "metadata": {},
   "outputs": [],
   "source": [
    "f1_score(y_test, y_pred, average='macro')"
   ]
  },
  {
   "cell_type": "code",
   "execution_count": null,
   "id": "cd8c7546",
   "metadata": {},
   "outputs": [],
   "source": [
    "f1_score(y_test, y_pred, average='micro')"
   ]
  },
  {
   "cell_type": "markdown",
   "id": "eabdcc36",
   "metadata": {},
   "source": [
    "### select classifiers from ObyO sampling"
   ]
  },
  {
   "cell_type": "code",
   "execution_count": null,
   "id": "2a66729c",
   "metadata": {},
   "outputs": [],
   "source": [
    "cfs = {}\n",
    "for i, sclass_ in enumerate(org_sclasses):\n",
    "    c_results = df[(df['Superclass']==sclass_) & (df['Sampling strategy']=='ObyO')]\n",
    "    max_ = c_results['Balanced accuracy (cv-val)'].idxmax()\n",
    "    row = c_results.loc[max_]\n",
    "    samp_strat = 'ObyO'\n",
    "    mult_factor = row['Multiplying factor']\n",
    "    f_sel = row['Feature selection']\n",
    "    if mult_factor in [1, 2, 3, 4, 5, 6]:\n",
    "        mult_factor = int(mult_factor)\n",
    "    cfs[sclass_] = (pickle.load(open(f'Models/Superclass/Org_RF_Binary/Feature_selection={f_sel}/Sampl_strategy={samp_strat}/{i}_multfactor={mult_factor}.pkl', 'rb')).best_estimator_, f_sel)"
   ]
  },
  {
   "cell_type": "code",
   "execution_count": null,
   "id": "ce1a6a6b",
   "metadata": {},
   "outputs": [],
   "source": [
    "new_pred = {}\n",
    "index = np.where([True if i in org_sclasses else False for i in y_test_org])[0]\n",
    "y_test = y_test_org[index]\n",
    "for sclass_ in tqdm(cfs):\n",
    "    X_test_org_ = X_test_org\n",
    "    cf = cfs[sclass_][0]\n",
    "    f_sel = cfs[sclass_][1]\n",
    "    if f_sel:\n",
    "        sel_f = pickle.load(open('Results/selected_features.pkl', 'rb'))['Superclass_binary'][sclass_]['selected features']\n",
    "        f_index = [feature_names.index(feature) for feature in sel_f]\n",
    "        X_test_org_= X_test_org_[:, f_index]\n",
    "    new_pred[sclass_] = cf.predict_proba(X_test_org_[index])[:, 1]"
   ]
  },
  {
   "cell_type": "code",
   "execution_count": null,
   "id": "53197f77",
   "metadata": {},
   "outputs": [],
   "source": [
    "new_pred = pd.DataFrame(new_pred)"
   ]
  },
  {
   "cell_type": "code",
   "execution_count": null,
   "id": "89cbbcdc",
   "metadata": {},
   "outputs": [],
   "source": [
    "y_pred = new_pred.idxmax(axis=1).values"
   ]
  },
  {
   "cell_type": "code",
   "execution_count": null,
   "id": "61aac10a",
   "metadata": {},
   "outputs": [],
   "source": [
    "f1_score(y_test, y_pred, average='macro')"
   ]
  },
  {
   "cell_type": "code",
   "execution_count": null,
   "id": "7e6b8461",
   "metadata": {},
   "outputs": [],
   "source": [
    "f1_score(y_test, y_pred, average='micro')"
   ]
  },
  {
   "cell_type": "markdown",
   "id": "7bb3c77a",
   "metadata": {},
   "source": [
    "### Prediction on test using the multiclass RF"
   ]
  },
  {
   "cell_type": "code",
   "execution_count": null,
   "id": "065f8a71",
   "metadata": {},
   "outputs": [],
   "source": [
    "for f_sel in ['all', 'sel']:\n",
    "    print(f_sel)\n",
    "    gs = pickle.load(open(f'Models/Superclass/1_RF_{f_sel}_feat.pkl', 'rb'))\n",
    "    print('f1_macro_test ->', gs.cv_results_['mean_test_f1_macro'][gs.best_index_])\n",
    "    print('f1_macro_train ->', gs.cv_results_['mean_train_f1_macro'][gs.best_index_])\n",
    "    print('f1_micro_test ->', gs.cv_results_['mean_test_f1_micro'][gs.best_index_])\n",
    "    print('f1_micro_train ->', gs.cv_results_['mean_train_f1_micro'][gs.best_index_])"
   ]
  },
  {
   "cell_type": "code",
   "execution_count": null,
   "id": "daed85f0",
   "metadata": {},
   "outputs": [],
   "source": [
    "#Best one is with feature selection (f1 macro test)\n",
    "gs = pickle.load(open(f'Models/Superclass/1_RF_sel_feat.pkl', 'rb'))\n",
    "sel_f = pickle.load(open('Results/selected_features.pkl', 'rb'))['Superclass']['Organic compounds']['selected features']\n",
    "f_index = [feature_names.index(feature) for feature in sel_f]\n",
    "y_pred = gs.best_estimator_.predict(X_test_org[:, f_index])"
   ]
  },
  {
   "cell_type": "code",
   "execution_count": null,
   "id": "9c555640",
   "metadata": {},
   "outputs": [],
   "source": [
    "f1_score(y_test_org, y_pred, average='macro')"
   ]
  },
  {
   "cell_type": "code",
   "execution_count": null,
   "id": "f64332d7",
   "metadata": {},
   "outputs": [],
   "source": [
    "f1_score(y_test_org, y_pred, average='micro')"
   ]
  }
 ],
 "metadata": {
  "kernelspec": {
   "display_name": "Python 3 (ipykernel)",
   "language": "python",
   "name": "python3"
  },
  "language_info": {
   "codemirror_mode": {
    "name": "ipython",
    "version": 3
   },
   "file_extension": ".py",
   "mimetype": "text/x-python",
   "name": "python",
   "nbconvert_exporter": "python",
   "pygments_lexer": "ipython3",
   "version": "3.9.12"
  }
 },
 "nbformat": 4,
 "nbformat_minor": 5
}
