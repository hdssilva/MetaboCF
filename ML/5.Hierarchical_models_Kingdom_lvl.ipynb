{
 "cells": [
  {
   "cell_type": "code",
   "execution_count": null,
   "id": "103bb20e-06c5-4817-95e8-cc03f1bff0e7",
   "metadata": {
    "executionInfo": {
     "elapsed": 883,
     "status": "ok",
     "timestamp": 1638442432321,
     "user": {
      "displayName": "Henrique Silva",
      "photoUrl": "https://lh3.googleusercontent.com/a/default-user=s64",
      "userId": "06009345151973031735"
     },
     "user_tz": 0
    },
    "id": "8092ca2f"
   },
   "outputs": [],
   "source": [
    "from sklearnex import patch_sklearn #Improves sklearn alghoritms performance\n",
    "patch_sklearn()\n",
    "import sklearn\n",
    "print('scikit-learn version\\n', sklearn.__version__)\n",
    "from sklearn.model_selection import ParameterGrid, GridSearchCV\n",
    "from sklearn.ensemble import RandomForestClassifier\n",
    "from sklearn.multiclass import OutputCodeClassifier\n",
    "from sklearn.neighbors import KNeighborsClassifier\n",
    "from sklearn.svm import LinearSVC\n",
    "from sklearn.linear_model import LogisticRegression\n",
    "from sklearn.naive_bayes import ComplementNB\n",
    "import pickle\n",
    "import numpy as np\n",
    "import pandas as pd"
   ]
  },
  {
   "cell_type": "code",
   "execution_count": null,
   "id": "00027506",
   "metadata": {
    "executionInfo": {
     "elapsed": 3,
     "status": "ok",
     "timestamp": 1638442442175,
     "user": {
      "displayName": "Henrique Silva",
      "photoUrl": "https://lh3.googleusercontent.com/a/default-user=s64",
      "userId": "06009345151973031735"
     },
     "user_tz": 0
    },
    "id": "00027506"
   },
   "outputs": [],
   "source": [
    "#Set seed\n",
    "seed=41"
   ]
  },
  {
   "cell_type": "markdown",
   "id": "5f458d76",
   "metadata": {},
   "source": [
    "Classification Level -> Kingdom"
   ]
  },
  {
   "cell_type": "code",
   "execution_count": null,
   "id": "0eaeee34",
   "metadata": {},
   "outputs": [],
   "source": [
    "classif_level = 0"
   ]
  },
  {
   "cell_type": "markdown",
   "id": "f5ab5a6f",
   "metadata": {},
   "source": [
    "# Load Data"
   ]
  },
  {
   "cell_type": "code",
   "execution_count": null,
   "id": "3a849801",
   "metadata": {},
   "outputs": [],
   "source": [
    "feature_names = pickle.load(open('Dataset/feature_names.pkl', 'rb'))\n",
    "X_train = pickle.load(open(f'Dataset/X_train.pkl', 'rb'))\n",
    "X_train_scal = pickle.load(open(f'Dataset/X_train_scal.pkl', 'rb'))\n",
    "y_train = pickle.load(open(f'Dataset/y_train.pkl', 'rb'))[:, classif_level]"
   ]
  },
  {
   "cell_type": "markdown",
   "id": "46e40064-f6d4-48b8-aeec-95082ae13cec",
   "metadata": {
    "jp-MarkdownHeadingCollapsed": true,
    "tags": []
   },
   "source": [
    "## Train and tune classifiers"
   ]
  },
  {
   "cell_type": "markdown",
   "id": "b25d7386",
   "metadata": {},
   "source": [
    "### Random Forest"
   ]
  },
  {
   "cell_type": "code",
   "execution_count": null,
   "id": "a6815523",
   "metadata": {},
   "outputs": [],
   "source": [
    "for f_sel in ['all', 'sel']:\n",
    "    if f_sel == 'all':\n",
    "        X_train_ = X_train\n",
    "        grid = {'class_weight': [None, 'balanced', 'balanced_subsample'],\n",
    "            'criterion' : ['gini', 'entropy'],\n",
    "            'max_features' : [1, 2, 3, 5, 7, 10, 15, 20, 30, 40, 50, 60, 70, 80, 90, 100, 110, 120, 130, 133]}\n",
    "    else:\n",
    "        sel_f = pickle.load(open('Results/selected_features.pkl', 'rb'))['Kingdom']['Chemical entities']['selected features']\n",
    "        f_index = [feature_names.index(feature) for feature in sel_f]\n",
    "        X_train_ = X_train[:, f_index]\n",
    "        grid = {'class_weight': [None, 'balanced', 'balanced_subsample'],\n",
    "            'criterion' : ['gini', 'entropy'],\n",
    "            'max_features' : range(1, len(sel_f)+1)}\n",
    "    \n",
    "    \n",
    "    estimator = RandomForestClassifier(random_state=seed, n_jobs=-1)\n",
    "    gs = GridSearchCV(estimator, param_grid=grid, scoring=['f1_macro', 'f1_micro'], refit='f1_macro', \n",
    "                      cv=3, verbose=3, error_score='raise', return_train_score=True, n_jobs=-1)\n",
    "    gs.fit(X_train_, y_train)\n",
    "    pickle.dump(gs, open(f'Models/Kingdom/RF_{f_sel}_feat.pkl', 'wb'))"
   ]
  },
  {
   "cell_type": "code",
   "execution_count": null,
   "id": "69db311a",
   "metadata": {},
   "outputs": [],
   "source": [
    "for f_sel in ['all', 'sel']:\n",
    "    print(f_sel)\n",
    "    gs = pickle.load(open(f'Models/Kingdom/RF_{f_sel}_feat.pkl', 'rb'))\n",
    "    print('f1_macro_val ->', gs.cv_results_['mean_test_f1_macro'][gs.best_index_])\n",
    "    print('f1_macro_train ->', gs.cv_results_['mean_train_f1_macro'][gs.best_index_])\n",
    "    print('f1_micro_val ->', gs.cv_results_['mean_test_f1_micro'][gs.best_index_])\n",
    "    print('f1_micro_train ->', gs.cv_results_['mean_train_f1_micro'][gs.best_index_])"
   ]
  },
  {
   "cell_type": "markdown",
   "id": "034de483",
   "metadata": {},
   "source": [
    "### KNN"
   ]
  },
  {
   "cell_type": "code",
   "execution_count": null,
   "id": "b68635c3",
   "metadata": {},
   "outputs": [],
   "source": [
    "grid = grid = {'n_neighbors': range(1, 31), 'weights' : ['uniform', 'distance'],\n",
    "               'metric':['manhattan', 'euclidean', 'cosine']}"
   ]
  },
  {
   "cell_type": "code",
   "execution_count": null,
   "id": "fe2fc783",
   "metadata": {},
   "outputs": [],
   "source": [
    "for f_sel in ['all', 'sel']:\n",
    "    print(f_sel)\n",
    "    if f_sel == 'sel':\n",
    "        sel_f = pickle.load(open('Results/selected_features.pkl', 'rb'))['Kingdom']['Chemical entities']['selected features']\n",
    "        f_index = [feature_names.index(feature) for feature in sel_f]\n",
    "        X_train_ = X_train_scal[:, f_index]\n",
    "    else:\n",
    "        X_train_ = X_train_scal\n",
    "    estimator = KNeighborsClassifier(algorithm = 'brute', n_jobs=-1)\n",
    "    gs = GridSearchCV(estimator, param_grid=grid, scoring=['f1_macro', 'f1_micro'], refit='f1_macro', cv=3, verbose=3,\n",
    "                      error_score='raise', return_train_score=True, n_jobs=10, pre_dispatch=15)\n",
    "    gs.fit(X_train_, y_train)\n",
    "    pickle.dump(gs, open(f'Models/Kingdom/KNN_{f_sel}_feat.pkl', 'wb'))"
   ]
  },
  {
   "cell_type": "code",
   "execution_count": null,
   "id": "07c25ad1",
   "metadata": {},
   "outputs": [],
   "source": [
    "for f_sel in ['all', 'sel']:\n",
    "    print(f_sel)\n",
    "    gs = pickle.load(open(f'Models/Kingdom/KNN_{f_sel}_feat.pkl', 'rb'))\n",
    "    print('f1_macro_val ->', gs.cv_results_['mean_test_f1_macro'][gs.best_index_])\n",
    "    print('f1_macro_train ->', gs.cv_results_['mean_train_f1_macro'][gs.best_index_])\n",
    "    print('f1_micro_val ->', gs.cv_results_['mean_test_f1_micro'][gs.best_index_])\n",
    "    print('f1_micro_train ->', gs.cv_results_['mean_train_f1_micro'][gs.best_index_])"
   ]
  },
  {
   "cell_type": "markdown",
   "id": "5d57d68b",
   "metadata": {},
   "source": [
    "### Logistic Regression"
   ]
  },
  {
   "cell_type": "code",
   "execution_count": null,
   "id": "731a268c",
   "metadata": {},
   "outputs": [],
   "source": [
    "grid = [{'penalty': ['l1'],\n",
    "         'C': [0.01, 0.1, 1, 10, 100],\n",
    "         'fit_intercept': [True, False],\n",
    "         'class_weight': [None, 'balanced'],\n",
    "         'multi_class':['ovr', 'multinomial'],\n",
    "         'solver': ['saga']},\n",
    "        {'penalty': ['elasticnet'],\n",
    "         'C': [0.01, 0.1, 1, 10, 100],\n",
    "         'fit_intercept': [True, False],\n",
    "         'class_weight': [None, 'balanced'],\n",
    "         'multi_class':['ovr', 'multinomial'],\n",
    "         'l1_ratio': [0.25, 0.5, 0.75],\n",
    "         'solver': ['saga']},\n",
    "        {'penalty': ['l2'],\n",
    "         'C': [0.01, 0.1, 1, 10, 100],\n",
    "         'fit_intercept': [True, False],\n",
    "         'class_weight': [None, 'balanced'],\n",
    "         'multi_class':['ovr', 'multinomial'],\n",
    "         'solver': ['sag', 'saga']},\n",
    "       {'penalty': ['none'],\n",
    "        'fit_intercept': [True, False],\n",
    "        'class_weight': [None, 'balanced'],\n",
    "        'multi_class':['ovr', 'multinomial'],\n",
    "        'solver': ['sag', 'saga']}]\n",
    "#sag and saga are the fastest for long datasets"
   ]
  },
  {
   "cell_type": "code",
   "execution_count": null,
   "id": "46f82721",
   "metadata": {},
   "outputs": [],
   "source": [
    "for f_sel in ['all', 'sel']:\n",
    "    if f_sel == 'sel':\n",
    "        sel_f = pickle.load(open('Results/selected_features.pkl', 'rb'))['Kingdom']['Chemical entities']['selected features']\n",
    "        f_index = [feature_names.index(feature) for feature in sel_f]\n",
    "        X_train_ = X_train_scal[:, f_index]\n",
    "    else:\n",
    "        X_train_ = X_train_scal\n",
    "    estimator = LogisticRegression(max_iter=5000, tol=1e-6, random_state=seed, n_jobs=-1)\n",
    "    gs = GridSearchCV(estimator, param_grid=grid, scoring=['f1_macro', 'f1_micro'], refit='f1_macro', cv=3, verbose=3, \n",
    "                      error_score='raise', return_train_score=True, n_jobs=-1)\n",
    "    gs.fit(X_train_, y_train)\n",
    "    pickle.dump(gs, open(f'Models/Kingdom/LR_{f_sel}_feat.pkl', 'wb'))"
   ]
  },
  {
   "cell_type": "code",
   "execution_count": null,
   "id": "578e5f32",
   "metadata": {},
   "outputs": [],
   "source": [
    "for f_sel in ['all', 'sel']:\n",
    "    print(f_sel)\n",
    "    gs = pickle.load(open(f'Models/Kingdom/LR_{f_sel}_feat.pkl', 'rb'))\n",
    "    print('f1_macro_val ->', gs.cv_results_['mean_test_f1_macro'][gs.best_index_])\n",
    "    print('f1_macro_train ->', gs.cv_results_['mean_train_f1_macro'][gs.best_index_])\n",
    "    print('f1_micro_val ->', gs.cv_results_['mean_test_f1_micro'][gs.best_index_])\n",
    "    print('f1_micro_train ->', gs.cv_results_['mean_train_f1_micro'][gs.best_index_])"
   ]
  },
  {
   "cell_type": "code",
   "execution_count": null,
   "id": "9b2f9006",
   "metadata": {},
   "outputs": [],
   "source": [
    "for f_sel in ['all', 'sel']:\n",
    "    print(f_sel)\n",
    "    gs = pickle.load(open(f'Models/Kingdom/LR_{f_sel}_feat.pkl', 'rb'))\n",
    "    print('f1_macro_val ->', gs.cv_results_['mean_test_f1_macro'][gs.best_index_])\n",
    "    print('f1_macro_train ->', gs.cv_results_['mean_train_f1_macro'][gs.best_index_])\n",
    "    print('f1_micro_val ->', gs.cv_results_['mean_test_f1_micro'][gs.best_index_])\n",
    "    print('f1_micro_train ->', gs.cv_results_['mean_train_f1_micro'][gs.best_index_])"
   ]
  },
  {
   "cell_type": "markdown",
   "id": "320b7cf5",
   "metadata": {},
   "source": [
    "### SVM"
   ]
  },
  {
   "cell_type": "code",
   "execution_count": null,
   "id": "ad466a95",
   "metadata": {},
   "outputs": [],
   "source": [
    "grid = [{'penalty': ['l1', 'l2'],\n",
    "        'C': [0.01, 0.1, 1, 10, 100],\n",
    "        'class_weight': [None, 'balanced']}]\n",
    "#max iter set a big enough\n",
    "#penalty = l1 and loss = hinge is not supported and l2 and hinge as well when dual=False (which is the case)\n",
    "#dual=False because n_samples>n_features sklearn\n",
    "#multi_class \"crammer_singer\" is comput expensive and usually leads to worse results"
   ]
  },
  {
   "cell_type": "code",
   "execution_count": null,
   "id": "1f888e8e",
   "metadata": {},
   "outputs": [],
   "source": [
    "#It was fast, increased max_iter, they were reached in some fits\n",
    "for f_sel in ['all', 'sel']:\n",
    "    if f_sel == 'sel':\n",
    "        sel_f = pickle.load(open('Results/selected_features.pkl', 'rb'))['Kingdom']['Chemical entities']['selected features']\n",
    "        f_index = [feature_names.index(feature) for feature in sel_f]\n",
    "        X_train_ = X_train_scal[:, f_index]\n",
    "    else:\n",
    "        X_train_ = X_train_scal\n",
    "    estimator = LinearSVC(dual=False, loss='squared_hinge', multi_class='ovr', tol=1e-6, max_iter=5000, \n",
    "                           random_state=seed, verbose=3)\n",
    "    gs = GridSearchCV(estimator, param_grid=grid, scoring=['f1_macro', 'f1_micro'], refit='f1_macro', cv=3, verbose=3, \n",
    "                      error_score='raise', return_train_score=True, n_jobs=-1)\n",
    "    gs.fit(X_train_, y_train)\n",
    "    pickle.dump(gs, open(f'Models/Kingdom/SVM_{f_sel}_feat.pkl', 'wb'))"
   ]
  },
  {
   "cell_type": "code",
   "execution_count": null,
   "id": "db9ad3a4",
   "metadata": {},
   "outputs": [],
   "source": [
    "for f_sel in ['all', 'sel']:\n",
    "    print(f_sel)\n",
    "    gs = pickle.load(open(f'Models/Kingdom/SVM_{f_sel}_feat.pkl', 'rb'))\n",
    "    print('f1_macro_val ->', gs.cv_results_['mean_test_f1_macro'][gs.best_index_])\n",
    "    print('f1_macro_train ->', gs.cv_results_['mean_train_f1_macro'][gs.best_index_])\n",
    "    print('f1_micro_val ->', gs.cv_results_['mean_test_f1_micro'][gs.best_index_])\n",
    "    print('f1_micro_train ->', gs.cv_results_['mean_train_f1_micro'][gs.best_index_])"
   ]
  },
  {
   "cell_type": "markdown",
   "id": "d4d5bd68",
   "metadata": {},
   "source": [
    "### ComplementNB"
   ]
  },
  {
   "cell_type": "code",
   "execution_count": null,
   "id": "269cdf3b",
   "metadata": {},
   "outputs": [],
   "source": [
    "grid = {'alpha': [0.00001, 0.0001, 0.001, 0.01, 0.1, 1, 10, 100], \n",
    "        'norm': [True, False]}"
   ]
  },
  {
   "cell_type": "code",
   "execution_count": null,
   "id": "b4071fb8",
   "metadata": {},
   "outputs": [],
   "source": [
    "for f_sel in['all', 'sel']:\n",
    "    if f_sel == 'sel':\n",
    "        sel_f = pickle.load(open('Results/selected_features.pkl', 'rb'))['Kingdom']['Chemical entities']['selected features']\n",
    "        f_index = [feature_names.index(feature) for feature in sel_f]\n",
    "        X_train_ = X_train_scal[:, f_index]\n",
    "    else:\n",
    "        X_train_ = X_train_scal\n",
    "    estimator = ComplementNB()\n",
    "    gs = GridSearchCV(estimator, param_grid=grid, scoring=['f1_macro', 'f1_micro'], refit='f1_macro', cv=3, verbose=3, \n",
    "                      error_score='raise', return_train_score=True, n_jobs=-1)\n",
    "    gs.fit(X_train_, y_train)\n",
    "    pickle.dump(gs, open(f'Models/Kingdom/NB_{f_sel}_feat.pkl', 'wb'))"
   ]
  },
  {
   "cell_type": "code",
   "execution_count": null,
   "id": "a6619884",
   "metadata": {},
   "outputs": [],
   "source": [
    "for f_sel in ['all', 'sel']:\n",
    "    print(f_sel)\n",
    "    gs = pickle.load(open(f'Models/Kingdom/NB_{f_sel}_feat.pkl', 'rb'))\n",
    "    print('f1_macro_val ->', gs.cv_results_['mean_test_f1_macro'][gs.best_index_])\n",
    "    print('f1_macro_train ->', gs.cv_results_['mean_train_f1_macro'][gs.best_index_])\n",
    "    print('f1_micro_val ->', gs.cv_results_['mean_test_f1_micro'][gs.best_index_])\n",
    "    print('f1_micro_train ->', gs.cv_results_['mean_train_f1_micro'][gs.best_index_])"
   ]
  },
  {
   "cell_type": "markdown",
   "id": "e1b8ef73",
   "metadata": {},
   "source": [
    "### Load GS scores"
   ]
  },
  {
   "cell_type": "code",
   "execution_count": null,
   "id": "4d7886bd",
   "metadata": {},
   "outputs": [],
   "source": [
    "#Select if result is better with or without f selection\n",
    "scores_df = [{'Feature selection': 'No', 'F1-score average': 'macro'}, \n",
    "            {'Feature selection': 'No', 'F1-score average': 'micro'},\n",
    "            {'Feature selection': 'Yes', 'F1-score average': 'macro'}, \n",
    "            {'Feature selection': 'Yes', 'F1-score average': 'micro'}]\n",
    "params_df = [{'Classifier':'Chemical entities'}]\n",
    "for alg in ['RF', 'KNN', 'LR', 'SVM', 'NB']:\n",
    "    f_sel_gs = {}\n",
    "    for f_sel in ['all', 'sel']:\n",
    "        f_sel_gs[f_sel] = pickle.load(open(f'Models/Kingdom/{alg}_{f_sel}_feat.pkl', 'rb'))\n",
    "    score_all = f_sel_gs['all'].cv_results_[f'mean_test_f1_macro'][f_sel_gs['all'].best_index_]\n",
    "    score_sel = f_sel_gs['sel'].cv_results_[f'mean_test_f1_macro'][f_sel_gs['sel'].best_index_]\n",
    "    if score_all >= score_sel:\n",
    "        f_sel = 'all'\n",
    "        f = 'No'\n",
    "    else:\n",
    "        f_sel = 'sel'\n",
    "        f = 'Yes'\n",
    "    gs = f_sel_gs[f_sel]\n",
    "    #Save scores\n",
    "    for z, f_sel in enumerate(['all', 'sel']):\n",
    "        z=z*2\n",
    "        scores_df[0 + z][f'{alg} (val)'] = f_sel_gs[f_sel].cv_results_[f'mean_test_f1_macro'][f_sel_gs[f_sel].best_index_]\n",
    "        scores_df[0 + z][f'{alg} (train)'] = f_sel_gs[f_sel].cv_results_[f'mean_train_f1_macro'][f_sel_gs[f_sel].best_index_]\n",
    "        scores_df[1 + z][f'{alg} (val)'] = f_sel_gs[f_sel].cv_results_[f'mean_test_f1_micro'][f_sel_gs[f_sel].best_index_]\n",
    "        scores_df[1 + z][f'{alg} (train)'] = f_sel_gs[f_sel].cv_results_[f'mean_train_f1_micro'][f_sel_gs[f_sel].best_index_]\n",
    "    #Save parameters\n",
    "    params = gs.cv_results_['params'][gs.best_index_]\n",
    "    params_df[0][f'{alg} (Feature Selection)'] = f\n",
    "    for param_name, param in params.items():\n",
    "        if param == 'squared_hinge':\n",
    "            continue\n",
    "        params_df[0][f'{alg} ({param_name})'] = param\n",
    "scores_df = pd.DataFrame(scores_df).set_index(['Feature selection', 'F1-score average'])\n",
    "params_df = pd.DataFrame(params_df)"
   ]
  },
  {
   "cell_type": "code",
   "execution_count": null,
   "id": "0d38f90f",
   "metadata": {},
   "outputs": [],
   "source": [
    "with pd.ExcelWriter('Results/GS_scores.xlsx', mode='w') as writer:  \n",
    "    scores_df.to_excel(writer, sheet_name='Kingdom')\n",
    "scores_df"
   ]
  },
  {
   "cell_type": "code",
   "execution_count": null,
   "id": "0c809835",
   "metadata": {},
   "outputs": [],
   "source": [
    "params_df['Level'] = 'Kingdom'\n",
    "params_df.to_pickle('Results/GS_best_comb_params.pkl')"
   ]
  },
  {
   "cell_type": "code",
   "execution_count": null,
   "id": "213eecf8",
   "metadata": {},
   "outputs": [],
   "source": [
    "params_df.to_pickle('Results/GS_best_comb_params.pkl')"
   ]
  }
 ],
 "metadata": {
  "colab": {
   "name": "Learning Model - Random Forests.ipynb",
   "provenance": []
  },
  "kernelspec": {
   "display_name": "Python 3 (ipykernel)",
   "language": "python",
   "name": "python3"
  },
  "language_info": {
   "codemirror_mode": {
    "name": "ipython",
    "version": 3
   },
   "file_extension": ".py",
   "mimetype": "text/x-python",
   "name": "python",
   "nbconvert_exporter": "python",
   "pygments_lexer": "ipython3",
   "version": "3.9.12"
  },
  "toc-autonumbering": true,
  "toc-showmarkdowntxt": false
 },
 "nbformat": 4,
 "nbformat_minor": 5
}
