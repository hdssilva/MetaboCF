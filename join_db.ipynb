{
 "cells": [
  {
   "cell_type": "code",
   "execution_count": null,
   "id": "556c2161",
   "metadata": {
    "scrolled": true
   },
   "outputs": [],
   "source": [
    "import pandas as pd\n",
    "from pathlib import Path\n",
    "import numpy as np\n",
    "import re\n",
    "from tqdm.notebook import tqdm\n",
    "import numpy as np\n",
    "from chempy.chemistry import Substance\n",
    "from rdkit.Chem import Descriptors, PeriodicTable, MolFromSmiles, MolFromInchi\n",
    "from rdkit.Chem.rdchem import GetPeriodicTable\n",
    "from rdkit.Chem.rdMolDescriptors import CalcMolFormula\n",
    "from rdkit.Chem.MolStandardize import rdMolStandardize\n",
    "from rdkit import RDLogger\n",
    "RDLogger.DisableLog('rdApp.info')"
   ]
  },
  {
   "cell_type": "markdown",
   "id": "bc304658",
   "metadata": {},
   "source": [
    "## Load Databases (HMDB, KEGG compounds, Lipid Maps Structure Database, and ChEBI)"
   ]
  },
  {
   "cell_type": "code",
   "execution_count": null,
   "id": "68eedc38",
   "metadata": {},
   "outputs": [],
   "source": [
    "HMDB_pkl = 'HMDB/hmdb_metabolites(17_11_2021).pkl'\n",
    "KEGG_pkl = 'KEGG/KEGG_compounds(20_01_2022).pkl'\n",
    "LMSD_pkl = 'LMSD/LMSD_05_05_2022.pkl'\n",
    "ChEBI_pkl = 'ChEBI/ChEBI_complete_04_04_2022.pkl'"
   ]
  },
  {
   "cell_type": "code",
   "execution_count": null,
   "id": "f5d684e7",
   "metadata": {},
   "outputs": [],
   "source": [
    "HMDB = pd.read_pickle(HMDB_pkl).reset_index()\n",
    "KEGG = pd.read_pickle(KEGG_pkl).reset_index()\n",
    "LMSD = pd.read_pickle(LMSD_pkl).reset_index()\n",
    "ChEBI = pd.read_pickle(ChEBI_pkl).reset_index()\n",
    "\n",
    "print('----------------- HMDB Dataset -----------------')\n",
    "#Filter out HMDB Compounds with no InChI - no SMILES info\n",
    "print('Compounds without InChI: ', end='')\n",
    "n=len(HMDB)\n",
    "HMDB = HMDB[HMDB['InChI'].notna()][['HMDB ID', 'InChI', 'InChIKey', 'SMILES']].reset_index(drop=True)\n",
    "print(n - len(HMDB), '\\n',n, '-->', len(HMDB))\n",
    "HMDB.info()\n",
    "\n",
    "print('\\n----------------- KEGG Dataset -----------------')\n",
    "#Filter out KEGG Compounds with no InChI - some polymers were converted, others couldn't\n",
    "print('Compounds without InChI: ', end='')\n",
    "n=len(KEGG)\n",
    "KEGG = KEGG[KEGG['InChI'].notna()][['KEGG ID', 'InChI', 'InChIKey']].reset_index(drop=True)\n",
    "print(n - len(KEGG), '\\n',n, '-->', len(KEGG))\n",
    "KEGG.info()\n",
    "\n",
    "print('\\n-------------- Lipid Maps Dataset --------------')\n",
    "print('Compounds without InChI: ', end='')\n",
    "n=len(LMSD)\n",
    "LMSD = LMSD[LMSD['InChI'].notna()][['Lipid Maps ID', 'InChI', 'InChIKey', 'SMILES']].reset_index(drop=True)\n",
    "print(n - len(LMSD), '\\n',n, '-->', len(LMSD))\n",
    "LMSD.info()\n",
    "\n",
    "print('\\n----------------- ChEBI Dataset ----------------')\n",
    "#Filter out ChEBI Compounds with no InChI - no SDF, corrupted SDF or Radicals/Polymers\n",
    "print('Compounds without InChI: ', end='')\n",
    "n=len(ChEBI)\n",
    "ChEBI = ChEBI[ChEBI['InChI'].notna()][['ChEBI ID', 'InChI', 'InChIKey', 'SMILES']].reset_index(drop=True)\n",
    "print(n - len(ChEBI), '\\n',n, '-->', len(ChEBI))\n",
    "ChEBI.info()"
   ]
  },
  {
   "cell_type": "markdown",
   "id": "579818bc",
   "metadata": {},
   "source": [
    "## Merge all Databases"
   ]
  },
  {
   "cell_type": "code",
   "execution_count": null,
   "id": "4bb90cda",
   "metadata": {},
   "outputs": [],
   "source": [
    "HMDB = HMDB.drop_duplicates('InChI').reset_index(drop=True)\n",
    "KEGG = KEGG.drop_duplicates('InChI').reset_index(drop=True)\n",
    "LMSD = LMSD.drop_duplicates('InChI').reset_index(drop=True)\n",
    "ChEBI = ChEBI.drop_duplicates('InChI').reset_index(drop=True)\n",
    "#Inchi duplicates:\n",
    "#HMDB seems to have bad annotation of the InChI (4 duplicates)\n",
    "#KEGG seems to have polymers with different number of monomers - some with defined number of monomers other are not;\n",
    "#and repeated compounds(85 repeated InChIs)\n",
    "#LMSD Stereoisomers (4 duplicates) \n",
    "#ChEBI seems to have tautomers of the same compound or to be the same compound (1005 repeated)"
   ]
  },
  {
   "cell_type": "code",
   "execution_count": null,
   "id": "169e420b",
   "metadata": {},
   "outputs": [],
   "source": [
    "#Join the 4 databases by the InChIKey\n",
    "all_db = HMDB.merge(LMSD, on='InChIKey', how='outer', suffixes=('_H', '_L')).merge(KEGG, on='InChIKey', how='outer').merge(ChEBI, on='InChIKey', how='outer', suffixes=('_K', '_C')).drop_duplicates('InChIKey')\n",
    "\n",
    "#Join Inchi columns\n",
    "all_db = all_db.rename(columns={'InChI_H':'InChI'})\n",
    "all_db['InChI'] = all_db['InChI'].fillna(all_db['InChI_K']).fillna(all_db['InChI_L']).fillna(all_db['InChI_C'])\n",
    "all_db = all_db.drop(columns=['InChI_K', 'InChI_L', 'InChI_C'])\n",
    "\n",
    "#Join SMILES columns\n",
    "all_db = all_db.rename(columns={'SMILES':'SMILES_C', 'SMILES_H':'SMILES'})\n",
    "all_db['SMILES'] = all_db['SMILES'].fillna(all_db['SMILES_C']).fillna(all_db['SMILES_L'])\n",
    "all_db = all_db.drop(columns=['SMILES_C', 'SMILES_L'])\n",
    "all_db.to_pickle('AllDB_w_IDs.pkl')\n",
    "all_db.info()"
   ]
  },
  {
   "cell_type": "markdown",
   "id": "5880307a",
   "metadata": {},
   "source": [
    "From repeated compounds with different levels of stereochemical/isotopic information or different protonation states, \n",
    "leave only one, preferably unprotonated ones<br>\n",
    "InChIKey format -> AAAAAAAAAAAAAA-BBBBBBBBFV-P<br>\n",
    "A -> Molecular Skeleton <br>\n",
    "B -> Stereochemistry and Isotopic Substitution Information<br>\n",
    "F -> Indicates the kind of InChIKey (S-Standard or N-Non-Standard)<br>\n",
    "V -> Indicates the version of the InChIKey (A-version 1)<br>\n",
    "P -> Protonation State<br>\n",
    "In this Dataset, F and V are always equal between rows (All Standard, version 1 InChI Keys)"
   ]
  },
  {
   "cell_type": "code",
   "execution_count": null,
   "id": "f16148d3",
   "metadata": {},
   "outputs": [],
   "source": [
    "inchikey_splited = all_db['InChIKey'].str.split('-', expand=True)\n",
    "all_db['InChIKey_Skeleton'] = inchikey_splited[0]\n",
    "all_db['InChIKey_unprotonated'] = [True if state == 'N' else False for state in list(inchikey_splited[2])]\n",
    "\n",
    "#Preferentially leave uprotonated compounds\n",
    "all_db.sort_values('InChIKey_unprotonated', ascending=False, inplace=True)\n",
    "\n",
    "all_db = all_db.drop_duplicates('InChIKey_Skeleton')\n",
    "all_db = all_db.reset_index(drop=True)\n",
    "all_db.drop(columns=['HMDB ID', 'Lipid Maps ID', 'KEGG ID', 'ChEBI ID', 'InChIKey_Skeleton', \n",
    "                     'InChIKey_unprotonated'], inplace=True)\n",
    "all_db.info()"
   ]
  },
  {
   "cell_type": "markdown",
   "id": "e2addd18",
   "metadata": {},
   "source": [
    "Use RDKit to load molecules from InChI, or SMILE if failed. Neutralize (Uncharger) the molecule by adding/removing H+ and retrieve their chemical formula"
   ]
  },
  {
   "cell_type": "code",
   "execution_count": null,
   "id": "19e796be",
   "metadata": {},
   "outputs": [],
   "source": [
    "uncharger = rdMolStandardize.Uncharger()\n",
    "chemical_form_l = []\n",
    "mass_l = []\n",
    "mapper = {z:GetPeriodicTable().GetElementSymbol(z) for z in range(1, 118)}\n",
    "mapper[0] = 'Charge'\n",
    "for i, row in tqdm(all_db[['InChI', 'SMILES']].iterrows(), total=len(all_db)):\n",
    "    try:\n",
    "        mol = MolFromInchi('InChI=' + row['InChI'])\n",
    "    except:\n",
    "        mol = None\n",
    "    if mol is None:\n",
    "        print('InChI read failed')\n",
    "        if not pd.isna(row['SMILES']):\n",
    "            mol = MolFromSmiles(row['SMILES'])\n",
    "            if mol is None:\n",
    "                print('SMILES read failed')\n",
    "                print(row)\n",
    "                chemical_form_l.append({})\n",
    "                mass_l.append({})\n",
    "                continue\n",
    "        else:\n",
    "            print('No SMILES info')\n",
    "            print(row)\n",
    "            chemical_form_l.append({})\n",
    "            mass_l.append({})\n",
    "            continue\n",
    "    mol = uncharger.uncharge(mol)\n",
    "    chemical_form = CalcMolFormula(mol)\n",
    "    chem_count = Substance.from_formula(chemical_form).composition\n",
    "    chem_count = {mapper[z]: (chem_count[z] if z in chem_count else 0) for z in mapper} #convert z to elem name and add 0's to the rest of the elements\n",
    "    chem_count['Chemical Formula'] = chemical_form\n",
    "    chemical_form_l.append(chem_count)\n",
    "    mass_l.append({'Mass': Descriptors.ExactMolWt(mol)})\n",
    "    \n",
    "all_db = pd.concat([all_db, pd.DataFrame(chemical_form_l), pd.DataFrame(mass_l)], axis=1)\n",
    "all_db = all_db.rename(columns=mapper)\n",
    "all_db.info()"
   ]
  },
  {
   "cell_type": "code",
   "execution_count": null,
   "id": "403c3474",
   "metadata": {},
   "outputs": [],
   "source": [
    "all_db[all_db['Chemical Formula'].isna()]"
   ]
  },
  {
   "cell_type": "markdown",
   "id": "b9c43394",
   "metadata": {},
   "source": [
    "RDKit failed to retrive the Chemical Formula of 42 compounds, which will be annotated directly using the formula in the InChI string "
   ]
  },
  {
   "cell_type": "code",
   "execution_count": null,
   "id": "d7290252",
   "metadata": {},
   "outputs": [],
   "source": [
    "mapper = {z:GetPeriodicTable().GetElementSymbol(z) for z in range(1, 118)}\n",
    "mapper[0] = 'Charge'\n",
    "\n",
    "for i, row in all_db[all_db['Chemical Formula'].isna()].iterrows():\n",
    "    formula = row['InChI'].split('/')[1]\n",
    "    all_db['Chemical Formula'].loc[i] = formula\n",
    "    \n",
    "    #compute elemental composition\n",
    "    chem_count = Substance.from_formula(formula).composition\n",
    "    for elem in mapper:\n",
    "        key = mapper[elem]\n",
    "        if elem in chem_count.keys():\n",
    "            all_db[key].loc[i] = int(chem_count[elem])\n",
    "        else:\n",
    "            all_db[key].loc[i] = 0\n",
    "    #calculate masses\n",
    "    parts = re.findall(\"[A-Z][a-z]?|[0-9]+\", formula)\n",
    "    monois_mass = 0\n",
    "    \n",
    "    for index in range(len(parts)):\n",
    "        if parts[index].isnumeric():\n",
    "            continue\n",
    "        \n",
    "        multiplier = int(parts[index + 1]) if len(parts) > index + 1 and parts[index + 1].isnumeric() else 1\n",
    "        monois_mass += PeriodicTable.GetMostCommonIsotopeMass(GetPeriodicTable(), parts[index]) * multiplier\n",
    "    all_db.loc[i, 'Mass'] = monois_mass\n",
    "    \n",
    "all_db = all_db.reset_index(drop=True)\n",
    "\n",
    "all_db[['InChI', 'InChIKey', 'SMILES', 'Chemical Formula', 'Mass', 'C']].info()\n",
    "all_db.to_pickle('AllDB.pkl')"
   ]
  },
  {
   "cell_type": "markdown",
   "id": "c09cd9b7",
   "metadata": {},
   "source": [
    "#### Now, classify compounds with the pybatchclassyfire (pybatchclassyfire.ipynb)"
   ]
  },
  {
   "cell_type": "markdown",
   "id": "0258b2a0",
   "metadata": {},
   "source": [
    "## Parse ClassyFire results"
   ]
  },
  {
   "cell_type": "code",
   "execution_count": null,
   "id": "799d9e78",
   "metadata": {},
   "outputs": [],
   "source": [
    "#Flatten Intermediate Nodes and direct parent columns to respective level of classification\n",
    "classyfire_df = pd.read_pickle('ClassyFire/cf_allraw.pkl')\n",
    "classyfire_df = classyfire_df[['inchikey', 'smiles', 'kingdom.name', 'superclass.name', 'class.name', 'subclass.name', \n",
    "                                 'intermediate_nodes', 'direct_parent.name']]\n",
    "\n",
    "classyfire_df['inchikey'] = classyfire_df['inchikey'].str.replace('InChIKey=', '')\n",
    "classyfire_df = classyfire_df.rename(columns={'inchikey':'InChIKey', 'smiles':'SMILES', 'kingdom.name':'Kingdom', \n",
    "                                              'superclass.name':'Superclass', 'class.name': 'Class', \n",
    "                                              'subclass.name':'Subclass', 'intermediate_nodes': 'Intermediate Nodes',\n",
    "                                              'direct_parent.name': 'Direct Parent'})\n",
    "\n",
    "i_nodes_l = classyfire_df[\"Intermediate Nodes\"].to_list()\n",
    "i_nodes = pd.json_normalize(i_nodes_l)\n",
    "\n",
    "def get_name(x):\n",
    "    if x is not None:\n",
    "        return x.get('name')\n",
    "    else:\n",
    "        return np.nan\n",
    "\n",
    "columns = {i: 'Level ' + str(i+5) for i in i_nodes.columns}\n",
    "columns_l = list(i_nodes.columns)\n",
    "next_col = 'Level ' + str(columns_l[-1] + 6)\n",
    "i_nodes = i_nodes.rename(columns=columns)\n",
    "\n",
    "for level in columns.values():\n",
    "    i_nodes[level] = i_nodes[level].apply(get_name)\n",
    "\n",
    "classyfire_df = pd.concat([classyfire_df, i_nodes], axis=1).drop(columns='Intermediate Nodes')\n",
    "classyfire_df[next_col] = np.nan\n",
    "classyfire_df[next_col] = classyfire_df[next_col].astype('object')\n",
    "\n",
    "levels = list(columns.values())\n",
    "levels.append(next_col)\n",
    "columns = ['Kingdom', 'Superclass', 'Class', 'Subclass'] + levels\n",
    "    \n",
    "for i, row in tqdm(classyfire_df.iterrows()):\n",
    "    dir_p = row['Direct Parent']\n",
    "    if dir_p in row[columns].values:\n",
    "        continue\n",
    "    else:\n",
    "        for level, name in row[columns].iteritems():\n",
    "            if type(name) is not float:\n",
    "                continue\n",
    "            else:\n",
    "                classyfire_df.at[i, level] = dir_p\n",
    "                break\n",
    "classyfire_df = classyfire_df.drop(columns='Direct Parent')\n",
    "classyfire_df.to_pickle('ClassyFire/cf_parsed.pkl')\n",
    "classyfire_df.info()"
   ]
  },
  {
   "cell_type": "markdown",
   "id": "dfb81c26",
   "metadata": {},
   "source": [
    "## Merge ClassyFire output with the Databases"
   ]
  },
  {
   "cell_type": "code",
   "execution_count": null,
   "id": "fac150d9",
   "metadata": {},
   "outputs": [],
   "source": [
    "all_db = pd.read_pickle('AllDB.pkl')\n",
    "classyfire_df = pd.read_pickle('ClassyFire/cf_parsed.pkl')\n",
    "classyfire_df.drop(columns='SMILES', inplace=True)\n",
    "dataset = pd.merge(all_db, classyfire_df, on='InChIKey', how='left')"
   ]
  },
  {
   "cell_type": "code",
   "execution_count": null,
   "id": "8c07c1b0",
   "metadata": {},
   "outputs": [],
   "source": [
    "dataset.info()"
   ]
  },
  {
   "cell_type": "code",
   "execution_count": null,
   "id": "ad05b7eb",
   "metadata": {},
   "outputs": [],
   "source": [
    "# Take out compounds without classification\n",
    "dataset = dataset[dataset['Kingdom'].notna()].reset_index(drop=True)"
   ]
  },
  {
   "cell_type": "code",
   "execution_count": null,
   "id": "b77f7fcd",
   "metadata": {},
   "outputs": [],
   "source": [
    "#Remove columns from final Dataset and order the rest\n",
    "\n",
    "columns = ['InChIKey', 'Kingdom', 'Superclass', 'Class', 'Subclass', 'Level 5', 'Level 6', 'Level 7', 'Level 8', \n",
    "           'Level 9', 'Level 10', 'Level 11', 'C', 'H', 'O', 'P', 'N', 'S', 'Th', 'Cm', 'K', 'Na', \n",
    "           'Rb', 'Li', 'Cs', 'Fr', 'Ca', 'Mg', 'Be', 'Sr', 'Ba', 'Ce', 'La', 'Nd', 'Gd', 'Sm', 'Eu', 'Lu', 'Pr', 'Tb', \n",
    "           'Dy', 'Ho', 'Er', 'Tm', 'Te', 'Si', 'As', 'B', 'Ge', 'Sb', 'Al', 'Bi', 'Cr', 'Co', 'Cu', 'Fe', 'Mo', 'Mn', \n",
    "           'Zr', 'Ti', 'W', 'Ni', 'V', 'Ag', 'Hg', 'Cd', 'Au', 'Ta', 'Y', 'Ru', 'Pd', 'Pt', 'Re', 'Zn', 'Hf', 'Nb', 'Sc', \n",
    "           'Os', 'Ir', 'Cl', 'I', 'F', 'Br', 'He', 'Ar', 'Se', 'Ga', 'Sn', 'Tl', 'Pb', 'Xe', 'Rn', 'Ra', 'Pu', 'Kr', \n",
    "           'U', 'Tc', 'At', 'In', 'Po', 'Ne', 'Ac', 'Rf', 'Db', 'Sg', 'Bh', 'Hs', 'Rh', 'Mt', 'Ds', 'Rg', 'Pm', 'Yb', \n",
    "           'Pa', 'Np', 'Am', 'Bk', 'Cf', 'Es', 'Fm', 'Md', 'No', 'Lr', 'Cn', 'Fl', 'Lv', 'Mc', 'Nh', 'Ts', 'Charge', 'Mass']\n",
    "#Dropped ['InChI', 'SMILES', 'Chemical Formula']\n",
    "\n",
    "dataset = dataset[columns]\n",
    "dataset.to_pickle('Dataset.pkl')\n",
    "dataset.info()"
   ]
  }
 ],
 "metadata": {
  "kernelspec": {
   "display_name": "Python 3 (ipykernel)",
   "language": "python",
   "name": "python3"
  },
  "language_info": {
   "codemirror_mode": {
    "name": "ipython",
    "version": 3
   },
   "file_extension": ".py",
   "mimetype": "text/x-python",
   "name": "python",
   "nbconvert_exporter": "python",
   "pygments_lexer": "ipython3",
   "version": "3.9.12"
  }
 },
 "nbformat": 4,
 "nbformat_minor": 5
}
